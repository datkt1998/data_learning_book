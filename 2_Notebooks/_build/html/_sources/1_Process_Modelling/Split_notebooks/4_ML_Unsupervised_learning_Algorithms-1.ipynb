{
 "cells": [
  {
   "attachments": {},
   "cell_type": "markdown",
   "id": "92a0069b-27a3-45ed-a80b-f947e67cda7d",
   "metadata": {},
   "source": [
    "# Decomposing components "
   ]
  },
  {
   "cell_type": "code",
   "execution_count": 62,
   "id": "af900cc1-b737-4239-acca-e015a20ba31e",
   "metadata": {},
   "outputs": [],
   "source": [
    "# updating"
   ]
  }
 ],
 "metadata": {
  "kernelspec": {
   "display_name": "Python 3 (ipykernel)",
   "language": "python",
   "name": "python3"
  },
  "language_info": {
   "codemirror_mode": {
    "name": "ipython",
    "version": 3
   },
   "file_extension": ".py",
   "mimetype": "text/x-python",
   "name": "python",
   "nbconvert_exporter": "python",
   "pygments_lexer": "ipython3",
   "version": "3.10.6"
  }
 },
 "nbformat": 4,
 "nbformat_minor": 5
}
