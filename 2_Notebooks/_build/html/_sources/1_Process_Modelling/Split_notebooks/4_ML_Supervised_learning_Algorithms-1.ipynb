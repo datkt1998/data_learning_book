{
 "cells": [
  {
   "attachments": {},
   "cell_type": "markdown",
   "id": "4fc581fa-0a59-4e04-8d2f-9f4268941f8d",
   "metadata": {},
   "source": [
    "# Naive Bayes\n",
    "[Chi tiết](https://machinelearningcoban.com/2017/08/08/nbc/)\n",
    "\n",
    "Sử dụng lý thuyết bayes, đánh giá xác xuất có điều kiện `P(Y=n | X = xi)` thể hiện xác suất rơi vào từng class của `xi` với `xi` là 1 quan sát, `n` là 1 trong các class của Y. \n",
    "$$P(Y=i|X_{1},X_{2},\\ldots,X_{p}) =\\frac{P(Y=i)P(X_{1}|Y=i)...P(X_{p}|Y=i)}{P(Y=0)P(X_{1}|Y=0)...P(X_{p}|Y=0) + P(Y=1)P(X_{1}|Y=1)...P(X_{p}|Y=1)}$$\n",
    "Trong đó:\n",
    "- X được giả sử là independence\n",
    "- Posterior probability: Xác suất Y=i given predictor infomation\n",
    "- Prior probability: Xác suất Y=i not talking about predictor infomation\n",
    "\n",
    "NB Chỉ phù hợp với dữ liệu categorical features and output, nếu muốn áp dụng cho dữ liệu numeric thì cần thực hiện 1 trong 2 cách:\n",
    "- Bin và convert numerical features to category\n",
    "- Use a probability model to estimate the conditional probability. Ví dụ, giả định theo phân phối normal thì sẽ tính được P(Xj | Y=i )\n",
    "\n",
    "**Tóm tắt**\n",
    "- Naive Bayes Classifiers (NBC) thường được sử dụng trong các bài toán __Text Classification__.\n",
    "- NBC có thời gian training và test rất nhanh. Điều này có được là do giả sử về tính độc lập giữa các thành phần, nếu biết class.\n",
    "- Nếu giả sử về tính độc lập được thoả mãn (dựa vào bản chất của dữ liệu), NBC được cho là cho kết quả tốt hơn so với SVM và logistic regression khi có ít dữ liệu training.\n",
    "- NBC có thể hoạt động với các feature vector mà một phần là liên tục (sử dụng Gaussian Naive Bayes), phần còn lại ở dạng rời rạc (sử dụng Multinomial hoặc Bernoulli).\n",
    "- Khi sử dụng Multinomial Naive Bayes, Laplace smoothing thường được sử dụng để tránh trường hợp 1 thành phần trong test data chưa xuất hiện ở training data.\n",
    "\n",
    "**Phân loại các phân phối Naive Bayes**"
   ]
  },
  {
   "attachments": {},
   "cell_type": "markdown",
   "id": "20600e31-1ddb-40cf-9bdb-79bb7d2ba621",
   "metadata": {},
   "source": [
    "## Gaussian Naive Bayes\n",
    "- Mô hình này được sử dụng chủ yếu trong loại dữ liệu mà các feature là các biến liên tục, Giả sử với mỗi chiều dữ liệu dữ liệu `i` và 1 class `c`, $x_i$ tuân theo phân phối Normal:\n",
    "$$p(x_{i}|c)=p(x_{i}|\\mu_{c i},\\sigma_{c i}^{2})=\\frac{1}{\\sqrt{2\\pi\\sigma_{c i}^{2}}}\\mathrm{exp}\\left(-\\frac{(x_{i}-\\mu_{c i})^{2}}{2\\sigma_{c i}^{2}}\\right)$$\n",
    "Trong đó các tham số $\\mu_{c i}$, $\\sigma_{c i}^{2}$ được ước lượng theo MLE"
   ]
  },
  {
   "cell_type": "code",
   "execution_count": 2,
   "id": "1ed6e4aa-01de-4813-ad07-69b58450fc66",
   "metadata": {
    "tags": []
   },
   "outputs": [
    {
     "name": "stdout",
     "output_type": "stream",
     "text": [
      "              precision    recall  f1-score   support\n",
      "\n",
      "           0       1.00      1.00      1.00        21\n",
      "           1       0.88      1.00      0.94        30\n",
      "           2       1.00      0.83      0.91        24\n",
      "\n",
      "    accuracy                           0.95        75\n",
      "   macro avg       0.96      0.94      0.95        75\n",
      "weighted avg       0.95      0.95      0.95        75\n",
      "\n"
     ]
    }
   ],
   "source": [
    "from sklearn.datasets import load_iris\n",
    "from sklearn.model_selection import train_test_split\n",
    "from sklearn.naive_bayes import GaussianNB\n",
    "from sklearn.metrics import classification_report\n",
    "\n",
    "X, y = load_iris(return_X_y=True)\n",
    "X_train, X_test, y_train, y_test = train_test_split(X, y, test_size=0.5, random_state=0)\n",
    "\n",
    "gnb = GaussianNB()\n",
    "y_pred = gnb.fit(X_train, y_train).predict(X_test)\n",
    "\n",
    "print(classification_report(y_test, y_pred))"
   ]
  },
  {
   "attachments": {},
   "cell_type": "markdown",
   "id": "a0bc32d6-febd-4d9a-9e7a-f63edfe504f2",
   "metadata": {},
   "source": [
    "## Multinomial Naive Bayes\n",
    "Mô hình này chủ yếu được sử dụng trong phân loại văn bản mà feature vectors được tính bằng __Bags of Words__. Lúc này, mỗi văn bản được biểu diễn bởi một vector có độ dài `d` chính là số từ trong từ điển. Giá trị của thành phần thứ `i` trong mỗi vector chính là số lần từ thứ `i` xuất hiện trong văn bản đó. Ta tính xác suất $p(x_i|c)$:\n",
    "$$\\lambda_{c_i}=p(x_{i}|c)=\\frac{N_{c_i} + \\alpha }{N_{c} + d\\alpha}$$\n",
    "Trong đó:\n",
    "- $N_{c_i}$ là tổng số lần từ thứ `i` xuất hiện trong văn bản được phân loại là class `c`, hay nói cách khác là tổng số lần xuất hiện của từ `i` trong class c\n",
    "- $N_{c}$ là tổng số từ (tính cả lặp) xuất hiện trong class c\n",
    "- $\\alpha$ thường = 1, là laplace smoothing để khắc phục TH class c mới trong lúc test, nhưng ko có trong train"
   ]
  },
  {
   "cell_type": "code",
   "execution_count": 47,
   "id": "52090f0b-865f-42b6-90fb-890869511347",
   "metadata": {
    "tags": []
   },
   "outputs": [],
   "source": [
    "from sklearn.metrics import confusion_matrix, ConfusionMatrixDisplay\n",
    "import matplotlib. pyplot as plt\n",
    "def plot_cm(y_test, y_test_pred, labels = None):\n",
    "    cm = confusion_matrix(y_test, y_test_pred)\n",
    "    ConfusionMatrixDisplay(confusion_matrix=cm, display_labels=labels).plot()\n",
    "    plt.grid(False)"
   ]
  },
  {
   "cell_type": "code",
   "execution_count": 74,
   "id": "e60f2f2d-9876-48b5-b9ab-927b38ad532f",
   "metadata": {
    "tags": []
   },
   "outputs": [],
   "source": [
    "# **Bài toán phân loại email spam**\n",
    "# Mỗi quan sát là thể hiện số lượng từ thứ i trong email đó, và is_spam là label có phải là spam hay không ?\n",
    "\n",
    "data = pd.read_csv(r'Datasets/email_spam_classification/email.csv', index_col=[0])"
   ]
  },
  {
   "cell_type": "code",
   "execution_count": 75,
   "id": "fdbfa1b0-0f63-4879-9434-1d8ed31fece1",
   "metadata": {
    "tags": []
   },
   "outputs": [
    {
     "data": {
      "image/png": "[encoded data removed]",
      "text/plain": [
       "<Figure size 640x480 with 2 Axes>"
      ]
     },
     "metadata": {},
     "output_type": "display_data"
    }
   ],
   "source": [
    "from sklearn.naive_bayes import MultinomialNB\n",
    "\n",
    "X_train, X_test, y_train, y_test = train_test_split(data.drop('is_spam', axis =1 ), \n",
    "                                                    data['is_spam'], \n",
    "                                                    stratify=data['is_spam'], \n",
    "                                                    shuffle=True)\n",
    "clf = MultinomialNB().fit(X_train, y_train)\n",
    "plot_cm(y_test, clf.predict(X_test))"
   ]
  },
  {
   "attachments": {},
   "cell_type": "markdown",
   "id": "96fcc192-b22c-4162-82ce-4d9c12a34207",
   "metadata": {
    "tags": []
   },
   "source": [
    "## Bernoulli Naive Bayes\n",
    "Mô hình này được áp dụng cho các loại dữ liệu mà mỗi thành phần là một giá trị binary - bẳng 0 hoặc 1. Ví dụ: cũng với loại văn bản nhưng thay vì đếm tổng số lần xuất hiện của 1 từ trong văn bản, ta chỉ cần quan tâm từ đó có xuất hiện hay không.\n",
    "Ta tính:\n",
    "$$p(x_{i}|c)=p(i|c)^{x_{i}}(1-p(i|c)^{1-x_{i}}$$\n",
    "Trong đó $p(i|c)$ có thể được hiểu là xác suất từ thứ `i` xuất hiện trong các văn bản của class `c`."
   ]
  },
  {
   "cell_type": "code",
   "execution_count": 49,
   "id": "b68eb84f-65e9-4837-adde-7bf836601129",
   "metadata": {
    "tags": []
   },
   "outputs": [
    {
     "data": {
      "image/png": "[encoded data removed]",
      "text/plain": [
       "<Figure size 640x480 with 2 Axes>"
      ]
     },
     "metadata": {},
     "output_type": "display_data"
    }
   ],
   "source": [
    "from sklearn.naive_bayes import BernoulliNB\n",
    "X_train, X_test, y_train, y_test = train_test_split((data.drop('is_spam', axis =1 )>0).astype(int), \n",
    "                                                    (data['is_spam']>0).astype(int), \n",
    "                                                    stratify=data['is_spam'], \n",
    "                                                    shuffle=True)\n",
    "clf = BernoulliNB().fit(X_train, y_train)\n",
    "plot_cm(y_test, clf.predict(X_test))"
   ]
  },
  {
   "attachments": {},
   "cell_type": "markdown",
   "id": "5b2ef7b1-5744-48a6-a366-1c671173441b",
   "metadata": {},
   "source": [
    "## Categorical Naive Bayes\n",
    "Phù hợp với bài toán classification cho data category features"
   ]
  },
  {
   "cell_type": "code",
   "execution_count": null,
   "id": "be749b73-f30c-43e7-97ec-8deb24726ea4",
   "metadata": {
    "tags": []
   },
   "outputs": [],
   "source": [
    "from sklearn.naive_bayes import CategoricalNB\n",
    "X_train, X_test, y_train, y_test = train_test_split(data.drop('is_spam', axis =1 ), \n",
    "                                                    data['is_spam'], \n",
    "                                                    stratify=data['is_spam'], \n",
    "                                                    shuffle=True)\n",
    "clf = CategoricalNB().fit(X_train, y_train)\n",
    "plot_cm(y_test, clf.predict(X_test))"
   ]
  }
 ],
 "metadata": {
  "kernelspec": {
   "display_name": "Python 3 (ipykernel)",
   "language": "python",
   "name": "python3"
  },
  "language_info": {
   "codemirror_mode": {
    "name": "ipython",
    "version": 3
   },
   "file_extension": ".py",
   "mimetype": "text/x-python",
   "name": "python",
   "nbconvert_exporter": "python",
   "pygments_lexer": "ipython3",
   "version": "3.10.6"
  },
  "toc-autonumbering": true
 },
 "nbformat": 4,
 "nbformat_minor": 5
}
