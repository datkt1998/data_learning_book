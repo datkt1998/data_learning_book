{
 "cells": [
  {
   "attachments": {},
   "cell_type": "markdown",
   "id": "c5a531ec-04b3-4d87-94e5-2de09516f33c",
   "metadata": {},
   "source": [
    "# Support Vector Machines (SVM)\n",
    "SVM used for __classification__, __regression__ and __outliers detection__.\n",
    "\n",
    "__Pros:__\n",
    "- Hiệu quả với dữ liệu nhiều chiều\n",
    "- Hiệu quả với dữ liệu có n_features > n_sample\n",
    "- Chỉ cần 1 subset để training--> hiệu quả về mặt lưu trữ ram\n",
    "- Sử dụng kết hợp với __Kernel__ function để tuỳ chỉnh cách fitting\n",
    "\n",
    "__Cons:__\n",
    "- Nếu n_feature >> n_sample, cần phải tunning thật kỹ kernel và regularization term để tránh overfitting\n",
    "- SVMs không cung cấp trực tiếp probability estimates prediction, mà cần tính toán qua 5-fold CV."
   ]
  },
  {
   "attachments": {},
   "cell_type": "markdown",
   "id": "bfefccbe-f5a3-4358-a53c-dee22abd8a3d",
   "metadata": {},
   "source": [
    "## SVM Classification (SVC)\n",
    "Sử dụng cho binary hoặc multi-class classification, tìm 1 hyper-plane  hoặc 1 set hyper-planes trong không gian đa chiều, mà tại đó khoảng cách từ hyper-plane tới điểm gần nhất của mỗi class là lớn nhất\n",
    "- `SVC` và `NuSVC` khá giống nhau, chỉ khác ở bộ tham số và hàm tính toán\n",
    "- `LinearSVC` chạy nhanh do thực hiện linear kernel, do đó không thể chỉnh `kernel` parameter trong `LinearSVC`\n",
    "\n",
    "**Multi-class classification**\n",
    "- `SVC` và `NuSVC` thực hiện “one-versus-one” approach cho multi-class classification, có tổng cộng là `n_classes` * (`n_classes` - 1) / 2 sub-model\n",
    "- `LinearSVC` thực hiện \"one-vs-the-rest\", cho nên training chỉ có `n_classes` sub-model (preferer to use)\n",
    "\n",
    "**Unbalanced problems**\n",
    "- Sử dụng `class_weight` (chỉ có trong SVC, not NuSVC) hoặc `sample_weight` parameters để thay đổi weight cho các minority class "
   ]
  },
  {
   "attachments": {},
   "cell_type": "markdown",
   "id": "176d34de-dc37-4c88-a89a-54d06f70a12d",
   "metadata": {},
   "source": [
    "### SVC\n",
    "- Thực hiện dựa trên pphương pháp 'libsvm'\n",
    "- Phù hợp với dữ liệu vừa và nhỏ (For large datasets consider using LinearSVC or SGDClassifier instead)\n",
    "- Hỗ trợ sử dụng kernel function, tunning qua tham số:\n",
    "    - gamma\n",
    "    - coef0\n",
    "    - degree\n",
    "- Với multi-class, sử dụng pp tiếp cận one-vs-one"
   ]
  },
  {
   "cell_type": "code",
   "execution_count": 114,
   "id": "4949fb77-0038-4865-aeed-8d26e77c9f9f",
   "metadata": {
    "tags": []
   },
   "outputs": [
    {
     "data": {
      "text/plain": [
       "0.898"
      ]
     },
     "execution_count": 114,
     "metadata": {},
     "output_type": "execute_result"
    }
   ],
   "source": [
    "from sklearn.svm import SVC\n",
    "\n",
    "svc = SVC(\n",
    "    C=1.0, # mức độ penalty, C càng lớn thì phạt càng ít (ngược với alpha của L2, L1)\n",
    "    kernel='rbf', # hàm kernel được sử dụng để transform data {‘linear’, ‘poly’, ‘rbf’, ‘sigmoid’, ‘precomputed’}\n",
    "    degree=3, # bậc của 'poly' kernel\n",
    "    gamma='scale', # hệ số của hàm kernel ‘rbf’, ‘poly’ and ‘sigmoid’.\n",
    "    coef0=0.0, # hệ số independent term của hàm kernel ‘poly’ and ‘sigmoid’.\n",
    "    shrinking=True, \n",
    "    probability=False, # có ước lượng xác suất của prediction hay ko ?\n",
    "    tol=0.001, # ngưỡng của điều kiện dừng\n",
    "    cache_size=200,\n",
    "    class_weight=None,\n",
    "    verbose=False,\n",
    "    max_iter=-1,\n",
    "    decision_function_shape='ovr',\n",
    "    break_ties=False,\n",
    "    random_state=None,\n",
    ")\n",
    "\n",
    "svc.fit(X_train, y_train)\n",
    "svc.score(X_test, y_test)"
   ]
  },
  {
   "attachments": {},
   "cell_type": "markdown",
   "id": "4372b79f-3119-4c1e-b602-5cc3bef47a07",
   "metadata": {},
   "source": [
    "### LinearSVC\n",
    "- Thực hiện tương tự như SVC kernel = 'linear' và dựa trên phương pháp 'liblinear'\n",
    "- Phù hợp với dữ liệu lớn\n",
    "- Hỗ trợ sử dụng regularization {L1, L2}\n",
    "- Với multi-class, pp tiếp cận là one-vs-rest"
   ]
  },
  {
   "cell_type": "code",
   "execution_count": 115,
   "id": "9f69cb45-a68e-4e01-9bef-424382629f36",
   "metadata": {
    "tags": []
   },
   "outputs": [
    {
     "name": "stderr",
     "output_type": "stream",
     "text": [
      "/Users/khongdat/miniforge3/lib/python3.10/site-packages/sklearn/svm/_base.py:1244: ConvergenceWarning: Liblinear failed to converge, increase the number of iterations.\n",
      "  warnings.warn(\n"
     ]
    },
    {
     "data": {
      "text/plain": [
       "0.74"
      ]
     },
     "execution_count": 115,
     "metadata": {},
     "output_type": "execute_result"
    }
   ],
   "source": [
    "from sklearn.svm import LinearSVC\n",
    "\n",
    "lsvc = LinearSVC(\n",
    "    penalty='l2',\n",
    "    loss='squared_hinge',\n",
    "    dual=True,\n",
    "    tol=0.0001,\n",
    "    C=1.0,\n",
    "    multi_class='ovr',\n",
    "    fit_intercept=True,\n",
    "    intercept_scaling=1,\n",
    "    class_weight=None,\n",
    "    verbose=0,\n",
    "    random_state=None,\n",
    "    max_iter=1000,\n",
    ")\n",
    "\n",
    "lsvc.fit(X_train, y_train)\n",
    "lsvc.score(X_test, y_test)"
   ]
  },
  {
   "attachments": {},
   "cell_type": "markdown",
   "id": "bc4ee754-3069-469f-87f6-e6e1c3b61575",
   "metadata": {},
   "source": [
    "## SVM Regression (SVR)\n",
    "tương tự SVC"
   ]
  },
  {
   "cell_type": "code",
   "execution_count": 116,
   "id": "56d7b931-091b-42a3-957c-8fda1e86ee17",
   "metadata": {
    "tags": []
   },
   "outputs": [],
   "source": [
    "# SVR\n",
    "from sklearn.svm import SVR\n",
    "\n",
    "# linearSVR\n",
    "from sklearn.svm import LinearSVR"
   ]
  },
  {
   "attachments": {},
   "cell_type": "markdown",
   "id": "7dcb0127-87ca-46e4-a255-e5022bec1a14",
   "metadata": {},
   "source": [
    "## OneClassSVM Outlier Detection\n",
    "- Unsupervised Outlier Detection, using 'libsvm'"
   ]
  },
  {
   "cell_type": "code",
   "execution_count": 119,
   "id": "f2a88c0e-8331-4919-838f-80a3800cc3c5",
   "metadata": {
    "tags": []
   },
   "outputs": [
    {
     "data": {
      "text/html": [
       "<style>#sk-container-id-1 {color: black;background-color: white;}#sk-container-id-1 pre{padding: 0;}#sk-container-id-1 div.sk-toggleable {background-color: white;}#sk-container-id-1 label.sk-toggleable__label {cursor: pointer;display: block;width: 100%;margin-bottom: 0;padding: 0.3em;box-sizing: border-box;text-align: center;}#sk-container-id-1 label.sk-toggleable__label-arrow:before {content: \"▸\";float: left;margin-right: 0.25em;color: #696969;}#sk-container-id-1 label.sk-toggleable__label-arrow:hover:before {color: black;}#sk-container-id-1 div.sk-estimator:hover label.sk-toggleable__label-arrow:before {color: black;}#sk-container-id-1 div.sk-toggleable__content {max-height: 0;max-width: 0;overflow: hidden;text-align: left;background-color: #f0f8ff;}#sk-container-id-1 div.sk-toggleable__content pre {margin: 0.2em;color: black;border-radius: 0.25em;background-color: #f0f8ff;}#sk-container-id-1 input.sk-toggleable__control:checked~div.sk-toggleable__content {max-height: 200px;max-width: 100%;overflow: auto;}#sk-container-id-1 input.sk-toggleable__control:checked~label.sk-toggleable__label-arrow:before {content: \"▾\";}#sk-container-id-1 div.sk-estimator input.sk-toggleable__control:checked~label.sk-toggleable__label {background-color: #d4ebff;}#sk-container-id-1 div.sk-label input.sk-toggleable__control:checked~label.sk-toggleable__label {background-color: #d4ebff;}#sk-container-id-1 input.sk-hidden--visually {border: 0;clip: rect(1px 1px 1px 1px);clip: rect(1px, 1px, 1px, 1px);height: 1px;margin: -1px;overflow: hidden;padding: 0;position: absolute;width: 1px;}#sk-container-id-1 div.sk-estimator {font-family: monospace;background-color: #f0f8ff;border: 1px dotted black;border-radius: 0.25em;box-sizing: border-box;margin-bottom: 0.5em;}#sk-container-id-1 div.sk-estimator:hover {background-color: #d4ebff;}#sk-container-id-1 div.sk-parallel-item::after {content: \"\";width: 100%;border-bottom: 1px solid gray;flex-grow: 1;}#sk-container-id-1 div.sk-label:hover label.sk-toggleable__label {background-color: #d4ebff;}#sk-container-id-1 div.sk-serial::before {content: \"\";position: absolute;border-left: 1px solid gray;box-sizing: border-box;top: 0;bottom: 0;left: 50%;z-index: 0;}#sk-container-id-1 div.sk-serial {display: flex;flex-direction: column;align-items: center;background-color: white;padding-right: 0.2em;padding-left: 0.2em;position: relative;}#sk-container-id-1 div.sk-item {position: relative;z-index: 1;}#sk-container-id-1 div.sk-parallel {display: flex;align-items: stretch;justify-content: center;background-color: white;position: relative;}#sk-container-id-1 div.sk-item::before, #sk-container-id-1 div.sk-parallel-item::before {content: \"\";position: absolute;border-left: 1px solid gray;box-sizing: border-box;top: 0;bottom: 0;left: 50%;z-index: -1;}#sk-container-id-1 div.sk-parallel-item {display: flex;flex-direction: column;z-index: 1;position: relative;background-color: white;}#sk-container-id-1 div.sk-parallel-item:first-child::after {align-self: flex-end;width: 50%;}#sk-container-id-1 div.sk-parallel-item:last-child::after {align-self: flex-start;width: 50%;}#sk-container-id-1 div.sk-parallel-item:only-child::after {width: 0;}#sk-container-id-1 div.sk-dashed-wrapped {border: 1px dashed gray;margin: 0 0.4em 0.5em 0.4em;box-sizing: border-box;padding-bottom: 0.4em;background-color: white;}#sk-container-id-1 div.sk-label label {font-family: monospace;font-weight: bold;display: inline-block;line-height: 1.2em;}#sk-container-id-1 div.sk-label-container {text-align: center;}#sk-container-id-1 div.sk-container {/* jupyter's `normalize.less` sets `[hidden] { display: none; }` but bootstrap.min.css set `[hidden] { display: none !important; }` so we also need the `!important` here to be able to override the default hidden behavior on the sphinx rendered scikit-learn.org. See: https://github.com/scikit-learn/scikit-learn/issues/21755 */display: inline-block !important;position: relative;}#sk-container-id-1 div.sk-text-repr-fallback {display: none;}</style><div id=\"sk-container-id-1\" class=\"sk-top-container\"><div class=\"sk-text-repr-fallback\"><pre>OneClassSVM()</pre><b>In a Jupyter environment, please rerun this cell to show the HTML representation or trust the notebook. <br />On GitHub, the HTML representation is unable to render, please try loading this page with nbviewer.org.</b></div><div class=\"sk-container\" hidden><div class=\"sk-item\"><div class=\"sk-estimator sk-toggleable\"><input class=\"sk-toggleable__control sk-hidden--visually\" id=\"sk-estimator-id-1\" type=\"checkbox\" checked><label for=\"sk-estimator-id-1\" class=\"sk-toggleable__label sk-toggleable__label-arrow\">OneClassSVM</label><div class=\"sk-toggleable__content\"><pre>OneClassSVM()</pre></div></div></div></div></div>"
      ],
      "text/plain": [
       "OneClassSVM()"
      ]
     },
     "execution_count": 119,
     "metadata": {},
     "output_type": "execute_result"
    }
   ],
   "source": [
    "from sklearn.svm import OneClassSVM\n",
    "\n",
    "one = OneClassSVM(\n",
    "    kernel='rbf',\n",
    "    degree=3,\n",
    "    gamma='scale',\n",
    "    coef0=0.0,\n",
    "    tol=0.001,\n",
    "    nu=0.5,\n",
    "    shrinking=True,\n",
    "    cache_size=200,\n",
    "    verbose=False,\n",
    "    max_iter=-1,\n",
    ")\n",
    "\n",
    "one.fit(X_train)\n"
   ]
  },
  {
   "attachments": {},
   "cell_type": "markdown",
   "id": "d0793c13-1bcc-4f83-850a-567e38902ca7",
   "metadata": {},
   "source": [
    "## Kernel Function\n",
    "\n",
    "[Chi tiết 1.4.6. Kernel functions](https://scikit-learn.org/stable/modules/svm.html#kernel-functions)\n",
    "\n",
    "**idea:** Sử dụng 1 hàm phi tuyến tính (gọi là `kernel`) để biến đổi data ban đầu không phân biệt được linear thành data với chiều không gian mới và sử dụng linear-line hoặc 1 mặt phẳng để phân tách data (đã biến đổi) và vẫn trên margin lớn nhất\n",
    "![image.png](_images/4_ML_Algorithms/classification/kernel_f.png)\n",
    "```python\n",
    "kernel = 'linear', 'poly', 'rbf', 'sigmoid', 'precomputed',...\n",
    "```\n",
    "![image.png](_images/4_ML_Algorithms/classification/kernel_t.png)\n",
    "\n",
    "**ưu điểm**\n",
    "- thực hiện tốt trên nhiều loại datasets\n",
    "- Linh động bởi có thể thực hiện bằng nhiều hàm kernel khác nhau\n",
    "- Thực hiện tốt trên cả data nhiều chiều hay ít chiều\n",
    "\n",
    "**nhược điểm**\n",
    "- Thời gian chạy lâu và tốn nhiều dung lượng khi chạy sample size lớn (lớn hơn 50000 samples)\n",
    "- Cần cần thận trong việc normalize data\n",
    "- Không cung cấp xác suất ước lượng của phân phối (tuy nhiên có thể tính được bằng `Platt scaling`)\n",
    "- Khó thể giải thích việc dự đoán của model, diễn giải\n",
    "\n",
    "**RBF kernel**\n",
    "\n",
    "- Hàm `RBF kernel` sẽ sử dụng khoảng cách giữa các obs để phân tách, dựa trên tham số `gammar`\n",
    "- `Gammar` thể hiện độ nhọn của phân phối của class \"y<>1\", khi `gammar` càng lớn thì càng ít vùng xung quanh obs y<>1 được dự báo là y<>1 (hay xác suất của phân phối y<>1 sẽ nhọn hơn, các điểm ở xa obs y<>1 sẽ có xác suất để y<>1 ít hơn)\n",
    "- `Gammar` tăng thì model càng bị over-fitting\n",
    "\n",
    "**Poly kernel**\n",
    "\n",
    "- Hàm `poly kernel` sẽ sử dụng hàm bậc `degree` để biến đổi data và phân tách dựa trên data đã biến đổi\n",
    "- `degree` càng lớn thì model càng complex, dễ bị over-fitting"
   ]
  }
 ],
 "metadata": {
  "kernelspec": {
   "display_name": "Python 3 (ipykernel)",
   "language": "python",
   "name": "python3"
  },
  "language_info": {
   "codemirror_mode": {
    "name": "ipython",
    "version": 3
   },
   "file_extension": ".py",
   "mimetype": "text/x-python",
   "name": "python",
   "nbconvert_exporter": "python",
   "pygments_lexer": "ipython3",
   "version": "3.10.6"
  },
  "toc-autonumbering": true
 },
 "nbformat": 4,
 "nbformat_minor": 5
}