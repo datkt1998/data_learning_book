{
 "cells": [
  {
   "attachments": {},
   "cell_type": "markdown",
   "id": "13f5f6b1-1e6d-45e7-a049-d2b6f855256a",
   "metadata": {},
   "source": [
    "# Novelty and Outlier Detection"
   ]
  },
  {
   "cell_type": "code",
   "execution_count": 64,
   "id": "9d4f075b-1ab7-4c64-b214-7e05b7d38388",
   "metadata": {},
   "outputs": [],
   "source": [
    "# updating"
   ]
  }
 ],
 "metadata": {
  "kernelspec": {
   "display_name": "Python 3 (ipykernel)",
   "language": "python",
   "name": "python3"
  },
  "language_info": {
   "codemirror_mode": {
    "name": "ipython",
    "version": 3
   },
   "file_extension": ".py",
   "mimetype": "text/x-python",
   "name": "python",
   "nbconvert_exporter": "python",
   "pygments_lexer": "ipython3",
   "version": "3.10.6"
  }
 },
 "nbformat": 4,
 "nbformat_minor": 5
}