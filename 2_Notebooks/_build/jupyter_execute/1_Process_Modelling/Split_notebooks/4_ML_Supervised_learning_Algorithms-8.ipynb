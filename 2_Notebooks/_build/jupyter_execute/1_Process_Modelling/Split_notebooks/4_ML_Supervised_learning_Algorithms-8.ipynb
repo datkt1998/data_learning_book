{
 "cells": [
  {
   "attachments": {},
   "cell_type": "markdown",
   "id": "20686029-9512-4cf4-a12d-e73c668a515a",
   "metadata": {},
   "source": [
    "# Multi-class and multi-output\n",
    "[Chi tiết](https://scikit-learn.org/stable/modules/multiclass.html#multiclass-classification)\n",
    "(updating)"
   ]
  }
 ],
 "metadata": {
  "kernelspec": {
   "display_name": "Python 3 (ipykernel)",
   "language": "python",
   "name": "python3"
  },
  "language_info": {
   "codemirror_mode": {
    "name": "ipython",
    "version": 3
   },
   "file_extension": ".py",
   "mimetype": "text/x-python",
   "name": "python",
   "nbconvert_exporter": "python",
   "pygments_lexer": "ipython3",
   "version": "3.10.6"
  },
  "toc-autonumbering": true
 },
 "nbformat": 4,
 "nbformat_minor": 5
}