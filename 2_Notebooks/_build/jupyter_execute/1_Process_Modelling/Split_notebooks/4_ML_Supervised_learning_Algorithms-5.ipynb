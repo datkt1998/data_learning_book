{
 "cells": [
  {
   "attachments": {},
   "cell_type": "markdown",
   "id": "d5c1f933-0d20-413c-ae56-ce3f1b960527",
   "metadata": {},
   "source": [
    "# Nearest neighbors \n",
    "Thuật toán áp dụng cho supervised and unsupervised. Trong supervised, NN áp dụng trong cả Classification (class chính) hoặc Regression (average target value) trên các điểm tương đồng hoặc gần giống nhau\n",
    "\n",
    "- feature phải được convert sang dạng numeric và chuẩn hoá scaling, multicollinearity không ảnh hưởng gì đến thuật toán.\n",
    "- Đo sự tương đồng/khoảng cách: euclidean (popular), manhattan,...\n",
    "- Giá trị k phù hợp: gridsearch đề tìm k phù hợp\n",
    "    - Nều k low: overfitting\n",
    "    - Nếu k high: giảm tác động của các neighbours gần nhất\n",
    "\n",
    "Sử dụng KNN để hỗ trợ các loại pp phân lớp khác, kết quả của KNN được sử dụng như 1 feature mới tạo ra, hoặc sử dụng ensemble với pp khác"
   ]
  },
  {
   "attachments": {},
   "cell_type": "markdown",
   "id": "af7c4b8b-8437-46e6-ad23-aa8595f23267",
   "metadata": {},
   "source": [
    "## Finding NN (unsupervised)"
   ]
  },
  {
   "cell_type": "code",
   "execution_count": 123,
   "id": "8b470110-a92e-4b94-b69e-e016fbefbbce",
   "metadata": {
    "tags": []
   },
   "outputs": [
    {
     "data": {
      "text/plain": [
       "array([[   0,  696,  729,  445, 1112],\n",
       "       [   1, 1378,  450, 1316,  892],\n",
       "       [   2, 1154,  655,  988, 1381]])"
      ]
     },
     "execution_count": 123,
     "metadata": {},
     "output_type": "execute_result"
    }
   ],
   "source": [
    "from sklearn.neighbors import NearestNeighbors\n",
    "\n",
    "nbrs = NearestNeighbors(    \n",
    "    n_neighbors=5,  # số lượng neighbors gần nhất muốn sử dụng để đánh giá\n",
    "    radius=1.0,     # bán kính cho việc tìm kiếm neighbours\n",
    "    algorithm='auto', # thuật toán xác định nearest neighbours {‘auto’, ‘ball_tree’, ‘kd_tree’, ‘brute’}, default=’auto’\n",
    "    leaf_size=30, # kích thước leaf trong thuật toán ‘ball_tree’, ‘kd_tree’\n",
    "    metric='minkowski', # metrics đo khoảng cách\n",
    "    p=2, # với metric='minkowski' thì p=1 là khoảng cách L1, p=2 là khoảng cách L2 (euclidean)\n",
    "    metric_params=None, #  Additional keyword arguments for the metric function\n",
    "    n_jobs=None,\n",
    ")\n",
    "\n",
    "nbrs.fit(X_train)\n",
    "distances, indices = nbrs.kneighbors(X_train)\n",
    "indices[:3] # 5 NN index của 3 obs đầu tiên"
   ]
  },
  {
   "attachments": {},
   "cell_type": "markdown",
   "id": "8737522c-c9e9-4933-8b13-019d8e752d53",
   "metadata": {},
   "source": [
    "## KNN classification\n",
    "Tìm majority class trong số k-nn của new record"
   ]
  },
  {
   "cell_type": "code",
   "execution_count": 1,
   "id": "3e86e607-2d99-4981-af7c-9f7aa22f33a6",
   "metadata": {
    "tags": []
   },
   "outputs": [],
   "source": [
    "from sklearn.neighbors import KNeighborsClassifier\n",
    "\n",
    "knnc = KNeighborsClassifier(\n",
    "    n_neighbors=5,\n",
    "    weights='uniform', # set tỷ trọng cho các neighbours {‘uniform’, ‘distance’}\n",
    "    algorithm='auto', # thuật toán xác định nearest neighbours {‘auto’, ‘ball_tree’, ‘kd_tree’, ‘brute’}, default=’auto’\n",
    "    leaf_size=30, # kích thước leaf trong thuật toán ‘ball_tree’, ‘kd_tree’\n",
    "    p=2, # với metric='minkowski' thì p=1 là khoảng cách L1, p=2 là khoảng cách L2 (euclidean)\n",
    "    metric='minkowski', # metrics đo khoảng cách\n",
    "    metric_params=None,  #  Additional keyword arguments for the metric function\n",
    "    n_jobs=None,\n",
    ")"
   ]
  },
  {
   "attachments": {},
   "cell_type": "markdown",
   "id": "be76d828-9076-448d-a760-3b230ef18576",
   "metadata": {},
   "source": [
    "## KNN classification\n",
    "Tìm giá trị trung bình Y trong số k-nn của new record"
   ]
  },
  {
   "cell_type": "code",
   "execution_count": 1,
   "id": "6b4b154f-a7c0-4541-9094-769fd40c38df",
   "metadata": {
    "tags": []
   },
   "outputs": [],
   "source": [
    "from sklearn.neighbors import KNeighborsRegressor\n",
    "\n",
    "knnr = KNeighborsRegressor(\n",
    "    n_neighbors=5,\n",
    "    weights='uniform', # set tỷ trọng cho các neighbours {‘uniform’, ‘distance’}\n",
    "    algorithm='auto', # thuật toán xác định nearest neighbours {‘auto’, ‘ball_tree’, ‘kd_tree’, ‘brute’}, default=’auto’\n",
    "    leaf_size=30, # kích thước leaf trong thuật toán ‘ball_tree’, ‘kd_tree’\n",
    "    p=2, # với metric='minkowski' thì p=1 là khoảng cách L1, p=2 là khoảng cách L2 (euclidean)\n",
    "    metric='minkowski', # metrics đo khoảng cách\n",
    "    metric_params=None,  #  Additional keyword arguments for the metric function\n",
    "    n_jobs=None,\n",
    ")"
   ]
  }
 ],
 "metadata": {
  "kernelspec": {
   "display_name": "Python 3 (ipykernel)",
   "language": "python",
   "name": "python3"
  },
  "language_info": {
   "codemirror_mode": {
    "name": "ipython",
    "version": 3
   },
   "file_extension": ".py",
   "mimetype": "text/x-python",
   "name": "python",
   "nbconvert_exporter": "python",
   "pygments_lexer": "ipython3",
   "version": "3.10.6"
  },
  "toc-autonumbering": true
 },
 "nbformat": 4,
 "nbformat_minor": 5
}