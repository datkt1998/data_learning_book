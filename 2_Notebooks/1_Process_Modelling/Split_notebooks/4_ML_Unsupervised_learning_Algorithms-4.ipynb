{
 "cells": [
  {
   "attachments": {},
   "cell_type": "markdown",
   "id": "f1af1103-a5a7-43e6-912b-52f8ffa30875",
   "metadata": {},
   "source": [
    "# Neural network"
   ]
  },
  {
   "cell_type": "code",
   "execution_count": 65,
   "id": "cb2a5b9e-1ba4-484a-940f-844ba7855bb6",
   "metadata": {
    "tags": []
   },
   "outputs": [],
   "source": [
    "# updating"
   ]
  }
 ],
 "metadata": {
  "kernelspec": {
   "display_name": "Python 3 (ipykernel)",
   "language": "python",
   "name": "python3"
  },
  "language_info": {
   "codemirror_mode": {
    "name": "ipython",
    "version": 3
   },
   "file_extension": ".py",
   "mimetype": "text/x-python",
   "name": "python",
   "nbconvert_exporter": "python",
   "pygments_lexer": "ipython3",
   "version": "3.10.6"
  }
 },
 "nbformat": 4,
 "nbformat_minor": 5
}
