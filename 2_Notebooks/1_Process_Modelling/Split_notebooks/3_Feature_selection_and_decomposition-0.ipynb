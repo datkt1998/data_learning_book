{
 "cells": [
  {
   "attachments": {},
   "cell_type": "markdown",
   "id": "f8ec8893-1e77-44be-9140-07689a4df8b3",
   "metadata": {},
   "source": [
    "# Overview of feature selection\n",
    "- Select some subsets feature, in which one of them make performance of one of models is the best. Depend on the model or algorithms, there is one of some subset in proportion to model.\n",
    "\n",
    "**1. Why need to use FS ?**\n",
    "- The simple models are easier to interpret\n",
    "- Shorted to traning\n",
    "- Reduce overfitting\n",
    "- Easier to deploy\n",
    "- Reducce risk of variable error of collection and storage\n",
    "- Avoid use variables with highly correlation\n",
    "- Poor performance in some type of model: tree-base\n",
    "\n",
    "**2. Methods**\n",
    "- Filter methods\n",
    "    - Basis\n",
    "        - Constanst\n",
    "        - Quasi - constanst\n",
    "        - Duplicated\n",
    "    - Statistics measures\n",
    "        - Fisher score\n",
    "        - Univariate methods\n",
    "        - Mutual information\n",
    "    - Correlation\n",
    "- Wrapped methods\n",
    "    - Step forward selection\n",
    "    - Step backward selection\n",
    "    - Exhaustive search\n",
    "    - Feature suffling\n",
    "- Embedded methods\n",
    "    - Lasso\n",
    "    - Decision tree derived importance\n",
    "    - Regression coefficients\n",
    "- Hybrid methods = wrapped + embedded methods\n"
   ]
  }
 ],
 "metadata": {
  "kernelspec": {
   "display_name": "Python 3 (ipykernel)",
   "language": "python",
   "name": "python3"
  },
  "language_info": {
   "codemirror_mode": {
    "name": "ipython",
    "version": 3
   },
   "file_extension": ".py",
   "mimetype": "text/x-python",
   "name": "python",
   "nbconvert_exporter": "python",
   "pygments_lexer": "ipython3",
   "version": "3.10.6"
  }
 },
 "nbformat": 4,
 "nbformat_minor": 5
}
