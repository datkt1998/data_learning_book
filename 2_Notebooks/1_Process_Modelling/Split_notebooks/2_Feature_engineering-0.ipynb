{
 "cells": [
  {
   "attachments": {},
   "cell_type": "markdown",
   "id": "1abf21bd-e94e-4b10-96e7-62f8a64c67a5",
   "metadata": {},
   "source": [
    "# Feature engineering pipeline\n",
    "*Following steps*:\n",
    "0. Structure a workflow systematically before writing any pipeline code\n",
    "1. Feature extraction\n",
    "2. Explore data analysis\n",
    "3. Missing Data Imputation\n",
    "4. Categorical Variable Encoding\n",
    "5. Numerical Variable Transformation\n",
    "6. Discretisation\n",
    "7. Outlier Handling\n",
    "8. Feature Scaling"
   ]
  }
 ],
 "metadata": {
  "kernelspec": {
   "display_name": "Python 3 (ipykernel)",
   "language": "python",
   "name": "python3"
  },
  "language_info": {
   "codemirror_mode": {
    "name": "ipython",
    "version": 3
   },
   "file_extension": ".py",
   "mimetype": "text/x-python",
   "name": "python",
   "nbconvert_exporter": "python",
   "pygments_lexer": "ipython3",
   "version": "3.10.6"
  },
  "toc-autonumbering": true,
  "toc-showcode": false,
  "toc-showmarkdowntxt": false
 },
 "nbformat": 4,
 "nbformat_minor": 5
}
