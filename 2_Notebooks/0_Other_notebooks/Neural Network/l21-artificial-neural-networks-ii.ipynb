{
 "cells": [
  {
   "cell_type": "markdown",
   "metadata": {
    "papermill": {
     "duration": 0.026425,
     "end_time": "2022-03-14T18:43:54.822459",
     "exception": false,
     "start_time": "2022-03-14T18:43:54.796034",
     "status": "completed"
    },
    "tags": []
   },
   "source": [
    "# Artificial Neural Networks - II\n",
    "[COMP20121 Machine Learning for Data Analytics](https://sites.google.com/site/hejunhomepage/Teaching/machine-learning-for-data-analytics)\n",
    "\n",
    "Author: Jun He"
   ]
  },
  {
   "cell_type": "markdown",
   "metadata": {
    "papermill": {
     "duration": 0.024215,
     "end_time": "2022-03-14T18:43:54.871440",
     "exception": false,
     "start_time": "2022-03-14T18:43:54.847225",
     "status": "completed"
    },
    "tags": []
   },
   "source": [
    "## Learning Objectives\n",
    "1. What are  hyper-parameters in MLP and how to tune them with Sklearn? \n",
    "1. What is backpropagation for training MLP? "
   ]
  },
  {
   "cell_type": "markdown",
   "metadata": {
    "papermill": {
     "duration": 0.023753,
     "end_time": "2022-03-14T18:43:54.919369",
     "exception": false,
     "start_time": "2022-03-14T18:43:54.895616",
     "status": "completed"
    },
    "tags": []
   },
   "source": [
    "## Part 1 Hyper-parameters of MLP and Tuning with Sklearn\n"
   ]
  },
  {
   "cell_type": "markdown",
   "metadata": {
    "papermill": {
     "duration": 0.024771,
     "end_time": "2022-03-14T18:43:54.968186",
     "exception": false,
     "start_time": "2022-03-14T18:43:54.943415",
     "status": "completed"
    },
    "tags": []
   },
   "source": [
    "### Multilayer perceptron (MLP)\n",
    "* A multilayer perceptron (MLP) is one of most common artificial neural networks  (ANNs)  \n",
    "* It consists of a layered, feedforward, completely connected network of artificial neurons (nodes)\n",
    "    * Input layer: three nodes holding three features in a data set\n",
    "    * Hidden layer: linked to other layers with weights\n",
    "    * Output layer: one node holding the target variable  \n",
    "\n",
    " \n",
    "<img src=\"https://i.ibb.co/vw8GWsy/MLP.jpg\" width=\"500\"> \n",
    "\n",
    " "
   ]
  },
  {
   "cell_type": "markdown",
   "metadata": {
    "papermill": {
     "duration": 0.024156,
     "end_time": "2022-03-14T18:43:55.016464",
     "exception": false,
     "start_time": "2022-03-14T18:43:54.992308",
     "status": "completed"
    },
    "tags": []
   },
   "source": [
    "### Hyperparameters \n",
    "* Number of hidden layers\n",
    "* Number of neurons in each hidden layer \n",
    " \n",
    "|<img src=\"https://qph.fs.quoracdn.net/main-qimg-65fa680a5effca84096237df3eb4ae88\" width =400>|\n",
    "|:--:|\n",
    "|[One hidden layer MLP and Three layer MLP](https://missinglink.ai/wp-content/uploads/2018/11/networkgraph-1.png)|\n",
    "\n",
    "* In `sklearn.neural_network.MLPClassifier`\n",
    "    * hidden_layer_sizes = (9): one hidden layer with 9 neurons\n",
    "    * hidden_layer_sizes = (9, 9, 9): three hidden layers with 9,9 and 9 neurons respectively\n",
    "    * default (100,):  one hidden layer with 100 neurons\n",
    "\n",
    "`clf = MLPClassifier(hidden_layer_sizes=(9, 9,9))`"
   ]
  },
  {
   "cell_type": "markdown",
   "metadata": {
    "papermill": {
     "duration": 0.024203,
     "end_time": "2022-03-14T18:43:55.065074",
     "exception": false,
     "start_time": "2022-03-14T18:43:55.040871",
     "status": "completed"
    },
    "tags": []
   },
   "source": [
    "### Example: Tune the number of hidden layers and neurons \n",
    "* Sklearn provides two generic approaches to hyperparameter tuning\n",
    "    * `GridSearchCV`: exhaustively considers all parameter combinations \n",
    "    * `RandomizedSearchCV`: sample a given number of candidates from all parameter combinations with a specified distribution. \n",
    "* In the example, we apply `GridSearchCV` to MLPClassifier on the digits dataset   "
   ]
  },
  {
   "cell_type": "markdown",
   "metadata": {
    "papermill": {
     "duration": 0.023851,
     "end_time": "2022-03-14T18:43:55.113297",
     "exception": false,
     "start_time": "2022-03-14T18:43:55.089446",
     "status": "completed"
    },
    "tags": []
   },
   "source": [
    "### Data and Task \n",
    "* Data: UCI \" Adult Census Income\" dataset https://www.kaggle.com/uciml/adult-census-income\n",
    "* Task: build a MLP model for predicting whether income exceeds 50K yr based on the census data \n",
    "* Features: 12\n",
    "* Target:  `income` with two values `<=50K` and `>50K`\n",
    "* Number of samples: 32561"
   ]
  },
  {
   "cell_type": "code",
   "execution_count": 1,
   "metadata": {
    "execution": {
     "iopub.execute_input": "2022-03-14T18:43:55.165437Z",
     "iopub.status.busy": "2022-03-14T18:43:55.164764Z",
     "iopub.status.idle": "2022-03-14T18:43:55.328631Z",
     "shell.execute_reply": "2022-03-14T18:43:55.327927Z",
     "shell.execute_reply.started": "2022-03-14T14:40:42.529525Z"
    },
    "papermill": {
     "duration": 0.190852,
     "end_time": "2022-03-14T18:43:55.328882",
     "exception": false,
     "start_time": "2022-03-14T18:43:55.138030",
     "status": "completed"
    },
    "tags": []
   },
   "outputs": [
    {
     "data": {
      "text/html": [
       "<div>\n",
       "<style scoped>\n",
       "    .dataframe tbody tr th:only-of-type {\n",
       "        vertical-align: middle;\n",
       "    }\n",
       "\n",
       "    .dataframe tbody tr th {\n",
       "        vertical-align: top;\n",
       "    }\n",
       "\n",
       "    .dataframe thead th {\n",
       "        text-align: right;\n",
       "    }\n",
       "</style>\n",
       "<table border=\"1\" class=\"dataframe\">\n",
       "  <thead>\n",
       "    <tr style=\"text-align: right;\">\n",
       "      <th></th>\n",
       "      <th>age</th>\n",
       "      <th>workclass</th>\n",
       "      <th>fnlwgt</th>\n",
       "      <th>education</th>\n",
       "      <th>education.num</th>\n",
       "      <th>marital.status</th>\n",
       "      <th>occupation</th>\n",
       "      <th>relationship</th>\n",
       "      <th>race</th>\n",
       "      <th>sex</th>\n",
       "      <th>capital.gain</th>\n",
       "      <th>capital.loss</th>\n",
       "      <th>hours.per.week</th>\n",
       "      <th>native.country</th>\n",
       "      <th>income</th>\n",
       "    </tr>\n",
       "  </thead>\n",
       "  <tbody>\n",
       "    <tr>\n",
       "      <th>0</th>\n",
       "      <td>90</td>\n",
       "      <td>?</td>\n",
       "      <td>77053</td>\n",
       "      <td>HS-grad</td>\n",
       "      <td>9</td>\n",
       "      <td>Widowed</td>\n",
       "      <td>?</td>\n",
       "      <td>Not-in-family</td>\n",
       "      <td>White</td>\n",
       "      <td>Female</td>\n",
       "      <td>0</td>\n",
       "      <td>4356</td>\n",
       "      <td>40</td>\n",
       "      <td>United-States</td>\n",
       "      <td>&lt;=50K</td>\n",
       "    </tr>\n",
       "    <tr>\n",
       "      <th>1</th>\n",
       "      <td>82</td>\n",
       "      <td>Private</td>\n",
       "      <td>132870</td>\n",
       "      <td>HS-grad</td>\n",
       "      <td>9</td>\n",
       "      <td>Widowed</td>\n",
       "      <td>Exec-managerial</td>\n",
       "      <td>Not-in-family</td>\n",
       "      <td>White</td>\n",
       "      <td>Female</td>\n",
       "      <td>0</td>\n",
       "      <td>4356</td>\n",
       "      <td>18</td>\n",
       "      <td>United-States</td>\n",
       "      <td>&lt;=50K</td>\n",
       "    </tr>\n",
       "    <tr>\n",
       "      <th>2</th>\n",
       "      <td>66</td>\n",
       "      <td>?</td>\n",
       "      <td>186061</td>\n",
       "      <td>Some-college</td>\n",
       "      <td>10</td>\n",
       "      <td>Widowed</td>\n",
       "      <td>?</td>\n",
       "      <td>Unmarried</td>\n",
       "      <td>Black</td>\n",
       "      <td>Female</td>\n",
       "      <td>0</td>\n",
       "      <td>4356</td>\n",
       "      <td>40</td>\n",
       "      <td>United-States</td>\n",
       "      <td>&lt;=50K</td>\n",
       "    </tr>\n",
       "    <tr>\n",
       "      <th>3</th>\n",
       "      <td>54</td>\n",
       "      <td>Private</td>\n",
       "      <td>140359</td>\n",
       "      <td>7th-8th</td>\n",
       "      <td>4</td>\n",
       "      <td>Divorced</td>\n",
       "      <td>Machine-op-inspct</td>\n",
       "      <td>Unmarried</td>\n",
       "      <td>White</td>\n",
       "      <td>Female</td>\n",
       "      <td>0</td>\n",
       "      <td>3900</td>\n",
       "      <td>40</td>\n",
       "      <td>United-States</td>\n",
       "      <td>&lt;=50K</td>\n",
       "    </tr>\n",
       "    <tr>\n",
       "      <th>4</th>\n",
       "      <td>41</td>\n",
       "      <td>Private</td>\n",
       "      <td>264663</td>\n",
       "      <td>Some-college</td>\n",
       "      <td>10</td>\n",
       "      <td>Separated</td>\n",
       "      <td>Prof-specialty</td>\n",
       "      <td>Own-child</td>\n",
       "      <td>White</td>\n",
       "      <td>Female</td>\n",
       "      <td>0</td>\n",
       "      <td>3900</td>\n",
       "      <td>40</td>\n",
       "      <td>United-States</td>\n",
       "      <td>&lt;=50K</td>\n",
       "    </tr>\n",
       "  </tbody>\n",
       "</table>\n",
       "</div>"
      ],
      "text/plain": [
       "   age workclass  fnlwgt     education  education.num marital.status  \\\n",
       "0   90         ?   77053       HS-grad              9        Widowed   \n",
       "1   82   Private  132870       HS-grad              9        Widowed   \n",
       "2   66         ?  186061  Some-college             10        Widowed   \n",
       "3   54   Private  140359       7th-8th              4       Divorced   \n",
       "4   41   Private  264663  Some-college             10      Separated   \n",
       "\n",
       "          occupation   relationship   race     sex  capital.gain  \\\n",
       "0                  ?  Not-in-family  White  Female             0   \n",
       "1    Exec-managerial  Not-in-family  White  Female             0   \n",
       "2                  ?      Unmarried  Black  Female             0   \n",
       "3  Machine-op-inspct      Unmarried  White  Female             0   \n",
       "4     Prof-specialty      Own-child  White  Female             0   \n",
       "\n",
       "   capital.loss  hours.per.week native.country income  \n",
       "0          4356              40  United-States  <=50K  \n",
       "1          4356              18  United-States  <=50K  \n",
       "2          4356              40  United-States  <=50K  \n",
       "3          3900              40  United-States  <=50K  \n",
       "4          3900              40  United-States  <=50K  "
      ]
     },
     "execution_count": 1,
     "metadata": {},
     "output_type": "execute_result"
    }
   ],
   "source": [
    "import pandas as pd    \n",
    "df = pd.read_csv('../input/adult-census-income/adult.csv' )\n",
    "df.head() "
   ]
  },
  {
   "cell_type": "markdown",
   "metadata": {
    "papermill": {
     "duration": 0.025471,
     "end_time": "2022-03-14T18:43:55.379546",
     "exception": false,
     "start_time": "2022-03-14T18:43:55.354075",
     "status": "completed"
    },
    "tags": []
   },
   "source": [
    "### Create target variable\n",
    "* create the target variable `y` using a lambda function\n",
    "    * if `income>50K`, `y=1`\n",
    "    * if `incomde<=50K`, `y=0`"
   ]
  },
  {
   "cell_type": "code",
   "execution_count": 2,
   "metadata": {
    "execution": {
     "iopub.execute_input": "2022-03-14T18:43:55.432843Z",
     "iopub.status.busy": "2022-03-14T18:43:55.432150Z",
     "iopub.status.idle": "2022-03-14T18:43:55.459497Z",
     "shell.execute_reply": "2022-03-14T18:43:55.460082Z",
     "shell.execute_reply.started": "2022-03-14T14:40:42.624245Z"
    },
    "papermill": {
     "duration": 0.05577,
     "end_time": "2022-03-14T18:43:55.460268",
     "exception": false,
     "start_time": "2022-03-14T18:43:55.404498",
     "status": "completed"
    },
    "tags": []
   },
   "outputs": [
    {
     "data": {
      "text/plain": [
       "0    0\n",
       "1    0\n",
       "2    0\n",
       "3    0\n",
       "4    0\n",
       "Name: income, dtype: int64"
      ]
     },
     "execution_count": 2,
     "metadata": {},
     "output_type": "execute_result"
    }
   ],
   "source": [
    "low = '<=50K' \n",
    "y = df['income'].apply(lambda x:0 if x==low else 1) \n",
    "y.head(5)"
   ]
  },
  {
   "cell_type": "markdown",
   "metadata": {
    "papermill": {
     "duration": 0.025212,
     "end_time": "2022-03-14T18:43:55.511304",
     "exception": false,
     "start_time": "2022-03-14T18:43:55.486092",
     "status": "completed"
    },
    "tags": []
   },
   "source": [
    "### Generate feature sets\n",
    "* drop target `income` column from the dataframe"
   ]
  },
  {
   "cell_type": "code",
   "execution_count": 3,
   "metadata": {
    "execution": {
     "iopub.execute_input": "2022-03-14T18:43:55.566097Z",
     "iopub.status.busy": "2022-03-14T18:43:55.565388Z",
     "iopub.status.idle": "2022-03-14T18:43:55.588253Z",
     "shell.execute_reply": "2022-03-14T18:43:55.588859Z",
     "shell.execute_reply.started": "2022-03-14T14:40:42.654813Z"
    },
    "papermill": {
     "duration": 0.052048,
     "end_time": "2022-03-14T18:43:55.589045",
     "exception": false,
     "start_time": "2022-03-14T18:43:55.536997",
     "status": "completed"
    },
    "tags": []
   },
   "outputs": [
    {
     "data": {
      "text/html": [
       "<div>\n",
       "<style scoped>\n",
       "    .dataframe tbody tr th:only-of-type {\n",
       "        vertical-align: middle;\n",
       "    }\n",
       "\n",
       "    .dataframe tbody tr th {\n",
       "        vertical-align: top;\n",
       "    }\n",
       "\n",
       "    .dataframe thead th {\n",
       "        text-align: right;\n",
       "    }\n",
       "</style>\n",
       "<table border=\"1\" class=\"dataframe\">\n",
       "  <thead>\n",
       "    <tr style=\"text-align: right;\">\n",
       "      <th></th>\n",
       "      <th>age</th>\n",
       "      <th>workclass</th>\n",
       "      <th>fnlwgt</th>\n",
       "      <th>education</th>\n",
       "      <th>education.num</th>\n",
       "      <th>marital.status</th>\n",
       "      <th>occupation</th>\n",
       "      <th>relationship</th>\n",
       "      <th>race</th>\n",
       "      <th>sex</th>\n",
       "      <th>capital.gain</th>\n",
       "      <th>capital.loss</th>\n",
       "      <th>hours.per.week</th>\n",
       "      <th>native.country</th>\n",
       "    </tr>\n",
       "  </thead>\n",
       "  <tbody>\n",
       "    <tr>\n",
       "      <th>0</th>\n",
       "      <td>90</td>\n",
       "      <td>?</td>\n",
       "      <td>77053</td>\n",
       "      <td>HS-grad</td>\n",
       "      <td>9</td>\n",
       "      <td>Widowed</td>\n",
       "      <td>?</td>\n",
       "      <td>Not-in-family</td>\n",
       "      <td>White</td>\n",
       "      <td>Female</td>\n",
       "      <td>0</td>\n",
       "      <td>4356</td>\n",
       "      <td>40</td>\n",
       "      <td>United-States</td>\n",
       "    </tr>\n",
       "    <tr>\n",
       "      <th>1</th>\n",
       "      <td>82</td>\n",
       "      <td>Private</td>\n",
       "      <td>132870</td>\n",
       "      <td>HS-grad</td>\n",
       "      <td>9</td>\n",
       "      <td>Widowed</td>\n",
       "      <td>Exec-managerial</td>\n",
       "      <td>Not-in-family</td>\n",
       "      <td>White</td>\n",
       "      <td>Female</td>\n",
       "      <td>0</td>\n",
       "      <td>4356</td>\n",
       "      <td>18</td>\n",
       "      <td>United-States</td>\n",
       "    </tr>\n",
       "    <tr>\n",
       "      <th>2</th>\n",
       "      <td>66</td>\n",
       "      <td>?</td>\n",
       "      <td>186061</td>\n",
       "      <td>Some-college</td>\n",
       "      <td>10</td>\n",
       "      <td>Widowed</td>\n",
       "      <td>?</td>\n",
       "      <td>Unmarried</td>\n",
       "      <td>Black</td>\n",
       "      <td>Female</td>\n",
       "      <td>0</td>\n",
       "      <td>4356</td>\n",
       "      <td>40</td>\n",
       "      <td>United-States</td>\n",
       "    </tr>\n",
       "    <tr>\n",
       "      <th>3</th>\n",
       "      <td>54</td>\n",
       "      <td>Private</td>\n",
       "      <td>140359</td>\n",
       "      <td>7th-8th</td>\n",
       "      <td>4</td>\n",
       "      <td>Divorced</td>\n",
       "      <td>Machine-op-inspct</td>\n",
       "      <td>Unmarried</td>\n",
       "      <td>White</td>\n",
       "      <td>Female</td>\n",
       "      <td>0</td>\n",
       "      <td>3900</td>\n",
       "      <td>40</td>\n",
       "      <td>United-States</td>\n",
       "    </tr>\n",
       "    <tr>\n",
       "      <th>4</th>\n",
       "      <td>41</td>\n",
       "      <td>Private</td>\n",
       "      <td>264663</td>\n",
       "      <td>Some-college</td>\n",
       "      <td>10</td>\n",
       "      <td>Separated</td>\n",
       "      <td>Prof-specialty</td>\n",
       "      <td>Own-child</td>\n",
       "      <td>White</td>\n",
       "      <td>Female</td>\n",
       "      <td>0</td>\n",
       "      <td>3900</td>\n",
       "      <td>40</td>\n",
       "      <td>United-States</td>\n",
       "    </tr>\n",
       "  </tbody>\n",
       "</table>\n",
       "</div>"
      ],
      "text/plain": [
       "   age workclass  fnlwgt     education  education.num marital.status  \\\n",
       "0   90         ?   77053       HS-grad              9        Widowed   \n",
       "1   82   Private  132870       HS-grad              9        Widowed   \n",
       "2   66         ?  186061  Some-college             10        Widowed   \n",
       "3   54   Private  140359       7th-8th              4       Divorced   \n",
       "4   41   Private  264663  Some-college             10      Separated   \n",
       "\n",
       "          occupation   relationship   race     sex  capital.gain  \\\n",
       "0                  ?  Not-in-family  White  Female             0   \n",
       "1    Exec-managerial  Not-in-family  White  Female             0   \n",
       "2                  ?      Unmarried  Black  Female             0   \n",
       "3  Machine-op-inspct      Unmarried  White  Female             0   \n",
       "4     Prof-specialty      Own-child  White  Female             0   \n",
       "\n",
       "   capital.loss  hours.per.week native.country  \n",
       "0          4356              40  United-States  \n",
       "1          4356              18  United-States  \n",
       "2          4356              40  United-States  \n",
       "3          3900              40  United-States  \n",
       "4          3900              40  United-States  "
      ]
     },
     "execution_count": 3,
     "metadata": {},
     "output_type": "execute_result"
    }
   ],
   "source": [
    "X = df.drop(['income'],axis=1)\n",
    "X.head(5)"
   ]
  },
  {
   "cell_type": "markdown",
   "metadata": {
    "papermill": {
     "duration": 0.025542,
     "end_time": "2022-03-14T18:43:55.640124",
     "exception": false,
     "start_time": "2022-03-14T18:43:55.614582",
     "status": "completed"
    },
    "tags": []
   },
   "source": [
    "### One-Hot Encode all categorical features \n",
    "* For the sake of presentation, we will not handle missing values and do not apply OrdinalEncoder to any ordinal data.\n",
    "* Use  `pandas.get_dummies` to encode categorical features  \n",
    "* `pandas.get_dummies` treats missing values (`?` in this data set) as an extra column (`workclass_?`)"
   ]
  },
  {
   "cell_type": "code",
   "execution_count": 4,
   "metadata": {
    "execution": {
     "iopub.execute_input": "2022-03-14T18:43:55.716638Z",
     "iopub.status.busy": "2022-03-14T18:43:55.715723Z",
     "iopub.status.idle": "2022-03-14T18:43:55.787903Z",
     "shell.execute_reply": "2022-03-14T18:43:55.786541Z",
     "shell.execute_reply.started": "2022-03-14T14:40:42.681637Z"
    },
    "papermill": {
     "duration": 0.114417,
     "end_time": "2022-03-14T18:43:55.788135",
     "exception": false,
     "start_time": "2022-03-14T18:43:55.673718",
     "status": "completed"
    },
    "tags": []
   },
   "outputs": [
    {
     "data": {
      "text/html": [
       "<div>\n",
       "<style scoped>\n",
       "    .dataframe tbody tr th:only-of-type {\n",
       "        vertical-align: middle;\n",
       "    }\n",
       "\n",
       "    .dataframe tbody tr th {\n",
       "        vertical-align: top;\n",
       "    }\n",
       "\n",
       "    .dataframe thead th {\n",
       "        text-align: right;\n",
       "    }\n",
       "</style>\n",
       "<table border=\"1\" class=\"dataframe\">\n",
       "  <thead>\n",
       "    <tr style=\"text-align: right;\">\n",
       "      <th></th>\n",
       "      <th>age</th>\n",
       "      <th>fnlwgt</th>\n",
       "      <th>education.num</th>\n",
       "      <th>capital.gain</th>\n",
       "      <th>capital.loss</th>\n",
       "      <th>hours.per.week</th>\n",
       "      <th>workclass_?</th>\n",
       "      <th>workclass_Federal-gov</th>\n",
       "      <th>workclass_Local-gov</th>\n",
       "      <th>workclass_Never-worked</th>\n",
       "      <th>...</th>\n",
       "      <th>native.country_Portugal</th>\n",
       "      <th>native.country_Puerto-Rico</th>\n",
       "      <th>native.country_Scotland</th>\n",
       "      <th>native.country_South</th>\n",
       "      <th>native.country_Taiwan</th>\n",
       "      <th>native.country_Thailand</th>\n",
       "      <th>native.country_Trinadad&amp;Tobago</th>\n",
       "      <th>native.country_United-States</th>\n",
       "      <th>native.country_Vietnam</th>\n",
       "      <th>native.country_Yugoslavia</th>\n",
       "    </tr>\n",
       "  </thead>\n",
       "  <tbody>\n",
       "    <tr>\n",
       "      <th>0</th>\n",
       "      <td>90</td>\n",
       "      <td>77053</td>\n",
       "      <td>9</td>\n",
       "      <td>0</td>\n",
       "      <td>4356</td>\n",
       "      <td>40</td>\n",
       "      <td>1</td>\n",
       "      <td>0</td>\n",
       "      <td>0</td>\n",
       "      <td>0</td>\n",
       "      <td>...</td>\n",
       "      <td>0</td>\n",
       "      <td>0</td>\n",
       "      <td>0</td>\n",
       "      <td>0</td>\n",
       "      <td>0</td>\n",
       "      <td>0</td>\n",
       "      <td>0</td>\n",
       "      <td>1</td>\n",
       "      <td>0</td>\n",
       "      <td>0</td>\n",
       "    </tr>\n",
       "    <tr>\n",
       "      <th>1</th>\n",
       "      <td>82</td>\n",
       "      <td>132870</td>\n",
       "      <td>9</td>\n",
       "      <td>0</td>\n",
       "      <td>4356</td>\n",
       "      <td>18</td>\n",
       "      <td>0</td>\n",
       "      <td>0</td>\n",
       "      <td>0</td>\n",
       "      <td>0</td>\n",
       "      <td>...</td>\n",
       "      <td>0</td>\n",
       "      <td>0</td>\n",
       "      <td>0</td>\n",
       "      <td>0</td>\n",
       "      <td>0</td>\n",
       "      <td>0</td>\n",
       "      <td>0</td>\n",
       "      <td>1</td>\n",
       "      <td>0</td>\n",
       "      <td>0</td>\n",
       "    </tr>\n",
       "    <tr>\n",
       "      <th>2</th>\n",
       "      <td>66</td>\n",
       "      <td>186061</td>\n",
       "      <td>10</td>\n",
       "      <td>0</td>\n",
       "      <td>4356</td>\n",
       "      <td>40</td>\n",
       "      <td>1</td>\n",
       "      <td>0</td>\n",
       "      <td>0</td>\n",
       "      <td>0</td>\n",
       "      <td>...</td>\n",
       "      <td>0</td>\n",
       "      <td>0</td>\n",
       "      <td>0</td>\n",
       "      <td>0</td>\n",
       "      <td>0</td>\n",
       "      <td>0</td>\n",
       "      <td>0</td>\n",
       "      <td>1</td>\n",
       "      <td>0</td>\n",
       "      <td>0</td>\n",
       "    </tr>\n",
       "    <tr>\n",
       "      <th>3</th>\n",
       "      <td>54</td>\n",
       "      <td>140359</td>\n",
       "      <td>4</td>\n",
       "      <td>0</td>\n",
       "      <td>3900</td>\n",
       "      <td>40</td>\n",
       "      <td>0</td>\n",
       "      <td>0</td>\n",
       "      <td>0</td>\n",
       "      <td>0</td>\n",
       "      <td>...</td>\n",
       "      <td>0</td>\n",
       "      <td>0</td>\n",
       "      <td>0</td>\n",
       "      <td>0</td>\n",
       "      <td>0</td>\n",
       "      <td>0</td>\n",
       "      <td>0</td>\n",
       "      <td>1</td>\n",
       "      <td>0</td>\n",
       "      <td>0</td>\n",
       "    </tr>\n",
       "    <tr>\n",
       "      <th>4</th>\n",
       "      <td>41</td>\n",
       "      <td>264663</td>\n",
       "      <td>10</td>\n",
       "      <td>0</td>\n",
       "      <td>3900</td>\n",
       "      <td>40</td>\n",
       "      <td>0</td>\n",
       "      <td>0</td>\n",
       "      <td>0</td>\n",
       "      <td>0</td>\n",
       "      <td>...</td>\n",
       "      <td>0</td>\n",
       "      <td>0</td>\n",
       "      <td>0</td>\n",
       "      <td>0</td>\n",
       "      <td>0</td>\n",
       "      <td>0</td>\n",
       "      <td>0</td>\n",
       "      <td>1</td>\n",
       "      <td>0</td>\n",
       "      <td>0</td>\n",
       "    </tr>\n",
       "  </tbody>\n",
       "</table>\n",
       "<p>5 rows × 108 columns</p>\n",
       "</div>"
      ],
      "text/plain": [
       "   age  fnlwgt  education.num  capital.gain  capital.loss  hours.per.week  \\\n",
       "0   90   77053              9             0          4356              40   \n",
       "1   82  132870              9             0          4356              18   \n",
       "2   66  186061             10             0          4356              40   \n",
       "3   54  140359              4             0          3900              40   \n",
       "4   41  264663             10             0          3900              40   \n",
       "\n",
       "   workclass_?  workclass_Federal-gov  workclass_Local-gov  \\\n",
       "0            1                      0                    0   \n",
       "1            0                      0                    0   \n",
       "2            1                      0                    0   \n",
       "3            0                      0                    0   \n",
       "4            0                      0                    0   \n",
       "\n",
       "   workclass_Never-worked  ...  native.country_Portugal  \\\n",
       "0                       0  ...                        0   \n",
       "1                       0  ...                        0   \n",
       "2                       0  ...                        0   \n",
       "3                       0  ...                        0   \n",
       "4                       0  ...                        0   \n",
       "\n",
       "   native.country_Puerto-Rico  native.country_Scotland  native.country_South  \\\n",
       "0                           0                        0                     0   \n",
       "1                           0                        0                     0   \n",
       "2                           0                        0                     0   \n",
       "3                           0                        0                     0   \n",
       "4                           0                        0                     0   \n",
       "\n",
       "   native.country_Taiwan  native.country_Thailand  \\\n",
       "0                      0                        0   \n",
       "1                      0                        0   \n",
       "2                      0                        0   \n",
       "3                      0                        0   \n",
       "4                      0                        0   \n",
       "\n",
       "   native.country_Trinadad&Tobago  native.country_United-States  \\\n",
       "0                               0                             1   \n",
       "1                               0                             1   \n",
       "2                               0                             1   \n",
       "3                               0                             1   \n",
       "4                               0                             1   \n",
       "\n",
       "   native.country_Vietnam  native.country_Yugoslavia  \n",
       "0                       0                          0  \n",
       "1                       0                          0  \n",
       "2                       0                          0  \n",
       "3                       0                          0  \n",
       "4                       0                          0  \n",
       "\n",
       "[5 rows x 108 columns]"
      ]
     },
     "execution_count": 4,
     "metadata": {},
     "output_type": "execute_result"
    }
   ],
   "source": [
    "X = pd.get_dummies(X) \n",
    "X.head(5)"
   ]
  },
  {
   "cell_type": "markdown",
   "metadata": {
    "papermill": {
     "duration": 0.028193,
     "end_time": "2022-03-14T18:43:55.853506",
     "exception": false,
     "start_time": "2022-03-14T18:43:55.825313",
     "status": "completed"
    },
    "tags": []
   },
   "source": [
    "### Prepare Data\n",
    "* Split data into Training and Test Data\n",
    "* Data normalization by `MinMaxScaler`"
   ]
  },
  {
   "cell_type": "code",
   "execution_count": 5,
   "metadata": {
    "execution": {
     "iopub.execute_input": "2022-03-14T18:43:55.914370Z",
     "iopub.status.busy": "2022-03-14T18:43:55.913526Z",
     "iopub.status.idle": "2022-03-14T18:43:56.971704Z",
     "shell.execute_reply": "2022-03-14T18:43:56.970977Z",
     "shell.execute_reply.started": "2022-03-14T14:40:42.750099Z"
    },
    "papermill": {
     "duration": 1.090463,
     "end_time": "2022-03-14T18:43:56.971868",
     "exception": false,
     "start_time": "2022-03-14T18:43:55.881405",
     "status": "completed"
    },
    "tags": []
   },
   "outputs": [],
   "source": [
    "\n",
    "from sklearn.model_selection import train_test_split, cross_val_score\n",
    "X_train, X_test, y_train, y_test = train_test_split(X, y, test_size=0.3, random_state=1) #split data into training and test data. Improvement: usually need validation data for hyperparameter tuning\n",
    "from sklearn.preprocessing import MinMaxScaler\n",
    "scaler = MinMaxScaler()\n",
    "scaler.fit(X_train)# Fit only to the training data\n",
    "# Now apply the transformations to both training and test data\n",
    "X_train = scaler.transform(X_train) \n",
    "X_test = scaler.transform(X_test)"
   ]
  },
  {
   "cell_type": "markdown",
   "metadata": {
    "papermill": {
     "duration": 0.027509,
     "end_time": "2022-03-14T18:43:57.025735",
     "exception": false,
     "start_time": "2022-03-14T18:43:56.998226",
     "status": "completed"
    },
    "tags": []
   },
   "source": [
    "### Build MLP model \n",
    "* Which model is better? \n",
    "    * MLP (3): one hidden layer with 3 nodes\n",
    "    * MLP (3,3): two hidden layers with 3 and 3 nodes respectively\n",
    "* Set the parameter grid \n",
    "    * `'hidden_layer_sizes': [(3), (3,3)]` "
   ]
  },
  {
   "cell_type": "code",
   "execution_count": 6,
   "metadata": {
    "execution": {
     "iopub.execute_input": "2022-03-14T18:43:57.085763Z",
     "iopub.status.busy": "2022-03-14T18:43:57.085061Z",
     "iopub.status.idle": "2022-03-14T18:43:57.095886Z",
     "shell.execute_reply": "2022-03-14T18:43:57.096439Z",
     "shell.execute_reply.started": "2022-03-14T14:40:42.821726Z"
    },
    "papermill": {
     "duration": 0.043306,
     "end_time": "2022-03-14T18:43:57.096632",
     "exception": false,
     "start_time": "2022-03-14T18:43:57.053326",
     "status": "completed"
    },
    "tags": []
   },
   "outputs": [],
   "source": [
    "from sklearn.neural_network import MLPClassifier\n",
    "clf = MLPClassifier(random_state=1,  max_iter=3000)  \n",
    "parameter_grid = {\n",
    "    'hidden_layer_sizes': [(3),   (3,3)], \n",
    "}"
   ]
  },
  {
   "cell_type": "markdown",
   "metadata": {
    "papermill": {
     "duration": 0.026665,
     "end_time": "2022-03-14T18:43:57.150030",
     "exception": false,
     "start_time": "2022-03-14T18:43:57.123365",
     "status": "completed"
    },
    "tags": []
   },
   "source": [
    "### Prepare grid search\n",
    "* Import `GridSearchCV`\n",
    "* Create a `GridSearchCV` object  where `cv=5` means 5-fold cross validation,\n",
    "* Fit the `GridSearchCV` object  on training data"
   ]
  },
  {
   "cell_type": "code",
   "execution_count": 7,
   "metadata": {
    "execution": {
     "iopub.execute_input": "2022-03-14T18:43:57.207080Z",
     "iopub.status.busy": "2022-03-14T18:43:57.206427Z",
     "iopub.status.idle": "2022-03-14T18:46:10.938934Z",
     "shell.execute_reply": "2022-03-14T18:46:10.938294Z",
     "shell.execute_reply.started": "2022-03-14T14:40:42.829667Z"
    },
    "papermill": {
     "duration": 133.762136,
     "end_time": "2022-03-14T18:46:10.939118",
     "exception": false,
     "start_time": "2022-03-14T18:43:57.176982",
     "status": "completed"
    },
    "tags": []
   },
   "outputs": [],
   "source": [
    "from sklearn.model_selection import GridSearchCV\n",
    "gs = GridSearchCV(clf, parameter_grid,  cv=5)\n",
    "gs = gs.fit(X_train,y_train)"
   ]
  },
  {
   "cell_type": "markdown",
   "metadata": {
    "papermill": {
     "duration": 0.025888,
     "end_time": "2022-03-14T18:46:10.991458",
     "exception": false,
     "start_time": "2022-03-14T18:46:10.965570",
     "status": "completed"
    },
    "tags": []
   },
   "source": [
    "### Search the best model and Train the best model\n",
    "* Select the best classifier found in the Grid Search \n",
    "* Fit the best classifier on training data"
   ]
  },
  {
   "cell_type": "code",
   "execution_count": 8,
   "metadata": {
    "execution": {
     "iopub.execute_input": "2022-03-14T18:46:11.046897Z",
     "iopub.status.busy": "2022-03-14T18:46:11.046212Z",
     "iopub.status.idle": "2022-03-14T18:46:22.085558Z",
     "shell.execute_reply": "2022-03-14T18:46:22.084946Z",
     "shell.execute_reply.started": "2022-03-14T14:42:40.127805Z"
    },
    "papermill": {
     "duration": 11.06821,
     "end_time": "2022-03-14T18:46:22.085772",
     "exception": false,
     "start_time": "2022-03-14T18:46:11.017562",
     "status": "completed"
    },
    "tags": []
   },
   "outputs": [
    {
     "name": "stdout",
     "output_type": "stream",
     "text": [
      "best model: {'activation': 'relu', 'alpha': 0.0001, 'batch_size': 'auto', 'beta_1': 0.9, 'beta_2': 0.999, 'early_stopping': False, 'epsilon': 1e-08, 'hidden_layer_sizes': 3, 'learning_rate': 'constant', 'learning_rate_init': 0.001, 'max_fun': 15000, 'max_iter': 3000, 'momentum': 0.9, 'n_iter_no_change': 10, 'nesterovs_momentum': True, 'power_t': 0.5, 'random_state': 1, 'shuffle': True, 'solver': 'adam', 'tol': 0.0001, 'validation_fraction': 0.1, 'verbose': False, 'warm_start': False}\n"
     ]
    }
   ],
   "source": [
    "#set the clf to the best combination of parameters\n",
    "clf_best = gs.best_estimator_\n",
    "print(\"best model:\", clf_best.get_params())\n",
    "# Fit the best model to the data. \n",
    "clf_best = clf_best.fit(X_train, y_train)"
   ]
  },
  {
   "cell_type": "markdown",
   "metadata": {
    "papermill": {
     "duration": 0.02674,
     "end_time": "2022-03-14T18:46:22.139595",
     "exception": false,
     "start_time": "2022-03-14T18:46:22.112855",
     "status": "completed"
    },
    "tags": []
   },
   "source": [
    "### Evaluate the best model\n",
    "* Predict the model output on test data\n",
    "* Evaluate the model accuracy"
   ]
  },
  {
   "cell_type": "code",
   "execution_count": 9,
   "metadata": {
    "execution": {
     "iopub.execute_input": "2022-03-14T18:46:22.199087Z",
     "iopub.status.busy": "2022-03-14T18:46:22.198403Z",
     "iopub.status.idle": "2022-03-14T18:46:22.215367Z",
     "shell.execute_reply": "2022-03-14T18:46:22.215987Z",
     "shell.execute_reply.started": "2022-03-14T14:42:50.348844Z"
    },
    "papermill": {
     "duration": 0.049574,
     "end_time": "2022-03-14T18:46:22.216213",
     "exception": false,
     "start_time": "2022-03-14T18:46:22.166639",
     "status": "completed"
    },
    "tags": []
   },
   "outputs": [
    {
     "name": "stdout",
     "output_type": "stream",
     "text": [
      "0.8587368205548163\n"
     ]
    }
   ],
   "source": [
    "from sklearn import metrics\n",
    "y_pred = clf_best.predict(X_test)\n",
    "print(metrics.accuracy_score(y_test, y_pred))"
   ]
  },
  {
   "cell_type": "markdown",
   "metadata": {
    "papermill": {
     "duration": 0.026744,
     "end_time": "2022-03-14T18:46:22.270733",
     "exception": false,
     "start_time": "2022-03-14T18:46:22.243989",
     "status": "completed"
    },
    "tags": []
   },
   "source": [
    "## Part 2 MLP Training (1):  Feedforward for Calculating Output and Error "
   ]
  },
  {
   "cell_type": "markdown",
   "metadata": {
    "papermill": {
     "duration": 0.033422,
     "end_time": "2022-03-14T18:46:22.331651",
     "exception": false,
     "start_time": "2022-03-14T18:46:22.298229",
     "status": "completed"
    },
    "tags": []
   },
   "source": [
    "### Prediction error \n",
    "\n",
    "* The **prediction error** on an output node is the difference between the actual and predicted output\n",
    "\\begin{align*}\n",
    "    \\mbox{SSE} (\\mbox{one output node i})&= (\\mbox{actual value}- \\mbox{predicted value})^2\\\\\n",
    "    SSE_i&= (y_i- \\hat{y}_i)^2  \n",
    "    \\end{align*}\n",
    "    * index $i$ for node $i$\n",
    "    * $\\hat{y}$ is the predicted value\n",
    "    * $y$ the actual value \n",
    "* The sum of squared errors (SSE)  \n",
    "     \\begin{align*}\n",
    "     \\mbox{SSE} &= \\sum_{\\mbox{training samples}} \\,\\sum_{\\mbox{output nodes}} (\\mbox{actual value}- \\mbox{predicted value})^2\\\\\n",
    "    \\mbox{SSE}&= \\sum_k \\sum_i(y_{ki}- \\hat{y}_{ki})^2\n",
    "    \\end{align*}\n",
    "    * index $k$ for summation over training samples\n",
    "    * index $i$ for summation over ouput  nodes\n",
    "* The mean of squared errors (MSE) \n",
    "$$\n",
    "MSE=\\frac{SSE}{\\mbox{number of training samples}}\n",
    "$$ \n",
    "* Prediction error is often called **loss function** or **cost function** in machine learning"
   ]
  },
  {
   "cell_type": "markdown",
   "metadata": {
    "papermill": {
     "duration": 0.031667,
     "end_time": "2022-03-14T18:46:22.404589",
     "exception": false,
     "start_time": "2022-03-14T18:46:22.372922",
     "status": "completed"
    },
    "tags": []
   },
   "source": [
    "### Example: Calculate Output and Error\n",
    "* MLP   \n",
    "<img src=\"https://i.ibb.co/vw8GWsy/MLP.jpg\" width=\"500\"> \n",
    "\n",
    "* Data inputs and  Initial Weights\n",
    "\n",
    "| input    | weights   | weights   | weights   |\n",
    "|----------|-----------|-----------|-----------|\n",
    "|          | W0A = 0.5 | W0B = 0.7 | W0Z = 0.5  |\n",
    "| x1 = 0.4 | W1A = 0.6 | W1B = 0.9 | WAZ = 0.9 |\n",
    "| x2 = 0.2 | W2A = 0.8 | W2B = 0.8 | WBZ = 0.9 |\n",
    "| x3 = 0.7 | W3A = 0.6 | W3B = 0.4 |           |\n",
    " \n",
    "\n",
    "* Actual output: 0.8 \n"
   ]
  },
  {
   "cell_type": "markdown",
   "metadata": {
    "papermill": {
     "duration": 0.026405,
     "end_time": "2022-03-14T18:46:22.463760",
     "exception": false,
     "start_time": "2022-03-14T18:46:22.437355",
     "status": "completed"
    },
    "tags": []
   },
   "source": [
    "### Example: calculate output and prediction error\n",
    "*  Summation on node A \n",
    "\n",
    "\\begin{align*}\n",
    "    \\sum_A &=W_{0A} + W_{1A} x_{1} + W_{2A} x_{2} + W_{3A} x_{3} \\\\\n",
    "    & = 0.5+0.6 \\times 0.4 + 0.8 \\times 0.2 + 0.6 \\times 0.7 =1.32\n",
    "\\end{align*}\n",
    "\n",
    "* Activiation on node $A$ by logistic activation function\n",
    "\n",
    "\\begin{align*}\n",
    " f(\\sum_A) = \\frac{1}{1 + \\exp(–\\sum_A)} =\\frac{1}{1 + \\exp(–1.32)} = 0.7892.\n",
    "\\end{align*}\n",
    "\n",
    "* The output of node $A$: $Output_A =0.7892$\n",
    "* Do summation and activation over all nodes\n",
    "\n",
    "| node | summation $\\sum$ | activation $f(\\sum)$ |\n",
    "|------|------------------|----------------|\n",
    "| A    | 1.32             | 0.7892         |\n",
    "| B    | 1.5              | 0.8176         |\n",
    "| Z    | 1.946            | 0.8750         |\n",
    "\n",
    "* Output on output node Z: 0.8750 \n",
    "*  SSE on output Node Z \n",
    "\\begin{align*}\n",
    "    \\mbox{SSE} (\\mbox{Node Z})&= (\\mbox{actual value}- \\mbox{predicted value})^2 \\\\ &=(0.8-0.875)^2 = 0.005625\n",
    "\\end{align*}\n",
    " \n",
    " "
   ]
  },
  {
   "cell_type": "markdown",
   "metadata": {
    "papermill": {
     "duration": 0.026702,
     "end_time": "2022-03-14T18:46:22.517270",
     "exception": false,
     "start_time": "2022-03-14T18:46:22.490568",
     "status": "completed"
    },
    "tags": []
   },
   "source": [
    "\n",
    "## Part 3  MLP Training (2): Backpropagation for Optimizing Weights \n",
    "### Prediction Error Depends on Weights\n",
    "* Given two models, which model is better? \n",
    "* MLP 1 with Weights \n",
    "    \n",
    "| input    | weights   | weights   | weights   | SSE |\n",
    "|----------|-----------|-----------|-----------|-----------|\n",
    "|          | W0A = 0.5  | W0B = 0.7  | W0Z = 0.5  ||\n",
    "| x1 = 0.4 | W1A = 0.6 | W1B = 0.9 | WAZ = 0.9 ||\n",
    "| x2 = 0.2 | W2A = 0.8 | W2B = 0.8 | WBZ = 0.9 ||\n",
    "| x3 = 0.7 | W3A = 0.6 | W3B = 0.4 |  |0.005625|\n",
    "\n",
    "*  MLP 2 with all weights =0. In this case, $Output_Z =1/(1+\\exp(0))=0.5$ (i.e., random guess in binary classification). $Error = 0.8-0.5=0.3$.  \n",
    "\n",
    "| input    | weights   | weights   | weights   | SSE |\n",
    "|----------|-----------|-----------|-----------|-----------|\n",
    "|          | W0A = 0  | W0B = 0  | W0Z = 0  ||\n",
    "| x1 = 0.4 | W1A = 0 | W1B = 0 | WAZ = 0 ||\n",
    "| x2 = 0.2 | W2A = 0 | W2B = 0 | WBZ = 0 ||\n",
    "| x3 = 0.7 | W3A = 0 | W3B = 0 |  |0.09|\n",
    "\n",
    "* Question: how to find the weights of the optimal model? \n",
    "\n"
   ]
  },
  {
   "cell_type": "markdown",
   "metadata": {
    "papermill": {
     "duration": 0.026653,
     "end_time": "2022-03-14T18:46:22.570935",
     "exception": false,
     "start_time": "2022-03-14T18:46:22.544282",
     "status": "completed"
    },
    "tags": []
   },
   "source": [
    "### Training  = Optimization \n",
    "|<img src = \"https://i.ibb.co/8sz9G3y/ANN-optimization1.png\" width =300>|\n",
    "|:--:|\n",
    "|$error (W) = W_1^2 + W_2^2$ where the optimal weights $W_1=W_2=0$ and $error =0$|\n",
    "\n",
    "* Given data samples and actual output on training data, prediction error is an function of weights: $error(W) $\n",
    "* MLP training is to find the optimal weights $W$ which minimizes the prediction error\n",
    "    $$\\mbox{minimize } error(W)$$  \n",
    "* Optimization =  searching the lowest point on a landscape\n",
    "    * error =  the height \n",
    "    * weights = coordinate axes \n",
    "    * the minimization problem intuitively can be explained as finding the position where  the height is the lowest  \n",
    "    \n"
   ]
  },
  {
   "cell_type": "markdown",
   "metadata": {
    "papermill": {
     "duration": 0.026331,
     "end_time": "2022-03-14T18:46:22.623972",
     "exception": false,
     "start_time": "2022-03-14T18:46:22.597641",
     "status": "completed"
    },
    "tags": []
   },
   "source": [
    "### Search Algorithms \n",
    "|<img src=\"https://i.ibb.co/DVVsBjJ/ANN-optimization2.png\" width=300>|\n",
    "|:--:|\n",
    "|Search the minima of $error(W) = W_1^2 + W_2^2$ from initial weights $W_1=W_2=9$|\n",
    "\n",
    "* A search algorithm is an iterative process to find the minima\n",
    "    1. Initialize a position $\\mathbf{w}_{init}$\n",
    "    1. WHILE (stopping criterion is not satisfied)\n",
    "        1. Start at current position (weights $\\mathbf{w}_{curent}$)\n",
    "        1. Find a downhill search direction $\\Delta \\mathbf{w}_{current}$  \n",
    "        1. Move along the downhill direction with a small step $\\eta$ ($\\eta$ is called learning rate in machine learning)\n",
    "        1. Arrive at a new position (weights) $\\mathbf{w}_{new} =\\mathbf{w}_{current}+ \\eta \\Delta \\mathbf{w}_{current}$ \n",
    "    1. ENDWHILE\n",
    "* Steepest descent: downhill direction $\\Delta \\mathbf{w}_{current} = - \\mbox{Gradient}$\n",
    " "
   ]
  },
  {
   "cell_type": "markdown",
   "metadata": {
    "papermill": {
     "duration": 0.026637,
     "end_time": "2022-03-14T18:46:22.677444",
     "exception": false,
     "start_time": "2022-03-14T18:46:22.650807",
     "status": "completed"
    },
    "tags": []
   },
   "source": [
    "### Local optimum, global optimum and convergence\n",
    "  \n",
    "|<img src =\"https://miro.medium.com/max/1400/1*ZC9qItK9wI0F6BwSVYMQGg.png\" width =400>|\n",
    "|:--:|\n",
    "|Starting from A, search might stop at local minima but not at global optima|\n",
    "\n",
    "* A landscape may consist of local and global optima \n",
    "    * local optimum:  a position whose neighbour points have a higher height\n",
    "    * global optimum: the position with the lowest height on the landscape\n",
    "* A search algorithm is called local convergent   if it stops at a local optimum\n",
    "* A search algorithm is called global convergent   if it stops at a global optimum\n",
    " "
   ]
  },
  {
   "cell_type": "markdown",
   "metadata": {
    "papermill": {
     "duration": 0.026365,
     "end_time": "2022-03-14T18:46:22.730595",
     "exception": false,
     "start_time": "2022-03-14T18:46:22.704230",
     "status": "completed"
    },
    "tags": []
   },
   "source": [
    "### Learning Rate \n",
    "\n",
    "<img src = \"https://www.fromthegenesis.com/wp-content/uploads/2020/04/lr_12420_1-768x288.png\" width =500>\n",
    "\n",
    "* Learning rate $\\eta (0 < \\eta <1)$:  to control the search step size  \n",
    "* What value should $\\eta$ take?  \n",
    "    * Too small: the weight adjustments tend to be very small. Thus, gradient descent converges to the global minimum very slow\n",
    "    * Too large:  may fail to converge (red line)"
   ]
  },
  {
   "cell_type": "markdown",
   "metadata": {
    "papermill": {
     "duration": 0.02668,
     "end_time": "2022-03-14T18:46:22.784068",
     "exception": false,
     "start_time": "2022-03-14T18:46:22.757388",
     "status": "completed"
    },
    "tags": []
   },
   "source": [
    "### Backpropagation Algorithm \n",
    "|<img src =\"https://i.ibb.co/8KP4ncB/MLP-forward-backward.jpg\" width =500>|\n",
    "|:--:|\n",
    "|Feedforward and Backpropagation|\n",
    "\n",
    "1. Initialize weights  \n",
    "1. Read in samples and actual outputs\n",
    "1. WHILE (stopping criterion is not satisfied)\n",
    "    1. Compute  prediction output and prediction error by working **forward through the layers** (input -> hidden -> output)\n",
    "    1. Adjust the weights by working **backward through the hidden layers**  (output -> hidden -> input)\n",
    "1. ENDWHILE\n",
    " "
   ]
  },
  {
   "cell_type": "markdown",
   "metadata": {
    "papermill": {
     "duration": 0.02674,
     "end_time": "2022-03-14T18:46:22.837907",
     "exception": false,
     "start_time": "2022-03-14T18:46:22.811167",
     "status": "completed"
    },
    "tags": []
   },
   "source": [
    "### Termination Criteria \n",
    "* The training of ANNs is an iterative procedure\n",
    "* What  serves as the stopping criterion?\n",
    "    * simply set the maximal number of iterations \n",
    "        * `MLPClassifier(max_iter=300)` \n",
    "    * or stop when error change is too small, below a predefined threshold \n",
    "        * `MLPClassifier(tol=0.0001)` \n",
    " "
   ]
  },
  {
   "cell_type": "markdown",
   "metadata": {
    "papermill": {
     "duration": 0.027022,
     "end_time": "2022-03-14T18:46:22.892154",
     "exception": false,
     "start_time": "2022-03-14T18:46:22.865132",
     "status": "completed"
    },
    "tags": []
   },
   "source": [
    "## Part 4 Example:  Backpropagation \n",
    "###  Backpropagation Rule \n",
    "|<img src =\"https://i.ibb.co/8KP4ncB/MLP-forward-backward.jpg\" width =500>|\n",
    "|:--:|\n",
    "|Backpropagation|\n",
    " \n",
    " \n",
    "\n",
    "* The rule of updating  weights  (Mitchell, T. Machine Learning, 1997)  is based on stochastic gradient descent \\begin{align}     W_{ij, new} &=W_{ij,current} +   \\eta \\delta_j x_{ij}      \\end{align}\n",
    "* $x_{ij}$ signifies the $i$th input to node $j$\n",
    "* $\\delta_j$ represents the error responsibilities of node $j$\n",
    "\n",
    "\\begin{align*}   \\mbox{for an output layer node $j$:   }     \\delta_j &= {output}_j (1-{output}_j) (actual_j -output_j), \\\\ \\mbox{for a hidden layer node $j$:  } \\delta_j &=  {output}_j (1-{output}_j) \\displaystyle \\sum_{k: \\mbox{downstreamnodes}} W_{jk}\\delta_k \\end{align*}\n",
    "\n",
    " where $\\sum_{k: \\mbox{downstreamnodes}} $ refers to the weighted sum of the error responsibilities over downstream  nodes $k$\n",
    " \n",
    " * Hidden nodes have no actual value\n"
   ]
  },
  {
   "cell_type": "markdown",
   "metadata": {
    "papermill": {
     "duration": 0.026661,
     "end_time": "2022-03-14T18:46:22.945802",
     "exception": false,
     "start_time": "2022-03-14T18:46:22.919141",
     "status": "completed"
    },
    "tags": []
   },
   "source": [
    "### MLP and Output after first iteration\n",
    "* Data inputs, Initial Weights, Output on Node Z and Error\n",
    "\n",
    "| input    | weights   | weights   | weights   | Output | SSE|\n",
    "|----------|-----------|-----------|-----------|-----------|-------|\n",
    "|          | W0A = 0.5  | W0B = 0.7 | W0Z = 0.5  |||\n",
    "| x1 = 0.4 | W1A = 0.6 | W1B = 0.9 | WAZ = 0.9 |||\n",
    "| x2 = 0.2 | W2A = 0.8 | W2B = 0.8 | WBZ = 0.9 |||\n",
    "| x3 = 0.7 | W3A = 0.6 | W3B = 0.4 |  | 0.8751|0.00564001|\n",
    "\n",
    "* Set the learning rate $\\eta=0.1$"
   ]
  },
  {
   "cell_type": "markdown",
   "metadata": {
    "papermill": {
     "duration": 0.026618,
     "end_time": "2022-03-14T18:46:22.999652",
     "exception": false,
     "start_time": "2022-03-14T18:46:22.973034",
     "status": "completed"
    },
    "tags": []
   },
   "source": [
    "### Backpropagation: Adjust $W_{0Z}$ (bias weight)\n",
    "* Weight $W_{0Z}$  \n",
    "    * Calculate the error responsibility $\\delta Z$ for the output node $Z$   \n",
    "    \\begin{align*}\n",
    "    \\delta_Z &={output}_Z (1-{output}_Z) (actual_Z -output_Z)\\\\\n",
    "    &=0.8751(1-0.8751)(0.8-0.8751)=-0.0082\n",
    "    \\end{align*}\n",
    "    * Adjust the bias weight $W_{0Z}$ (with constant input =1) using the back-propagation rules as follows\n",
    "    \\begin{align*}\n",
    "    \\Delta W_{0Z} &= \\eta \\delta_Z   =0.1(-0.0082) = -0.0082\\\\\n",
    "    W_{0Z,new} &= W_{0Z,current} +\\Delta W_{0Z} =0.5 -0.00082= 0.49918\n",
    "    \\end{align*}"
   ]
  },
  {
   "cell_type": "markdown",
   "metadata": {
    "papermill": {
     "duration": 0.026684,
     "end_time": "2022-03-14T18:46:23.053338",
     "exception": false,
     "start_time": "2022-03-14T18:46:23.026654",
     "status": "completed"
    },
    "tags": []
   },
   "source": [
    "### Backpropagation: Adjust  $W_{AZ}$ (weight  to an output layer node)\n",
    "* Weight $W_{AZ}$ where $Z$ is the output node\n",
    "    * Calculate the error responsibility $\\delta Z= -0.0082 $ for the output node $Z$   \n",
    "    * Adjust the weight $W_{AZ}$  using the back-propagation rules\n",
    "    \\begin{align*}\n",
    "    \\Delta W_{AZ} &= \\eta \\delta_{Z} \\cdot {output}_A =0.1(-0.0082) (-0.7892) = -0.000647 \\\\\n",
    "    W_{AZ,new} &= W_{AZ,current} +\\Delta W_{AZ} = 0.9 -0.000647= 0.899353\n",
    "    \\end{align*}  "
   ]
  },
  {
   "cell_type": "markdown",
   "metadata": {
    "papermill": {
     "duration": 0.026884,
     "end_time": "2022-03-14T18:46:23.107458",
     "exception": false,
     "start_time": "2022-03-14T18:46:23.080574",
     "status": "completed"
    },
    "tags": []
   },
   "source": [
    "### Backpropagation: Adjust  $W_{1A}$ (weight to a hidden layer node)\n",
    "* Weight $W_{1A}$ where $A$ is a hidden layer node \n",
    "    * Calculate the error responsibility $\\delta A$  for the hidden layer node $A$  \n",
    "    \\begin{align*}\n",
    "        \\delta_A &={output}_A (1-{output}_A)   W_{AZ} \\delta_{Z}\\\\\n",
    "        &=0.7892 (1-0.0.7892) (0.9)(-0.0082) =-0.00123\n",
    "    \\end{align*}\n",
    "    * Adjust the weight $W_{1A}$  using the back-propagation rules\n",
    "    \\begin{align*}\n",
    "    \\Delta W_{1A} &= \\eta \\delta_{A}    x_1  =0.1(-0.00123) (-0.4) = -0.0000492 \\\\\n",
    "    W_{1A,new} &= W_{1A,current} +\\Delta W_{1A} = 0.6 -0.0000492 = 0.599508\n",
    "    \\end{align*} "
   ]
  },
  {
   "cell_type": "markdown",
   "metadata": {
    "papermill": {
     "duration": 0.026831,
     "end_time": "2022-03-14T18:46:23.161245",
     "exception": false,
     "start_time": "2022-03-14T18:46:23.134414",
     "status": "completed"
    },
    "tags": []
   },
   "source": [
    "### Backpropagation: Adjust Rest of Weights\n",
    "* Adjust all weights using the backpropagation rule \n",
    "\n",
    "| input    | weights   | weights   | weights   | Output | SSE|\n",
    "|----------|-----------|-----------|-----------|-----------| ----|\n",
    "|          | W0A = 0.499877 | W0B = 0.69989  | W0Z = 0.49918  |||\n",
    "| x1 = 0.4 | W1A = 0.599508 | W1B = 0.899956 | WAZ = 0.899353 |||\n",
    "| x2 = 0.2 | W2A = 0.7999754 | W2B = 0.799978 | WBZ = 0.89933|||\n",
    "| x3 = 0.7 | W3A = 0.5999139 | W3B = 0.399923 |  | 0.8745|0.00555025| \n",
    "\n",
    "* Using new weights, calculate new output on Node Z: 0.8745 \n",
    "* Calculate SSE under new weights\n",
    "* SSE is reduced: $0.00555025 <  0.00564001$\n",
    "\n",
    "\n",
    "\n",
    "\n",
    " "
   ]
  },
  {
   "cell_type": "markdown",
   "metadata": {
    "papermill": {
     "duration": 0.026477,
     "end_time": "2022-03-14T18:46:23.214615",
     "exception": false,
     "start_time": "2022-03-14T18:46:23.188138",
     "status": "completed"
    },
    "tags": []
   },
   "source": [
    "## Part 6 More Hyperparameters in MLP\n",
    "### Search Algorithms for Weight Optimization \n",
    "* Sklearn provide three algorithms (called solvers)  \n",
    "    * `lbfgs`: an optimizer in the family of quasi-Newton methods.\n",
    "    * `sgd`: stochastic gradient descent.\n",
    "    * `adam`: a stochastic gradient-based optimizer  \n",
    "    * Default solver: `adam` \n",
    "        * `clf = MLPClassifier(solver='adam')`  \n"
   ]
  },
  {
   "cell_type": "markdown",
   "metadata": {
    "papermill": {
     "duration": 0.02688,
     "end_time": "2022-03-14T18:46:23.268644",
     "exception": false,
     "start_time": "2022-03-14T18:46:23.241764",
     "status": "completed"
    },
    "tags": []
   },
   "source": [
    "### Activation functions\n",
    "* Sklearn supports 4 activation functions\n",
    "    * Let $x= \\sum$ after summation\n",
    "    * `identity`, simply returns $f(x) = x$\n",
    "    * `logistic`, the logistic sigmoid function, returns $f(x) = 1 / (1 + \\exp(-x))$\n",
    "    * `tanh`, the hyperbolic tan function, returns $f(x) = \\tanh(x)$\n",
    "    * `relu`,   the rectified linear unit function, returns $f(x) = \\max(0, x)$\n",
    "    * default: `relu`\n",
    "        * `clf = MLPClassifier(activation=  'logistic')`   \n",
    "* In 1990s, the `logistic` function was the default activation function  \n",
    "* In late 1990s to 2010s, the  `tanh` function was the default activation function  \n",
    "* Now, the `relu` function becomes the default activation function  "
   ]
  },
  {
   "cell_type": "markdown",
   "metadata": {
    "papermill": {
     "duration": 0.026861,
     "end_time": "2022-03-14T18:46:23.322656",
     "exception": false,
     "start_time": "2022-03-14T18:46:23.295795",
     "status": "completed"
    },
    "tags": []
   },
   "source": [
    "### Learning Rate \n",
    "* Sklearn supports learning rates  when solver=`sgd`\n",
    "    * `constant`: a constant,  given by `learning_rate_init=0.001`.\n",
    "    * `invscaling`: gradually decrease \n",
    "    * `adaptive` "
   ]
  },
  {
   "cell_type": "markdown",
   "metadata": {
    "papermill": {
     "duration": 0.027197,
     "end_time": "2022-03-14T18:46:23.377071",
     "exception": false,
     "start_time": "2022-03-14T18:46:23.349874",
     "status": "completed"
    },
    "tags": []
   },
   "source": [
    "## Summary\n",
    "* MLP uses **back-propagation algorithms** to find the optimal weights which minimise the prediction error\n",
    "* Tune hyperparameters through GridSearch \n"
   ]
  }
 ],
 "metadata": {
  "kernelspec": {
   "display_name": "Python 3 (ipykernel)",
   "language": "python",
   "name": "python3"
  },
  "language_info": {
   "codemirror_mode": {
    "name": "ipython",
    "version": 3
   },
   "file_extension": ".py",
   "mimetype": "text/x-python",
   "name": "python",
   "nbconvert_exporter": "python",
   "pygments_lexer": "ipython3",
   "version": "3.10.6"
  },
  "papermill": {
   "default_parameters": {},
   "duration": 154.981953,
   "end_time": "2022-03-14T18:46:24.015481",
   "environment_variables": {},
   "exception": null,
   "input_path": "__notebook__.ipynb",
   "output_path": "__notebook__.ipynb",
   "parameters": {},
   "start_time": "2022-03-14T18:43:49.033528",
   "version": "2.2.2"
  }
 },
 "nbformat": 4,
 "nbformat_minor": 4
}
