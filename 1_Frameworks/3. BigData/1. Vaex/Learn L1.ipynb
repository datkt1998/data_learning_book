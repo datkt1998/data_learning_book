{
 "cells": [
  {
   "cell_type": "code",
   "execution_count": 49,
   "id": "7bc73590-324f-4f5d-b9ae-89ffd70e235d",
   "metadata": {},
   "outputs": [],
   "source": [
    "import vaex"
   ]
  },
  {
   "cell_type": "code",
   "execution_count": 33,
   "id": "dc67ce46-95be-4293-8426-8016f3b9803d",
   "metadata": {},
   "outputs": [],
   "source": [
    "# convert object columns to string \n",
    "col = x.select_dtypes('O').columns\n",
    "x[col] = x[col].astype('|S')"
   ]
  },
  {
   "cell_type": "code",
   "execution_count": 50,
   "id": "364103cd-050a-4410-86a8-fce7385fbaf8",
   "metadata": {},
   "outputs": [],
   "source": [
    "df_vaex = vaex.read_csv(r'TOTAL.csv', convert=True,chunk_size = 500000) # convert file to hdf5"
   ]
  },
  {
   "cell_type": "code",
   "execution_count": 45,
   "id": "e4bbd296-6863-45e8-80af-007d33a9a196",
   "metadata": {},
   "outputs": [],
   "source": [
    "df_vaex.export_hdf5('TOTAL.hdf5',chunk_size = 200000)"
   ]
  },
  {
   "cell_type": "code",
   "execution_count": 46,
   "id": "b2c79460-fcbf-408d-a6ee-145d001e00e6",
   "metadata": {},
   "outputs": [],
   "source": [
    "df = vaex.open('TOTAL.hdf5')"
   ]
  },
  {
   "cell_type": "code",
   "execution_count": 51,
   "id": "dd3fb55c-6b79-4459-b086-755a1d7506cc",
   "metadata": {},
   "outputs": [
    {
     "data": {
      "text/html": [
       "<table>\n",
       "<thead>\n",
       "<tr><th>#                                  </th><th>Unnamed: 0  </th><th>FULL_NAME  </th><th>YEAR_OF_BIRTH  </th><th>COMPANY_ADDESS  </th><th>SALARY_INCOME  </th><th>OTHER_INCOME  </th><th>EMAIL  </th><th>LOAN_AMOUNT  </th><th>AFFORDABILITY  </th><th>INFORMATION_SOURCE  </th><th>JOB  </th><th>MKT_RANK  </th><th>MKT_SCORE  </th><th>RISK_RANK  </th><th>RISK_SCORE  </th><th>INCOME_RANK  </th><th>INCOME_SCORE  </th><th>INFOSKY_PARTNER_ID  </th><th>INFOSKY_PARTNER_NAME  </th><th>DISTRICT  </th><th>DATE_OF_BIRTH  </th><th>RESULT_INSERT  </th><th>FILE_RESULT                                       </th><th>DATA_SOURCE_NAME  </th><th>PARTNER_NAME  </th><th>CAMPAIGN            </th><th>CREATED_DATE  </th><th>IS_GET_SCORE  </th></tr>\n",
       "</thead>\n",
       "<tbody>\n",
       "<tr><td><i style='opacity: 0.6'>0</i>      </td><td>0           </td><td>--         </td><td>nan            </td><td>--              </td><td>nan            </td><td>nan           </td><td>--     </td><td>nan          </td><td>--             </td><td>--                  </td><td>--   </td><td>4.0       </td><td>328.0      </td><td>4.0        </td><td>590.0       </td><td>nan          </td><td>nan           </td><td>nan                 </td><td>--                    </td><td>--        </td><td>--             </td><td>Success        </td><td>TemplateImportLead_20210708100228_Result.xlsx     </td><td>Leadgen OCB       </td><td>OCB           </td><td>Leadgen OCB_080721_2</td><td>2021-07-08    </td><td>SCORE         </td></tr>\n",
       "<tr><td><i style='opacity: 0.6'>1</i>      </td><td>1           </td><td>--         </td><td>nan            </td><td>--              </td><td>nan            </td><td>nan           </td><td>--     </td><td>nan          </td><td>--             </td><td>--                  </td><td>--   </td><td>3.0       </td><td>337.0      </td><td>3.0        </td><td>605.0       </td><td>nan          </td><td>nan           </td><td>nan                 </td><td>--                    </td><td>--        </td><td>--             </td><td>Success        </td><td>TemplateImportLead_20210708100228_Result.xlsx     </td><td>Leadgen OCB       </td><td>OCB           </td><td>Leadgen OCB_080721_2</td><td>2021-07-08    </td><td>SCORE         </td></tr>\n",
       "<tr><td><i style='opacity: 0.6'>2</i>      </td><td>2           </td><td>--         </td><td>nan            </td><td>--              </td><td>nan            </td><td>nan           </td><td>--     </td><td>nan          </td><td>--             </td><td>--                  </td><td>--   </td><td>3.0       </td><td>336.0      </td><td>5.0        </td><td>569.0       </td><td>nan          </td><td>nan           </td><td>nan                 </td><td>--                    </td><td>--        </td><td>--             </td><td>Success        </td><td>TemplateImportLead_20210708100228_Result.xlsx     </td><td>Leadgen OCB       </td><td>OCB           </td><td>Leadgen OCB_080721_2</td><td>2021-07-08    </td><td>SCORE         </td></tr>\n",
       "<tr><td><i style='opacity: 0.6'>3</i>      </td><td>7           </td><td>--         </td><td>nan            </td><td>--              </td><td>nan            </td><td>nan           </td><td>--     </td><td>nan          </td><td>--             </td><td>--                  </td><td>--   </td><td>1.0       </td><td>379.0      </td><td>6.0        </td><td>554.0       </td><td>nan          </td><td>nan           </td><td>nan                 </td><td>--                    </td><td>--        </td><td>--             </td><td>Success        </td><td>TemplateImportLead_20210708100228_Result.xlsx     </td><td>Leadgen OCB       </td><td>OCB           </td><td>Leadgen OCB_080721_2</td><td>2021-07-08    </td><td>SCORE         </td></tr>\n",
       "<tr><td><i style='opacity: 0.6'>4</i>      </td><td>8           </td><td>--         </td><td>nan            </td><td>--              </td><td>nan            </td><td>nan           </td><td>--     </td><td>nan          </td><td>--             </td><td>--                  </td><td>--   </td><td>3.0       </td><td>334.0      </td><td>2.0        </td><td>625.0       </td><td>nan          </td><td>nan           </td><td>nan                 </td><td>--                    </td><td>--        </td><td>--             </td><td>Success        </td><td>TemplateImportLead_20210708100228_Result.xlsx     </td><td>Leadgen OCB       </td><td>OCB           </td><td>Leadgen OCB_080721_2</td><td>2021-07-08    </td><td>SCORE         </td></tr>\n",
       "<tr><td>...                                </td><td>...         </td><td>...        </td><td>...            </td><td>...             </td><td>...            </td><td>...           </td><td>...    </td><td>...          </td><td>...            </td><td>...                 </td><td>...  </td><td>...       </td><td>...        </td><td>...        </td><td>...         </td><td>...          </td><td>...           </td><td>...                 </td><td>...                   </td><td>...       </td><td>...            </td><td>...            </td><td>...                                               </td><td>...               </td><td>...           </td><td>...                 </td><td>...           </td><td>...           </td></tr>\n",
       "<tr><td><i style='opacity: 0.6'>533,803</i></td><td>4211        </td><td>--         </td><td>nan            </td><td>--              </td><td>nan            </td><td>nan           </td><td>--     </td><td>nan          </td><td>--             </td><td>--                  </td><td>--   </td><td>3.0       </td><td>339.0      </td><td>4.0        </td><td>589.0       </td><td>nan          </td><td>nan           </td><td>nan                 </td><td>--                    </td><td>--        </td><td>--             </td><td>Success        </td><td>TemplateImportLead (20)_20210422102035_Result.xlsx</td><td>Leadgen OCB       </td><td>OCB           </td><td>Leadgen OCB_220421  </td><td>2021-04-22    </td><td>SCORE         </td></tr>\n",
       "<tr><td><i style='opacity: 0.6'>533,804</i></td><td>4220        </td><td>--         </td><td>nan            </td><td>--              </td><td>nan            </td><td>nan           </td><td>--     </td><td>nan          </td><td>--             </td><td>--                  </td><td>--   </td><td>3.0       </td><td>332.0      </td><td>4.0        </td><td>596.0       </td><td>nan          </td><td>nan           </td><td>nan                 </td><td>--                    </td><td>--        </td><td>--             </td><td>Success        </td><td>TemplateImportLead (20)_20210422102035_Result.xlsx</td><td>Leadgen OCB       </td><td>OCB           </td><td>Leadgen OCB_220421  </td><td>2021-04-22    </td><td>SCORE         </td></tr>\n",
       "<tr><td><i style='opacity: 0.6'>533,805</i></td><td>4232        </td><td>--         </td><td>nan            </td><td>--              </td><td>nan            </td><td>nan           </td><td>--     </td><td>nan          </td><td>--             </td><td>--                  </td><td>--   </td><td>3.0       </td><td>333.0      </td><td>5.0        </td><td>565.0       </td><td>nan          </td><td>nan           </td><td>nan                 </td><td>--                    </td><td>--        </td><td>--             </td><td>Success        </td><td>TemplateImportLead (20)_20210422102035_Result.xlsx</td><td>Leadgen OCB       </td><td>OCB           </td><td>Leadgen OCB_220421  </td><td>2021-04-22    </td><td>SCORE         </td></tr>\n",
       "<tr><td><i style='opacity: 0.6'>533,806</i></td><td>4239        </td><td>--         </td><td>nan            </td><td>--              </td><td>nan            </td><td>nan           </td><td>--     </td><td>nan          </td><td>--             </td><td>--                  </td><td>--   </td><td>1.0       </td><td>389.0      </td><td>7.0        </td><td>539.0       </td><td>nan          </td><td>nan           </td><td>nan                 </td><td>--                    </td><td>--        </td><td>--             </td><td>Success        </td><td>TemplateImportLead (20)_20210422102035_Result.xlsx</td><td>Leadgen OCB       </td><td>OCB           </td><td>Leadgen OCB_220421  </td><td>2021-04-22    </td><td>SCORE         </td></tr>\n",
       "<tr><td><i style='opacity: 0.6'>533,807</i></td><td>4241        </td><td>--         </td><td>nan            </td><td>--              </td><td>nan            </td><td>nan           </td><td>--     </td><td>nan          </td><td>--             </td><td>--                  </td><td>--   </td><td>4.0       </td><td>328.0      </td><td>5.0        </td><td>576.0       </td><td>nan          </td><td>nan           </td><td>nan                 </td><td>--                    </td><td>--        </td><td>--             </td><td>Success        </td><td>TemplateImportLead (20)_20210422102035_Result.xlsx</td><td>Leadgen OCB       </td><td>OCB           </td><td>Leadgen OCB_220421  </td><td>2021-04-22    </td><td>SCORE         </td></tr>\n",
       "</tbody>\n",
       "</table>"
      ],
      "text/plain": [
       "#        Unnamed: 0    FULL_NAME    YEAR_OF_BIRTH    COMPANY_ADDESS    SALARY_INCOME    OTHER_INCOME    EMAIL    LOAN_AMOUNT    AFFORDABILITY    INFORMATION_SOURCE    JOB    MKT_RANK    MKT_SCORE    RISK_RANK    RISK_SCORE    INCOME_RANK    INCOME_SCORE    INFOSKY_PARTNER_ID    INFOSKY_PARTNER_NAME    DISTRICT    DATE_OF_BIRTH    RESULT_INSERT    FILE_RESULT                                         DATA_SOURCE_NAME    PARTNER_NAME    CAMPAIGN              CREATED_DATE    IS_GET_SCORE\n",
       "0        0             --           nan              --                nan              nan             --       nan            --               --                    --     4.0         328.0        4.0          590.0         nan            nan             nan                   --                      --          --               Success          TemplateImportLead_20210708100228_Result.xlsx       Leadgen OCB         OCB             Leadgen OCB_080721_2  2021-07-08      SCORE\n",
       "1        1             --           nan              --                nan              nan             --       nan            --               --                    --     3.0         337.0        3.0          605.0         nan            nan             nan                   --                      --          --               Success          TemplateImportLead_20210708100228_Result.xlsx       Leadgen OCB         OCB             Leadgen OCB_080721_2  2021-07-08      SCORE\n",
       "2        2             --           nan              --                nan              nan             --       nan            --               --                    --     3.0         336.0        5.0          569.0         nan            nan             nan                   --                      --          --               Success          TemplateImportLead_20210708100228_Result.xlsx       Leadgen OCB         OCB             Leadgen OCB_080721_2  2021-07-08      SCORE\n",
       "3        7             --           nan              --                nan              nan             --       nan            --               --                    --     1.0         379.0        6.0          554.0         nan            nan             nan                   --                      --          --               Success          TemplateImportLead_20210708100228_Result.xlsx       Leadgen OCB         OCB             Leadgen OCB_080721_2  2021-07-08      SCORE\n",
       "4        8             --           nan              --                nan              nan             --       nan            --               --                    --     3.0         334.0        2.0          625.0         nan            nan             nan                   --                      --          --               Success          TemplateImportLead_20210708100228_Result.xlsx       Leadgen OCB         OCB             Leadgen OCB_080721_2  2021-07-08      SCORE\n",
       "...      ...           ...          ...              ...               ...              ...             ...      ...            ...              ...                   ...    ...         ...          ...          ...           ...            ...             ...                   ...                     ...         ...              ...              ...                                                 ...                 ...             ...                   ...             ...\n",
       "533,803  4211          --           nan              --                nan              nan             --       nan            --               --                    --     3.0         339.0        4.0          589.0         nan            nan             nan                   --                      --          --               Success          TemplateImportLead (20)_20210422102035_Result.xlsx  Leadgen OCB         OCB             Leadgen OCB_220421    2021-04-22      SCORE\n",
       "533,804  4220          --           nan              --                nan              nan             --       nan            --               --                    --     3.0         332.0        4.0          596.0         nan            nan             nan                   --                      --          --               Success          TemplateImportLead (20)_20210422102035_Result.xlsx  Leadgen OCB         OCB             Leadgen OCB_220421    2021-04-22      SCORE\n",
       "533,805  4232          --           nan              --                nan              nan             --       nan            --               --                    --     3.0         333.0        5.0          565.0         nan            nan             nan                   --                      --          --               Success          TemplateImportLead (20)_20210422102035_Result.xlsx  Leadgen OCB         OCB             Leadgen OCB_220421    2021-04-22      SCORE\n",
       "533,806  4239          --           nan              --                nan              nan             --       nan            --               --                    --     1.0         389.0        7.0          539.0         nan            nan             nan                   --                      --          --               Success          TemplateImportLead (20)_20210422102035_Result.xlsx  Leadgen OCB         OCB             Leadgen OCB_220421    2021-04-22      SCORE\n",
       "533,807  4241          --           nan              --                nan              nan             --       nan            --               --                    --     4.0         328.0        5.0          576.0         nan            nan             nan                   --                      --          --               Success          TemplateImportLead (20)_20210422102035_Result.xlsx  Leadgen OCB         OCB             Leadgen OCB_220421    2021-04-22      SCORE"
      ]
     },
     "execution_count": 51,
     "metadata": {},
     "output_type": "execute_result"
    }
   ],
   "source": [
    "df_vaex[df_vaex.MKT_SCORE>320]"
   ]
  },
  {
   "cell_type": "code",
   "execution_count": null,
   "id": "9ef91422-7fd4-4338-b327-b4ced15184ae",
   "metadata": {},
   "outputs": [],
   "source": []
  }
 ],
 "metadata": {
  "kernelspec": {
   "display_name": "Python 3 (ipykernel)",
   "language": "python",
   "name": "python3"
  },
  "language_info": {
   "codemirror_mode": {
    "name": "ipython",
    "version": 3
   },
   "file_extension": ".py",
   "mimetype": "text/x-python",
   "name": "python",
   "nbconvert_exporter": "python",
   "pygments_lexer": "ipython3",
   "version": "3.9.7"
  }
 },
 "nbformat": 4,
 "nbformat_minor": 5
}
