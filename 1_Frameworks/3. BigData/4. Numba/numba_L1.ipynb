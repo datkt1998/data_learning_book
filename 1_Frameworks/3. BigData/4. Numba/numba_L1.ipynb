{
 "cells": [
  {
   "cell_type": "code",
   "execution_count": 2,
   "id": "7c8457bc-1e58-4a2f-9131-0c98b16b6609",
   "metadata": {},
   "outputs": [
    {
     "name": "stdout",
     "output_type": "stream",
     "text": [
      "Run without numba:  13.035243300000001 (seconds)\n"
     ]
    }
   ],
   "source": [
    "# BAI TOAN TIM SO NGUYEN TO\n",
    "# khong su dung numba\n",
    "\n",
    "import math\n",
    "import timeit\n",
    "\n",
    "# class runtime(object):\n",
    "#     def __init__(self, f):\n",
    "#         self.f = f\n",
    "#     def __call__(self, *args, **kwargs):\n",
    "#         start = timeit.default_timer()\n",
    "#         res = self.f(*args, **kwargs)\n",
    "#         stop = timeit.default_timer()\n",
    "#         print(stop - start, \" (seconds)\")\n",
    "#         return res\n",
    "\n",
    "def runtime(func):\n",
    "    def func_wrapper(x):\n",
    "        start = timeit.default_timer()\n",
    "        res = func(x)\n",
    "        stop = timeit.default_timer()\n",
    "        print(\"Run without numba: \",stop - start, \"(seconds)\")\n",
    "        return res\n",
    "    return func_wrapper\n",
    "\n",
    "def is_prime(number):\n",
    "    if number == 2:\n",
    "        return True\n",
    "    if number <= 1 or not number % 2:\n",
    "        return False\n",
    "    max_range = int(math.sqrt(number)) + 1\n",
    "    for div in range(3, max_range, 2):\n",
    "        if not number % div:\n",
    "            return False\n",
    "    return True\n",
    "\n",
    "    \n",
    "@runtime\n",
    "def run_program(max_number):\n",
    "    for number in range(max_number):\n",
    "        is_prime(number)\n",
    "\n",
    "if __name__ == '__main__':\n",
    "    run_program(5000000)"
   ]
  },
  {
   "attachments": {
    "2834744e-5784-4911-95d7-a08963e4fc0a.png": {
     "image/png": "[encoded data removed]"
    }
   },
   "cell_type": "markdown",
   "id": "123f6227-52c5-46b7-ab95-010a4e368878",
   "metadata": {},
   "source": [
    "![image.png](attachment:2834744e-5784-4911-95d7-a08963e4fc0a.png)"
   ]
  },
  {
   "cell_type": "code",
   "execution_count": 4,
   "id": "54e38ccc-a482-4a9b-be91-5e5ab22583d1",
   "metadata": {},
   "outputs": [
    {
     "name": "stdout",
     "output_type": "stream",
     "text": [
      "Run with numba:  0.8710649999999944 (seconds)\n"
     ]
    }
   ],
   "source": [
    "# BAI TOAN TIM SO NGUYEN TO\n",
    "# su dung numba\n",
    "from numba import njit\n",
    "import math\n",
    "import timeit\n",
    "\n",
    "def runtime(func):\n",
    "    def func_wrapper(x):\n",
    "        start = timeit.default_timer()\n",
    "        res = func(x)\n",
    "        stop = timeit.default_timer()\n",
    "        print(\"Run with numba: \",stop - start, \"(seconds)\")\n",
    "        return res\n",
    "    return func_wrapper\n",
    "\n",
    "@njit(fastmath=True, cache=True)\n",
    "def is_prime(number):\n",
    "    if number == 2:\n",
    "        return True\n",
    "    if number <= 1 or not number % 2:\n",
    "        return False\n",
    "    max_range = int(math.sqrt(number)) + 1\n",
    "    for div in range(3, max_range, 2):\n",
    "        if not number % div:\n",
    "            return False\n",
    "    return True\n",
    "\n",
    "@runtime\n",
    "@njit( fastmath=True, cache=True)\n",
    "def run_program(max_number):\n",
    "    for number in range(max_number):\n",
    "        is_prime(number)\n",
    "        \n",
    "if __name__ == '__main__':\n",
    "    run_program(5000000)"
   ]
  },
  {
   "attachments": {
    "e05a21aa-3030-4274-bf5e-4a2c7c2a7f73.png": {
     "image/png": "[encoded data removed]"
    }
   },
   "cell_type": "markdown",
   "id": "0c0c4d57-221c-41fc-8266-3ac32d7f1e53",
   "metadata": {},
   "source": [
    "![image.png](attachment:e05a21aa-3030-4274-bf5e-4a2c7c2a7f73.png)"
   ]
  },
  {
   "cell_type": "code",
   "execution_count": 6,
   "id": "3eaf2354-7ee2-451d-8df8-1869c79b55d9",
   "metadata": {},
   "outputs": [
    {
     "name": "stdout",
     "output_type": "stream",
     "text": [
      "Run with numba and parallel:  0.003509600000001001 (seconds)\n"
     ]
    }
   ],
   "source": [
    "\n",
    "\n",
    "# BAI TOAN TIM SO NGUYEN TO\n",
    "# su dung numba\n",
    "from numba import njit, prange\n",
    "import math\n",
    "import timeit\n",
    "\n",
    "def runtime(func):\n",
    "    def func_wrapper(x):\n",
    "        start = timeit.default_timer()\n",
    "        res = func(x)\n",
    "        stop = timeit.default_timer()\n",
    "        print(\"Run with numba and parallel: \",stop - start, \"(seconds)\")\n",
    "        return res\n",
    "    return func_wrapper\n",
    "\n",
    "@njit(fastmath=True, cache=True)\n",
    "def is_prime(number):\n",
    "    if number == 2:\n",
    "        return True\n",
    "    if number <= 1 or not number % 2:\n",
    "        return False\n",
    "    max_range = int(math.sqrt(number)) + 1\n",
    "    for div in prange(3, max_range, 2):       # thay thế range thành prange\n",
    "        if not number % div:\n",
    "            return False\n",
    "    return True\n",
    "\n",
    "@runtime\n",
    "@njit(fastmath=True, cache=True, parallel=True) # phép tính toán song song với các tác vụ có sự lặp lại\n",
    "def run_program(max_number):\n",
    "    for number in prange(max_number):         # thay thế range thành prange\n",
    "        is_prime(number)\n",
    "        \n",
    "if __name__ == '__main__':\n",
    "    run_program(5000000)"
   ]
  },
  {
   "attachments": {
    "192c7b18-4487-4245-8574-994cf4d9085e.png": {
     "image/png": "[encoded data removed]"
    }
   },
   "cell_type": "markdown",
   "id": "5e879064-fc71-4790-bb0e-077906faca6c",
   "metadata": {},
   "source": [
    "![image.png](attachment:192c7b18-4487-4245-8574-994cf4d9085e.png)"
   ]
  }
 ],
 "metadata": {
  "kernelspec": {
   "display_name": "Python 3.9.12 ('base')",
   "language": "python",
   "name": "python3"
  },
  "language_info": {
   "codemirror_mode": {
    "name": "ipython",
    "version": 3
   },
   "file_extension": ".py",
   "mimetype": "text/x-python",
   "name": "python",
   "nbconvert_exporter": "python",
   "pygments_lexer": "ipython3",
   "version": "3.9.12"
  },
  "vscode": {
   "interpreter": {
    "hash": "f08154012ddadd8e950e6e9e035c7a7b32c136e7647e9b7c77e02eb723a8bedb"
   }
  }
 },
 "nbformat": 4,
 "nbformat_minor": 5
}
