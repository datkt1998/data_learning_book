{
 "cells": [
  {
   "cell_type": "code",
   "execution_count": null,
   "id": "ea50baa5",
   "metadata": {
    "id": "ea50baa5"
   },
   "outputs": [],
   "source": [
    "# run dash in jupyter\n",
    "from jupyter_dash import JupyterDash # thay cho: from dash import Dash\n",
    "from dash import Dash, html, dcc, Input, Output, State\n",
    "import pandas as pd\n",
    "import plotly.express as px"
   ]
  },
  {
   "cell_type": "code",
   "execution_count": null,
   "id": "15a29dc1-d3bb-4388-9ded-636d9a2ff3f5",
   "metadata": {},
   "outputs": [],
   "source": [
    "# data\n",
    "happiness = pd.read_csv('data/13 - worldhappiness.csv')\n",
    "happiness"
   ]
  },
  {
   "cell_type": "markdown",
   "id": "4c84bc76-ed51-4f0d-8e82-a7161f3fc22b",
   "metadata": {
    "id": "4c84bc76-ed51-4f0d-8e82-a7161f3fc22b"
   },
   "source": [
    "## Basis"
   ]
  },
  {
   "cell_type": "code",
   "execution_count": null,
   "id": "98e7d212-bc11-4e4c-8147-f42f46fbcc32",
   "metadata": {
    "id": "98e7d212-bc11-4e4c-8147-f42f46fbcc32",
    "outputId": "b7eead7f-91b0-4524-f9b8-1afd85671ef5"
   },
   "outputs": [],
   "source": [
    "line_fg = px.line(                                                  # add line plot\n",
    "    happiness[happiness['country'] == 'United States'],\n",
    "    x = 'year',\n",
    "    y = 'happiness_score',\n",
    "    title='Happiness Score in United States'\n",
    ")\n",
    "\n",
    "# html Component:\n",
    "#     section headings {H1, H2, ...}\n",
    "#     paragraph {p} (text noi dung), \n",
    "#     content division {Div} ( vung chua noi dung), \n",
    "#     line-break {br}, \n",
    "#     anchor{a} ( gan hyperlink), \n",
    "#     html tags \n",
    "\n",
    "# app = Dash()\n",
    "app = JupyterDash()\n",
    "\n",
    "app.layout = html.Div(children=[\n",
    "    html.H1('The Sample Dashboard'),                                # header 1\n",
    "    html.Div(                                                       # add subdiv\n",
    "        children='123',                                                 # component of subdiv\n",
    "        id='output-text'                                                # set id for component\n",
    "        ),\n",
    "                       \n",
    "    html.P([                                                        # paragraph\n",
    "        'This is the sample dashboard display the scores',              # text\n",
    "        html.Br(),                                                      # line break\n",
    "        html.A(                                                         # hyperlink\n",
    "            'World happiness Report Data Source',                           # display\n",
    "            href='http://www.worldhappiness.report',                        # link\n",
    "            target= '_blank'                                                # open new tab when clicked link\n",
    "            ),\n",
    "\n",
    "    dcc.RadioItems(                                                 # select ONE item in current\n",
    "        options = happiness['region'].unique() ,                        # list/dict of option values can be choose\n",
    "        value= 'North America'                                          # first item selected when open\n",
    "        ),\n",
    "    dcc.Checklist(                                                 # select MULTI-items in current\n",
    "        options = happiness['region'].unique() ,                        # list/dict of option values can be choose\n",
    "        value= ['North America']                                        # first items selected when open\n",
    "        ),\n",
    "    dcc.Dropdown(                                                  # select from dropdown list items   \n",
    "        options = happiness['country'].unique() ,                       # list/dict of option values can be choose\n",
    "        value= 'United States'                                     \n",
    "        ),\n",
    "        \n",
    "    html.Br(),                                                      # line break\n",
    "    dcc.Input(                                                     # add Input box component\n",
    "        value='Texttttt', \n",
    "        type='text'\n",
    "        ),\n",
    "        \n",
    "    dcc.Graph(                                                      # add graph component \n",
    "        figure =  line_fg                                          \n",
    "        ),\n",
    "    ])\n",
    "])\n",
    "if __name__ == \"__main__\":\n",
    "    app.run_server( debug = True, mode='inline',  use_reloader=True) # set debug = True cho refresh server with update code"
   ]
  },
  {
   "cell_type": "markdown",
   "id": "bcc6309e-9337-4fd7-973d-824275259519",
   "metadata": {
    "id": "bcc6309e-9337-4fd7-973d-824275259519"
   },
   "source": [
    "## Callback\n",
    " refresh dashboard after change component"
   ]
  },
  {
   "cell_type": "code",
   "execution_count": null,
   "id": "0063c39d-a94b-4d06-829f-49dc4dfb2d07",
   "metadata": {
    "id": "0063c39d-a94b-4d06-829f-49dc4dfb2d07",
    "outputId": "1648e378-6dd2-4cfb-8cb8-71147962f1d3"
   },
   "outputs": [],
   "source": [
    "# callback single input/output with id\n",
    "\n",
    "from dash import Dash, html, dcc, Input, Output\n",
    "\n",
    "app = JupyterDash()\n",
    "\n",
    "app.layout = html.Div([\n",
    "    dcc.Input(id='input-text', value='Change this text', type='text'),\n",
    "    html.Div(children='123', id='output-text')\n",
    "                       ])\n",
    "\n",
    "# Output must be before Input\n",
    "@app.callback(\n",
    "    Output(\n",
    "        component_id='output-text',  # id of component\n",
    "        component_property='children' # chỉ định tham số thay đổi value của component\n",
    "        ),\n",
    "    Input(\n",
    "        component_id='input-text', \n",
    "        component_property='value'\n",
    "        )\n",
    "    )\n",
    "def update_output_div(input_text):\n",
    "    return f'Text: {input_text}'\n",
    "\n",
    "if __name__ == \"__main__\":\n",
    "    app.run_server(mode='inline', host='localhost',port=8050, debug = True, )\n",
    "    "
   ]
  },
  {
   "cell_type": "code",
   "execution_count": null,
   "id": "45bf952e-d4b9-4ff4-9964-402b2861c021",
   "metadata": {
    "id": "45bf952e-d4b9-4ff4-9964-402b2861c021",
    "outputId": "89f172dc-b4ad-4cde-bbc8-d3b3bc0316c8"
   },
   "outputs": [],
   "source": [
    "# callback single input/output without id setting\n",
    "\n",
    "app = JupyterDash()\n",
    "\n",
    "input_text = dcc.Input(value='Input the description', type='text')\n",
    "output_text = html.Div(children='123', id='output-text')\n",
    "\n",
    "app.layout = html.Div([input_text, output_text])\n",
    "\n",
    "@app.callback(\n",
    "    Output(component_id=output_text, component_property='children'),\n",
    "    Input(component_id=input_text, component_property='value')\n",
    ")\n",
    "def update_output_div(input_text):\n",
    "    return f'Text: {input_text}'\n",
    "\n",
    "if __name__ == \"__main__\":\n",
    "    app.run_server(mode='inline', host='localhost',port=8050, debug = True)"
   ]
  },
  {
   "cell_type": "code",
   "execution_count": null,
   "id": "b3c9d134-1241-4371-bc8b-74107badcec4",
   "metadata": {},
   "outputs": [],
   "source": [
    "happiness.head(2)"
   ]
  },
  {
   "cell_type": "code",
   "execution_count": null,
   "id": "9eb4790b-b094-4e3e-b78a-285416595335",
   "metadata": {},
   "outputs": [],
   "source": [
    "# interactive graph\n",
    "\n",
    "from dash import dash_table\n",
    "dash_table.DataTable()\n",
    "\n",
    "object_name = {'happiness_score':'Happiness Score','happiness_rank':'Happiness Rank'}\n",
    "header = html.H1(children = 'The Sample Dashboard')\n",
    "line_break = html.Br()\n",
    "region_checklist = dcc.Checklist(options = happiness['region'].unique() , value= ['North America'])\n",
    "country_dropdown = dcc.Dropdown(options = happiness['country'].unique() , value= 'United States')\n",
    "object_ratio = dcc.RadioItems(options = object_name , value= 'happiness_score') # dict in options if \"the interface value\" is different from \"the data value\"\n",
    "line_graph = dcc.Graph()\n",
    "avg_cal_update_button = html.Button(n_clicks = 0, children = 'Update the average happiness Score/Rank:')\n",
    "avg_cal_info = html.Div()\n",
    "data_df = dash_table.DataTable()\n",
    "year_min , year_max = happiness.year.min(), happiness.year.max()\n",
    "year_rangeslicer = dcc.RangeSlider(min = year_min, max = year_max, value = [year_min, year_max], marks = {i:str(i) for i in range(year_min, year_max + 1)})\n",
    "\n",
    "\n",
    "app = JupyterDash()\n",
    "app.layout = html.Div(children=[header, line_break, region_checklist, country_dropdown, year_rangeslicer, line_break, object_ratio, line_graph, avg_cal_update_button, avg_cal_info,data_df])\n",
    "\n",
    "# chain callback: output callback1 is input callback2 (nested filter/slicer)\n",
    "@app.callback(Output(country_dropdown,'options'), \n",
    "              Output(country_dropdown,'value'), \n",
    "              Input(region_checklist,'value'))\n",
    "def update_country(selected_regions):\n",
    "    new_country_dropdown = happiness[happiness['region'].isin(selected_regions)]['country'].unique()\n",
    "    return new_country_dropdown , new_country_dropdown[0]\n",
    "\n",
    "# datatable\n",
    "@app.callback(Output(data_df, 'data'), \n",
    "              Input(region_checklist,'value'),\n",
    "              Input(country_dropdown,'value'))\n",
    "def update_data_df(selected_regions,country):\n",
    "    filtered_happiness = happiness[(happiness['country'] == country) & (happiness['region'].isin(selected_regions))]\n",
    "    return filtered_happiness.to_dict('records')\n",
    "\n",
    "@app.callback(Output(line_graph,'figure'), \n",
    "              Input(object_ratio,'value'),\n",
    "              Input(region_checklist,'value'),\n",
    "              Input(country_dropdown,'value'),\n",
    "              Input(year_rangeslicer,'value')) # số input và output của callback trùng với số input và output của hàm def\n",
    "def update_graph(graph_object,selected_regions,country,year):\n",
    "    name = object_name[graph_object]\n",
    "    filtered_happiness = happiness[(happiness['country'] == country) & (happiness['region'].isin(selected_regions)) & (happiness['year']>= year[0]) & (happiness['year']<= year[1]) ]\n",
    "    line_fg = px.line(filtered_happiness, x = 'year', y = graph_object, title=f'{name} in {country}')\n",
    "    return line_fg\n",
    "\n",
    "# update change dựa trên sự thay đổi của 1 component khác - sử dụng Stats ( Ví dụ: sự thay đổi n_clicks của html.Button)\n",
    "# State like Input, but the the output change can be control by click button\n",
    "@app.callback(Output(avg_cal_info,'children'), \n",
    "              Input(avg_cal_update_button,'n_clicks'),\n",
    "              State(object_ratio,'value'),\n",
    "              State(region_checklist,'value'),\n",
    "              State(country_dropdown,'value')) # số (input+state) và output của callback trùng với số input và output của hàm def\n",
    "def update_avg_cal(button,graph_object, selected_regions,country):\n",
    "    name = object_name[graph_object]\n",
    "    filtered_happiness = happiness[(happiness['country'] == country) & (happiness['region'].isin(selected_regions))]\n",
    "    avg_cal = round(filtered_happiness[graph_object].mean(),2)\n",
    "    return f\"The average of {name} is zzz {avg_cal}\"\n",
    "    \n",
    "\n",
    "app.run_server(mode='inline', host='localhost',port=8050, debug = True)"
   ]
  },
  {
   "cell_type": "code",
   "execution_count": null,
   "id": "42cfedd7-8a6c-46f5-847a-78674273fd94",
   "metadata": {},
   "outputs": [],
   "source": []
  },
  {
   "cell_type": "code",
   "execution_count": null,
   "id": "2774db3d-3f5b-45db-8554-b524e9f054e4",
   "metadata": {
    "id": "2774db3d-3f5b-45db-8554-b524e9f054e4",
    "outputId": "1abdd08e-ba78-4b6f-c429-af554e1ed2e0"
   },
   "outputs": [],
   "source": [
    "# app.run_server('external')\n",
    "# app.run_server(mode = 'inline')"
   ]
  }
 ],
 "metadata": {
  "colab": {
   "collapsed_sections": [],
   "provenance": []
  },
  "kernelspec": {
   "display_name": "Python 3 (ipykernel)",
   "language": "python",
   "name": "python3"
  },
  "language_info": {
   "codemirror_mode": {
    "name": "ipython",
    "version": 3
   },
   "file_extension": ".py",
   "mimetype": "text/x-python",
   "name": "python",
   "nbconvert_exporter": "python",
   "pygments_lexer": "ipython3",
   "version": "3.10.6"
  },
  "vscode": {
   "interpreter": {
    "hash": "f08154012ddadd8e950e6e9e035c7a7b32c136e7647e9b7c77e02eb723a8bedb"
   }
  }
 },
 "nbformat": 4,
 "nbformat_minor": 5
}
