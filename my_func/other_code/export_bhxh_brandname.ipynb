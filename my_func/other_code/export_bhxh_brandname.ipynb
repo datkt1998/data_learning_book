{
 "cells": [
  {
   "cell_type": "code",
   "execution_count": 1,
   "id": "2960abd7-959e-4911-9114-6fe95ea0f1fa",
   "metadata": {},
   "outputs": [],
   "source": [
    "import pandas as pd\n",
    "import sqlite3\n",
    "from sys import path\n",
    "path.append(r\"\\\\192.168.40.46\\0. Sharing Folder\\my-modules\")\n",
    "import Function_data_analyst as mf\n",
    "import cx_Oracle"
   ]
  },
  {
   "cell_type": "code",
   "execution_count": 2,
   "id": "e442e24b-3503-4866-975a-df4962f3b704",
   "metadata": {},
   "outputs": [],
   "source": [
    "db_nice =cx_Oracle.connect(user=\"NICEDB\",password=\"NiceVmg368\",dsn=\"192.168.18.32:1521/NICEDB2\")\n",
    "db_brandnamebhxh = sqlite3.connect(\"db_brandnamebhxh.db\")"
   ]
  },
  {
   "cell_type": "code",
   "execution_count": 12,
   "id": "14d1a9fd-5dce-4ae9-9282-400a0869d8fb",
   "metadata": {},
   "outputs": [],
   "source": [
    "standard_cols = [\"PHONE\", \"MABHXH\",\"LASTEST_MONTH\"]\n",
    "def get_pair_brandname(from_db, from_table,to_db, to_table,sql, chunksize):\n",
    "    df_chunk = mf.read_data_from_db(from_db,from_table, sql_query= sql, chunksize=chunksize)\n",
    "    stt=0\n",
    "    for chunk in df_chunk:\n",
    "        stt+=1\n",
    "        chunk.columns = standard_cols\n",
    "        chunk = mf.DFCleaner(chunk , strip_cols = standard_cols)\n",
    "        chunk.to_sql(to_table,to_db,if_exists=\"append\",index=False)\n",
    "        print(\"done to rows :\",stt*chunksize,end=\"\\r\")"
   ]
  },
  {
   "cell_type": "code",
   "execution_count": 4,
   "id": "c6b26726-e325-42de-bc48-6a665cd80296",
   "metadata": {},
   "outputs": [
    {
     "name": "stdout",
     "output_type": "stream",
     "text": [
      "Bảng BRANDNAME_SI_INDIVIDUAL offset 0 dòng, all records, chunksize 100000\n",
      "done to rows : 15500000\r"
     ]
    }
   ],
   "source": [
    "from_table= \"BRANDNAME_SI_INDIVIDUAL\"\n",
    "sql = \"\"\"\n",
    "SELECT USER_ID, MABHXH, max(MONTH)\n",
    "FROM {}\n",
    "GROUP BY USER_ID, MABHXH\n",
    "\"\"\".format(from_table)\n",
    "get_pair_brandname(from_db=db_nice, from_table=from_table,\n",
    "                   to_db=db_brandnamebhxh, to_table=\"BHXH_PHONE_BRANDNAME\",\n",
    "                   sql=sql, chunksize=100000)"
   ]
  },
  {
   "cell_type": "code",
   "execution_count": 5,
   "id": "550ea4fe-4bd7-4662-b411-44c5eb2b74ac",
   "metadata": {},
   "outputs": [
    {
     "name": "stdout",
     "output_type": "stream",
     "text": [
      "Bảng BRANDNAME_SI_LEAVE offset 0 dòng, all records, chunksize 100000\n",
      "done to rows : 3100000\r"
     ]
    }
   ],
   "source": [
    "from_table= \"BRANDNAME_SI_LEAVE\"\n",
    "sql = \"\"\"\n",
    "SELECT USER_ID, MABHXH, max(MONTH)\n",
    "FROM {}\n",
    "GROUP BY USER_ID, MABHXH\n",
    "\"\"\".format(from_table)\n",
    "get_pair_brandname(from_db=db_nice, from_table=from_table,\n",
    "                   to_db=db_brandnamebhxh, to_table=\"BHXH_PHONE_BRANDNAME\",\n",
    "                   sql=sql, chunksize=100000)"
   ]
  },
  {
   "cell_type": "code",
   "execution_count": 6,
   "id": "b812ab5e-afa5-43c5-b191-51de72b09ff4",
   "metadata": {},
   "outputs": [
    {
     "name": "stdout",
     "output_type": "stream",
     "text": [
      "Bảng BRANDNAME_SI_8079 offset 0 dòng, all records, chunksize 100000\n",
      "done to rows : 900000\r"
     ]
    }
   ],
   "source": [
    "from_table= \"BRANDNAME_SI_8079\"\n",
    "sql = \"\"\"\n",
    "SELECT USER_ID, MABHXH_FIXED, max(MONTH)\n",
    "FROM {}\n",
    "GROUP BY USER_ID, MABHXH_FIXED\n",
    "\"\"\".format(from_table)\n",
    "get_pair_brandname(from_db=db_nice, from_table=from_table,\n",
    "                   to_db=db_brandnamebhxh, to_table=\"BHXH_PHONE_BRANDNAME\",\n",
    "                   sql=sql, chunksize=100000)"
   ]
  },
  {
   "cell_type": "code",
   "execution_count": 8,
   "id": "f27d4119-9eb5-47bf-8b22-3599f7e6c4a8",
   "metadata": {},
   "outputs": [
    {
     "name": "stdout",
     "output_type": "stream",
     "text": [
      "Bảng BRANDNAME_HEALTH_INSURANCE_8079 offset 0 dòng, all records, chunksize 100000\n",
      "done to rows : 100000\r"
     ]
    }
   ],
   "source": [
    "from_table= \"BRANDNAME_HEALTH_INSURANCE_8079\"\n",
    "sql = \"\"\"\n",
    "SELECT USER_ID, MABHXH, max(MONTH)\n",
    "FROM {}\n",
    "GROUP BY USER_ID, MABHXH\n",
    "\"\"\".format(from_table)\n",
    "get_pair_brandname(from_db=db_nice, from_table=from_table,\n",
    "                   to_db=db_brandnamebhxh, to_table=\"BHXH_PHONE_BRANDNAME\",\n",
    "                   sql=sql, chunksize=100000)\n"
   ]
  },
  {
   "cell_type": "code",
   "execution_count": 13,
   "id": "222f3819-d998-414f-86bf-a6c4d2d0998e",
   "metadata": {},
   "outputs": [
    {
     "name": "stdout",
     "output_type": "stream",
     "text": [
      "Bảng BRANDNAME_HEALTH_INSURANCE offset 0 dòng, all records, chunksize 100000\n",
      "done to rows : 17000000\r"
     ]
    }
   ],
   "source": [
    "from_table= \"BRANDNAME_HEALTH_INSURANCE\"\n",
    "sql = \"\"\"\n",
    "SELECT USER_ID, MABHXH, max(MONTH)\n",
    "FROM (select USER_ID, SUBSTR(MABHYT,-10) as MABHXH, MONTH from {})\n",
    "GROUP BY USER_ID, MABHXH\n",
    "\"\"\".format(from_table)\n",
    "       \n",
    "get_pair_brandname(from_db=db_nice, from_table=from_table,\n",
    "                   to_db=db_brandnamebhxh, to_table=\"BHXH_PHONE_BRANDNAME\",\n",
    "                   sql=sql, chunksize=100000)"
   ]
  },
  {
   "cell_type": "code",
   "execution_count": 15,
   "id": "84e4b630-29a1-47cc-8251-7ec46fee2a05",
   "metadata": {},
   "outputs": [
    {
     "name": "stdout",
     "output_type": "stream",
     "text": [
      "Bảng TBL_SI_EXTRACT_BRANDNAME offset 0 dòng, all records, chunksize 100000\n",
      "done to rows : 5900000\r"
     ]
    }
   ],
   "source": [
    "from_table= \"TBL_SI_EXTRACT_BRANDNAME\"\n",
    "sql = \"\"\"\n",
    "SELECT USER_ID, MABHXH, max(MONTH) FROM (\n",
    "(select USER_ID, SUBSTR(column_9,-10) as MABHXH, MONTH from {from_table} where table_name = 'tbl_bhxh' and column_9 is not null)\n",
    "union \n",
    "(select USER_ID, column_2 as MABHXH, MONTH from {from_table} where table_name = 'tbl_bhxh' and column_2 is not null)\n",
    ")\n",
    "GROUP BY USER_ID, MABHXH\n",
    "\"\"\".format(from_table=from_table)\n",
    "get_pair_brandname(from_db=db_nice, from_table=from_table,\n",
    "                   to_db=db_brandnamebhxh, to_table=\"BHXH_PHONE_BRANDNAME\",\n",
    "                   sql=sql, chunksize=100000)"
   ]
  },
  {
   "cell_type": "code",
   "execution_count": 44,
   "id": "cd470b83-f9e8-4ea3-9a15-bbb6a33a39f9",
   "metadata": {},
   "outputs": [
    {
     "name": "stdout",
     "output_type": "stream",
     "text": [
      "Bảng TBL_SI_EXTRACT_BRANDNAME offset 0 dòng, 10 records\n"
     ]
    },
    {
     "data": {
      "text/html": [
       "<div>\n",
       "<style scoped>\n",
       "    .dataframe tbody tr th:only-of-type {\n",
       "        vertical-align: middle;\n",
       "    }\n",
       "\n",
       "    .dataframe tbody tr th {\n",
       "        vertical-align: top;\n",
       "    }\n",
       "\n",
       "    .dataframe thead th {\n",
       "        text-align: right;\n",
       "    }\n",
       "</style>\n",
       "<table border=\"1\" class=\"dataframe\">\n",
       "  <thead>\n",
       "    <tr style=\"text-align: right;\">\n",
       "      <th></th>\n",
       "      <th>USER_ID</th>\n",
       "      <th>MABHXH</th>\n",
       "      <th>MONTH</th>\n",
       "    </tr>\n",
       "  </thead>\n",
       "  <tbody>\n",
       "    <tr>\n",
       "      <th>0</th>\n",
       "      <td>325252067</td>\n",
       "      <td>3110071352</td>\n",
       "      <td>202108</td>\n",
       "    </tr>\n",
       "    <tr>\n",
       "      <th>1</th>\n",
       "      <td>325252067</td>\n",
       "      <td>3110071352</td>\n",
       "      <td>202109</td>\n",
       "    </tr>\n",
       "    <tr>\n",
       "      <th>2</th>\n",
       "      <td>325273560</td>\n",
       "      <td>5620535869</td>\n",
       "      <td>202109</td>\n",
       "    </tr>\n",
       "    <tr>\n",
       "      <th>3</th>\n",
       "      <td>325273560</td>\n",
       "      <td>5621390810</td>\n",
       "      <td>202109</td>\n",
       "    </tr>\n",
       "    <tr>\n",
       "      <th>4</th>\n",
       "      <td>325280576</td>\n",
       "      <td>3020514606</td>\n",
       "      <td>202107</td>\n",
       "    </tr>\n",
       "    <tr>\n",
       "      <th>...</th>\n",
       "      <td>...</td>\n",
       "      <td>...</td>\n",
       "      <td>...</td>\n",
       "    </tr>\n",
       "    <tr>\n",
       "      <th>7076826</th>\n",
       "      <td>989972261</td>\n",
       "      <td>7932442389</td>\n",
       "      <td>202107</td>\n",
       "    </tr>\n",
       "    <tr>\n",
       "      <th>7076827</th>\n",
       "      <td>989973362</td>\n",
       "      <td>8621587138</td>\n",
       "      <td>202107</td>\n",
       "    </tr>\n",
       "    <tr>\n",
       "      <th>7076828</th>\n",
       "      <td>989982647</td>\n",
       "      <td>5620438961</td>\n",
       "      <td>202109</td>\n",
       "    </tr>\n",
       "    <tr>\n",
       "      <th>7076829</th>\n",
       "      <td>989982647</td>\n",
       "      <td>5620439663</td>\n",
       "      <td>202108</td>\n",
       "    </tr>\n",
       "    <tr>\n",
       "      <th>7076830</th>\n",
       "      <td>989982647</td>\n",
       "      <td>5620448723</td>\n",
       "      <td>202109</td>\n",
       "    </tr>\n",
       "  </tbody>\n",
       "</table>\n",
       "<p>7076831 rows × 3 columns</p>\n",
       "</div>"
      ],
      "text/plain": [
       "           USER_ID      MABHXH   MONTH\n",
       "0        325252067  3110071352  202108\n",
       "1        325252067  3110071352  202109\n",
       "2        325273560  5620535869  202109\n",
       "3        325273560  5621390810  202109\n",
       "4        325280576  3020514606  202107\n",
       "...            ...         ...     ...\n",
       "7076826  989972261  7932442389  202107\n",
       "7076827  989973362  8621587138  202107\n",
       "7076828  989982647  5620438961  202109\n",
       "7076829  989982647  5620439663  202108\n",
       "7076830  989982647  5620448723  202109\n",
       "\n",
       "[7076831 rows x 3 columns]"
      ]
     },
     "execution_count": 44,
     "metadata": {},
     "output_type": "execute_result"
    }
   ],
   "source": [
    "from_table= \"TBL_SI_EXTRACT_BRANDNAME\"\n",
    "sql = \"\"\"\n",
    "select * from\n",
    "(select USER_ID, SUBSTR(column_9,-10) as MABHXH, MONTH from {from_table} where table_name = 'tbl_bhxh' and column_9 is not null)\n",
    "union \n",
    "(select USER_ID, column_2 as MABHXH, MONTH from {from_table} where table_name = 'tbl_bhxh' and column_2 is not null)\n",
    "\n",
    "\"\"\".format(from_table=from_table)\n",
    "df = mf.read_data_from_db(db_nice,from_table, sql_query= sql,n_records=10)\n",
    "df"
   ]
  },
  {
   "cell_type": "code",
   "execution_count": 24,
   "id": "97ff9b93-7681-41ee-9fa1-e4f3590c94ad",
   "metadata": {},
   "outputs": [
    {
     "name": "stdout",
     "output_type": "stream",
     "text": [
      "Bảng BHXH_PHONE_BRANDNAME offset 0 dòng, all records, chunksize 100000\n",
      "done to rows : 32500000\r"
     ]
    }
   ],
   "source": [
    "standard_cols = [\"PHONE\", \"MABHXH\",\"LASTEST_MONTH\"]\n",
    "from_table= \"BHXH_PHONE_BRANDNAME\"\n",
    "sql = \"\"\"\n",
    "SELECT PHONE, MABHXH, max(LASTEST_MONTH)\n",
    "FROM {}\n",
    "GROUP BY PHONE, MABHXH\n",
    "\"\"\".format(from_table)\n",
    "get_pair_brandname(from_db=db_brandnamebhxh, from_table=\"BHXH_PHONE_BRANDNAME\",\n",
    "                   to_db=db_brandnamebhxh, to_table=\"BHXH_PHONE_BRANDNAME_FINAL\",\n",
    "                   sql=sql, chunksize=100000)"
   ]
  },
  {
   "cell_type": "code",
   "execution_count": 25,
   "id": "308527f2-1583-4b27-952e-4b157b633c51",
   "metadata": {},
   "outputs": [],
   "source": [
    "df_chunk=pd.read_sql_query(\"select distinct MABHXH from  BHXH_PHONE_BRANDNAME_FINAL\",db_brandnamebhxh,chunksize=200000)\n",
    "for chunk in df_chunk:\n",
    "    chunk.to_csv(\"BHXH.csv\",index=False,mode=\"a\")"
   ]
  },
  {
   "cell_type": "code",
   "execution_count": 37,
   "id": "5d136081-0ad3-4aa4-a303-1b8266bcc55f",
   "metadata": {},
   "outputs": [],
   "source": [
    "from IPython.display import clear_output"
   ]
  },
  {
   "cell_type": "code",
   "execution_count": 40,
   "id": "86990c03-58b1-49c2-b6cf-ca0fcc24c645",
   "metadata": {},
   "outputs": [
    {
     "name": "stdout",
     "output_type": "stream",
     "text": [
      "size_df 27797971\n",
      "count_digit 27797107\n"
     ]
    }
   ],
   "source": [
    "df_chunk=pd.read_csv(\"BHXH.csv\",chunksize=500000)\n",
    "count_digit=0\n",
    "size_df = 0\n",
    "df_len= pd.Series(dtype=\"float64\")\n",
    "for chunk in df_chunk:\n",
    "    df_len = df_len.add(chunk[\"MABHXH\"].astype(str).str.len().value_counts(),fill_value=0)\n",
    "    size_df+=len(chunk)\n",
    "    count_digit+=chunk[\"MABHXH\"].map(lambda x:str(x).isdigit()).sum()\n",
    "    clear_output()\n",
    "    print(\"size_df\",size_df)\n",
    "    print(\"count_digit\",count_digit)\n",
    "    "
   ]
  },
  {
   "cell_type": "code",
   "execution_count": 41,
   "id": "1ff5e7bb-cac4-4cb2-aaa6-106019480f8a",
   "metadata": {},
   "outputs": [
    {
     "data": {
      "text/plain": [
       "1           16.0\n",
       "2            3.0\n",
       "3            3.0\n",
       "4            2.0\n",
       "5            6.0\n",
       "6          141.0\n",
       "7            5.0\n",
       "8            1.0\n",
       "9            1.0\n",
       "10    27797763.0\n",
       "11           7.0\n",
       "12          23.0\n",
       "dtype: float64"
      ]
     },
     "execution_count": 41,
     "metadata": {},
     "output_type": "execute_result"
    }
   ],
   "source": [
    "df_len"
   ]
  }
 ],
 "metadata": {
  "kernelspec": {
   "display_name": "Python 3",
   "language": "python",
   "name": "python3"
  },
  "language_info": {
   "codemirror_mode": {
    "name": "ipython",
    "version": 3
   },
   "file_extension": ".py",
   "mimetype": "text/x-python",
   "name": "python",
   "nbconvert_exporter": "python",
   "pygments_lexer": "ipython3",
   "version": "3.8.8"
  }
 },
 "nbformat": 4,
 "nbformat_minor": 5
}
