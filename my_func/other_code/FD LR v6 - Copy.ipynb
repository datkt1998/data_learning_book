{
 "cells": [
  {
   "cell_type": "markdown",
   "id": "7e8c117a-1f12-4205-b553-319a3901feea",
   "metadata": {},
   "source": [
    "# Import dữ liệu FD Balance mới vào file lưu trữ"
   ]
  },
  {
   "cell_type": "code",
   "execution_count": null,
   "id": "88b12edf-d36e-4f92-8937-f91d1a3c69e4",
   "metadata": {},
   "outputs": [],
   "source": [
    "import pandas as pd\n",
    "import numpy as np\n",
    "from os import path,getcwd\n",
    "# import pickle5 as pickle"
   ]
  },
  {
   "cell_type": "code",
   "execution_count": null,
   "id": "f278e8ee-c913-401b-8f5b-8a862327dd01",
   "metadata": {},
   "outputs": [],
   "source": [
    "def change_type_table(file):\n",
    "    file.ACCTNO=file.ACCTNO.astype(\"uint64\")\n",
    "    file.CIFNO=file.CIFNO.astype(\"uint32\")\n",
    "    file.BRN=file.BRN.astype(\"uint16\")\n",
    "    file.STATUS=file.STATUS.astype(\"uint8\")\n",
    "    file.CDTERM=file.CDTERM.astype(\"uint16\")\n",
    "    file.CDTCOD=file.CDTCOD.astype('category')\n",
    "    file.RATE=file.RATE.astype('float32')\n",
    "    file.CURTYP=pd.Categorical(file.CURTYP, categories=['AUD','BND','CAD','CHF','CNY','CZK','DKK','EUR','FJD','GBP','HKD','IDR','INR','JPY','KHR', 'KRW', 'LAK', 'LKR', 'MMK', 'MYR', 'NOK', 'NZD', 'PHP', 'PLN', 'RUB', 'SEK', 'SGD', 'THB', 'TRY', 'TWD', 'USD', 'VND', 'XAU'])"
   ]
  },
  {
   "cell_type": "code",
   "execution_count": null,
   "id": "4b23e2f8-6b5c-410c-9915-d54192a5155e",
   "metadata": {},
   "outputs": [],
   "source": [
    "# path\n",
    "fd_path=getcwd()\n",
    "fd_alco=path.join(fd_path,'Alco_31082020')\n",
    "fd_save =path.join(fd_path,'Python_save')\n",
    "fd_import_file =r\"D:\\4. FD-DD behavior\\FD\\Imported\"\n",
    "# gán biến parameter\n",
    "end_date=pd.Timestamp('2020-08-31')\n",
    "start_date=pd.Timestamp('2015-10-31')\n",
    "list_bank=['L','S','B','C','R',\"F\",\"NF\"]\n",
    "list_CCY=['VND','USD','OTH']\n",
    "tw = [1,7,30,90,180,365]\n",
    "list_date=pd.date_range(start=start_date,end=end_date).tolist()"
   ]
  },
  {
   "cell_type": "code",
   "execution_count": null,
   "id": "7f7d2764-1eaf-41be-b00b-ef456d955b58",
   "metadata": {},
   "outputs": [],
   "source": [
    "file_data_name=path.join(fd_save,\"FD_BALANCE.h5\") # tên file lưu trữ là file h5\n",
    "store=pd.HDFStore(file_data_name)"
   ]
  },
  {
   "cell_type": "code",
   "execution_count": null,
   "id": "a11a404d-059a-407b-93b6-405077cf4059",
   "metadata": {},
   "outputs": [],
   "source": [
    "# gán biến to import data\n",
    "to_date=pd.Timestamp('2021-01-24')\n",
    "store.open()\n",
    "from_date=store.select_column(\"data\",\"CHECK_TO_DATE\").max()+pd.Timedelta(\"1D\")\n",
    "list_date_import=pd.date_range(start=from_date,end=to_date).tolist()"
   ]
  },
  {
   "cell_type": "code",
   "execution_count": null,
   "id": "ca3c7718-d42f-4bbd-9183-666b1b0421e8",
   "metadata": {},
   "outputs": [],
   "source": [
    "for import_day in list_date_import:\n",
    "    print(import_day,end='\\r')\n",
    "    store.open()\n",
    "    file_name=\"cd_{}\".format(import_day.strftime(format=\"%Y_%m_%d\"))\n",
    "    try:\n",
    "        data=pd.read_pickle(path.join(fd_import_file,\"{}.pickle\".format(file_name.upper())))\n",
    "        data.rename(columns={import_day:\"CURRENT_BALANCE\"},inplace=True)\n",
    "    except:\n",
    "        data=pd.read_sas(path.join(fd_import_file,\"{}.sas7bdat\".format(file_name)), encoding='iso-8859-1')\n",
    "        current_balance=\"CURRENT_BALANCE\" if \"CURRENT_BALANCE\" in data.columns else file_name.upper()\n",
    "        data.rename(columns={current_balance:\"CURRENT_BALANCE\"},inplace=True)\n",
    "    change_type_table(data)\n",
    "    data[\"CHECK_TO_DATE_1\"]=import_day\n",
    "    data[\"CHECK_FROM_DATE_1\"]=import_day\n",
    "    raw=store.select('data','CHECK_TO_DATE==\\'{}\\''.format((import_day-pd.Timedelta(\"1D\")).strftime(format=\"%Y-%m-%d\")))\n",
    "    raw=raw.merge(data,how=\"outer\",indicator=True)\n",
    "    raw.loc[raw._merge!=\"left_only\",\"CHECK_TO_DATE\"]=raw.loc[raw._merge!=\"left_only\",\"CHECK_TO_DATE_1\"]\n",
    "    raw.loc[raw._merge==\"right_only\",'CHECK_FROM_DATE']=raw.loc[raw._merge==\"right_only\",'CHECK_FROM_DATE_1']\n",
    "    raw.drop(['CHECK_FROM_DATE_1','CHECK_TO_DATE_1',\"_merge\"],axis=1,inplace=True)\n",
    "    change_type_table(raw)\n",
    "    store.remove(\"data\",'CHECK_TO_DATE==\\'{}\\''.format((import_day-pd.Timedelta(\"1D\")).strftime(format=\"%Y-%m-%d\")))\n",
    "    store.put('data', raw, format='table', data_columns=True,index=False,append=True)\n",
    "    store.close()\n",
    "print(\"Done!\")"
   ]
  },
  {
   "cell_type": "markdown",
   "id": "47b226e6",
   "metadata": {},
   "source": [
    "# Chạy dữ liệu Timeseries"
   ]
  },
  {
   "cell_type": "markdown",
   "id": "5f3e4946",
   "metadata": {},
   "source": [
    "## Import dữ liệu"
   ]
  },
  {
   "cell_type": "code",
   "execution_count": null,
   "id": "1bdddd61",
   "metadata": {},
   "outputs": [],
   "source": [
    "import pandas as pd\n",
    "import numpy as np\n",
    "from os import path,getcwd\n",
    "import os\n",
    "from IPython.display import clear_output\n",
    "\n",
    "import warnings\n",
    "warnings.filterwarnings(\"ignore\")"
   ]
  },
  {
   "cell_type": "code",
   "execution_count": null,
   "id": "4e734e82",
   "metadata": {},
   "outputs": [],
   "source": [
    "#path\n",
    "running_tool_path=getcwd()\n",
    "parameter_path=os.path.join(running_tool_path,'Parameter_data')\n",
    "parameter_final_export_path=parameter_path+r\"\\Parameter final 2021\\\\\""
   ]
  },
  {
   "cell_type": "code",
   "execution_count": null,
   "id": "dedcf513",
   "metadata": {},
   "outputs": [],
   "source": [
    "# currency rate\n",
    "sfs=pd.read_sas(parameter_path+'\\\\ssfxrt_2021_02_28.sas7bdat',encoding=\"utf-8\")\n",
    "sfs.loc[sfs.CURRENCY_CODE==\"USD\",\"MID_RATE\"]=1 # key lai USD/VND=1\n",
    "\n",
    "#Import file dữ liệu cbal\n",
    "store = pd.HDFStore(parameter_path+'\\\\FD_BALANCE_30062021.h5') # cbal # chú ý ko được để đường dẫn chữ có dấu\n",
    "#Cbal\n",
    "store.open()\n",
    "cbal_raw=store.select(\"data\",auto_close=True).reset_index(drop=True)"
   ]
  },
  {
   "cell_type": "code",
   "execution_count": null,
   "id": "14f80bbf",
   "metadata": {},
   "outputs": [],
   "source": [
    "# bank (update testset)\n",
    "bank_train=pd.read_pickle(parameter_path+'\\\\bank_full_2021_03_01.pickle')\n",
    "bank_test=pd.read_pickle(parameter_path+'\\\\bank_2021_05_02.pickle')\n",
    "bank_test2=pd.read_pickle(parameter_path+'\\\\bank_2021_06_30.pickle')\n",
    "bank_test=bank_test2.append(bank_test).drop_duplicates()\n",
    "bank_test.loc[(bank_test.CUSTOMER_RATING==\"41\") & (bank_test.bank==\"F\"),\"bank\"]=\"NF\"\n",
    "bank_test=bank_test.rename(columns={'cif_number':'CIF_NUMBER'})[bank_train.columns]\n",
    "bank=bank_train.combine_first(bank_test)\n",
    "\n",
    "bank.to_pickle(parameter_final_export_path+\"bank_2021_03_01.pickle\")"
   ]
  },
  {
   "cell_type": "code",
   "execution_count": null,
   "id": "6f477eeb",
   "metadata": {},
   "outputs": [],
   "source": [
    "# Import dữ liệu xlkt\n",
    "xlkt_acc=pd.read_excel(parameter_path+'\\\\xlkt_FD_LR_full_2021_08_31.xlsx',sheet_name='account_xlkt',usecols=[0])\n",
    "xlkt_cif=pd.read_excel(parameter_path+'\\\\xlkt_FD_LR_full_2021_08_31.xlsx',sheet_name='cif_xlkt',usecols=[0])\n",
    "\n",
    "list_xlkt_acc=xlkt_acc.ACCTNO.to_list()\n",
    "list_xlkt_cif=xlkt_cif.CIFNO.to_list()\n",
    "\n",
    "#List CD\n",
    "list_CD=cbal_raw.loc[(cbal_raw.TYPE.str.startswith('CD'))].TYPE.to_list() "
   ]
  },
  {
   "cell_type": "code",
   "execution_count": null,
   "id": "1fa75e5a",
   "metadata": {},
   "outputs": [],
   "source": [
    "# xac dinh fcb (lưu ý class_code và class trong file fcb năm tới viết hoa hết để k bỏ sót TH khi merge)\n",
    "### import dữ liệu fcb 2017_2019\n",
    "fcb_2017_2019 = pd.read_sas(parameter_path+'\\\\fcb_2017_2019.sas7bdat',format='sas7bdat',encoding='utf-8')\n",
    "fcb_2017_2019.rename(columns={'Cif':'CIF','major_class':'CLASS'},inplace=True)\n",
    "fcb_022021_raw = pd.read_excel(parameter_path+'\\\\fcb_ 022021.xlsx',sheet_name='Sheet2')\n",
    "fcb_class_code=pd.read_excel(parameter_path+'\\\\FCB_class_code.xlsx')\n",
    "\n",
    "### import dữ liệu fcb 2021\n",
    "fcb_022021=fcb_022021_raw.merge(fcb_class_code, how='left', on='class').drop(['class'], axis=1).drop_duplicates()\n",
    "fcb_022021_raw[fcb_022021_raw.duplicated(['CIF'],keep=False)]\n",
    "\n",
    "### merge fcb\n",
    "fcb=fcb_022021.append(fcb_2017_2019.loc[(~fcb_2017_2019.CIF.isin(fcb_022021.CIF.to_list()))])"
   ]
  },
  {
   "cell_type": "code",
   "execution_count": null,
   "id": "0002a184-e56f-4fe0-a08a-81b0e21e2aa1",
   "metadata": {},
   "outputs": [],
   "source": [
    "\"\"\"\n",
    "# import pandas as pd2\n",
    "# xac dinh incentive\n",
    "### import dữ liệu khách hàng incentive\n",
    "incentive_QLTC_2021=pd.read_excel(parameter_path+'\\\\Incentive FD +Casa Data_202102.xlsx',sheet_name='Incentive FD')[[\"CUSTOMER_ID\",\"CURRENCY\"]].copy()\n",
    "incentive_QLTC_2021.rename(columns={'CUSTOMER_ID':'CIFNO','CURRENCY':'CURTYP'},inplace=True)\n",
    "\n",
    "incentive_2016_2019=pd.read_excel(parameter_path+'\\\\incentive_cd_20162019.xlsx')[['CIFNO','CURTYP']]\n",
    "incentive_RB_2021=pd.read_csv(parameter_path+'\\\\Incentive_RB_FD_2020_2021.csv')[['CIFNO','CURTYP']]\n",
    "\n",
    "incentive=incentive_2016_2019.append(incentive_QLTC_2021).append(incentive_RB_2021)\n",
    "incentive.drop_duplicates(inplace=True)\n",
    "incentive.dropna(how='all',inplace=True)\n",
    "\n",
    "incentive['INCENTIVE']=1\n",
    "\"\"\"\n",
    "\n",
    "incentive=pd.read_excel(parameter_path+'\\\\Incentive_full.xlsx')\n",
    "incentive['INCENTIVE']=1"
   ]
  },
  {
   "cell_type": "code",
   "execution_count": null,
   "id": "46f3a42f",
   "metadata": {},
   "outputs": [],
   "source": [
    "#Xử lý số liệu tỷ giá \n",
    "## key lai USD/VND=1\n",
    "sfs.rename(columns={'CURRENCY_CODE':'CURTYP'}, inplace=True)\n",
    "sfs.loc[sfs.CURTYP.isin(['VND','USD']),'MID_RATE']=1"
   ]
  },
  {
   "cell_type": "markdown",
   "id": "e8c7a729",
   "metadata": {},
   "source": [
    "## Data processing"
   ]
  },
  {
   "cell_type": "code",
   "execution_count": null,
   "id": "a25a88be",
   "metadata": {},
   "outputs": [],
   "source": [
    "#Loại 1 số account, cif xlkt, CD\n",
    "data=cbal_raw[(cbal_raw.CURRENT_BALANCE>0) \n",
    "          & (~cbal_raw.ACCTNO.isin(list_xlkt_acc)) \n",
    "          & (~cbal_raw.CIFNO.isin(list_xlkt_cif)) \n",
    "          & (~cbal_raw.TYPE.isin(list_CD)) \n",
    "         ].copy()\n",
    "\n",
    "# update the newest CIF for account (có những acc chuyển CIF ) \n",
    "data=data.sort_values([\"ACCTNO\",\"CHECK_FROM_DATE\"]).reset_index(drop=True)\n",
    "data.loc[data.duplicated([\"ACCTNO\"],keep=\"last\"),\"CIFNO\"]=np.nan\n",
    "data.CIFNO.fillna(method=\"bfill\",inplace=True)"
   ]
  },
  {
   "cell_type": "code",
   "execution_count": null,
   "id": "b3acf2b6",
   "metadata": {},
   "outputs": [],
   "source": [
    "### set value cho cột incentive cho bảng cbal\n",
    "data=data.merge(incentive,how='left',on=['CIFNO','CURTYP'])\n",
    "data.INCENTIVE.fillna(0,inplace=True)"
   ]
  },
  {
   "cell_type": "code",
   "execution_count": null,
   "id": "f64b7b3e",
   "metadata": {},
   "outputs": [],
   "source": [
    "# quy các đồng tiền khác USD về VND, đổi tên thành \"OTHER\"\n",
    "data[\"CURRENT_BALANCE\"]=data[[\"CURRENT_BALANCE\"]].to_numpy()*sfs.set_index(\"CURTYP\").reindex(data.CURTYP).to_numpy()\n",
    "data.CURTYP=data.CURTYP.astype(\"str\")\n",
    "data.loc[data.CURTYP.isin([\"VND\",\"USD\"])==False,\"CURTYP\"]=\"OTHER\""
   ]
  },
  {
   "cell_type": "code",
   "execution_count": null,
   "id": "a93327bd",
   "metadata": {},
   "outputs": [],
   "source": [
    "# merge data vs bank\n",
    "data=data.merge(bank.rename(columns={\"CIF_NUMBER\":\"CIFNO\"}),how=\"left\")"
   ]
  },
  {
   "cell_type": "code",
   "execution_count": null,
   "id": "6ea9c303",
   "metadata": {},
   "outputs": [],
   "source": [
    "## Vip\n",
    "data[\"Time_delta\"]=(data[\"CHECK_TO_DATE\"]-data[\"CHECK_FROM_DATE\"])/pd.Timedelta(\"1D\")+1\n",
    "data[\"Cbal_Time_delta\"]=(data[\"CURRENT_BALANCE\"]*data[\"Time_delta\"])\n",
    "Danh_muc_avg=data.groupby([\"bank\",\"CURTYP\"])[\"Cbal_Time_delta\"].agg(np.nansum)/((data.CHECK_TO_DATE.max()-data.CHECK_FROM_DATE.min())/pd.Timedelta(\"1D\"))\n",
    "\n",
    "cif_sum=data.groupby([\"CIFNO\",\"bank\",\"CURTYP\"])[[\"Cbal_Time_delta\",\"Time_delta\"]].sum()\n",
    "cif_avg=(cif_sum.Cbal_Time_delta/cif_sum.Time_delta).reset_index()\n",
    "\n",
    "res=cif_avg.rename(columns={0:\"CIF_avg_cbal\"}).merge(Danh_muc_avg.reset_index().rename(columns={0:\"danhmuc_avg_cbal\"}),how=\"outer\")\n",
    "res[\"vip\"]=((res.CIF_avg_cbal/res.Cbal_Time_delta)>0.1).astype(int)\n",
    "\n",
    "data=data.merge(res[['CIFNO','bank','CURTYP','vip']],how='outer').copy()\n",
    "\n",
    "data[\"VIP_INCENTIVES\"]=0\n",
    "data.loc[(data[\"vip\"]+data[\"INCENTIVE\"])>0,'VIP_INCENTIVES']=1\n",
    "\n",
    "data.drop(['vip','INCENTIVE','Cbal_Time_delta','Time_delta'],axis=1,inplace=True)"
   ]
  },
  {
   "cell_type": "code",
   "execution_count": null,
   "id": "2e58299b",
   "metadata": {},
   "outputs": [],
   "source": [
    "### Set giá trị cho fcb or non-fcb\n",
    "### set class cho khách hàng bank = \"R\"\n",
    "data.loc[(data.CIFNO.isin(list(fcb[fcb.CLASS==\"G\"].CIF))) & (data['bank']==\"R\"),'CLASS_FCB']=\"G\" \n",
    "data.loc[(data.CIFNO.isin(list(fcb[fcb.CLASS==\"P\"].CIF))) & (data['bank']==\"R\"),'CLASS_FCB']=\"P\"\n",
    "data.loc[(data.CIFNO.isin(list(fcb[fcb.CLASS==\"D\"].CIF))) & (data['bank']==\"R\"),'CLASS_FCB']=\"D\"\n",
    "data.loc[(data.CIFNO.isin(list(fcb[fcb.CLASS==\"O\"].CIF))) & (data['bank']==\"R\"),'CLASS_FCB']=\"O\" # khách hàng trải nghiệm"
   ]
  },
  {
   "cell_type": "code",
   "execution_count": null,
   "id": "15f34cd2",
   "metadata": {},
   "outputs": [],
   "source": [
    "data.to_pickle('Parameter_data/data_handled_30062021.pickle')"
   ]
  },
  {
   "cell_type": "markdown",
   "id": "a219a341",
   "metadata": {},
   "source": [
    "## Chạy dữ liệu Timeseries"
   ]
  },
  {
   "cell_type": "code",
   "execution_count": null,
   "id": "84a967a7",
   "metadata": {},
   "outputs": [],
   "source": [
    "import pandas as pd\n",
    "import numpy as np\n",
    "from os import path,getcwd\n",
    "import os\n",
    "from IPython.display import clear_output\n",
    "# import pickle5 as pickle\n",
    "import warnings\n",
    "warnings.filterwarnings(\"ignore\")\n"
   ]
  },
  {
   "cell_type": "code",
   "execution_count": null,
   "id": "da1aefe7",
   "metadata": {},
   "outputs": [],
   "source": [
    "data_acc_ori=pd.read_pickle(\"Parameter_data/data_handled_30062021.pickle\")"
   ]
  },
  {
   "cell_type": "code",
   "execution_count": null,
   "id": "347ad337",
   "metadata": {},
   "outputs": [],
   "source": [
    "def modify_bank(data_acc,type_gp=0):\n",
    "    if type_gp==0:\n",
    "        return_data=data_acc.copy()\n",
    "    if type_gp==1:\n",
    "        return_data=data_acc[data_acc.bank.isin(list(\"RCLSB\"))].copy()\n",
    "        return_data.bank=return_data.bank.map(lambda x: \"RB\" if x in \"RC\" else \"EB\")\n",
    "    if type_gp==2:\n",
    "        return_data=data_acc[data_acc.bank.isin(list(\"RCLSB\"))].copy()\n",
    "        return_data.bank=\"BWex\"\n",
    "    if type_gp==3:\n",
    "        return_data=data_acc.copy()\n",
    "        return_data.bank=\"BW\"\n",
    "    if type_gp==4:\n",
    "        return_data=data_acc[data_acc.bank.isin(list(\"SB\"))].copy()\n",
    "        return_data.bank=\"SME\"\n",
    "    if type_gp==5:\n",
    "        return_data=data_acc[data_acc.bank.isin(list(\"RC\"))].copy()\n",
    "        return_data.bank=\"RB_\"+data_acc_ori.CLASS_FCB.isna().replace({True:\"NONFCB\",False:\"FCB\"})\n",
    "    return return_data\n",
    "\n",
    "def data_group(data_acc):\n",
    "    data_acc[\"CLASS_FCB\"].fillna(\"N\",inplace=True)\n",
    "    data_acc[\"KEY_GROUBY\"]=data_acc[\"CURTYP\"]+\"_\"+data_acc[\"bank\"]\n",
    "    data=data_acc.groupby([\"CIFNO\",\"CURTYP\",\"bank\",\"VIP_INCENTIVES\",\"CLASS_FCB\",\"CHECK_FROM_DATE\",\"CHECK_TO_DATE\",\"KEY_GROUBY\"],as_index=False)[\"CURRENT_BALANCE\"].sum()\n",
    "    data[\"KEY_GROUP_CIF\"]=data[\"CIFNO\"].astype(int).astype(str)+\"_\"+data[\"KEY_GROUBY\"]\n",
    "    return data_acc,data\n",
    "\n",
    "\n",
    "def term(data_acc):\n",
    "    data_acc.loc[(data_acc.CDTCOD==\"D\") & (data_acc.CDTERM>=360),\"TERM_MONTH\"]=\"Long_Term\"\n",
    "    data_acc.loc[(data_acc.CDTCOD==\"M\") & (data_acc.CDTERM>=12),\"TERM_MONTH\"]=\"Long_Term\"\n",
    "    data_acc.TERM_MONTH.fillna(\"Short_Term\",inplace=True)\n",
    "\n",
    "\n",
    "def run_data_modify(data_acc,type_gp,return_acc=True):\n",
    "    return_data=modify_bank(data_acc,type_gp=type_gp)\n",
    "    data_acc,data=data_group(return_data)\n",
    "    term(data_acc)\n",
    "    if return_acc:\n",
    "        return data_acc,data\n",
    "    else:\n",
    "        return data\n",
    "\n",
    "def return_df_tw(table,min_from_date=None,max_from_date=None,min_to_date=None,max_to_date=None,incentive=None,fcb=False,Term_condition=False,KEY_GROUP_CIF=[]): # \"Lấy ra dữ liệu theo condition\"\n",
    "    min_from_date=(True if min_from_date==None else (table.CHECK_FROM_DATE>=min_from_date))\n",
    "    max_from_date=(True if max_from_date==None else (table.CHECK_FROM_DATE<=max_from_date))\n",
    "    min_to_date=(True if min_to_date==None else (table.CHECK_TO_DATE>=min_to_date))\n",
    "    max_to_date=(True if max_to_date==None else (table.CHECK_TO_DATE<=max_to_date))\n",
    "    condi_incentive=(True if incentive==None else ((table.VIP_INCENTIVES==1) if incentive==1 else (table.VIP_INCENTIVES==0)))\n",
    "    condi_KEY = (True if len(KEY_GROUP_CIF)==0 else (table.KEY_GROUP_CIF.isin(KEY_GROUP_CIF)))\n",
    "    condi_fcb = (True if fcb==False else (table.CLASS_FCB.isin([\"G\",\"P\",\"D\",\"O\"])))\n",
    "    return_table = table[ min_from_date & max_from_date & min_to_date & max_to_date & condi_incentive & condi_fcb & condi_KEY].copy()\n",
    "    if incentive==1:\n",
    "        return_table.KEY_GROUBY=return_table.KEY_GROUBY+\"_Incentive\"\n",
    "    if incentive==0:\n",
    "        return_table.KEY_GROUBY=return_table.KEY_GROUBY+\"_Treated\"\n",
    "    if fcb:\n",
    "        return_table.KEY_GROUBY=return_table.KEY_GROUBY+\"_\"+return_table.CLASS_FCB\n",
    "    if Term_condition:\n",
    "        return_table.KEY_GROUBY=return_table.KEY_GROUBY+\"_\"+return_table.TERM_MONTH\n",
    "    return return_table\n",
    "\n",
    "def calculate_MB(date,incentive,fcb,data): \n",
    "    date365=date+pd.Timedelta(days=365)\n",
    "    list_365day=pd.date_range(start=date,end=date365)\n",
    "    data_at_date=return_df_tw(data,min_to_date=date,max_from_date=date365,incentive=incentive,fcb=fcb\n",
    "                              ,KEY_GROUP_CIF=return_df_tw(table=data,max_from_date=date,min_to_date=date).KEY_GROUP_CIF.unique()).copy()\n",
    "    checking=(np.array(data_at_date[[\"CHECK_FROM_DATE\"]])<=(np.array(list_365day))) & (np.array(data_at_date[[\"CHECK_TO_DATE\"]])>=(np.array(list_365day)))\n",
    "    cbal=np.array(data_at_date[[\"CURRENT_BALANCE\"]])\n",
    "    res=pd.DataFrame(checking*cbal,index=data_at_date[\"KEY_GROUBY\"])\n",
    "    res=res.groupby(res.index).sum()\n",
    "    min_balance=pd.DataFrame([res.values[:,:i+1].min(1) for i in list_tw],columns=res.index,index=list_tw)\n",
    "    count=data_at_date[[\"KEY_GROUP_CIF\",\"KEY_GROUBY\"]].drop_duplicates(\"KEY_GROUP_CIF\").groupby(\"KEY_GROUBY\").count().rename(columns={\"KEY_GROUP_CIF\":\"count\"}).T\n",
    "    min_balance=count.append(min_balance).T\n",
    "    min_balance.set_index(pd.MultiIndex.from_tuples([i.split(\"_\",1) for i in min_balance.index],names=[\"CURTYP\",\"bank\"]),inplace=True)\n",
    "    min_balance = min_balance.melt(ignore_index=False,var_name=\"Object\",value_name=date).set_index(\"Object\",append=True).sort_index().T\n",
    "    return min_balance\n",
    "\n",
    "def cal_contractual(date,incentive,fcb,data_acc,tw_list=[7,30,90,180,365]):\n",
    "    df=return_df_tw(max_from_date=date,min_to_date=date,table=data_acc,incentive=incentive,fcb=fcb).rename(columns={\"CURRENT_BALANCE\":0})\n",
    "    for tw in tw_list:\n",
    "        date_tw=date+pd.Timedelta(days=tw)\n",
    "        df2=return_df_tw(max_from_date=date_tw,min_to_date=date_tw,table=data_acc,incentive=incentive,fcb=fcb)[[\"ACCTNO\",\"CURRENT_BALANCE\"]]\n",
    "        df=df.merge(df2.rename(columns={\"CURRENT_BALANCE\":tw}),how=\"left\")\n",
    "    li=[]\n",
    "    for tw in tw_list:\n",
    "        res=df[(df.OPEN_DATE< date) & (df.MAT_DATE >= date) & (df.MAT_DATE <= (date+pd.Timedelta(days=tw)))].groupby(\"KEY_GROUBY\")[[0,tw]].sum()\\\n",
    "            .rename(columns={0:\"contractual{}_0\".format(tw),tw:\"contractual{}_{}\".format(tw,tw)})\n",
    "        li.append(res.set_index(pd.MultiIndex.from_tuples([i.split(\"_\",1) for i in res.index],names=[\"CURTYP\",\"bank\"]))\\\n",
    "            .melt(ignore_index=False,var_name=\"Object\",value_name=date).set_index(\"Object\",append=True).T)\n",
    "    return pd.concat(li,axis=1)\n",
    "\n",
    "def term_count_sum(date,incentive,fcb,data_acc):\n",
    "    res=return_df_tw(max_from_date=date,min_to_date=date,table=data_acc,incentive=incentive,fcb=fcb,Term_condition=True).groupby(\"KEY_GROUBY\")[\"CURRENT_BALANCE\"].agg({\"count\",\"sum\"})\n",
    "    res=res.set_index(pd.MultiIndex.from_tuples([i.split(\"_\",1) for i in res.index],names=[\"CURTYP\",\"bank\"])).reset_index()\\\n",
    "    .melt(id_vars=['CURTYP','bank'],value_vars=[\"count\",\"sum\"],var_name=\"Object\",value_name=date).set_index(['CURTYP','bank','Object'],append=True).T\n",
    "    return res\n",
    "\n",
    "def all_port(date,data_acc,data):\n",
    "    return pd.concat([calculate_MB(date,incentive=None,fcb=False,data=data), # ko xét tới yếu tố incentive, fcb\n",
    "                      calculate_MB(date,incentive=None,fcb=True,data=data), # ko xét tới yếu tố incentive, fcb phân loại G D P\n",
    "                      calculate_MB(date,incentive=1,fcb=False,data=data), # danh sách incentive, ko xét fcb\n",
    "                      calculate_MB(date,incentive=0,fcb=False,data=data), # danh sách non-incentive, ko xét fcb\n",
    "                      cal_contractual(date,incentive=None,fcb=False,data_acc=data_acc), \n",
    "                      cal_contractual(date,incentive=None,fcb=True,data_acc=data_acc),\n",
    "                      cal_contractual(date,incentive=1,fcb=False,data_acc=data_acc),\n",
    "                      cal_contractual(date,incentive=0,fcb=False,data_acc=data_acc),\n",
    "                    term_count_sum(date,incentive=None,fcb=False,data_acc=data_acc)],axis=1)\n",
    "\n",
    "\n",
    "def run_result_loop(type_gp,list_date,data_acc_ori=data_acc_ori):\n",
    "#     global Result\n",
    "    Result=pd.DataFrame()\n",
    "    data_acc,data=run_data_modify(data_acc_ori,type_gp=type_gp)\n",
    "    for date in list_date:\n",
    "        print(date.date(),end=\"\\r\")\n",
    "        if type_gp!=5:\n",
    "            Result=Result.append(all_port(date,data_acc=data_acc,data=data))\n",
    "        else:\n",
    "            Result=Result.append(pd.concat([calculate_MB(date,incentive=None,fcb=False,data=data)\n",
    "                                            ,calculate_MB(date,incentive=0,fcb=False,data=data)],axis=1))\n",
    "        clear_output()\n",
    "    Result.sort_index(axis=1,inplace=True)\n",
    "    Result.to_pickle(\"Output_file/Result_part{}.pickle\".format(type_gp))\n",
    "\n",
    "#Count so khach hang theo tung danh muc\n",
    "def count_cif(data_acc_ori,type_gp):\n",
    "    data=run_data_modify(data_acc_ori,type_gp,return_acc=False)\n",
    "    return data.drop_duplicates([\"KEY_GROUP_CIF\"]).groupby(['CURTYP',\"bank\",\"VIP_INCENTIVES\",\"CLASS_FCB\"])[\"CIFNO\"].count().sort_index()"
   ]
  },
  {
   "cell_type": "markdown",
   "id": "2c8f6b39",
   "metadata": {},
   "source": [
    "### Tính count CIF timeseries"
   ]
  },
  {
   "cell_type": "code",
   "execution_count": null,
   "id": "5b2b3648-795a-4b80-b4b5-d8c5f76c989f",
   "metadata": {},
   "outputs": [],
   "source": [
    "data_acc_ori_train=data_acc_ori[data_acc_ori.CHECK_FROM_DATE<=pd.Timestamp(\"2021-02-28\")].copy()\n",
    "data_acc_ori_train.loc[data_acc_ori_train.CHECK_TO_DATE>pd.Timestamp(\"2021-02-28\"),\"CHECK_TO_DATE\"]=pd.Timestamp(\"2021-02-28\")\n",
    "data_acc_ori_train=data_acc_ori_train.drop(\"bank\",axis=1).merge(bank.rename(columns={\"cif_number\":\"CIFNO\"}),how=\"left\")\n",
    "count=pd.DataFrame()\n",
    "for type_gp in range(6):\n",
    "    count=count.append(pd.DataFrame(count_cif(data_acc_ori_train,type_gp)))\n",
    "count=count.reset_index()\n",
    "count.to_excel('Output_file/count_train.xlsx')"
   ]
  },
  {
   "cell_type": "markdown",
   "id": "4dabb74e",
   "metadata": {},
   "source": [
    "### Tính chuỗi dữ liệu "
   ]
  },
  {
   "cell_type": "code",
   "execution_count": null,
   "id": "4131e907",
   "metadata": {},
   "outputs": [],
   "source": [
    "%%time\n",
    "list_tw=[0,1,7,30,90,180,365]\n",
    "end_date=pd.Timestamp('2021-06-30') # ngày cuối cùng cả train +test model\n",
    "start_date=pd.Timestamp('2015-10-31')\n",
    "list_date=pd.date_range(start=start_date,end=end_date).tolist()\n",
    "for type_gp in [0,1,2,3,4,5]: #change zvalue with equivalent portfolio \n",
    "    run_result_loop(type_gp,list_date,data_acc_ori)"
   ]
  },
  {
   "cell_type": "code",
   "execution_count": null,
   "id": "72c96529-b7f0-4ebc-a32c-08bac3ddba8a",
   "metadata": {},
   "outputs": [],
   "source": [
    "Result_0=pd.read_pickle('Output_file/Result_part0.pickle')\n",
    "Result_1=pd.read_pickle(\"Output_file/Result_part1.pickle\")\n",
    "Result_2=pd.read_pickle(\"Output_file/Result_part2.pickle\")\n",
    "Result_3=pd.read_pickle(\"Output_file/Result_part3.pickle\")\n",
    "Result_4=pd.read_pickle(\"Output_file/Result_part4.pickle\")\n",
    "Result_5=pd.read_pickle(\"Output_file/Result_part5.pickle\")\n",
    "Result_group=pd.concat([Result_0,Result_1,Result_2,Result_3,Result_4,Result_5],axis=1)\n",
    "Result_group.to_pickle(r'Output_file\\Result_group.pickle')"
   ]
  },
  {
   "cell_type": "code",
   "execution_count": null,
   "id": "4163d415-00a7-43a7-a23f-75cbd69d5183",
   "metadata": {},
   "outputs": [],
   "source": [
    "Result_group=pd.read_pickle(r'Output_file\\Result_group.pickle')"
   ]
  },
  {
   "cell_type": "markdown",
   "id": "d79cb89b",
   "metadata": {},
   "source": [
    "### Thống kê top_wd"
   ]
  },
  {
   "cell_type": "code",
   "execution_count": null,
   "id": "f312e835",
   "metadata": {},
   "outputs": [],
   "source": [
    "def top_wd(date,incentive,fcb,data,min_vnd_wd=50000000000,min_usd_wd=1000000): \n",
    "    date1=date+pd.Timedelta(days=1)\n",
    "    list_1day=pd.date_range(start=date,end=date1)\n",
    "    data_at_date=return_df_tw(data,min_to_date=date,max_from_date=date1,incentive=incentive,fcb=fcb\n",
    "                              ,KEY_GROUP_CIF=return_df_tw(table=data,max_from_date=date,min_to_date=date).KEY_GROUP_CIF.unique()).copy()\n",
    "    checking=(np.array(data_at_date[[\"CHECK_FROM_DATE\"]])<=(np.array(list_1day))) & (np.array(data_at_date[[\"CHECK_TO_DATE\"]])>=(np.array(list_1day)))\n",
    "    cbal=np.array(data_at_date[[\"CURRENT_BALANCE\"]])\n",
    "    res=pd.DataFrame(checking*cbal,index=data_at_date[\"KEY_GROUP_CIF\"])\n",
    "    res=res.groupby(res.index).sum()\n",
    "    res[\"wd\"]=res[0]-res[1]\n",
    "    res.set_index(pd.MultiIndex.from_tuples([i.split(\"_\",2) for i in res.index],names=[\"CIFNO\",\"CURTYP\",\"bank\"]),inplace=True)\n",
    "    res.reset_index(inplace=True)\n",
    "    res[\"wd_day\"]=date1\n",
    "    res=res[((res.CURTYP==\"VND\") & (res.wd>=min_vnd_wd)) | ((res.CURTYP==\"USD\") & (res.wd>=min_usd_wd))]\n",
    "    return res.drop([0,1],axis=1)\n",
    "\n",
    "def run_top_wd_loop(list_date,data_acc_ori=data_acc_ori):\n",
    "    Result_top_wd=pd.DataFrame()\n",
    "    data=run_data_modify(data_acc_ori,type_gp=0,return_acc=False)\n",
    "    for date in list_date:\n",
    "        print(date.date(),end=\"\\r\")\n",
    "        Result_top_wd=Result_top_wd.append(top_wd(date,incentive=None,fcb=False,data=data,min_vnd_wd=20000000000,min_usd_wd=1000000))\n",
    "        clear_output()\n",
    "    Result_top_wd.CIFNO=Result_top_wd.CIFNO.astype(float)\n",
    "    df_merge=data[[\"CIFNO\",\"CURTYP\",\"VIP_INCENTIVES\",\"CLASS_FCB\"]].drop_duplicates()\n",
    "    Result_top_wd=Result_top_wd.merge(df_merge,how=\"left\")\n",
    "    Result_top_wd[\"Content\"]=\"Ngày \" + Result_top_wd[\"wd_day\"].dt.strftime(\"%d/%m/%Y\") +\" CIF \"+\\\n",
    "                        Result_top_wd[\"CIFNO\"].astype(str) + Result_top_wd[\"bank\"].map(lambda x: \" ({}) \".format(x)) +\" rút \" +\\\n",
    "                        round(Result_top_wd[\"wd\"]/Result_top_wd[\"CURTYP\"].map(lambda x: 1000000000 if x==\"VND\" else 1000000),1).astype(str)\\\n",
    "                        +Result_top_wd[\"CURTYP\"].map(lambda x: \" tỷ VND\" if x==\"VND\" else \" triệu USD\")\n",
    "    Result_top_wd=Result_top_wd[Result_top_wd.wd_day!=(list_date[-1]+pd.Timedelta(\"1D\"))]\n",
    "    Result_top_wd.to_pickle(\"Output_file/Result_top_wd.pickle\")\n",
    "    Result_top_wd.to_excel(\"Output_file/Result_top_wd.xlsx\")"
   ]
  },
  {
   "cell_type": "code",
   "execution_count": null,
   "id": "84f2155d",
   "metadata": {},
   "outputs": [],
   "source": [
    "%%time\n",
    "list_tw=[0,1,7,30,90,180,365]\n",
    "end_date=pd.Timestamp('2021-05-01') # ngày cuối cùng cả train +test model\n",
    "start_date=pd.Timestamp('2015-10-31')\n",
    "list_date=pd.date_range(start=start_date,end=end_date).tolist()\n",
    "run_top_wd_loop(list_date,data_acc_ori)"
   ]
  },
  {
   "cell_type": "markdown",
   "id": "2dad98ac",
   "metadata": {},
   "source": [
    "# Modeling"
   ]
  },
  {
   "cell_type": "markdown",
   "id": "bb7d0a35",
   "metadata": {},
   "source": [
    "## Đọc data"
   ]
  },
  {
   "cell_type": "code",
   "execution_count": null,
   "id": "d26abb6b",
   "metadata": {},
   "outputs": [],
   "source": [
    "end_train_day=pd.Timestamp(\"2021-02-28\")\n",
    "\n",
    "# File Timeseries Result\n",
    "Result_group=pd.read_pickle(r'Output_file/Result_group.pickle')\n",
    "\n",
    "# Lấy ra tên các cột để phân tách thành các bảng Min balance, Contractual, Term count\n",
    "cols=Result_group.columns\n",
    "term_col=[i for i in cols if \"Term\" in i[1]]\n",
    "contractual_col=[i for i in cols if \"contractual\" in str(i[2])]\n",
    "MB_col=[i for i in cols if (i not in term_col) & (i not in contractual_col)]\n",
    "\n",
    "# Tạo bảng Min balance\n",
    "MB_cbal=Result_group[MB_col]\n",
    "\n",
    "# Sửa tên cột (Thêm 'sum' vào tên cột)\n",
    "MB_cbal.columns=pd.MultiIndex.from_frame(pd.DataFrame([[i[0],i[1],(\"sum_{:03}\".format(i[2]) if i[2]!=\"count\" else \"count\" )] for i in MB_cbal.columns],columns=MB_cbal.columns.names))\n",
    "\n",
    "#phân tách dữ liệu train+test\n",
    "MB_cbal_train=MB_cbal.loc[:end_train_day].copy()"
   ]
  },
  {
   "cell_type": "code",
   "execution_count": null,
   "id": "a7333eae",
   "metadata": {},
   "outputs": [],
   "source": [
    "def Nan_to_tw(table,level=2):\n",
    "    df=table.fillna(0)\n",
    "    for i in df.columns:\n",
    "        if (i[level]!=\"count\") :\n",
    "            if (int(i[level][-3:])>0):\n",
    "                df.loc[df.index[-int(i[level][-3:]):],i]=np.nan\n",
    "    return df\n",
    "\n",
    "MB_cbal=Nan_to_tw(MB_cbal)\n",
    "MB_cbal_train=Nan_to_tw(MB_cbal_train)"
   ]
  },
  {
   "cell_type": "markdown",
   "id": "b7085820",
   "metadata": {},
   "source": [
    "```python\n",
    "#Set số dòng/cột hiển thị tối đa\n",
    "pd.set_option('display.max_rows', 100)\n",
    "pd.set_option('display.max_columns', 100)\n",
    "```"
   ]
  },
  {
   "cell_type": "markdown",
   "id": "9c99c44b",
   "metadata": {},
   "source": [
    "## Thống kê mean balance"
   ]
  },
  {
   "cell_type": "code",
   "execution_count": null,
   "id": "c34ffa7d",
   "metadata": {},
   "outputs": [],
   "source": [
    "Mean_cbal=MB_cbal_train[[i for i in MB_cbal_train.columns if (i[2]=='sum_000') ]].sort_index(axis=1).replace(0,np.nan).mean()\n",
    "pd.DataFrame(Mean_cbal).reset_index().to_excel('Output_file/Mean Balance Timeseries.xlsx',index=False)"
   ]
  },
  {
   "cell_type": "markdown",
   "id": "3918b248",
   "metadata": {},
   "source": [
    "## Tính Core"
   ]
  },
  {
   "cell_type": "code",
   "execution_count": null,
   "id": "018a68b3",
   "metadata": {},
   "outputs": [],
   "source": [
    "# Khai báo seasonal\n",
    "Solar=[pd.Timestamp(year=y,month=1,day=1)for y in range(2016,2025)]\n",
    "Lunar=[pd.to_datetime(i,dayfirst=True) for i in ['8/2/2016', '28/1/2017', '16/2/2018', '5/2/2019', '25/1/2020','12/02/2021','01/02/2022','22/01/2023',\"10/02/2024\"]]\n",
    "ss_day_t0=[x for y in [pd.date_range(Solar[i]-pd.Timedelta(\"45D\"),Lunar[i]-pd.Timedelta(\"30D\")) for i in range(len(Solar))] for x in y]\n",
    "st_msb=pd.date_range(\"2016-07-01\",\"2016-10-12\")"
   ]
  },
  {
   "cell_type": "markdown",
   "id": "4b048af3",
   "metadata": {},
   "source": [
    "### Tính Core"
   ]
  },
  {
   "cell_type": "code",
   "execution_count": null,
   "id": "d671c5a9",
   "metadata": {},
   "outputs": [],
   "source": [
    "def Core_Series(Output):\n",
    "    NHCD=Output.columns[Output.columns.get_level_values(2)==\"sum_000\"]\n",
    "    Output2=Output.copy()\n",
    "    for i in NHCD:\n",
    "        t_0=Output[[i]]\n",
    "        t_t=Output.loc[:,(Output.columns.get_level_values(0)==i[0]) \n",
    "                       & (Output.columns.get_level_values(1)==i[1]) \n",
    "                       & (Output.columns.get_level_values(2).isin([i[2],\"count\"])==False)].copy().sort_index(axis=1)\n",
    "        Core=pd.DataFrame(t_t.values/t_0.values,columns=t_t.columns.set_levels(t_t.columns.levels[2].str.replace(\"sum\",\"Core\"), level=2),index=t_t.index)\n",
    "        Output2=pd.concat([Output2,Core],axis=1)\n",
    "    return Nan_to_tw(Output2.fillna(0))\n",
    "\n",
    "MB_Core_all=Core_Series(Output=MB_cbal)\n",
    "MB_Core_train=Core_Series(Output=MB_cbal_train)\n",
    "\n",
    "MB_Core_all.to_pickle('Output_file/MB_Core_all.pickle')"
   ]
  },
  {
   "cell_type": "markdown",
   "id": "f5d878ca",
   "metadata": {},
   "source": [
    "### Tính WD Ratio"
   ]
  },
  {
   "cell_type": "code",
   "execution_count": null,
   "id": "f05ea5ea-28d6-4922-beac-533d039f593d",
   "metadata": {},
   "outputs": [],
   "source": [
    "MB_Core_all=pd.read_pickle('Output_file/MB_Core_all.pickle')\n",
    "Withdraw_Ratio=1-MB_Core_all.loc[:,(MB_Core_all.columns.get_level_values(0)!=\"OTHER\") & \n",
    "                                         (MB_Core_all.columns.get_level_values(2).str[:4]==\"Core\")].sort_index(axis=1).copy()\n",
    "Withdraw_Ratio.columns.set_levels(Withdraw_Ratio.columns.levels[2].str.replace(\"Core\",\"WD\"), level=2,inplace=True)\n",
    "Withdraw_Ratio.to_pickle(\"Output_file/Withdraw_Ratio.pickle\")"
   ]
  },
  {
   "cell_type": "code",
   "execution_count": null,
   "id": "dea5734f",
   "metadata": {},
   "outputs": [],
   "source": [
    "Withdraw_Ratio_train=1-MB_Core_train.loc[:,(MB_Core_train.columns.get_level_values(0)!=\"OTHER\") & \n",
    "                                         (MB_Core_train.columns.get_level_values(2).str[:4]==\"Core\")].sort_index(axis=1).copy()\n",
    "Withdraw_Ratio_train.columns.set_levels(Withdraw_Ratio_train.columns.levels[2].str.replace(\"Core\",\"WD\"), level=2,inplace=True)"
   ]
  },
  {
   "cell_type": "markdown",
   "id": "2b925c9e",
   "metadata": {},
   "source": [
    "### Tính Percentile"
   ]
  },
  {
   "cell_type": "code",
   "execution_count": null,
   "id": "0f1036fa",
   "metadata": {},
   "outputs": [],
   "source": [
    "def bucket_redistribution(df):\n",
    "    df=df.set_index([\"Time\",\"CURTYP\",\"bank\"])\n",
    "    df2=df.copy()\n",
    "    for i in df2.columns[1:]:\n",
    "        df2[i]=(df[i]-df2.loc[:,:i].drop(i,axis=1).sum(1)).map(lambda x:max(0,x))\n",
    "    df2.columns=[\"{}_{}\".format(a,b) for a,b in  zip([\"WD0\"]+df.columns[:-1].tolist(),df.columns)]\n",
    "    df2[\"Core\"]=1-df2.sum(1)\n",
    "    return df2.reset_index()\n",
    "\n",
    "def calculate_percentile(ss_day_t0,per_nm=90,per_ss=90,rank_st=-10,Withdraw_Ratio=Withdraw_Ratio_train):\n",
    "    normal=Withdraw_Ratio[ (Withdraw_Ratio.index.isin(ss_day_t0))==False].apply(lambda x:np.nanpercentile(x.dropna().iloc[-365:],per_nm))\n",
    "    seasonal=Withdraw_Ratio[Withdraw_Ratio.index.isin(ss_day_t0)].apply(lambda x:np.nanpercentile(x,per_ss))\n",
    "    stress=Withdraw_Ratio.apply(lambda x:np.sort(x.dropna())[max(rank_st,-len(np.sort(x.dropna())))])\n",
    "    \n",
    "    wd_ratio_percentile=pd.concat([normal,seasonal,stress],axis=1).rename(columns={0:\"Normal\",1:\"Seasonal\",2:\"Stress\"}).reset_index()\n",
    "    wd_ratio_percentile=wd_ratio_percentile.melt(id_vars=['CURTYP','bank',\"Object\"],value_vars=['Normal','Seasonal','Stress'],var_name=\"Time\",value_name=\"Ratio\")\\\n",
    "        .pivot_table(values=\"Ratio\",columns=[\"Object\"],index=['Time','CURTYP','bank'])\n",
    "    # wd_ratio_percentile=wd_ratio_percentile.applymap(lambda x:'{:.1%}'.format(x))\n",
    "    res=wd_ratio_percentile.reset_index().sort_values([\"Time\",\"CURTYP\",\"bank\"],ascending=[True,False,True])\n",
    "    return res.merge(bucket_redistribution(res))\n",
    "\n",
    "per=calculate_percentile(ss_day_t0,per_nm=90,per_ss=90,rank_st=-10,Withdraw_Ratio=Withdraw_Ratio_train)\n",
    "# per.to_pickle('Output_file/per_train.pickle')\n",
    "# per.to_excel('Output_file/per_train.xlsx')"
   ]
  },
  {
   "cell_type": "markdown",
   "id": "4e1669c9",
   "metadata": {},
   "source": [
    "## Pilot table"
   ]
  },
  {
   "cell_type": "code",
   "execution_count": null,
   "id": "2553c3df",
   "metadata": {},
   "outputs": [],
   "source": [
    "from os import listdir\n",
    "from datetime import datetime\n",
    "\n",
    "import pandas as pd\n",
    "import numpy as np\n",
    "from os import path,getcwd\n",
    "import warnings\n",
    "\n",
    "warnings.filterwarnings(\"ignore\")\n",
    "\n",
    "import matplotlib.pyplot as plt\n",
    "from matplotlib import colors\n",
    "import matplotlib.dates as mdates\n",
    "from scipy.ndimage.filters import gaussian_filter1d\n",
    "%matplotlib inline\n",
    "\n",
    "# import pickle5"
   ]
  },
  {
   "cell_type": "markdown",
   "id": "7eaff249",
   "metadata": {},
   "source": [
    "### Khai báo biến"
   ]
  },
  {
   "cell_type": "code",
   "execution_count": null,
   "id": "da8dd01b",
   "metadata": {},
   "outputs": [],
   "source": [
    "end_train_day=pd.Timestamp(\"2021-02-28\")\n",
    "per=pd.read_pickle('Output_file/per_train.pickle')\n",
    "MB_Core_all=pd.read_pickle('Output_file/MB_Core_all.pickle')\n",
    "# Khai báo seasonal\n",
    "Solar=[pd.Timestamp(year=y,month=1,day=1)for y in range(2016,2025)]\n",
    "Lunar=[pd.to_datetime(i,dayfirst=True) for i in ['8/2/2016', '28/1/2017', '16/2/2018', '5/2/2019', '25/1/2020','12/02/2021','01/02/2022','22/01/2023',\"10/02/2024\"]]\n",
    "ss_day_t0=[x for y in [pd.date_range(Solar[i]-pd.Timedelta(\"45D\"),Lunar[i]-pd.Timedelta(\"30D\")) for i in range(len(Solar))] for x in y]\n",
    "st_msb=pd.date_range(\"2016-07-01\",\"2016-10-12\")"
   ]
  },
  {
   "cell_type": "code",
   "execution_count": null,
   "id": "15ae024c",
   "metadata": {},
   "outputs": [],
   "source": [
    "# import du lieu contractual\n",
    "# File Timeseries Result\n",
    "Result_group=pd.read_pickle(r'Output_file/Result_group.pickle')\n",
    "# Lấy ra tên các cột Contractual\n",
    "contractual_Result=Result_group[[i for i in Result_group.columns if \"contractual\" in str(i[2])]]"
   ]
  },
  {
   "cell_type": "markdown",
   "id": "8045f153",
   "metadata": {},
   "source": [
    "### Historical plot"
   ]
  },
  {
   "cell_type": "code",
   "execution_count": null,
   "id": "99b78882",
   "metadata": {},
   "outputs": [],
   "source": [
    "def historical_plot(c=\"VND\",b=\"RB\",tw=365,Output=MB_Core_all):\n",
    "    uni,div_uni=(\"Millions\",1000000) if c==\"USD\" else (\"Billions\",1000000000)\n",
    "    \n",
    "    df=Output[(c,b)][[\"count\",\"sum_000\",\"sum_{:03}\".format(tw),\"Core_{:03}\".format(tw)]]\n",
    "    df.columns=[\"COUNT\",\"BALANCE_0\",\"BALANCE_T\",\"CORE_T\"]\n",
    "    \n",
    "    b_Treated=b+\"_Treated\"\n",
    "    df_Treated=Output[(c,b_Treated)][[\"count\",\"sum_000\",\"sum_{:03}\".format(tw),\"Core_{:03}\".format(tw)]]\n",
    "    df_Treated.columns=[\"COUNT\",\"BALANCE_0\",\"BALANCE_T\",\"CORE_T\"]\n",
    "    \n",
    "    x = df.index  \n",
    "    fig, axs = plt.subplots(3,1, figsize=(22, 12), gridspec_kw = { \"height_ratios\":[1,2,2]},dpi=68)\n",
    "    ax,ax2,ax3 = axs[0],axs[1],axs[2]\n",
    "    \n",
    "    # plot time count cif\n",
    "    ax.grid(alpha=0.4)\n",
    "    ax.plot(x,df[\"COUNT\"],label=\"COUNT CIF\",alpha=1,linewidth=2)\n",
    "    ax.plot(x,df_Treated[\"COUNT\"],label=\"COUNT CIF TREATED\",alpha=1,linewidth=2)\n",
    "    ax.set_ylim(df_Treated[\"COUNT\"].min()*0.9, df[\"COUNT\"].max()*1.1)\n",
    "    ax.set_title(\"SỐ LƯỢNG KHÁCH HÀNG DANH MỤC {} {}\".format(b,c))\n",
    "    ax.legend(loc=\"upper left\",ncol=2)\n",
    "\n",
    "    for axx,dfx,bx in [(ax2,df,b),(ax3,df_Treated,b_Treated)]:\n",
    "        # plot balance\n",
    "        axx.grid(alpha=0.4)\n",
    "        axx.set_title(\"GIÁ TRỊ DANH MỤC VÀ TỶ LỆ CORE DANH MỤC {} {}\".format(bx,c))\n",
    "        axx.plot(x,gaussian_filter1d(dfx[\"BALANCE_0\"]/div_uni, sigma=2),label=\"Giá trị danh mục tại thời điểm t=0\",alpha=1,linewidth=1)\n",
    "        axx.fill_between(x, 0, gaussian_filter1d(dfx[\"BALANCE_0\"]/div_uni, sigma=2), alpha=0.2)\n",
    "        axx.plot(x,gaussian_filter1d(dfx[\"BALANCE_T\"]/div_uni, sigma=2),label=\"Giá trị danh mục tại thời điểm t={} ngày\".format(tw),alpha=1,linewidth=1)\n",
    "        axx.fill_between(x, 0, gaussian_filter1d(dfx[\"BALANCE_T\"]/div_uni, sigma=2), alpha=0.2)\n",
    "        axx.set_ylim(0, dfx[['BALANCE_0','BALANCE_T']].max().max()*2/div_uni)\n",
    "        axx.set_ylabel(uni)\n",
    "        # plot core\n",
    "        axx_2=axx.twinx()\n",
    "        axx_2.set_ylabel('Tỷ lệ Core (%)')\n",
    "        axx_2.plot(x,gaussian_filter1d(dfx[\"CORE_T\"]*100, sigma=2),color='black',label=\"NORMAL CORE\",alpha=1,linewidth=1.6)\n",
    "        axx_2.plot(st_msb,gaussian_filter1d(dfx.loc[x.isin(st_msb),\"CORE_T\"]*100, sigma=2),'r',label=\"STRESS CORE\",alpha=1,linewidth=2.1)\n",
    "        axx_2.plot(x,gaussian_filter1d(dfx.loc[x.isin(ss_day_t0),\"CORE_T\"].reindex(x)*100, sigma=2),color='limegreen',label=\"STRESS CORE\",alpha=1,linewidth=2.1)\n",
    "        axx_2.set_ylim(0, dfx[\"CORE_T\"].max()*110)\n",
    "        axx_2.plot(x,[100]*len(x),color=\"red\",linestyle=':',linewidth=1.5,alpha=.75)\n",
    "#         axx.vlines(x=df.index.max()-pd.Timedelta(days=365+tw), ymin=0, ymax=1e15)\n",
    "        \n",
    "        #plot normal period\n",
    "        end_train_day_tw=end_train_day-pd.Timedelta(days=tw)\n",
    "        axx.vlines(x=x[(x<=end_train_day_tw) & (x.isin(ss_day_t0)==False)][-365], ymin=0, ymax=dfx[['BALANCE_0','BALANCE_T']].max().max()*2/div_uni,ls=\"--\")\n",
    "        axx.vlines(x=x[(x<=end_train_day_tw) & (x.isin(ss_day_t0)==False)][-1], ymin=0, ymax=dfx[['BALANCE_0','BALANCE_T']].max().max()*2/div_uni,ls=\"--\")\n",
    "        axx.annotate(text=\"Normal Period\",xy=(x[(x<=end_train_day_tw) & (x.isin(ss_day_t0)==False)][-200],0))\n",
    "        \n",
    "        # legend\n",
    "        axx.legend(loc=\"upper left\",ncol=2)\n",
    "        axx_2.legend(loc=\"upper left\",bbox_to_anchor=(0.45,1),ncol=3)\n",
    "    axx.set_xlabel('Begin date')\n",
    "    plt.show()\n",
    "    return fig\n",
    "\n"
   ]
  },
  {
   "cell_type": "code",
   "execution_count": null,
   "id": "840fca01",
   "metadata": {},
   "outputs": [],
   "source": [
    "for b,c,tw in [(\"RB\",\"VND\",365),(\"SME\",\"VND\",365),(\"RB\",\"USD\",365),(\"L\",\"VND\",365)]:\n",
    "    historical_plot(b=b,c=c,tw=tw,Output=MB_Core_all).savefig(\"Plot_output/historical_plot_{}_{}_{}.png\".format(b,c,tw),bbox_inches=\"tight\")"
   ]
  },
  {
   "cell_type": "markdown",
   "id": "24bc77b3",
   "metadata": {},
   "source": [
    "### Comparison Plot"
   ]
  },
  {
   "cell_type": "code",
   "execution_count": null,
   "id": "7f60ef90",
   "metadata": {},
   "outputs": [],
   "source": [
    "def compare_plot(til,c=\"VND\",b=\"RB\",Object=\"count\",Output=MB_Core_all,sigma=2):\n",
    "    uni,div_uni=(\"\",1) if Object==\"count\" else ((\"Billions\",1000000000) if c==\"VND\" else (\"Millions\",1000000))\n",
    "    b=b if type(b)==list else [b]\n",
    "    c=c if type(c)==list else [c]\n",
    "    df=Output.loc[:,Output.columns.get_level_values(\"CURTYP\").isin(c if type(c)==list else [c])\n",
    "             &Output.columns.get_level_values(\"bank\").isin(b if type(b)==list else [b])\n",
    "             &Output.columns.get_level_values(\"Object\").isin(Object if type(Object)==list else [Object])\n",
    "             ]\n",
    "    x = df.index\n",
    "    fig, ax = plt.subplots(1, figsize=(6.5, 3),dpi=68)\n",
    "    ax.set_title(til+\" DANH MỤC {} {}\".format(\", \".join(b),\"/\".join(c)))\n",
    "    plt.grid(alpha=0.4) # set gridlines \n",
    "    for col in df.columns:\n",
    "        ax.plot(x,gaussian_filter1d(df[col]/div_uni, sigma=sigma),label=\"Danh mục {} {}\".format(col[1],col[0]),alpha=1,linewidth=2)\n",
    "    ax.legend(loc=\"upper left\")\n",
    "    ax.set_ylim(None, df.max().max()*1.2/div_uni)\n",
    "    ax.set_xlabel('Begin date')\n",
    "    ax.set_ylabel(uni)\n",
    "    plt.show()\n",
    "    return fig"
   ]
  },
  {
   "cell_type": "code",
   "execution_count": null,
   "id": "0ac9d51d",
   "metadata": {},
   "outputs": [],
   "source": [
    "compare_plot(\"GIÁ TRỊ\",c=\"VND\",b=[\"L\",\"B\",\"S\"],sigma=2)"
   ]
  },
  {
   "cell_type": "markdown",
   "id": "c3969dd2",
   "metadata": {},
   "source": [
    "### Gap change"
   ]
  },
  {
   "cell_type": "code",
   "execution_count": null,
   "id": "54bc4f8b",
   "metadata": {},
   "outputs": [],
   "source": [
    "per_last_year=pd.read_excel(\"Parameter_data/FD Percentile 30 2019.xlsx\").rename(columns={\"CURRENCY_TYPE\":\"CURTYP\"})\n",
    "per_last_year[\"Year\"]=2019\n",
    "\n",
    "\n",
    "per_this_year=per[per.bank.isin([\"SME\",\"RB_Treated\",\"L\"])][['Time','CURTYP','bank',\"WD_030\"]].replace(\"RB_Treated\",\"RB\")\n",
    "per_this_year[\"Year\"]=2020\n",
    "\n",
    "\n",
    "per_gap=per_last_year.append(per_this_year).pivot_table(columns=['CURTYP','bank',\"Time\",\"Year\"])\n",
    "\n",
    "per_gap.loc[:,(per_gap.columns.get_level_values(\"bank\")==\"L\") & (per_gap.columns.get_level_values(\"Time\")!=\"Stress\")]=np.nan"
   ]
  },
  {
   "cell_type": "code",
   "execution_count": null,
   "id": "03bc3a43",
   "metadata": {},
   "outputs": [],
   "source": [
    "def gap_change_data(c=\"VND\",b=\"RB\",per_gap=per_gap,Output_add_core=MB_Core_all,contractual_Result=contractual_Result):\n",
    "    per_gap_nhcd=per_gap[(c,b)].sort_index(axis=1)\n",
    "    per_gap_nhcd.columns=[\"{}_{}\".format(x[0],x[1]) for x in per_gap_nhcd.columns]\n",
    "    df=Output_add_core[[(c,b,\"sum_000\"),(c,b,\"sum_030\")]].dropna().iloc[-90:].copy()\n",
    "    df.columns=[\"Balance_t0\",\"Balance_tw\"]\n",
    "    df[\"WD_tw\"]=df[\"Balance_t0\"]-df[\"Balance_tw\"]\n",
    "    df[per_gap_nhcd.columns]=df[[\"Balance_t0\"]].values*per_gap_nhcd.values\n",
    "    for con in [\"Normal\",\"Seasonal\",\"Stress\"]:\n",
    "        a=np.sort([i for i in df.columns if con in i])\n",
    "        df[con+\"_gap_change\"]=df[a[1]]-df[a[0]]\n",
    "    if b==\"L\":\n",
    "        df[[\"Normal_gap_change\",\"Seasonal_gap_change\"]]=0\n",
    "        na_col=df.columns[df.isna().all()].tolist().copy()\n",
    "        for i in na_col:\n",
    "            df[i].fillna(contractual_Result[(c,b,\"contractual30_0\")],inplace=True)\n",
    "    return df"
   ]
  },
  {
   "cell_type": "code",
   "execution_count": null,
   "id": "a2604f18",
   "metadata": {},
   "outputs": [],
   "source": [
    "def plot_gap(c):\n",
    "    uni,div_uni=(\"Millions\",1000000) if c==\"USD\" else (\"Billions\",1000000000)\n",
    "    gap=(gap_change_data(c=c,b=\"RB\")+gap_change_data(c=c,b=\"SME\")+gap_change_data(c=c,b=\"L\")) if c==\"VND\" else gap_change_data(c=c,b=\"RB\")\n",
    "\n",
    "    df=gap.iloc[:,2:9]/div_uni\n",
    "    x=df.index\n",
    "    fig, axs = plt.subplots(1, 2, figsize=(22, 4),dpi=68)\n",
    "    ax,ax2 = axs[0],axs[1]\n",
    "\n",
    "    ax.set_title(\"DỰ BÁO TỶ LỆ RÚT TIỀN DANH MỤC BWex {}\".format(c))\n",
    "    ax.grid(alpha=0.4)# set gridlines \n",
    "    ax.plot(x,df[\"WD_tw\"],color=\"gray\",label=\"WD thực tế\",linewidth=2,alpha=0.7)\n",
    "    ax.fill_between(x,0,df[\"WD_tw\"],color=\"gray\",alpha=0.2)\n",
    "    color=[\"green\",\"orange\",\"brown\"]\n",
    "    m=-1\n",
    "    for col in df.columns[1:]:\n",
    "        m+=1\n",
    "        ax.plot(x,df[col],\"-\" if m%2==1 else \"--\",label=\"WD {}\".format(col.replace(\"_\",\" \")),alpha=1,linewidth=1.25,color=color[m//2])\n",
    "    ax.legend(loc=\"upper left\",ncol=4)\n",
    "    ax.set_ylim(None, df.max().max()*1.8)\n",
    "    ax.set_xlabel('Begin date')\n",
    "    ax.set_ylabel(uni)\n",
    "    \n",
    "    df=gap.iloc[:,9:]/div_uni\n",
    "    ax2.set_title(\"DỰ BÁO TỶ LỆ RÚT TIỀN THAY ĐỔI ẢNH HƯỞNG ĐẾN GAP DANH MỤC BWex {}\".format(c))\n",
    "    plt.grid(alpha=0.4)\n",
    "    m=-1\n",
    "    for col in df.columns:\n",
    "        m+=1\n",
    "        ax2.plot(x,df[col],color=color[m],label=col)\n",
    "    ax2.legend(loc=\"upper left\",ncol=3)\n",
    "    ax2.set_ylim(None, df.max().max()*1.2+ abs(df.min().min()))\n",
    "    ax2.set_xlabel('Begin date')\n",
    "    ax2.set_ylabel(uni)\n",
    "    plt.show()\n",
    "    return fig"
   ]
  },
  {
   "cell_type": "code",
   "execution_count": null,
   "id": "4f0f6345",
   "metadata": {},
   "outputs": [],
   "source": [
    "for c in [\"VND\",\"USD\"]:\n",
    "    plot_gap(c).savefig(\"Plot_output/gap_30_{}_v2.png\".format(c),bbox_inches=\"tight\")"
   ]
  },
  {
   "cell_type": "markdown",
   "id": "085c5e1c",
   "metadata": {},
   "source": [
    "### Backtest percentile"
   ]
  },
  {
   "cell_type": "markdown",
   "id": "e90c3867",
   "metadata": {},
   "source": [
    "#### Handling data"
   ]
  },
  {
   "cell_type": "code",
   "execution_count": null,
   "id": "ad14cbeb",
   "metadata": {},
   "outputs": [],
   "source": [
    "def backtest_processing_data(c=\"VND\",b=\"EB\",tw=30,per=per,Output=MB_Core_all):\n",
    "    per_nhcd=per.loc[(per.bank==b) & (per.CURTYP==c),[\"Time\",\"WD_{:03}\".format(tw)]].set_index(\"Time\").sort_index()\n",
    "    df=Output[(c,b)][[\"sum_{:03}\".format(i) for i in [0,tw]]]\n",
    "    df.columns=[\"T0\",\"TW\"]\n",
    "    df[\"WD\"]=df[\"T0\"]-df[\"TW\"]\n",
    "    df[per_nhcd.index]=(df[\"T0\"].values*per_nhcd.values).T\n",
    "    df[\"WDss\"]=(df[\"WD\"]*df.index.isin(ss_day_t0)).replace(0,np.nan)\n",
    "    df[\"WDst\"]=(df[\"WD\"]*df.index.isin(st_msb )).replace(0,np.nan)\n",
    "    \n",
    "    #contractual\n",
    "    df_contractual=contractual_Result[(c,b,\"contractual{}_0\".format(tw))].copy()\n",
    "    df_contractual.columns=[\"Contractual_WD\"]\n",
    "    df[\"Contractual_WD\"]=np.nan\n",
    "    df[\"Contractual_WD\"].fillna(df_contractual,inplace=True)\n",
    "    \n",
    "    if b==\"L\":\n",
    "        df[\"Normal\"]=df[\"Contractual_WD\"]\n",
    "        df[\"Seasonal\"]=df[\"Contractual_WD\"]\n",
    "        \n",
    "    return df.iloc[:-tw]"
   ]
  },
  {
   "cell_type": "markdown",
   "id": "f0f81943",
   "metadata": {},
   "source": [
    "#### Backtest Timeseries"
   ]
  },
  {
   "cell_type": "code",
   "execution_count": null,
   "id": "e7a42472",
   "metadata": {},
   "outputs": [],
   "source": [
    "def Backtest_Timeseries_percentile(b,c,tw,df):\n",
    "    uni,div_uni=(\"Millions\",1000000) if c==\"USD\" else (\"Billions\",1000000000)\n",
    "    df=df/div_uni\n",
    "    if b==\"L\":\n",
    "        df=df.drop([\"Normal\",\"Seasonal\"],axis=1)\n",
    "    x = df.index\n",
    "    df_backtest=df.loc[end_train_day-pd.Timedelta(days=tw-1):]\n",
    "    x_backtest=df_backtest.index\n",
    "    # plot time count cif\n",
    "    fig, axs = plt.subplots(2,1, figsize=(18, 10), gridspec_kw = { \"height_ratios\":[4,1]},dpi=68)\n",
    "    ax1,ax2 = axs[0],axs[1]\n",
    "    ax1.set_title(\"BACKTEST RÚT TIỀN DANH MỤC {} {}\".format(b,c))\n",
    "    ax2.set_title(\"GIAI ĐOẠN BACKTEST\")\n",
    "    ax1.grid(alpha=0.4)\n",
    "    cols=[\"WD\",\"WDss\",\"WDst\",\"Normal\",\"Seasonal\",\"Stress\"]\n",
    "    col_labels=[\"Giá trị rút tại tại {} ngày sau tại thời điểm T0\".format(tw),\n",
    "               \"Giá trị rút tại tại {} ngày sau tại thời điểm T0 là giai đoạn mùa vụ\".format(tw),\n",
    "                \"Giá trị rút tại tại {} ngày sau tại thời điểm T0 là giai đoạn căng thẳng\".format(tw),\n",
    "                \"Ước lượng rút thông thường\",\"Ước lượng rút mùa vụ\",\"Ước lượng rút căng thẳng\"\n",
    "               ]\n",
    "    Colors=[\"grey\",\"green\",\"orange\",\"brown\",\"blue\",\"red\"]\n",
    "    for co,la,color in zip(cols,col_labels,Colors):\n",
    "        try:\n",
    "            ax1.plot(x,gaussian_filter1d(df[co], sigma=1),label=la,color=color)\n",
    "            ax2.plot(x_backtest,gaussian_filter1d(df_backtest[co], sigma=1),color=color)\n",
    "        except:\n",
    "            print(\"lỗi \",co)\n",
    "            pass\n",
    "    ax1.fill_between(x, 0, gaussian_filter1d(df[\"WD\"], sigma=1), alpha=0.2)\n",
    "    ax2.fill_between(x_backtest, 0, gaussian_filter1d(df_backtest[\"WD\"], sigma=1), alpha=0.2)\n",
    "\n",
    "    \n",
    "    # plot contractual\n",
    "    if b!=\"L\":\n",
    "        ax1_twin=ax1.twinx()\n",
    "        ax1_twin.plot(x,gaussian_filter1d(df[\"Contractual_WD\"], sigma=1),label=\"Giá trị rút theo hợp đồng trong time-window\",color=\"deepskyblue\",alpha=0.8)\n",
    "        ax1_twin.fill_between(x, 0, gaussian_filter1d(df[\"Contractual_WD\"], sigma=1), alpha=0.2,color=\"deepskyblue\")\n",
    "        ax1_twin.legend(loc=\"upper right\")\n",
    "        ax1_twin.set_ylabel(uni+\" (Contractual)\")\n",
    "        ax1_twin.set_ylim(0, df[\"Contractual_WD\"].max()*1.3)\n",
    "    else:\n",
    "        ax1.plot(x,gaussian_filter1d(df[\"Contractual_WD\"], sigma=1),label=\"Giá trị rút theo hợp đồng trong time-window\",color=\"deepskyblue\",alpha=1)\n",
    "\n",
    "    \n",
    "    #plot normal period\n",
    "    end_train_day_tw=end_train_day-pd.Timedelta(days=tw)\n",
    "    ax1.vlines(x=x[(x<=end_train_day_tw) & (x.isin(ss_day_t0)==False)][-365], ymin=0, ymax=df['WD'].max()*5,ls=\"--\")\n",
    "    ax1.vlines(x=x[(x<=end_train_day_tw) & (x.isin(ss_day_t0)==False)][-1], ymin=0, ymax=df['WD'].max()*5,ls=\"--\")\n",
    "    ax1.annotate(text=\"Normal Period\",xy=(x[x.isin(ss_day_t0)==False][-200],df['Stress'].max()*1.1))\n",
    "    \n",
    "    ax1.legend(loc=\"upper left\",ncol=2)\n",
    "    ax1.set_ylim(0, df[['Stress']].max().max()*1.3)\n",
    "    ax2.set_ylim( df_backtest[\"WD\"].min()*0.9, df_backtest[\"WD\"].max()*1.1)\n",
    "    ax1.set_ylabel(uni)\n",
    "    ax2.set_ylabel(uni)\n",
    "    ax1.set_xlabel('Begin date')\n",
    "    \n",
    "    plt.grid(alpha=0.4)\n",
    "    plt.show()\n",
    "    return fig"
   ]
  },
  {
   "cell_type": "code",
   "execution_count": null,
   "id": "758d3883",
   "metadata": {},
   "outputs": [],
   "source": [
    "for b,c,tw in [(\"RB\",\"VND\",30),(\"SME\",\"VND\",30),(\"RB_Treated\",\"USD\",30),(\"L\",\"VND\",30),(\"BWex\",\"VND\",30),(\"RB\",\"VND\",365)]:\n",
    "    if b==\"BWex\":\n",
    "        df=backtest_processing_data(c=c,b=\"RB\",tw=tw,per=per,Output=MB_Core_all)\\\n",
    "        +backtest_processing_data(c=c,b=\"SME\",tw=tw,per=per,Output=MB_Core_all)\\\n",
    "        +backtest_processing_data(c=c,b=\"L\",tw=tw,per=per,Output=MB_Core_all)\n",
    "    else:  \n",
    "        df=backtest_processing_data(c=c,b=b,tw=tw,per=per,Output=MB_Core_all)\n",
    "    Backtest_Timeseries_percentile(b=b,c=c,tw=tw,df=df)#.savefig(\"Plot_output/Backtest_Timeseries_percentile_{}_{}_{}.png\".format(b,c,tw),bbox_inches=\"tight\")"
   ]
  },
  {
   "cell_type": "markdown",
   "id": "99d4e921",
   "metadata": {},
   "source": [
    "#### Backtest Violation"
   ]
  },
  {
   "cell_type": "code",
   "execution_count": null,
   "id": "dc20c57a",
   "metadata": {},
   "outputs": [],
   "source": [
    "def plot_backtest_violation(df,b,c,tw):\n",
    "    df=df[df.index<=(end_train_day-pd.Timedelta(days=tw))].copy()\n",
    "    uni,div_uni=(\"Millions\",1000000) if c==\"USD\" else (\"Billions\",1000000000)\n",
    "    list_fig=[]\n",
    "    list_condition=[\"Stress\"] if b==\"L\" else [\"Normal\",\"Seasonal\",\"Stress\"]\n",
    "    for condition in list_condition:\n",
    "        fig, axs = plt.subplots(1, 2, figsize=(22.5, 3),dpi=68)\n",
    "        if condition==\"Normal\":\n",
    "            df2=df[df.index.isin(ss_day_t0)==False].iloc[-365:].copy()\n",
    "        elif condition==\"Seasonal\":\n",
    "            df2=df[df.index.isin(ss_day_t0)].copy()\n",
    "        else:\n",
    "            df2 = df.copy()\n",
    "        df2[\"number_vio\"]=(df2[\"WD\"]>df2[condition]).astype(int)\n",
    "        df2[\"amount_vio\"]=(df2[\"WD\"]-df2[condition])*df2[\"number_vio\"]\n",
    "        df2[\"per_amount_vio\"]=df2[\"amount_vio\"]/df2[\"T0\"]\n",
    "#         global df2_month\n",
    "        df2_month=df2.groupby(pd.Grouper(freq='MS')).agg({\"number_vio\":\"sum\",\"amount_vio\":\"mean\",\"per_amount_vio\":[\"max\",\"mean\"]}).applymap(lambda x: x if x>0 else np.nan)\n",
    "        df2_month.columns=df2_month.columns.map(lambda x: x[0]+\"_\"+x[1])\n",
    "        x=df2_month.index\n",
    "        \n",
    "        ax_1,ax_2 = axs[0],axs[1]\n",
    "        #count violation\n",
    "        if condition==\"Normal\":\n",
    "            ax_1.set_xticks(x,minor=True)\n",
    "        ax_1.grid(alpha=0.4)\n",
    "        ax_1.bar(x,df2_month.number_vio_sum.fillna(0),width=15)\n",
    "        ax_1.set_ylabel('Số vi phạm')\n",
    "        ax_1.set_title(\"BACKTEST SỐ LẦN VI PHẠM DANH MỤC {} {} ({})\".format(b,c,condition))\n",
    "        for i in df2_month.dropna().index:\n",
    "            ax_1.annotate(text=df2_month.loc[i,\"number_vio_sum\"].astype(int),xy=(i,df2_month.loc[i,\"number_vio_sum\"]),  va='center',xytext=(-3,7), textcoords='offset points')\n",
    "\n",
    "        dayloc = mdates.MonthLocator([3,6,9,12])\n",
    "        ax_1.xaxis.set_major_locator(dayloc)\n",
    "        ax_1.xaxis.set_major_formatter(mdates.DateFormatter('%Y-%m'))\n",
    "        try:\n",
    "            ax_1.set_ylim(0, df2_month.number_vio_sum.max()*1.2)\n",
    "        except:\n",
    "            pass\n",
    "        ax_1.set_xlabel('Begin date')\n",
    "        \n",
    "        # balance of violation\n",
    "        if condition==\"Normal\":\n",
    "            ax_2.set_xticks(x,minor=True)\n",
    "        ax_2.set_title(\"BACKTEST MỨC ĐỘ VI PHẠM DANH MỤC {} {} ({})\".format(b,c,condition))\n",
    "        ax_2.grid(alpha=0.4)\n",
    "        ax_2.fill_between(x, 0, df2_month['per_amount_vio_max'].fillna(0)*100, alpha=0.4,color=\"orange\",label=\"Tỷ lệ (%) vi phạm lớn nhất\")\n",
    "        ax_2.fill_between(x, 0, df2_month['per_amount_vio_mean'].fillna(0)*100, alpha=1,color=\"orange\",label=\"Tỷ lệ (%) vi phạm trung bình\")\n",
    "        ax_2.set_ylabel('%')\n",
    "        ax_2.set_xlabel('Begin date')\n",
    "        \n",
    "        ax2_2=ax_2.twinx()\n",
    "        ax2_2.bar(x,df2_month[\"amount_vio_mean\"].fillna(0)/div_uni,width=15,label=\"Giá trị vi phạm trung bình\")\n",
    "        ax2_2.set_ylabel(uni)\n",
    "            \n",
    "        ax_2.legend(loc=\"upper left\",ncol=2)\n",
    "        ax2_2.legend(loc=\"upper right\")\n",
    "    \n",
    "        ax_2.xaxis.set_major_locator(dayloc)\n",
    "        ax_2.xaxis.set_major_formatter(mdates.DateFormatter('%Y-%m'))\n",
    "        try:\n",
    "            ax_2.set_ylim(0, df2_month['per_amount_vio_max'].max()*140)\n",
    "            ax2_2.set_ylim(0, df2_month['amount_vio_mean'].max()/div_uni*1.4)\n",
    "        except:\n",
    "            pass\n",
    "        fig.autofmt_xdate()\n",
    "        plt.show()\n",
    "        list_fig.append(fig)\n",
    "    return list_fig,list_condition"
   ]
  },
  {
   "cell_type": "code",
   "execution_count": null,
   "id": "0c25af5e",
   "metadata": {},
   "outputs": [],
   "source": [
    "for b,c,tw in [(\"RB\",\"VND\",30),(\"SME\",\"VND\",30),(\"L\",\"VND\",30),(\"RB_Treated\",\"USD\",30),(\"BWex\",\"VND\",30),(\"RB\",\"VND\",365)]:\n",
    "    if b==\"BWex\":\n",
    "        df=backtest_processing_data(c=c,b=\"RB\",tw=tw,per=per,Output=MB_Core_all)\\\n",
    "        +backtest_processing_data(c=c,b=\"SME\",tw=tw,per=per,Output=MB_Core_all)\\\n",
    "        +backtest_processing_data(c=c,b=\"L\",tw=tw,per=per,Output=MB_Core_all)\n",
    "    else:  \n",
    "        df=backtest_processing_data(c=c,b=b,tw=tw,per=per,Output=MB_Core_all)\n",
    "    fig,list_condition=plot_backtest_violation(df=df,b=b,c=c,tw=tw)\n",
    "    for i,con in zip(fig,list_condition):\n",
    "        i#.savefig(\"Plot_output/plot_backtest_violation_{}_{}_{}_{}.png\".format(b,c,tw,con),bbox_inches=\"tight\")"
   ]
  },
  {
   "cell_type": "markdown",
   "id": "24411dfb",
   "metadata": {},
   "source": [
    "### Term-count plot"
   ]
  },
  {
   "cell_type": "code",
   "execution_count": null,
   "id": "802f8546",
   "metadata": {},
   "outputs": [],
   "source": [
    "# import du lieu contractual\n",
    "# File Timeseries Result\n",
    "Result_group=pd.read_pickle(r'Output_file/Result_group.pickle')\n",
    "#Percent long term deposit (>=12M) in total portfolio\n",
    "Term_count_sum=Result_group[[i for i in Result_group.columns if  \"Term\" in i[1]]]"
   ]
  },
  {
   "cell_type": "code",
   "execution_count": null,
   "id": "6a397cd6",
   "metadata": {},
   "outputs": [],
   "source": [
    "def Term_plot(c='VND',b='RB',Term_count_sum=Term_count_sum):\n",
    "    \n",
    "    df_long=Term_count_sum[c,b+'_Long_Term'][['count','sum']]\n",
    "    df_long.columns=['count_long','sum_long']\n",
    "    df_short=Term_count_sum[c,b+'_Short_Term'][['count','sum']]\n",
    "    df_short.columns=['count_short','sum_short']\n",
    "    df=pd.concat([df_long,df_short],axis=1)\n",
    "    df['% No. of account']=df['count_long']/(df['count_long']+df['count_short'])\n",
    "    df['% Balance']=df['sum_long']/(df['sum_long']+df['sum_short'])\n",
    "    x = df.index\n",
    "    \n",
    "    # plot time count cif\n",
    "    fig, ax = plt.subplots(1, figsize=(20, 2.5),dpi=68)\n",
    "    plt.grid(alpha=0.4) # set gridlines \n",
    "#     plt.grid(alpha=0,axis=\"y\")\n",
    "    ax.plot(x,df[\"% No. of account\"]*100,label=\"% No. of account\",alpha=1,linewidth=2)\n",
    "    ax.plot(x,df[\"% Balance\"]*100,label=\"% Balance\",alpha=1,linewidth=2)\n",
    "    ax.set_title(\"Percent of long term deposit in total portfolio {} {}\".format(b,c))\n",
    "    ax.set_ylabel('%')\n",
    "    # legend\n",
    "    ax.legend(loc=\"upper right\")\n",
    "    plt.show()\n",
    "    return fig"
   ]
  },
  {
   "cell_type": "code",
   "execution_count": null,
   "id": "1deafb6d",
   "metadata": {},
   "outputs": [],
   "source": [
    "for c,b in [(\"VND\",\"RB\"),(\"VND\",\"SME\"),(\"USD\",\"RB\")]:\n",
    "    Term_plot(c=c,b=b)#.savefig(\"Plot_output/Term_plot_{}_{}_{}.png\".format(b,c,\"long\"),bbox_inches=\"tight\")"
   ]
  },
  {
   "cell_type": "markdown",
   "id": "dcd7394a",
   "metadata": {},
   "source": [
    "## Hồi quy"
   ]
  },
  {
   "cell_type": "code",
   "execution_count": null,
   "id": "8b671dec",
   "metadata": {},
   "outputs": [],
   "source": [
    "import pandas as pd\n",
    "from os import path,getcwd\n",
    "import os\n",
    "import numpy as np\n",
    "import statsmodels.api as sm\n",
    "import matplotlib.pyplot as plt\n",
    "from datetime import datetime\n",
    "import matplotlib.dates as mdates\n",
    "\n",
    "# from sklearn.preprocessing import PolynomialFeatures\n",
    "from sklearn.metrics import mean_squared_error\n",
    "from sklearn.model_selection import train_test_split\n",
    "from scipy.ndimage.filters import gaussian_filter1d\n",
    "import warnings\n",
    "# import ast\n",
    "from matplotlib.backends.backend_pdf import PdfPages\n",
    "%matplotlib inline\n",
    "\n",
    "warnings.filterwarnings(\"ignore\")"
   ]
  },
  {
   "cell_type": "markdown",
   "id": "e3ad3d50-23a1-448c-a847-fa6a20bc9f56",
   "metadata": {},
   "source": [
    "### Khai báo biến"
   ]
  },
  {
   "cell_type": "code",
   "execution_count": null,
   "id": "261de0fe-561b-45c2-9e9e-c0ec75c1109a",
   "metadata": {},
   "outputs": [],
   "source": [
    "#path\n",
    "running_tool_path=getcwd()\n",
    "parameter_path=os.path.join(running_tool_path,'Parameter_data')\n",
    "\n",
    "# Khai báo seasonal\n",
    "Solar=[pd.Timestamp(year=y,month=1,day=1)for y in range(2016,2025)]\n",
    "Lunar=[pd.to_datetime(i,dayfirst=True) for i in ['8/2/2016', '28/1/2017', '16/2/2018', '5/2/2019', '25/1/2020','12/02/2021','01/02/2022','22/01/2023',\"10/02/2024\"]]\n",
    "ss_day_t0=[x for y in [pd.date_range(Solar[i]-pd.Timedelta(\"45D\"),Lunar[i]-pd.Timedelta(\"30D\")) for i in range(len(Solar))] for x in y]\n",
    "st_msb=pd.date_range(\"2016-07-01\",\"2016-10-12\")\n",
    "\n",
    "# kết quả percentile ==> tạo kết quả mix\n",
    "per=per_gap=pd.read_pickle('Output_file/per_train.pickle')\n",
    "MB_Core_all=pd.read_pickle('Output_file/MB_Core_all.pickle')\n",
    "\n",
    "# import du lieu contractual\n",
    "# File Timeseries Result\n",
    "Result_group=pd.read_pickle(r'Output_file/Result_group.pickle')\n",
    "# Lấy ra tên các cột Contractual\n",
    "contractual_Result=Result_group[[i for i in Result_group.columns if \"contractual\" in str(i[2])]]"
   ]
  },
  {
   "cell_type": "markdown",
   "id": "151a7ffa-dd9c-4610-90a1-268a3c087c80",
   "metadata": {},
   "source": [
    "### Xử lý dữ liệu"
   ]
  },
  {
   "cell_type": "markdown",
   "id": "4a7828be-f586-4d7a-86b7-414ba5ea3592",
   "metadata": {},
   "source": [
    "#### Biến ngày"
   ]
  },
  {
   "cell_type": "code",
   "execution_count": null,
   "id": "1344d4e5-9d41-4374-81d9-b49ff2159cce",
   "metadata": {},
   "outputs": [],
   "source": [
    "start_day_reg=pd.Timestamp(\"2018-07-02\") # Ngày đầu tiên chạy hồi quy\n",
    "end_day_reg=pd.Timestamp(\"2021-06-30\")\n",
    "end_day_reg_train=end_train_day=pd.Timestamp(\"2021-02-28\")\n",
    "#số ngày giai đoạn test\n",
    "test_size=int((end_day_reg-end_day_reg_train)/pd.Timedelta(\"1D\"))\n",
    "\n",
    "#covid\n",
    "covid=pd.date_range(pd.Timestamp(\"2020-02-14\"),end_day_reg).to_list()\n",
    "\n",
    "# Khai báo seasonal\n",
    "Solar=[pd.Timestamp(year=y,month=1,day=1)for y in range(2016,2025)]\n",
    "Lunar=[pd.to_datetime(i,dayfirst=True) for i in ['8/2/2016', '28/1/2017', '16/2/2018', '5/2/2019', '25/1/2020','12/02/2021','01/02/2022','22/01/2023',\"10/02/2024\"]]\n",
    "ss_day_t0=[x for y in [pd.date_range(Solar[i]-pd.Timedelta(\"45D\"),Lunar[i]-pd.Timedelta(\"30D\")) for i in range(len(Solar))] for x in y]\n"
   ]
  },
  {
   "cell_type": "markdown",
   "id": "424a352f-06cc-4441-ac73-9c3adeb34aff",
   "metadata": {},
   "source": [
    "#### Biến phụ thuộc"
   ]
  },
  {
   "cell_type": "code",
   "execution_count": null,
   "id": "57d35f01-2f02-44c0-944f-efe2f87eee73",
   "metadata": {},
   "outputs": [],
   "source": [
    "# Biến tỷ lệ rút (biến phụ thuộc)\n",
    "Withdraw_Ratio=pd.read_pickle('Output_file/Withdraw_Ratio.pickle')\n",
    "wd_reg=Withdraw_Ratio.loc[(Withdraw_Ratio.index>=start_day_reg) & (Withdraw_Ratio.index<=end_day_reg),\n",
    "((Withdraw_Ratio.columns.get_level_values(\"CURTYP\")==\"VND\") & (Withdraw_Ratio.columns.get_level_values(\"bank\").isin([\"RB\",\"SME\",\"EB\"]))) |\\\n",
    "((Withdraw_Ratio.columns.get_level_values(\"CURTYP\")==\"USD\") & (Withdraw_Ratio.columns.get_level_values(\"bank\").isin([\"RB_Treated\"])))]\n",
    "wd_reg.columns=[\"_\".join(i) for i in wd_reg.columns]"
   ]
  },
  {
   "cell_type": "markdown",
   "id": "dae442f1-deba-4e6e-a64c-81a48080edd6",
   "metadata": {},
   "source": [
    "#### Biến tỷ lệ rút trung binh lag"
   ]
  },
  {
   "cell_type": "code",
   "execution_count": null,
   "id": "d22ac3db-ab66-4c19-80e0-2eb94932df06",
   "metadata": {},
   "outputs": [],
   "source": [
    "# Biến tỷ lệ rút trung binh lag 7 15 30 ngay (biến doc lap)\n",
    "def avg_wd_lag(lag,Withdraw_Ratio):\n",
    "    Withdraw_Ratio_copy=Withdraw_Ratio.loc[:,\n",
    "    ((Withdraw_Ratio.columns.get_level_values(\"CURTYP\")==\"VND\") & (Withdraw_Ratio.columns.get_level_values(\"bank\").isin([\"RB\",\"SME\",\"EB\"]))) |\\\n",
    "    ((Withdraw_Ratio.columns.get_level_values(\"CURTYP\")==\"USD\") & (Withdraw_Ratio.columns.get_level_values(\"bank\").isin([\"RB_Treated\"])))].copy()\n",
    "    Withdraw_Ratio_copy.columns=[\"_\".join(i)+\"_avg_lag{}\".format(lag) for i in Withdraw_Ratio_copy.columns]\n",
    "    wd_reg_lag=pd.DataFrame(index=Withdraw_Ratio_copy.index,columns=Withdraw_Ratio_copy.columns).fillna(0)\n",
    "    for i in range(lag):\n",
    "        wd_reg_lag=wd_reg_lag.add(Withdraw_Ratio_copy.shift(1+i),fill_value=0)\n",
    "    wd_reg_lag=wd_reg_lag.loc[(Withdraw_Ratio.index>=start_day_reg) & (Withdraw_Ratio.index<=end_day_reg)]/lag\n",
    "    return wd_reg_lag\n",
    "    \n",
    "avg_wd_lag7=avg_wd_lag(lag=7,Withdraw_Ratio=Withdraw_Ratio)    \n",
    "avg_wd_lag15=avg_wd_lag(lag=15,Withdraw_Ratio=Withdraw_Ratio) \n",
    "avg_wd_lag30=avg_wd_lag(lag=30,Withdraw_Ratio=Withdraw_Ratio)\n",
    "# Avg_wd_lag_variables=pd.concat([avg_wd_lag7,avg_wd_lag15,avg_wd_lag30],axis=1)"
   ]
  },
  {
   "cell_type": "code",
   "execution_count": null,
   "id": "15045590-5d37-4165-938a-55de7bfc8920",
   "metadata": {},
   "outputs": [],
   "source": [
    "# Biến tỷ lệ rút trung binh và lastday lag cuối tháng (biến doc lap)\n",
    "def wd_lag_mark_lastmonth(Withdraw_Ratio,func=\"mean\"):\n",
    "    Withdraw_Ratio_copy=Withdraw_Ratio.loc[:,\n",
    "    ((Withdraw_Ratio.columns.get_level_values(\"CURTYP\")==\"VND\") & (Withdraw_Ratio.columns.get_level_values(\"bank\").isin([\"RB\",\"SME\",\"EB\"]))) |\\\n",
    "    ((Withdraw_Ratio.columns.get_level_values(\"CURTYP\")==\"USD\") & (Withdraw_Ratio.columns.get_level_values(\"bank\").isin([\"RB_Treated\"])))].copy()\n",
    "    Withdraw_Ratio_copy.columns=[\"_\".join(i)+\"_{}_lastmonth\".format(func) for i in Withdraw_Ratio_copy.columns]\n",
    "    Withdraw_Ratio_groupby=Withdraw_Ratio_copy.groupby(pd.Grouper(freq='M')).agg(func).reindex(Withdraw_Ratio_copy.index).sort_index()\n",
    "    Withdraw_Ratio_groupby_available=Withdraw_Ratio_groupby.apply(lambda i: i.shift(int(i.name.split(\"_\")[-3])+1))\n",
    "    Last_wd_lag_mark_lastmonth_variables_get_beginnextmonth=Withdraw_Ratio_groupby_available.groupby(pd.Grouper(freq='M')).agg(\"last\").reindex(Withdraw_Ratio_copy.index).sort_index().shift(1).ffill()\n",
    "    return Last_wd_lag_mark_lastmonth_variables_get_beginnextmonth.loc[(Withdraw_Ratio.index>=start_day_reg) & (Withdraw_Ratio.index<=end_day_reg)]\n",
    "\n",
    "Avg_wd_lag_mark_lastmonth_variables=wd_lag_mark_lastmonth(Withdraw_Ratio,func=\"mean\")\n",
    "Last_wd_lag_mark_lastmonth_variables=wd_lag_mark_lastmonth(Withdraw_Ratio,func=\"last\")"
   ]
  },
  {
   "cell_type": "markdown",
   "id": "7dacf9e1-22b1-40d0-8003-419abcad7c69",
   "metadata": {},
   "source": [
    "#### Biến vĩ mô GDP CPI"
   ]
  },
  {
   "cell_type": "code",
   "execution_count": null,
   "id": "d1ea944b-ebcb-4797-be4b-b19a3e9ad0f0",
   "metadata": {},
   "outputs": [],
   "source": [
    "# Biến vĩ mô GDP CPI\n",
    "GDP=pd.read_excel(parameter_path+'\\\\Macro_variables.xlsx',sheet_name='GDP') #Tỷ lệ tăng trưởng GDP  so với cùng kỳ năm ngoái (thu thập dữ liệu theo quý)\n",
    "CPI=pd.read_excel(parameter_path+'\\\\Macro_variables.xlsx',sheet_name='CPI') #Tỷ lệ tăng trưởng CPI  so tháng trước (thu thập dữ liệu theo tháng)\n",
    "Macro_variables=GDP.merge(CPI).set_index(\"Date\")\n",
    "Macro_variables=Macro_variables.reindex(pd.date_range(min(Macro_variables.index.min(),wd_reg.index.min()),\n",
    "                                      max(Macro_variables.index.max(),wd_reg.index.max()))\n",
    "                       ).ffill().reindex(wd_reg.index)"
   ]
  },
  {
   "cell_type": "markdown",
   "id": "83f048f9-8849-4493-8ec8-9fe0daefeea2",
   "metadata": {},
   "source": [
    "#### Biến contractual"
   ]
  },
  {
   "cell_type": "code",
   "execution_count": null,
   "id": "c5a90688-de97-4e3b-a14e-44dfa5103cb0",
   "metadata": {},
   "outputs": [],
   "source": [
    "# Biến contractual\n",
    "Result_group=pd.read_pickle(r'Output_file/Result_group.pickle')\n",
    "Result_group_reg=Result_group.iloc[(Withdraw_Ratio.index>=start_day_reg) & (Withdraw_Ratio.index<=end_day_reg),\n",
    "((Result_group.columns.get_level_values(\"CURTYP\")==\"VND\") & (Result_group.columns.get_level_values(\"bank\").isin([\"RB\",\"SME\",\"EB\",\"BWex\"]))) |\\\n",
    "((Result_group.columns.get_level_values(\"CURTYP\")==\"USD\") & (Result_group.columns.get_level_values(\"bank\").isin([\"RB_Treated\"])))]\n",
    "contractual=Result_group_reg[[i for i in Result_group_reg.columns if ((('contractual' in str(i[2])) & ('_0' in str(i[2]))) or i[2]==0)]].copy().sort_index(axis=1)\n",
    "contract_rate_variables=pd.DataFrame(columns=contractual.columns[contractual.columns.get_level_values(2).str.contains(\"contractual\").fillna(False)]\n",
    "                                  ,index=contractual.index)\n",
    "for i in contract_rate_variables.columns:\n",
    "    contract_rate_variables[i]=contractual[i].values/contractual[(i[0],i[1],0)].values\n",
    "contract_rate_variables.sort_index(axis=1,inplace=True)\n",
    "# contract_rate_variables.columns=pd.MultiIndex.from_tuples([(i[0],i[1],i[2].replace(\"contractual\",\"contractual_ratio_\").replace(\"_0\",\"\")) \n",
    "#                                                            for i in contract_rate_variables.columns],names=contract_rate_variables.columns.names)\n",
    "contract_rate_variables.columns=contract_rate_variables.columns.map(lambda i:\"{}_{}_{}\".format(i[0],i[1],i[2].replace(\"contractual\",\"contractual_ratio_\").replace(\"_0\",\"\")))"
   ]
  },
  {
   "cell_type": "markdown",
   "id": "f16e28c1-5d90-41df-8b9a-a0f3f055d208",
   "metadata": {},
   "source": [
    "#### Biến lãi suất"
   ]
  },
  {
   "cell_type": "markdown",
   "id": "34f26aa3-bb92-4eac-8e85-090e837181f9",
   "metadata": {
    "tags": [],
    "toc-hr-collapsed": true
   },
   "source": [
    "```python\n",
    "# Xử lý dữ liệu thô lãi suất : file IR Survey.xlsx\n",
    "st_date=\"2018-07-02\"\n",
    "end_date=\"2021-01-24\"\n",
    "# XỬ LÝ IR\n",
    "IR=pd.read_excel(path.join(fd_save,\"IR Survey.xlsx\"),sheet_name=\"RAW\")\n",
    "# drop duplicated\n",
    "IR_hanlded=pd.DataFrame()\n",
    "for i in IR.BANK.unique():\n",
    "    IR_bank=IR[IR.BANK==i].copy().ffill().drop_duplicates(IR.columns[:-1])\n",
    "    IR_bank.loc[IR_bank.Date.duplicated(),\"Date\"]=IR_bank.loc[IR_bank.Date.duplicated(),\"Report_Date\"]\n",
    "    IR_hanlded=IR_hanlded.append(IR_bank)\n",
    "# pivot_table to fill NaN\n",
    "IR=IR_hanlded.pivot_table(values=IR_hanlded.columns[5:-1],columns=\"BANK\",index=\"Date\").reorder_levels([1,0],axis=1).sort_index(axis=1)\n",
    "IR=IR.reindex(pd.date_range(IR.index.min(),IR.index.max())).ffill().reindex(pd.date_range(st_date,end_date)).dropna(how=\"all\").reset_index()\n",
    "# Melt table\n",
    "IR=IR.melt(\"index\",var_name=[\"Bank\",\"Term\"],value_name=\"rate\").pivot_table(\"rate\",[\"index\",\"Bank\"],\"Term\")\n",
    "# Interpolate missing value (tpbank 15M)\n",
    "IR.columns=IR.columns.map(lambda x:int(x[:-1]))\n",
    "IR=IR.sort_index(axis=1).reset_index().rename(columns={\"index\":\"day\"})\n",
    "# set group bank \n",
    "G1=[\"ACB\",\"EXIMBANK\",\"MB\",\"SACOMBANK\",\"TECHCOMBANK\",\"VIB\"]\n",
    "G2=[\"LIENVIET BANK\",\"DONG A BANK\",\"PVCOMBANK\",\"SCB\",\"SHB\",\"SEABANK\",\"TP BANK\",\"VP BANK\"]\n",
    "IR[\"group\"]=IR.Bank.map(lambda x: \"G1\" if x.upper() in G1 else (\"G2\" if x.upper() in G2 else \"MSB\"))\n",
    "# groupby by Date and Group\n",
    "IR_groupby_term=IR.groupby([\"day\",\"group\"],as_index=False).agg(np.nanmean)\n",
    "IR_groupby_term.columns=IR_groupby_term.columns.map(lambda x: x if type(x) == str else str(x)+\"M\")\n",
    "IR_groupby_term.to_pickle(path.join(fd_save,\"IR_groupby_term.pickle\"))\n",
    "```"
   ]
  },
  {
   "cell_type": "code",
   "execution_count": null,
   "id": "dc8de33a-6444-4400-b86d-02ffe23f4b3d",
   "metadata": {},
   "outputs": [],
   "source": [
    "IR_groupby_term=pd.read_pickle(r'Output_file\\\\IR_groupby_term.pickle')"
   ]
  },
  {
   "cell_type": "code",
   "execution_count": null,
   "id": "30ce888b-79cb-4172-8aac-61590b1880fe",
   "metadata": {},
   "outputs": [],
   "source": [
    "# Bien lai suat\n",
    "IR_groupby_term=pd.read_pickle(r'Output_file\\\\IR_groupby_term.pickle')\n",
    "select_term=[\"1M\", '6M','12M',\"Short_Term\",\"Medium_Term\",\"Long_Term\"]\n",
    "# Group Term LS\n",
    "IR_groupby_term[\"Short_Term\"]=(IR_groupby_term[\"1M\"]+IR_groupby_term[\"3M\"])/2\n",
    "IR_groupby_term[\"Medium_Term\"]=(IR_groupby_term[\"6M\"]+IR_groupby_term[\"9M\"])/2\n",
    "IR_groupby_term[\"Long_Term\"]=(IR_groupby_term[\"12M\"]+IR_groupby_term[\"13M\"]+IR_groupby_term[\"15M\"]+\n",
    "                              IR_groupby_term[\"18M\"]+IR_groupby_term[\"24M\"]+IR_groupby_term[\"36M\"])/6\n",
    "\n",
    "G1=IR_groupby_term[IR_groupby_term.group==\"G1\"].set_index(\"day\").drop(\"group\",axis=1)[select_term]\n",
    "G2=IR_groupby_term[IR_groupby_term.group==\"G2\"].set_index(\"day\").drop(\"group\",axis=1)[select_term]\n",
    "MSB=IR_groupby_term[IR_groupby_term.group==\"MSB\"].set_index(\"day\").drop(\"group\",axis=1)[select_term]\n",
    "\n",
    "MSB_G1=MSB-G1\n",
    "MSB_G2=MSB-G2\n",
    "MSB.columns=\"MSB_\"+MSB.columns\n",
    "MSB_G1.columns=\"MSB_G1_\"+MSB_G1.columns\n",
    "MSB_G2.columns=\"MSB_G2_\"+MSB_G2.columns\n",
    "\n",
    "IR_variable=pd.concat([MSB,MSB_G1,MSB_G2],axis=1)\n",
    "IR_variable.index.name=\"Date\"\n",
    "IR_variable=IR_variable.reindex(wd_reg.index).ffill()"
   ]
  },
  {
   "cell_type": "markdown",
   "id": "1a5742ed-aae6-4d55-85f4-ee45fe37f00c",
   "metadata": {},
   "source": [
    "#### biến dummy condition period"
   ]
  },
  {
   "cell_type": "code",
   "execution_count": null,
   "id": "923ddc28-ebbe-44b8-bd94-181dffc0353f",
   "metadata": {},
   "outputs": [],
   "source": [
    "# biến dummy condition period\n",
    "dummy_period_variables=pd.DataFrame(columns=[\"ss_dummy\",\"covid_dummy\"],index=wd_reg.index)\n",
    "dummy_period_variables[\"ss_dummy\"]=dummy_period_variables.index.isin(ss_day_t0).astype(int)\n",
    "dummy_period_variables[\"covid_dummy\"]=dummy_period_variables.index.isin(covid).astype(int)"
   ]
  },
  {
   "cell_type": "markdown",
   "id": "dde247c1-4761-4c03-8e68-d45199c936a4",
   "metadata": {},
   "source": [
    "#### Gộp biến "
   ]
  },
  {
   "cell_type": "code",
   "execution_count": null,
   "id": "0dc5c539-dee3-457e-ba6c-4e8b62fef836",
   "metadata": {},
   "outputs": [],
   "source": [
    "data_all=pd.concat([wd_reg,\n",
    "                    avg_wd_lag7,avg_wd_lag15,avg_wd_lag30,\n",
    "                    Avg_wd_lag_mark_lastmonth_variables,Last_wd_lag_mark_lastmonth_variables,\n",
    "                    Macro_variables,\n",
    "                    contract_rate_variables,\n",
    "                    IR_variable,\n",
    "                    dummy_period_variables],axis=1)"
   ]
  },
  {
   "cell_type": "code",
   "execution_count": null,
   "id": "d3cf8ad4-c9a9-41dd-80c8-ef939ede072d",
   "metadata": {},
   "outputs": [],
   "source": [
    "data_all.to_excel(\"Regression/data_all.xlsx\")"
   ]
  },
  {
   "cell_type": "markdown",
   "id": "eeade489-01a1-4139-9ff4-c484fd3e17db",
   "metadata": {},
   "source": [
    "### Phân tích hồi quy"
   ]
  },
  {
   "cell_type": "markdown",
   "id": "70c7a190-70af-4d62-bd73-a40f67c89651",
   "metadata": {},
   "source": [
    "#### Function"
   ]
  },
  {
   "cell_type": "code",
   "execution_count": null,
   "id": "73b8f4cb-7991-4c1c-ab68-102ccbfc7623",
   "metadata": {},
   "outputs": [],
   "source": [
    "def add_IR_delta(IR_variable,tw):\n",
    "    df=IR_variable-IR_variable.shift(7) # fix so sánh với 7 ngày trước\n",
    "    df.bfill(0,inplace=True)\n",
    "    df.columns=[i+\"_delta{}\".format(tw)for i in df.columns]\n",
    "    return df"
   ]
  },
  {
   "cell_type": "code",
   "execution_count": null,
   "id": "df58f531-d4af-46e0-9f3d-62009f73815a",
   "metadata": {},
   "outputs": [],
   "source": [
    "def filter_IR_with_correlation(IR_variable,test_size=0,max_corr=0.5):\n",
    "    IR_corr_matrix=IR_variable.iloc[:(None if test_size==0 else -test_size)].corr()\n",
    "    # lựa chọn tập X trên threshold correlation\n",
    "    sign=(IR_corr_matrix.abs()<max_corr).astype(int)\n",
    "    list_variables=IR_variable.columns.tolist()\n",
    "    list_X_feature=[[i] for i in list_variables]\n",
    "    for n in range(2, len(list_variables)+1):\n",
    "        check_n_1=[i for i in list_X_feature if len(i)==(n-1)]\n",
    "        if len(check_n_1)==0:\n",
    "            break\n",
    "        list_X_feature_n=[]\n",
    "        for a in check_n_1:\n",
    "            list_X_feature_n+=[np.sort(a+[x]).tolist() for x in sign[sign[a].prod(1)==1].index]\n",
    "        list_X_feature+=pd.DataFrame(list_X_feature_n).drop_duplicates().values.tolist()\n",
    "    return list_X_feature\n",
    "IR_list=[None]+filter_IR_with_correlation(IR_variable,test_size=0,max_corr=0.5)"
   ]
  },
  {
   "cell_type": "code",
   "execution_count": null,
   "id": "39c870a4-4cc2-47c0-a091-4a6d3135ae5d",
   "metadata": {},
   "outputs": [],
   "source": [
    "def handling_data_plot(df,tw,c=\"VND\",b=\"RB\",per=None,test_size=test_size,type_adjust=[\"max\"]):\n",
    "    df=df.copy()\n",
    "    x=df.index\n",
    "    x_end_train=x[-test_size]\n",
    "    df.columns=[\"Real\",\"Predict\"]\n",
    "    \n",
    "    # Cách hiệu chỉnh\n",
    "    for type_adjust in [\"max\",\"normal\",\"seasonal\"]:\n",
    "        if type_adjust==\"max\":\n",
    "            adjust_reg=(df[\"Real\"]-df[\"Predict\"]).loc[:x_end_train-pd.Timedelta(\"1D\")].max()\n",
    "            df[\"Predict_adjust_{}\".format(type_adjust)]=df[\"Predict\"]+adjust_reg\n",
    "            print(\"Giá trị hiệu chỉnh {} (%) = \".format(type_adjust),round(adjust_reg,2))\n",
    "        if type_adjust==\"normal\":\n",
    "            percentile_adjust=90\n",
    "            adjust_reg=np.nanpercentile((df[\"Real\"]-df[\"Predict\"]).loc[df.index.isin(ss_day_t0)==False].dropna().loc[:x_end_train-pd.Timedelta(\"1D\")].iloc[-365:],percentile_adjust)\n",
    "            df[\"Predict_adjust_{}\".format(type_adjust)]=df[\"Predict\"]+adjust_reg\n",
    "            print(\"Giá trị hiệu chỉnh {} (%) = \".format(type_adjust),round(adjust_reg,2))\n",
    "        if type_adjust==\"seasonal\":\n",
    "            percentile_adjust=90\n",
    "            adjust_reg=np.nanpercentile((df[\"Real\"]-df[\"Predict\"]).loc[df.index.isin(ss_day_t0)].dropna().loc[:x_end_train-pd.Timedelta(\"1D\")],percentile_adjust)\n",
    "            df[\"Predict_adjust_{}\".format(type_adjust)]=df[\"Predict\"]+adjust_reg\n",
    "            print(\"Giá trị hiệu chỉnh {} (%) = \".format(type_adjust),round(adjust_reg,2))\n",
    "    #     if type_adjust==\"stress\":\n",
    "    #         percentile_adjust=-10\n",
    "    #         adjust_reg=np.sort((df[\"Real\"]-df[\"Predict\"]).dropna().loc[:x_end_train-pd.Timedelta(\"1D\")])[percentile_adjust]\n",
    "    #         df[\"Predict_adjust_{}\".format(type_adjust)]=df[\"Predict\"]+adjust_reg\n",
    "    df[\"mix_regression\"]=(df.index.isin(st_msb)*df[\"Predict_adjust_max\"])+\\\n",
    "        ((df.index.isin(ss_day_t0) & (df.index.isin(st_msb)==False))*df[\"Predict_adjust_seasonal\"])+\\\n",
    "        (((df.index.isin(ss_day_t0)==False) & (df.index.isin(st_msb)==False))*df[\"Predict_adjust_normal\"])\n",
    "    \n",
    "    \n",
    "    if per is not None:\n",
    "        per_filter=per.loc[(per.CURTYP==c) & (per.bank==b)].set_index(\"Time\").loc[:,\"WD_{:03}\".format(tw)]\n",
    "        per_filter.values\n",
    "        df[per_filter.index]=per_filter.values*100\n",
    "        df[\"mix_percentile\"]=(df.index.isin(st_msb)*df.Stress)+\\\n",
    "        ((df.index.isin(ss_day_t0) & (df.index.isin(st_msb)==False))*df.Seasonal)+\\\n",
    "        (((df.index.isin(ss_day_t0)==False) & (df.index.isin(st_msb)==False))*df.Normal)\n",
    "\n",
    "    return df"
   ]
  },
  {
   "cell_type": "code",
   "execution_count": null,
   "id": "61c78d11-7e6c-4139-b20d-9abb48ed0d0c",
   "metadata": {},
   "outputs": [],
   "source": [
    "def plot_reg(df,tw,test_size,b,c,figsize=(10, 4),dpi=100):\n",
    "    x=df.index\n",
    "    x_end_train=x[-test_size]\n",
    "    fig, ax = plt.subplots(1, figsize=figsize,dpi=dpi)\n",
    "    ax.set_title(\"Mô hình hồi quy danh mục {} {} Time-window {} ngày\".format(b,c,tw).upper())\n",
    "    ax.grid(alpha=0.3)\n",
    "\n",
    "    ax.fill_between(x, 0, df[\"Real\"], alpha=0.1,color=\"gray\")\n",
    "    ax.fill_between(x, 0,df.loc[df.index.isin(covid),\"Real\"].reindex(x),color=\"orange\", alpha=0.2,label=\"Covid Period\",hatch='.')\n",
    "    ax.fill_between(x, 0,df.loc[df.index.isin(ss_day_t0),\"Real\"].reindex(x),color=\"violet\", alpha=0.3,label=\"Seasonal Period\")\n",
    "    \n",
    "    ax.plot(x,df[\"Predict\"],color=\"goldenrod\",label=\"Tỷ lệ Rút hồi quy\",alpha=0.7,linewidth=0.7)\n",
    "    \n",
    "    ax.plot(x,(df[\"Predict_adjust_normal\"]),\"g-\",label=\"Tỷ lệ rút normal regression\",alpha=0.7,linewidth=0.7)\n",
    "    ax.plot(x,(df[\"Predict_adjust_seasonal\"]),\"b-\",label=\"Tỷ lệ rút seasonal regression\",alpha=0.7,linewidth=0.7)\n",
    "#     ax.plot(x,(df[\"Predict_adjust_max\"]),color=\"violet\",ls=\"-\",label=\"Tỷ lệ rút stress regression\",alpha=0.7,linewidth=0.7)\n",
    "    \n",
    "    ax.plot(x,df[\"Real\"],color=\"gray\",label=\"Tỷ lệ Rút thực tế\")\n",
    "    ax.plot(x,(df[\"mix_regression\"]),ls=\"-\",color=\"orangered\",label=\"Tỷ lệ rút hồi quy hiệu chỉnh\",linewidth=1.5) \n",
    "\n",
    "    ax.legend(ncol=3,loc=\"upper left\")\n",
    "    ax.vlines(x=x_end_train, ymin=0, ymax=df.max().max()*1.2,ls=\"--\",color=\"green\",linewidth=2)\n",
    "    ax.annotate(text=\"Test Period\",xy=(x_end_train+pd.Timedelta(\"3D\"),df.max().max()))\n",
    "#     ax.set_ylim( 0, df.max().max()*1.2)\n",
    "    ax.set_ylabel(\"%\")\n",
    "    ax.set_xlabel('Begin date')\n",
    "    return fig"
   ]
  },
  {
   "cell_type": "code",
   "execution_count": null,
   "id": "bd38951f-d6bd-4358-a5e0-9532e94d5680",
   "metadata": {},
   "outputs": [],
   "source": [
    "def plot_mix(df,tw,test_size,b,c,figsize=(10, 4),dpi=100):\n",
    "    x=df.index\n",
    "    x_end_train=x[-test_size]\n",
    "    fig, ax = plt.subplots(1, figsize=figsize,dpi=dpi)\n",
    "    ax.set_title(\"So sánh mô hình hồi quy và percentile danh mục {} {} Time-window {} ngày\".format(b,c,tw).upper())\n",
    "    ax.grid(alpha=0.3)\n",
    "        \n",
    "    ax.plot(x,(df[\"Predict\"]),ls=\"-\",color=\"deepskyblue\",label=\"Tỷ lệ rút hồi quy\",alpha=0.7,linewidth=0.7) # olive\n",
    "    \n",
    "    ax.plot(x,df[\"Real\"],color=\"gray\",label=\"Tỷ lệ Rút thực tế\")\n",
    "    ax.fill_between(x, 0, df[\"Real\"], alpha=0.1,color=\"gray\")\n",
    "    ax.fill_between(x, 0,df.loc[df.index.isin(covid),\"Real\"].reindex(x),color=\"orange\", alpha=0.1,label=\"Covid Period\",hatch='.')\n",
    "    ax.fill_between(x, 0,df.loc[df.index.isin(ss_day_t0),\"Real\"].reindex(x),color=\"violet\", alpha=0.3,label=\"Seasonal Period\")\n",
    "    \n",
    "    ax.plot(x,(df[\"mix_regression\"]),ls=\"-\",color=\"orangered\",label=\"Tỷ lệ rút hồi quy sau hiệu chỉnh\",alpha=0.7) # olive\n",
    "    ax.plot(x,(df[\"Normal\"]),\"y--\",label=\"Tỷ lệ rút percentile normal\",alpha=0.7)\n",
    "    ax.plot(x,(df[\"Seasonal\"]),\"g--\",label=\"Tỷ lệ rút percentile seasonal\",alpha=0.7)\n",
    "    ax.plot(x,(df[\"Stress\"]),\"b--\",label=\"Tỷ lệ rút percentile stress\",alpha=0.7)\n",
    "    \n",
    "    \n",
    "    \n",
    "    ax.legend(ncol=3,loc=\"upper left\")\n",
    "    ax.vlines(x=x_end_train, ymin=0, ymax=df.max().max()*1.4,ls=\"--\",color=\"green\",linewidth=2)\n",
    "    ax.annotate(text=\"Test Period\",xy=(x_end_train+pd.Timedelta(\"3D\"),df.max().max()))\n",
    "    ax.set_ylim( 0, df.max().max()*1.4)\n",
    "    ax.set_ylabel(\"%\")\n",
    "    ax.set_xlabel('Begin date')\n",
    "    return fig\n"
   ]
  },
  {
   "cell_type": "code",
   "execution_count": null,
   "id": "f619acd1-6c11-43eb-8a1d-d93d33cd1f65",
   "metadata": {},
   "outputs": [],
   "source": [
    "def performance_cal(df):\n",
    "    # RMSE chỉ lấy abs, ko có relative\n",
    "    \n",
    "    x=[i for i in df.columns if \"mix\" in i]\n",
    "    df[[i+\"_diff_abs\" for i in x]]=df[x].values-df[[\"Real\"]].values\n",
    "    df[[i+\"_diff_rel\" for i in x]]=(df[x].values-df[[\"Real\"]].values)/df[[\"Real\"]].values\n",
    "    df_diff=df[[i for i in df.columns if \"diff\" in i]]\n",
    "    performance=pd.concat([(df_diff.pow(2).sum()/len(df_diff)).pow(0.5),\n",
    "    df_diff.abs().max(),\n",
    "    df_diff.mean(),\n",
    "    df_diff.abs().min()],axis=1)\n",
    "    performance.columns=[\"RMSE\",\"max_diff\",\"mean_diff\",\"min_diff\"]\n",
    "    performance=performance.T\n",
    "    for i in performance.columns:\n",
    "        performance.loc[\"RMSE\",i]=performance.loc[\"RMSE\",i.replace(\"rel\",\"abs\")]\n",
    "    return performance"
   ]
  },
  {
   "cell_type": "code",
   "execution_count": null,
   "id": "11eded37-332b-4f99-b517-bc9a89fcb0b5",
   "metadata": {},
   "outputs": [],
   "source": [
    "def run_OLS(b,c,tw,wd_lag=avg_wd_lag7,wd_lastmonth=None,ir_names=IR_list[100],ir_delta_booleans=True,macro_names=[\"GDP\"],contractual_booleans=True,dummy_names=[\"ss_dummy\"]\n",
    "            ,wd_reg=wd_reg,return_to=\"overview\",test_size=test_size,save_fig=False,per=per,figsize=(10, 4),dpi=100):\n",
    "    y=wd_reg[\"{}_{}_WD_{:03}\".format(c,b,tw)].iloc[:-tw].copy()*100\n",
    "    const_x=pd.DataFrame([[1]]*len(wd_reg.index),index=wd_reg.index,columns=[\"const\"])\n",
    "    wd_lag_x=None if (wd_lag is None) else wd_lag[[i for i in wd_lag.columns if \"{}_{}_WD_{:03}\".format(c,b,tw) in i]].copy()*100\n",
    "    wd_lastmonth_x=None if (wd_lastmonth is None) else wd_lastmonth[[i for i in wd_lastmonth.columns if \"{}_{}_WD_{:03}\".format(c,b,tw) in i]].copy()*100\n",
    "    ir_x=None if ((ir_names is None) | (c==\"USD\")) else IR_variable[ir_names].copy()\n",
    "    ir_delta_x = None if ((ir_delta_booleans == False) | (ir_names==None)) else add_IR_delta(ir_x,tw).copy()\n",
    "    macro_x=None if (macro_names is None) else Macro_variables[macro_names].copy()\n",
    "    contractual_x=None if (contractual_booleans==False) else contract_rate_variables[\"{}_{}_contractual_ratio_{}\".format(c,b,tw)].copy()*100\n",
    "    dummy_x=None if (dummy_names is None) else dummy_period_variables[dummy_names].copy()\n",
    "    x_all=pd.concat([const_x,wd_lag_x,wd_lastmonth_x,ir_x,ir_delta_x,macro_x,contractual_x,dummy_x],axis=1).copy().iloc[:-tw]\n",
    "    y_train,y_test,x_train,x_test=train_test_split(y,x_all,test_size=test_size,shuffle=False)\n",
    "\n",
    "    res = sm.OLS(y_train,x_train ).fit()\n",
    "    predict_y_test = res.predict(x_test)\n",
    "    RMSE= np.nan if test_size==1 else mean_squared_error(y_test,predict_y_test,squared=False)\n",
    "#     global df_y\n",
    "    df_y=pd.concat([y,res.predict(x_all)],axis=1)\n",
    "    df_y.columns=[\"Real\",\"Predict\"]\n",
    "#     print(\"RMSE(%) \",RMSE)\n",
    "#     print(\"R2(%) \",res.rsquared*100)\n",
    "    if return_to==\"overview\":\n",
    "        return pd.DataFrame([\"{}_{}_WD_{:03}\".format(c,b,tw),\n",
    "                                res.params.index.tolist(),\n",
    "                                res.params.tolist(),\n",
    "                                int(sum(res.pvalues>0.05)),\n",
    "                                res.rsquared,\n",
    "                                res.f_pvalue,\n",
    "                                RMSE],\n",
    "                                index=[\"Y_feature\",\"X_features\",\"Coef\",\n",
    "                                       \"num_unappropriated_pvalue\",\"R_2\",\n",
    "                                       \"f_pvalue\",\"RMSE\"]).T\n",
    "    if return_to==\"detail\":\n",
    "        print(\"RMSE trước hiệu chỉnh (%) \",round(RMSE,2))\n",
    "        print(\"R2(%) \",round(res.rsquared*100,2))\n",
    "        print(pd.concat([y,x_all],axis=1).corr()[[y.name]])\n",
    "        print(res.summary())\n",
    "\n",
    "    if return_to==\"plot_reg\":\n",
    "        df_handled=handling_data_plot(df_y,tw,c=c,b=b,per=None)\n",
    "        fig=plot_reg(df_handled,tw,test_size,b=b,c=c,figsize=figsize,dpi=dpi)\n",
    "        if save_fig:\n",
    "            return fig\n",
    "        \n",
    "    if return_to==\"plot_mix\":\n",
    "        df_handled=handling_data_plot(df_y,tw,c=c,b=b,per=per)\n",
    "        fig=plot_mix(df_handled,tw,test_size,b,c,figsize=figsize,dpi=dpi)\n",
    "        if save_fig:\n",
    "            global pdf\n",
    "            pdf.savefig(fig)\n",
    "            return fig\n",
    "        \n",
    "    if return_to==\"performance\":\n",
    "        df_handled=handling_data_plot(df_y,tw,c=c,b=b,per=per).iloc[-test_size:]/100\n",
    "        return performance_cal(df_handled).T.round(4)*100\n",
    "    \n",
    "    if return_to==\"backtest_mix\":\n",
    "        df_handled=handling_data_plot(df_y,tw,c=c,b=b,per=per).rename(columns={\"Real\":\"WD\",\"mix\":\"Estimate\"})/100\n",
    "        return df_handled"
   ]
  },
  {
   "cell_type": "code",
   "execution_count": null,
   "id": "182261f2-fd40-46b9-b11a-19c6a51154ae",
   "metadata": {},
   "outputs": [],
   "source": [
    "b=\"RB\"\n",
    "c=\"VND\"\n",
    "tw=30\n",
    "wd_lag=None # avg_wd_lag7 avg_wd_lag15 avg_wd_lag30 None\n",
    "wd_lastmonth=  Avg_wd_lag_mark_lastmonth_variables #  # # Last_wd_lag_mark_lastmonth_variables  Avg_wd_lag_mark_lastmonth_variables None\n",
    "ir_names= ['MSB_G1_Long_Term'] #[  'MSB_G2_Medium_Term', 'MSB_Long_Term']\n",
    "ir_delta_booleans=False\n",
    "macro_names=None\n",
    "contractual_booleans=True\n",
    "dummy_names=  [\"covid_dummy\",\"ss_dummy\"] #\n",
    "# return_to = None                 # detail plot_reg plot_mix backtest_mix\n",
    "run_OLS(b=b,c=c,tw=tw,wd_lag=wd_lag,wd_lastmonth=wd_lastmonth,ir_names=ir_names,ir_delta_booleans=ir_delta_booleans\n",
    "            ,macro_names=macro_names,contractual_booleans=contractual_booleans,dummy_names=dummy_names\n",
    "                ,wd_reg=wd_reg,return_to=\"backtest_mix\",test_size=test_size,save_fig=True,per=per)"
   ]
  },
  {
   "cell_type": "markdown",
   "id": "eb11efd5-70ad-4a28-aed1-6b050807272a",
   "metadata": {},
   "source": [
    "#### Run loop all model"
   ]
  },
  {
   "cell_type": "code",
   "execution_count": null,
   "id": "12ca2a4c-0f89-4370-b7f8-d55b203cb636",
   "metadata": {},
   "outputs": [],
   "source": [
    "# loop_run_ols for VDN\n",
    "def loop_run_ols(b,c,list_tw=[7,30,90,180,365]):\n",
    "    models=pd.DataFrame()\n",
    "    IR_list_loop=[None] if c==\"USD\" else IR_list\n",
    "    number_model=1\n",
    "    for tw in list_tw:\n",
    "        for wd_lag_names in [None,avg_wd_lag7,avg_wd_lag15,avg_wd_lag30]:\n",
    "            for wd_lastmonth_name in [None,Avg_wd_lag_mark_lastmonth_variables,Last_wd_lag_mark_lastmonth_variables]:\n",
    "                for dummy_names in [None,\"ss_dummy\",\"covid_dummy\",[\"ss_dummy\",\"covid_dummy\"]]:\n",
    "                    for contractual_booleans in [False,True]:\n",
    "                        for ir_names in IR_list_loop:\n",
    "                            for ir_delta_booleans in ([True] if (ir_names is None) else [False,True]):\n",
    "                                res=run_OLS(b=b,c=c,tw=tw,wd_lag=wd_lag_names,wd_lastmonth=wd_lastmonth_name,ir_names=ir_names,ir_delta_booleans=ir_delta_booleans,\n",
    "                                            macro_names=None,contractual_booleans=contractual_booleans,dummy_names=dummy_names)\n",
    "                                models=models.append(res)\n",
    "                                number_model+=1\n",
    "                                print(number_model,end=\"\\r\")\n",
    "    models=models[models.num_unappropriated_pvalue==0].copy()\n",
    "    check_model=models.sort_values([\"Y_feature\",\"R_2\"],ascending=False).reset_index(drop=True)\n",
    "#     check_model.to_excel(\"Regression/check_model_{}_{}.xlsx\".format(c,b))\n",
    "    check_model.to_pickle(\"Regression/check_model_v5_{}_{}.pickle\".format(c,b))\n",
    "#     return check_model"
   ]
  },
  {
   "cell_type": "code",
   "execution_count": null,
   "id": "d73f1617-f85c-4199-84c0-448f401d944f",
   "metadata": {},
   "outputs": [],
   "source": [
    "for b,c in [(\"RB_Treated\",\"USD\"),(\"EB\",\"VND\"),(\"SME\",\"VND\"),(\"RB\",\"VND\")]:\n",
    "    loop_run_ols(b,c)"
   ]
  },
  {
   "cell_type": "markdown",
   "id": "6965ff0f-5f40-4963-b1de-00d573c26138",
   "metadata": {},
   "source": [
    "#### Lọc model"
   ]
  },
  {
   "cell_type": "code",
   "execution_count": null,
   "id": "2344f526-4594-4c06-8b8d-e6b602a7a161",
   "metadata": {},
   "outputs": [],
   "source": [
    "def X_sign(list_x):\n",
    "    res=[]\n",
    "    IR_names=IR_variable.columns\n",
    "    for i in list_x:\n",
    "        if isinstance(i,(int,float)):\n",
    "            res.append(np.sign(i))\n",
    "        elif i ==\"const\":\n",
    "            res.append(0)\n",
    "#         elif i in Macro_variables.columns:\n",
    "#             res.append(0)\n",
    "        elif i in IR_names:\n",
    "            res.append(-1)\n",
    "        elif (\"MSB\" in i) and (\"delta\" in i):\n",
    "            res.append(-1)\n",
    "        elif i in contract_rate_variables.columns:\n",
    "            res.append(1)\n",
    "        elif i in (avg_wd_lag7.columns.tolist()+avg_wd_lag15.columns.tolist()+avg_wd_lag30.columns.tolist()+\n",
    "                   Last_wd_lag_mark_lastmonth_variables.columns.tolist()+Avg_wd_lag_mark_lastmonth_variables.columns.tolist()):\n",
    "            res.append(1)\n",
    "        elif i in \"ss_dummy\":\n",
    "            res.append(1)\n",
    "        else: # covid dummy\n",
    "            res.append(0)\n",
    "    return res\n",
    "\n",
    "def filter_true_model(model):\n",
    "    l1=model.Coef.map(X_sign).tolist()\n",
    "    l2=model.X_features.map(X_sign).tolist()\n",
    "    res=[]\n",
    "    for i in range(len(l1)):\n",
    "        check=[(a*b) for a,b in zip(l1[i],l2[i])]\n",
    "        res.append((-1 not in check))\n",
    "    return res\n",
    "\n",
    "def true_model(b,c):\n",
    "    model=pd.read_pickle(\"Regression/check_model_v4_{}_{}.pickle\".format(c,b))\n",
    "    res=model.loc[filter_true_model(model)].sort_values([\"RMSE\",\"R_2\"],ascending=[True,False])\n",
    "    res.drop_duplicates(['R_2','RMSE'],inplace=True)\n",
    "    res.to_excel(\"Regression/true_model_v6_{}_{}.xlsx\".format(c,b))\n",
    "    return res"
   ]
  },
  {
   "cell_type": "code",
   "execution_count": null,
   "id": "08323592-7ba7-45ce-a4f5-ac7884193a36",
   "metadata": {},
   "outputs": [],
   "source": [
    "for b,c in [(\"RB_Treated\",\"USD\"),(\"EB\",\"VND\"),(\"SME\",\"VND\"),(\"RB\",\"VND\")]:\n",
    "    true_model(b=b,c=c)"
   ]
  },
  {
   "cell_type": "markdown",
   "id": "38c166d2-b309-4a39-a987-d91b244bb13b",
   "metadata": {},
   "source": [
    "### Check"
   ]
  },
  {
   "cell_type": "code",
   "execution_count": null,
   "id": "90ac8d02-1440-4d1c-a423-8ba2d1362c78",
   "metadata": {},
   "outputs": [],
   "source": [
    "b=\"RB\"\n",
    "c=\"VND\"\n",
    "tw=30\n",
    "wd_lag=None # avg_wd_lag7 avg_wd_lag15 avg_wd_lag30 None\n",
    "wd_lastmonth=  Avg_wd_lag_mark_lastmonth_variables #  # # Last_wd_lag_mark_lastmonth_variables  Avg_wd_lag_mark_lastmonth_variables None\n",
    "ir_names= ['MSB_G1_Long_Term',] #[  'MSB_G2_Medium_Term', 'MSB_Long_Term']\n",
    "ir_delta_booleans=False\n",
    "macro_names=None\n",
    "contractual_booleans=True\n",
    "dummy_names=  [\"covid_dummy\",\"ss_dummy\"] #\n",
    "return_to = None                 # detail plot_reg plot_mix backtest_mix\n",
    "run_OLS(b=b,c=c,tw=tw,wd_lag=wd_lag,wd_lastmonth=wd_lastmonth,ir_names=ir_names,ir_delta_booleans=ir_delta_booleans\n",
    "            ,macro_names=macro_names,contractual_booleans=contractual_booleans,dummy_names=dummy_names\n",
    "                ,wd_reg=wd_reg,return_to=\"plot_mix\",test_size=test_size,save_fig=True,per=per)\n",
    "# clear_output()"
   ]
  },
  {
   "cell_type": "code",
   "execution_count": null,
   "id": "4beab9ba-21db-4501-acb9-850fff3d56cf",
   "metadata": {},
   "outputs": [],
   "source": [
    "run_OLS(b=b,c=c,tw=tw,wd_lag=wd_lag,wd_lastmonth=wd_lastmonth,ir_names=ir_names,ir_delta_booleans=ir_delta_booleans\n",
    "            ,macro_names=macro_names,contractual_booleans=contractual_booleans,dummy_names=dummy_names\n",
    "                ,wd_reg=wd_reg,return_to=\"plot_mix\",test_size=test_size,save_fig=True,per=per,type_adjust=\"normal\")\n",
    "clear_output()"
   ]
  },
  {
   "cell_type": "code",
   "execution_count": null,
   "id": "df6884ac-444f-4181-9108-65c156251279",
   "metadata": {},
   "outputs": [],
   "source": [
    "res_ols=run_OLS(b=b,c=c,tw=tw,wd_lag=wd_lag,wd_lastmonth=wd_lastmonth,ir_names=ir_names,ir_delta_booleans=ir_delta_booleans\n",
    "            ,macro_names=macro_names,contractual_booleans=contractual_booleans,dummy_names=dummy_names\n",
    "                ,wd_reg=wd_reg,return_to=\"plot_reg\",test_size=test_size,save_fig=True,per=per,figsize=(20, 6),dpi=100)\n"
   ]
  },
  {
   "cell_type": "code",
   "execution_count": null,
   "id": "890dad06-3ac0-4a1b-b7ce-f690ecc67fd8",
   "metadata": {},
   "outputs": [],
   "source": []
  },
  {
   "cell_type": "markdown",
   "id": "2645a617-d23e-43f1-b351-73038dc81e69",
   "metadata": {},
   "source": [
    "### Gap change with regression"
   ]
  },
  {
   "cell_type": "code",
   "execution_count": null,
   "id": "aee80759-43a3-4deb-82e0-4f46ce7d572b",
   "metadata": {},
   "outputs": [],
   "source": [
    "def plot_backtest_mix(b,c,tw,df,MB_Core_all=MB_Core_all):\n",
    "    df=df.copy()\n",
    "    df[\"WDss\"]=(df[\"WD\"]*df.index.isin(ss_day_t0)).replace(0,np.nan)\n",
    "    df[\"WDst\"]=(df[\"WD\"]*df.index.isin(st_msb )).replace(0,np.nan)\n",
    "    t0=MB_Core_all[[(c,b,\"sum_000\")]].reindex(df.index).values\n",
    "    df2=df*t0\n",
    "    df2[\"T0\"]=t0\n",
    "    return df2"
   ]
  },
  {
   "cell_type": "code",
   "execution_count": null,
   "id": "73f84e44-2cd5-4186-826e-19f1d2f9e0d6",
   "metadata": {},
   "outputs": [],
   "source": [
    "per_last_year=pd.read_excel(\"Parameter_data/FD Percentile 30 2019.xlsx\").rename(columns={\"CURRENCY_TYPE\":\"CURTYP\"})\n",
    "per_last_year[\"Year\"]=2019\n",
    "\n",
    "\n",
    "per_this_year=per[per.bank.isin([\"SME\",\"RB_Treated\",\"L\"])][['Time','CURTYP','bank',\"WD_030\"]].replace(\"RB_Treated\",\"RB\")\n",
    "per_this_year[\"Year\"]=2020\n",
    "\n",
    "\n",
    "per_gap=per_last_year.append(per_this_year).pivot_table(columns=['CURTYP','bank',\"Time\",\"Year\"])\n",
    "\n",
    "per_gap.loc[:,(per_gap.columns.get_level_values(\"bank\")==\"L\") & (per_gap.columns.get_level_values(\"Time\")!=\"Stress\")]=np.nan"
   ]
  },
  {
   "cell_type": "code",
   "execution_count": null,
   "id": "b9ada8ad-8a17-4020-9e85-2c64882015e2",
   "metadata": {},
   "outputs": [],
   "source": [
    "b=\"EB\"\n",
    "c=\"VND\"\n",
    "tw=30\n",
    "wd_lastmonth=  Last_wd_lag_mark_lastmonth_variables # Last_wd_lag_mark_lastmonth_variables #  # # Last_wd_lag_mark_lastmonth_variables  Avg_wd_lag_mark_lastmonth_variables None\n",
    "ir_names=  [ 'MSB_12M'] #[  'MSB_G2_12M'] #[ 'MSB_12M'] #None # [ ' 'MSB_12M'', 'MSB_G1_Long_Term'] #[  'MSB_G2_Medium_Term', 'MSB_Long_Term']\n",
    "contractual_booleans=True\n",
    "dummy_names= None #[   'ss_dummy']\n",
    "\n",
    "wd_lag=None # avg_wd_lag7 avg_wd_lag15 avg_wd_lag30 None\n",
    "ir_delta_booleans=False\n",
    "macro_names=None\n",
    "eb_vnd=plot_backtest_mix(b,c,tw,\n",
    "run_OLS(b=b,c=c,tw=tw,wd_lag=wd_lag,wd_lastmonth=wd_lastmonth,ir_names=ir_names,ir_delta_booleans=ir_delta_booleans\n",
    "                ,macro_names=macro_names,contractual_booleans=contractual_booleans,dummy_names=dummy_names\n",
    "                    ,wd_reg=wd_reg,return_to=\"backtest_mix\",test_size=test_size,save_fig=True,per=per)\n",
    "                 )\n",
    "\n",
    "b=\"RB\"\n",
    "c=\"VND\"\n",
    "tw=30\n",
    "wd_lastmonth=  Last_wd_lag_mark_lastmonth_variables # Last_wd_lag_mark_lastmonth_variables #  # # Last_wd_lag_mark_lastmonth_variables  Avg_wd_lag_mark_lastmonth_variables None\n",
    "ir_names=  [ 'MSB_G2_12M'] #[  'MSB_G2_12M'] #[ 'MSB_12M'] #None # [ ' 'MSB_12M'', 'MSB_G1_Long_Term'] #[  'MSB_G2_Medium_Term', 'MSB_Long_Term']\n",
    "contractual_booleans=True\n",
    "dummy_names= [ \"covid_dummy\",  'ss_dummy']\n",
    "\n",
    "wd_lag=None # avg_wd_lag7 avg_wd_lag15 avg_wd_lag30 None\n",
    "ir_delta_booleans=False\n",
    "macro_names=None\n",
    "rb_vnd=plot_backtest_mix(b,c,tw,\n",
    "run_OLS(b=b,c=c,tw=tw,wd_lag=wd_lag,wd_lastmonth=wd_lastmonth,ir_names=ir_names,ir_delta_booleans=ir_delta_booleans\n",
    "                ,macro_names=macro_names,contractual_booleans=contractual_booleans,dummy_names=dummy_names\n",
    "                    ,wd_reg=wd_reg,return_to=\"backtest_mix\",test_size=test_size,save_fig=True,per=per)\n",
    "                 )"
   ]
  },
  {
   "cell_type": "code",
   "execution_count": null,
   "id": "655cc860-f259-4ddf-a3db-04a5cbd348c7",
   "metadata": {},
   "outputs": [],
   "source": [
    "def gap_change_data(c=\"VND\",b=\"RB\",per_gap=per_gap,Output_add_core=MB_Core_all,contractual_Result=contractual_Result):\n",
    "    per_gap_nhcd=per_gap[(c,b)].sort_index(axis=1)\n",
    "    per_gap_nhcd.columns=[\"{}_{}\".format(x[0],x[1]) for x in per_gap_nhcd.columns]\n",
    "    df=Output_add_core[[(c,b,\"sum_000\"),(c,b,\"sum_030\")]].dropna().iloc[-90:].copy()\n",
    "    df.columns=[\"Balance_t0\",\"Balance_tw\"]\n",
    "    df[\"WD_tw\"]=df[\"Balance_t0\"]-df[\"Balance_tw\"]\n",
    "    df[per_gap_nhcd.columns]=df[[\"Balance_t0\"]].values*per_gap_nhcd.values\n",
    "    for con in [\"Normal\",\"Seasonal\",\"Stress\"]:\n",
    "        a=np.sort([i for i in df.columns if con in i])\n",
    "        df[con+\"_gap_change\"]=df[a[1]]-df[a[0]]\n",
    "    if b==\"L\":\n",
    "        df[[\"Normal_gap_change\",\"Seasonal_gap_change\"]]=0\n",
    "        na_col=df.columns[df.isna().all()].tolist().copy()\n",
    "        for i in na_col:\n",
    "            df[i].fillna(contractual_Result[(c,b,\"contractual30_0\")],inplace=True)\n",
    "    return df"
   ]
  },
  {
   "cell_type": "code",
   "execution_count": null,
   "id": "4d41566f-2236-4b6b-8b34-388030706626",
   "metadata": {},
   "outputs": [],
   "source": [
    "def change_gap_type(per_type,reg_type):\n",
    "    reg_type_2=reg_type.reindex(per_type.index)[[\"WD\",\"Predict_adjust_normal\",\"Predict_adjust_seasonal\"]]\\\n",
    "    .rename(columns={\"WD\":'WD_tw',\"Predict_adjust_normal\":\"Normal_2020\",\"Predict_adjust_seasonal\":\"Seasonal_2020\"})\n",
    "    per_type.loc[:,reg_type_2.columns]=reg_type_2\n",
    "    for con in [\"Normal\",\"Seasonal\",\"Stress\"]:\n",
    "        per_type[con+\"_gap_change\"]=per_type[con+\"_2020\"]-per_type[con+\"_2019\"]\n",
    "    return per_type"
   ]
  },
  {
   "cell_type": "code",
   "execution_count": null,
   "id": "1c286a96-19d9-4ed8-ac99-23f51c5f1a86",
   "metadata": {},
   "outputs": [],
   "source": [
    "def plot_gap(c,eb_reg=eb_vnd,rb_reg=rb_vnd):\n",
    "    uni,div_uni=(\"Millions\",1000000) if c==\"USD\" else (\"Billions\",1000000000)\n",
    "    gap=(change_gap_type(per_type=gap_change_data(c=\"VND\",b=\"RB\"),reg_type=rb_reg)+change_gap_type(per_type=gap_change_data(c=\"VND\",b=\"SME\")+gap_change_data(c=\"VND\",b=\"L\"),reg_type=eb_reg)) \\\n",
    "    if c==\"VND\" else gap_change_data(c=c,b=\"RB\")\n",
    "\n",
    "    df=gap.iloc[:,2:9]/div_uni\n",
    "    x=df.index\n",
    "    fig, axs = plt.subplots(1, 2, figsize=(22, 4),dpi=68)\n",
    "    ax,ax2 = axs[0],axs[1]\n",
    "\n",
    "    ax.set_title(\"DỰ BÁO TỶ LỆ RÚT TIỀN DANH MỤC BWex {}\".format(c))\n",
    "    ax.grid(alpha=0.4)# set gridlines \n",
    "    ax.plot(x,df[\"WD_tw\"],color=\"gray\",label=\"WD thực tế\",linewidth=2,alpha=0.7)\n",
    "    ax.fill_between(x,0,df[\"WD_tw\"],color=\"gray\",alpha=0.2)\n",
    "    color=[\"green\",\"orange\",\"brown\"]\n",
    "    m=-1\n",
    "    for col in df.columns[1:]:\n",
    "        m+=1\n",
    "        ax.plot(x,df[col],\"-\" if m%2==1 else \"--\",label=\"WD {}\".format(col.replace(\"_\",\" \")),alpha=1,linewidth=1.25,color=color[m//2])\n",
    "    ax.legend(loc=\"upper left\",ncol=4)\n",
    "    ax.set_ylim(None, df.max().max()*1.8)\n",
    "    ax.set_xlabel('Begin date')\n",
    "    ax.set_ylabel(uni)\n",
    "    \n",
    "    df=gap.iloc[:,9:]/div_uni\n",
    "    ax2.set_title(\"DỰ BÁO TỶ LỆ RÚT TIỀN THAY ĐỔI ẢNH HƯỞNG ĐẾN GAP DANH MỤC BWex {}\".format(c))\n",
    "    plt.grid(alpha=0.4)\n",
    "    m=-1\n",
    "    for col in df.columns:\n",
    "        m+=1\n",
    "        ax2.plot(x,df[col],color=color[m],label=col)\n",
    "    ax2.legend(loc=\"upper left\",ncol=3)\n",
    "    ax2.set_ylim(None, df.max().max()*1.2+ abs(df.min().min()))\n",
    "    ax2.set_xlabel('Begin date')\n",
    "    ax2.set_ylabel(uni)\n",
    "    plt.show()\n",
    "    return fig"
   ]
  },
  {
   "cell_type": "code",
   "execution_count": null,
   "id": "c0f1e293-66ab-44fb-97cd-89586c60d631",
   "metadata": {},
   "outputs": [],
   "source": [
    "for c in [\"VND\",\"USD\"]:\n",
    "    plot_gap(c)#.savefig(\"Plot_output/gap_30_{}_reg.png\".format(c),bbox_inches=\"tight\")"
   ]
  },
  {
   "cell_type": "markdown",
   "id": "eadb13d2-a02f-43ba-af03-fd590e3ad9a3",
   "metadata": {},
   "source": [
    "### Backtest mix kết hợp percentile + hồi quy"
   ]
  },
  {
   "cell_type": "code",
   "execution_count": null,
   "id": "27aeb14d-96b5-4fde-b2d0-e048ea977158",
   "metadata": {},
   "outputs": [],
   "source": [
    "def plot_backtest_mix(b,c,tw,df,MB_Core_all=MB_Core_all):\n",
    "    df=df.copy()\n",
    "    df[\"WDss\"]=(df[\"WD\"]*df.index.isin(ss_day_t0)).replace(0,np.nan)\n",
    "    df[\"WDst\"]=(df[\"WD\"]*df.index.isin(st_msb )).replace(0,np.nan)\n",
    "    t0=MB_Core_all[[(c,b,\"sum_000\")]].reindex(df.index).values\n",
    "    df2=df*t0\n",
    "    df2[\"T0\"]=t0\n",
    "    return df2"
   ]
  },
  {
   "cell_type": "code",
   "execution_count": null,
   "id": "629132ff-d82a-4949-98f1-22648eb64609",
   "metadata": {},
   "outputs": [],
   "source": [
    "b=\"EB\"\n",
    "c=\"VND\"\n",
    "tw=30\n",
    "wd_lastmonth=  Last_wd_lag_mark_lastmonth_variables # Last_wd_lag_mark_lastmonth_variables #  # # Last_wd_lag_mark_lastmonth_variables  Avg_wd_lag_mark_lastmonth_variables None\n",
    "ir_names=  [ 'MSB_12M'] #[  'MSB_G2_12M'] #[ 'MSB_12M'] #None # [ ' 'MSB_12M'', 'MSB_G1_Long_Term'] #[  'MSB_G2_Medium_Term', 'MSB_Long_Term']\n",
    "contractual_booleans=True\n",
    "dummy_names= None #[   'ss_dummy']\n",
    "\n",
    "wd_lag=None # avg_wd_lag7 avg_wd_lag15 avg_wd_lag30 None\n",
    "ir_delta_booleans=False\n",
    "macro_names=None\n",
    "eb_vnd=plot_backtest_mix(b,c,tw,\n",
    "run_OLS(b=b,c=c,tw=tw,wd_lag=wd_lag,wd_lastmonth=wd_lastmonth,ir_names=ir_names,ir_delta_booleans=ir_delta_booleans\n",
    "                ,macro_names=macro_names,contractual_booleans=contractual_booleans,dummy_names=dummy_names\n",
    "                    ,wd_reg=wd_reg,return_to=\"backtest_mix\",test_size=test_size,save_fig=True,per=per)\n",
    "                 )\n",
    "\n",
    "b=\"RB\"\n",
    "c=\"VND\"\n",
    "tw=30\n",
    "wd_lastmonth=  Last_wd_lag_mark_lastmonth_variables # Last_wd_lag_mark_lastmonth_variables #  # # Last_wd_lag_mark_lastmonth_variables  Avg_wd_lag_mark_lastmonth_variables None\n",
    "ir_names=  [ 'MSB_G2_12M'] #[  'MSB_G2_12M'] #[ 'MSB_12M'] #None # [ ' 'MSB_12M'', 'MSB_G1_Long_Term'] #[  'MSB_G2_Medium_Term', 'MSB_Long_Term']\n",
    "contractual_booleans=True\n",
    "dummy_names= [ \"covid_dummy\",  'ss_dummy']\n",
    "\n",
    "wd_lag=None # avg_wd_lag7 avg_wd_lag15 avg_wd_lag30 None\n",
    "ir_delta_booleans=False\n",
    "macro_names=None\n",
    "rb_vnd=plot_backtest_mix(b,c,tw,\n",
    "run_OLS(b=b,c=c,tw=tw,wd_lag=wd_lag,wd_lastmonth=wd_lastmonth,ir_names=ir_names,ir_delta_booleans=ir_delta_booleans\n",
    "                ,macro_names=macro_names,contractual_booleans=contractual_booleans,dummy_names=dummy_names\n",
    "                    ,wd_reg=wd_reg,return_to=\"backtest_mix\",test_size=test_size,save_fig=True,per=per)\n",
    "                 )"
   ]
  },
  {
   "cell_type": "code",
   "execution_count": null,
   "id": "163fbe97-e432-4a60-a98e-04e249c86315",
   "metadata": {},
   "outputs": [],
   "source": [
    "def backtest_processing_data(c=\"VND\",b=\"EB\",tw=30,per=per,Output=MB_Core_all):\n",
    "    per_nhcd=per.loc[(per.bank==b) & (per.CURTYP==c),[\"Time\",\"WD_{:03}\".format(tw)]].set_index(\"Time\").sort_index()\n",
    "    df=Output[(c,b)][[\"sum_{:03}\".format(i) for i in [0,tw]]]\n",
    "    df.columns=[\"T0\",\"TW\"]\n",
    "    df[\"WD\"]=df[\"T0\"]-df[\"TW\"]\n",
    "    df[per_nhcd.index]=(df[\"T0\"].values*per_nhcd.values).T\n",
    "    df[\"WDss\"]=(df[\"WD\"]*df.index.isin(ss_day_t0)).replace(0,np.nan)\n",
    "    df[\"WDst\"]=(df[\"WD\"]*df.index.isin(st_msb )).replace(0,np.nan)\n",
    "    \n",
    "    #contractual\n",
    "    df_contractual=contractual_Result[(c,b,\"contractual{}_0\".format(tw))].copy()\n",
    "    df_contractual.columns=[\"Contractual_WD\"]\n",
    "    df[\"Contractual_WD\"]=np.nan\n",
    "    df[\"Contractual_WD\"].fillna(df_contractual,inplace=True)\n",
    "    \n",
    "    if b==\"L\":\n",
    "        df[\"Normal\"]=df[\"Contractual_WD\"]\n",
    "        df[\"Seasonal\"]=df[\"Contractual_WD\"]\n",
    "        \n",
    "    return df.iloc[:-tw]"
   ]
  },
  {
   "cell_type": "code",
   "execution_count": null,
   "id": "c39dd136-5f62-4577-86fe-0dd49901228e",
   "metadata": {},
   "outputs": [],
   "source": [
    "L_VND=backtest_processing_data(c=\"VND\",b=\"L\")\n",
    "L_VND[\"Normal\"]=L_VND[\"Seasonal\"]=L_VND[\"Contractual_WD\"]\n",
    "eb_vnd_per_ts=backtest_processing_data(c=\"VND\",b=\"SME\")+L_VND\n",
    "rb_vnd_per_ts= backtest_processing_data(c=\"VND\",b=\"RB\")\n",
    "bwex_vnd_per_ts=rb_vnd_per_ts+eb_vnd_per_ts"
   ]
  },
  {
   "cell_type": "code",
   "execution_count": null,
   "id": "5576a1b2-7b5d-4de8-8cc1-89f50e15c2fb",
   "metadata": {},
   "outputs": [],
   "source": [
    "def concat_data_plot(per,reg):\n",
    "    return pd.concat([per,reg[[i for i in reg.columns if i not in per.columns]]],axis=1)"
   ]
  },
  {
   "cell_type": "code",
   "execution_count": null,
   "id": "cc788ac4-62ac-4210-9e20-65245f576cee",
   "metadata": {},
   "outputs": [],
   "source": [
    "def Backtest_Timeseries_mix(b,c,tw,df):\n",
    "    \n",
    "    uni,div_uni=(\"Millions\",1000000) if c==\"USD\" else (\"Billions\",1000000000)\n",
    "    df=df/div_uni\n",
    "    max_y_axis=df.drop([\"T0\",\"TW\",\"Contractual_WD\"],axis=1).max().max()*1.3\n",
    "    x = df.index\n",
    "\n",
    "    \n",
    "    # plot time count cif\n",
    "    fig, ax1 = plt.subplots(1,1, figsize=(18, 10),dpi=100)\n",
    "\n",
    "    ax1.set_title(\"BACKTEST RÚT TIỀN DANH MỤC {} {} TIME-WINDOW {} ngày\".format(b,c,tw))\n",
    "\n",
    "    ax1.grid(alpha=0.2)\n",
    "    \n",
    "    cols=[\"WD\",\"WDss\",\"WDst\",\"Normal\",\"Seasonal\",\"Stress\",\"mix_regression\"]\n",
    "    col_labels=[\"Giá trị rút tại tại {} ngày sau tại thời điểm T0\".format(tw),\n",
    "               \"Giá trị rút tại tại {} ngày sau tại thời điểm T0 là giai đoạn mùa vụ\".format(tw),\n",
    "                \"Giá trị rút tại tại {} ngày sau tại thời điểm T0 là giai đoạn căng thẳng\".format(tw),\n",
    "                \"Ước lượng percentile rút thông thường\",\"Ước lượng percentile rút mùa vụ\",\"Ước lượng percentile rút căng thẳng\",\n",
    "                \"Ước lượng hồi quy sau hiệu chỉnh\",\n",
    "               ]\n",
    "    Colors=[\"grey\",\"green\",\"orange\",\"brown\",\"blue\",\"olivedrab\",\"red\"]\n",
    "    \n",
    "    for co,la,color in zip(cols,col_labels,Colors):\n",
    "        ls,alp=(\"-\",0.7) if co in [\"WD\", \"WDss\",\"WDst\",\"mix_regression\"] else (\"--\",1)\n",
    "        li=1.5 if co==\"mix_regression\" else 1\n",
    "        try:\n",
    "            ax1.plot(x,gaussian_filter1d(df[co], sigma=1),label=la,color=color,ls=ls,alpha=alp,linewidth=li)\n",
    "\n",
    "        except:\n",
    "            print(\"lỗi \",co)\n",
    "            pass\n",
    "    ax1.fill_between(x, 0, gaussian_filter1d(df[\"Contractual_WD\"], sigma=1),label=\"Giá trị hợp đồng đáo hạn trong timewindow\",color=\"violet\", alpha=0.1)\n",
    "    ax1.fill_between(x, 0, gaussian_filter1d(df[\"WD\"], sigma=1), alpha=0.2)\n",
    "\n",
    "\n",
    "    #plot normal period\n",
    "    end_train_day_tw=end_train_day-pd.Timedelta(days=tw)\n",
    "    ax1.vlines(x=x[(x<=end_train_day_tw) & (x.isin(ss_day_t0)==False)][-365], ymin=0, ymax=max_y_axis,ls=\"--\")\n",
    "    ax1.vlines(x=x[(x<=end_train_day_tw) & (x.isin(ss_day_t0)==False)][-1], ymin=0, ymax=max_y_axis,ls=\"--\")\n",
    "    ax1.annotate(text=\"Normal Period\",xy=(x[x.isin(ss_day_t0)==False][-200],max_y_axis*0.8))\n",
    "    \n",
    "    ax1.legend(loc=\"upper left\",ncol=3)\n",
    "    ax1.set_ylim(0, max_y_axis)\n",
    "\n",
    "    ax1.set_ylabel(uni)\n",
    "\n",
    "    ax1.set_xlabel('Begin date')\n",
    "    dayloc = mdates.MonthLocator([3,6,9,12])\n",
    "    ax1.xaxis.set_major_locator(dayloc)\n",
    "    ax1.xaxis.set_major_formatter(mdates.DateFormatter('%Y-%m'))\n",
    "    fig.autofmt_xdate()\n",
    "#     plt.grid(alpha=0.4)\n",
    "    plt.show()\n",
    "    return fig"
   ]
  },
  {
   "cell_type": "code",
   "execution_count": null,
   "id": "4345213e-8969-4e11-900f-1fe34121968e",
   "metadata": {},
   "outputs": [],
   "source": [
    "def plot_backtest_violation_reg(df,b,c,tw):\n",
    "    \n",
    "    df=df[df.index<=(end_train_day-pd.Timedelta(days=tw))].rename(columns={\"mix_regression\":\"Estimate\"}).copy()\n",
    "    uni,div_uni=(\"Millions\",1000000) if c==\"USD\" else (\"Billions\",1000000000)\n",
    "    list_fig=[]\n",
    "    list_condition=[\"All\"] if b==\"L\" else [\"Normal\",\"Seasonal\",\"All\"]\n",
    "    for condition in list_condition:\n",
    "        fig, axs = plt.subplots(1, 2, figsize=(22.5, 3),dpi=68)\n",
    "        if condition==\"Normal\":\n",
    "            df2=df[df.index.isin(ss_day_t0)==False].iloc[-365:].copy()\n",
    "        elif condition==\"Seasonal\":\n",
    "            df2=df[df.index.isin(ss_day_t0)].copy()\n",
    "        else:\n",
    "            df2 = df.copy()\n",
    "            \n",
    "        df2[\"number_vio\"]=(df2[\"WD\"]>df2[\"Estimate\"]).astype(int)\n",
    "        df2[\"amount_vio\"]=(df2[\"WD\"]-df2[\"Estimate\"])*df2[\"number_vio\"]\n",
    "        df2[\"per_amount_vio\"]=df2[\"amount_vio\"]/df2[\"T0\"]\n",
    "    #         global df2_month\n",
    "        df2_month=df2.groupby(pd.Grouper(freq='MS')).agg({\"number_vio\":\"sum\",\"amount_vio\":\"mean\",\"per_amount_vio\":[\"max\",\"mean\"]}).applymap(lambda x: x if x>0 else np.nan)\n",
    "        df2_month.columns=df2_month.columns.map(lambda x: x[0]+\"_\"+x[1])\n",
    "        x=df2_month.index\n",
    "\n",
    "        ax_1,ax_2 = axs[0],axs[1]\n",
    "        #count violation\n",
    "        ax_1.grid(alpha=0.4)\n",
    "        ax_1.bar(x,df2_month.number_vio_sum.fillna(0),width=15)\n",
    "        ax_1.set_ylabel('Số vi phạm')\n",
    "        ax_1.set_title(\"BACKTEST SỐ LẦN VI PHẠM ƯỚC LƯỢNG HỒI QUY DANH MỤC {} {} TIME-WINDOW {} NGÀY ({})\".format(b,c,tw,condition))\n",
    "        for i in df2_month.dropna().index:\n",
    "            ax_1.annotate(text=df2_month.loc[i,\"number_vio_sum\"].astype(int),xy=(i,df2_month.loc[i,\"number_vio_sum\"]),  va='center',xytext=(-3,7), textcoords='offset points')\n",
    "\n",
    "        dayloc = mdates.MonthLocator([3,6,9,12])\n",
    "        ax_1.xaxis.set_major_locator(dayloc)\n",
    "        ax_1.xaxis.set_major_formatter(mdates.DateFormatter('%Y-%m'))\n",
    "        try:\n",
    "            ax_1.set_ylim(0, df2_month.number_vio_sum.max()*1.2)\n",
    "        except:\n",
    "            pass\n",
    "        ax_1.set_xlabel('Begin date')\n",
    "\n",
    "        # balance of violation\n",
    "        ax_2.set_title(\"BACKTEST MỨC ĐỘ VI PHẠM ƯỚC LƯỢNG HỒI QUY DANH MỤC {} {} TIME-WINDOW {} NGÀY ({})\".format(b,c,tw,condition))\n",
    "        ax_2.grid(alpha=0.4)\n",
    "        ax_2.fill_between(x, 0, df2_month['per_amount_vio_max'].fillna(0)*100, alpha=0.4,color=\"orange\",label=\"Tỷ lệ (%) vi phạm lớn nhất\")\n",
    "        ax_2.fill_between(x, 0, df2_month['per_amount_vio_mean'].fillna(0)*100, alpha=1,color=\"orange\",label=\"Tỷ lệ (%) vi phạm trung bình\")\n",
    "        ax_2.set_ylabel('%')\n",
    "        ax_2.set_xlabel('Begin date')\n",
    "\n",
    "        ax2_2=ax_2.twinx()\n",
    "        ax2_2.bar(x,df2_month[\"amount_vio_mean\"].fillna(0)/div_uni,width=15,label=\"Giá trị vi phạm trung bình\")\n",
    "        ax2_2.set_ylabel(uni)\n",
    "\n",
    "        ax_2.legend(loc=\"upper left\",ncol=2)\n",
    "        ax2_2.legend(loc=\"upper right\")\n",
    "\n",
    "        ax_2.xaxis.set_major_locator(dayloc)\n",
    "        ax_2.xaxis.set_major_formatter(mdates.DateFormatter('%Y-%m'))\n",
    "        try:\n",
    "            ax_2.set_ylim(0, df2_month['per_amount_vio_max'].max()*140)\n",
    "            ax2_2.set_ylim(0, df2_month['amount_vio_mean'].max()/div_uni*1.4)\n",
    "        except:\n",
    "            pass\n",
    "        fig.autofmt_xdate()\n",
    "        plt.show()\n",
    "        list_fig.append(fig)\n",
    "    return list_fig,list_condition"
   ]
  },
  {
   "cell_type": "code",
   "execution_count": null,
   "id": "2885a91a-09c9-4a0b-9508-69687d2cf13a",
   "metadata": {},
   "outputs": [],
   "source": [
    "Backtest_Timeseries_mix(df=concat_data_plot(rb_vnd_per_ts,rb_vnd),b=\"RB\",c=\"VND\",tw=30)#.savefig(\"Regression/Backtest_Timeseries_mix_{}_{}_{}_v2.png\".format(\"RB\",\"VND\",30),bbox_inches=\"tight\")\n",
    "Backtest_Timeseries_mix(df=concat_data_plot(eb_vnd_per_ts,eb_vnd),b=\"EB\",c=\"VND\",tw=30)#.savefig(\"Regression/Backtest_Timeseries_mix_{}_{}_{}_v2.png\".format(\"EB\",\"VND\",30),bbox_inches=\"tight\")\n",
    "Backtest_Timeseries_mix(df=concat_data_plot(bwex_vnd_per_ts,eb_vnd+rb_vnd),b=\"BWex\",c=\"VND\",tw=30)#.savefig(\"Regression/Backtest_Timeseries_mix_{}_{}_{}_v2.png\".format(\"BWex\",\"VND\",30),bbox_inches=\"tight\")"
   ]
  },
  {
   "cell_type": "markdown",
   "id": "4834e200-97b6-4c59-a821-be9667dd1d16",
   "metadata": {},
   "source": [
    "### Export"
   ]
  },
  {
   "cell_type": "code",
   "execution_count": null,
   "id": "f984c35e-f1ea-4381-a8e9-ecd391927a79",
   "metadata": {},
   "outputs": [],
   "source": [
    "def export_reg(b,c,tw,wd_lag ,wd_lastmonth ,ir_names,ir_delta_booleans,macro_names,contractual_booleans,dummy_names):\n",
    "    for return_to in ['performance',\"plot_reg\",\"plot_mix\",\"backtest_mix\"]:\n",
    "        res=run_OLS(b=b,c=c,tw=tw,wd_lag=wd_lag,wd_lastmonth=wd_lastmonth,ir_names=ir_names,ir_delta_booleans=ir_delta_booleans\n",
    "            ,macro_names=macro_names,contractual_booleans=contractual_booleans,dummy_names=dummy_names\n",
    "                ,wd_reg=wd_reg,return_to=return_to,test_size=test_size,save_fig=True,per=per)\n",
    "        if return_to=='performance':\n",
    "            res.to_excel(\"Regression/performance_{}_{}_{}.xlsx\".format(b,c,tw))\n",
    "#         if return_to=='plot_reg':\n",
    "#             res.savefig(\"Regression/plot_reg_{}_{}_{}.png\".format(b,c,tw),bbox_inches=\"tight\")\n",
    "        if return_to=='plot_mix':\n",
    "            res.savefig(\"Regression/plot_mix_{}_{}_{}.png\".format(b,c,tw),bbox_inches=\"tight\")\n",
    "        if return_to=='backtest_mix':\n",
    "            df2 = plot_backtest_mix(b,c,tw,res)\n",
    "            Backtest_Timeseries_mix(b,c,tw,df2).savefig(\"Regression/Backtest_Timeseries_mix_{}_{}_{}.png\".format(b,c,tw),bbox_inches=\"tight\")\n",
    "            list_fig,list_condition=plot_backtest_violation_reg(df2,b,c,tw)\n",
    "            for fig,condition in zip(list_fig,list_condition):\n",
    "                fig.savefig(\"Regression/plot_backtest_violation_reg_{}_{}_{}_{}.png\".format(b,c,tw,condition),bbox_inches=\"tight\")\n",
    "            "
   ]
  },
  {
   "cell_type": "code",
   "execution_count": null,
   "id": "44f6bd3f-70e5-4ebf-ab8c-ccd0b511844c",
   "metadata": {},
   "outputs": [],
   "source": [
    "# RB VND 7 ('VND_RB_WD_007_last_lastmonth', 'MSB_G1_1M', 'MSB_G2_12M', 'VND_RB_contractual_ratio_7', 'ss_dummy', 'covid_dummy')\n",
    "# RB VND 30 ( 'VND_RB_WD_030_last_lastmonth', 'MSB_G2_12M', 'VND_RB_contractual_ratio_30', 'ss_dummy', 'covid_dummy')\n",
    "# RB VND 90 ('VND_RB_WD_090_last_lastmonth', 'MSB_G2_12M', 'covid_dummy')\n",
    "# RB VND 180 ('VND_RB_WD_180_last_lastmonth')\n",
    "\n",
    "# VND_EB_WD_007\t('VND_EB_WD_007_last_lastmonth', 'MSB_1M', 'MSB_G1_12M', 'VND_EB_contractual_ratio_7', 'ss_dummy')\n",
    "# VND_EB_WD_030\t('VND_EB_WD_030_last_lastmonth', 'MSB_12M', 'VND_EB_contractual_ratio_30')\n",
    "# VND_EB_WD_090\t ('VND_EB_WD_090_last_lastmonth', 'VND_EB_contractual_ratio_90')\n",
    "# VND_EB_WD_180\t ('VND_EB_WD_180_last_lastmonth')\n",
    "\n",
    "# USD_RB_Treated_WD_090\t ('USD_RB_Treated_WD_090_last_lastmonth')\n",
    "# USD_RB_Treated_WD_180\t ('USD_RB_Treated_WD_180_last_lastmonth')\n",
    "\n"
   ]
  },
  {
   "cell_type": "code",
   "execution_count": null,
   "id": "a4b45cc9-ab4f-45d2-b2d0-f234854f29b8",
   "metadata": {},
   "outputs": [],
   "source": [
    "list_model=[\n",
    "    (\"RB\",\"VND\",7,Last_wd_lag_mark_lastmonth_variables,['MSB_G1_1M', 'MSB_G2_12M'],True, [ \"covid_dummy\",  'ss_dummy']),\n",
    "    (\"RB\",\"VND\",30,Last_wd_lag_mark_lastmonth_variables,[ 'MSB_G2_12M'],True, [ \"covid_dummy\",  'ss_dummy']),\n",
    "    (\"RB\",\"VND\",90,Last_wd_lag_mark_lastmonth_variables,[ 'MSB_G2_12M'],False, [ \"covid_dummy\"]),\n",
    "    (\"RB\",\"VND\",180,Last_wd_lag_mark_lastmonth_variables,None,False, None),\n",
    "    (\"EB\",\"VND\",7,Last_wd_lag_mark_lastmonth_variables,['MSB_1M', 'MSB_G1_12M'],True, ['ss_dummy']),\n",
    "    (\"EB\",\"VND\",30,Last_wd_lag_mark_lastmonth_variables,['MSB_12M'],True, None),\n",
    "    (\"EB\",\"VND\",90,Last_wd_lag_mark_lastmonth_variables,None,True, None),\n",
    "    (\"EB\",\"VND\",180,Last_wd_lag_mark_lastmonth_variables,None,False,None),\n",
    "    (\"RB_Treated\",\"USD\",90,Last_wd_lag_mark_lastmonth_variables,None,False,None),\n",
    "    (\"RB_Treated\",\"USD\",180,Last_wd_lag_mark_lastmonth_variables,None,False,None),\n",
    "]"
   ]
  },
  {
   "cell_type": "code",
   "execution_count": null,
   "id": "5d5c445b-7144-4801-8186-4bcbc9f14ddf",
   "metadata": {},
   "outputs": [],
   "source": [
    "wd_lag=None \n",
    "ir_delta_booleans=False\n",
    "macro_names=None\n",
    "df_res=pd.DataFrame()\n",
    "for b,c,tw,wd_lastmonth,ir_names,contractual_booleans,dummy_names in list_model:\n",
    "    df=run_OLS(b=b,c=c,tw=tw,wd_lag=wd_lag,wd_lastmonth=wd_lastmonth,ir_names=ir_names,ir_delta_booleans=ir_delta_booleans\n",
    "                ,macro_names=macro_names,contractual_booleans=contractual_booleans,dummy_names=dummy_names\n",
    "                    ,wd_reg=wd_reg,return_to=\"overview\",test_size=test_size,save_fig=True,per=per,dpi=200,figsize=(20,8))#.savefig(\"Regression/plot_mix_{}_{}_{}_high_quantity.png\".format(b,c,tw),bbox_inches=\"tight\")\n",
    "    df_res=df_res.append(df)\n",
    "\n",
    "\n",
    "df_res.to_excel(\"res_v2.xlsx\")"
   ]
  },
  {
   "cell_type": "code",
   "execution_count": null,
   "id": "b64ae08c-557c-473a-b45d-bbee873a642c",
   "metadata": {},
   "outputs": [],
   "source": [
    "wd_lag=None \n",
    "ir_delta_booleans=False\n",
    "macro_names=None\n",
    "pdf=PdfPages('kq hoi quy v3 FD LR.pdf')\n",
    "for b,c,tw,wd_lastmonth,ir_names,contractual_booleans,dummy_names in list_model:\n",
    "    a=run_OLS(b=b,c=c,tw=tw,wd_lag=wd_lag,wd_lastmonth=wd_lastmonth,ir_names=ir_names,ir_delta_booleans=ir_delta_booleans\n",
    "                ,macro_names=macro_names,contractual_booleans=contractual_booleans,dummy_names=dummy_names\n",
    "                    ,wd_reg=wd_reg,return_to=\"plot_mix\",test_size=test_size,save_fig=True,per=per,dpi=200,figsize=(20,8))#.savefig(\"Regression/plot_mix_{}_{}_{}_high_quantity.png\".format(b,c,tw),bbox_inches=\"tight\")\n",
    "    pdf.savefig(a)\n",
    "pdf.close()"
   ]
  },
  {
   "cell_type": "code",
   "execution_count": null,
   "id": "88762ec4-b24a-470e-aa11-b21f7316c32a",
   "metadata": {},
   "outputs": [],
   "source": [
    "b=\"RB\"\n",
    "c=\"VND\"\n",
    "tw=7\n",
    "wd_lastmonth=  Last_wd_lag_mark_lastmonth_variables # Last_wd_lag_mark_lastmonth_variables #  # # Last_wd_lag_mark_lastmonth_variables  Avg_wd_lag_mark_lastmonth_variables None\n",
    "ir_names=  [ 'MSB_G1_1M', 'MSB_G2_12M'] #[  'MSB_G2_12M'] #[ 'MSB_12M'] #None # [ ' 'MSB_12M'', 'MSB_G1_Long_Term'] #[  'MSB_G2_Medium_Term', 'MSB_Long_Term']\n",
    "contractual_booleans=True\n",
    "dummy_names= [ \"covid_dummy\",  'ss_dummy']\n",
    "\n",
    "wd_lag=None \n",
    "ir_delta_booleans=False\n",
    "macro_names=None\n",
    "\n",
    "run_OLS(b=b,c=c,tw=tw,wd_lag=wd_lag,wd_lastmonth=wd_lastmonth,ir_names=ir_names,ir_delta_booleans=ir_delta_booleans\n",
    "                ,macro_names=macro_names,contractual_booleans=contractual_booleans,dummy_names=dummy_names\n",
    "                    ,wd_reg=wd_reg,return_to=\"plot_mix\",test_size=test_size,save_fig=True,per=per,dpi=200,figsize=(20,8))#.savefig(\"Regression/plot_mix_{}_{}_{}_high_quantity.png\".format(b,c,tw),bbox_inches=\"tight\")\n"
   ]
  },
  {
   "cell_type": "code",
   "execution_count": null,
   "id": "5f4f0c21-e8ce-4c26-8f9a-91aea44c1885",
   "metadata": {},
   "outputs": [],
   "source": [
    "b=\"RB\"\n",
    "c=\"VND\"\n",
    "tw=30\n",
    "wd_lastmonth=  Last_wd_lag_mark_lastmonth_variables # Last_wd_lag_mark_lastmonth_variables #  # # Last_wd_lag_mark_lastmonth_variables  Avg_wd_lag_mark_lastmonth_variables None\n",
    "ir_names=  [ 'MSB_G2_12M'] #[  'MSB_G2_12M'] #[ 'MSB_12M'] #None # [ ' 'MSB_12M'', 'MSB_G1_Long_Term'] #[  'MSB_G2_Medium_Term', 'MSB_Long_Term']\n",
    "contractual_booleans=True\n",
    "dummy_names= [ \"covid_dummy\",  'ss_dummy']\n",
    "\n",
    "wd_lag=None # avg_wd_lag7 avg_wd_lag15 avg_wd_lag30 None\n",
    "ir_delta_booleans=False\n",
    "macro_names=None\n",
    "rb=plot_backtest_mix(b,c,tw,\n",
    "run_OLS(b=b,c=c,tw=tw,wd_lag=wd_lag,wd_lastmonth=wd_lastmonth,ir_names=ir_names,ir_delta_booleans=ir_delta_booleans\n",
    "                ,macro_names=macro_names,contractual_booleans=contractual_booleans,dummy_names=dummy_names\n",
    "                    ,wd_reg=wd_reg,return_to=\"backtest_mix\",test_size=test_size,save_fig=True,per=per)\n",
    "                 )"
   ]
  },
  {
   "cell_type": "code",
   "execution_count": null,
   "id": "dc66a0a4-7050-45b9-aa82-fbacd9668916",
   "metadata": {},
   "outputs": [],
   "source": [
    "b=\"EB\"\n",
    "c=\"VND\"\n",
    "tw=30\n",
    "wd_lastmonth=  Last_wd_lag_mark_lastmonth_variables # Last_wd_lag_mark_lastmonth_variables #  # # Last_wd_lag_mark_lastmonth_variables  Avg_wd_lag_mark_lastmonth_variables None\n",
    "ir_names=  [ 'MSB_12M'] #[  'MSB_G2_12M'] #[ 'MSB_12M'] #None # [ ' 'MSB_12M'', 'MSB_G1_Long_Term'] #[  'MSB_G2_Medium_Term', 'MSB_Long_Term']\n",
    "contractual_booleans=True\n",
    "dummy_names= None #[   'ss_dummy']\n",
    "\n",
    "wd_lag=None # avg_wd_lag7 avg_wd_lag15 avg_wd_lag30 None\n",
    "ir_delta_booleans=False\n",
    "macro_names=None\n",
    "eb_vnd=plot_backtest_mix(b,c,tw,\n",
    "run_OLS(b=b,c=c,tw=tw,wd_lag=wd_lag,wd_lastmonth=wd_lastmonth,ir_names=ir_names,ir_delta_booleans=ir_delta_booleans\n",
    "                ,macro_names=macro_names,contractual_booleans=contractual_booleans,dummy_names=dummy_names\n",
    "                    ,wd_reg=wd_reg,return_to=\"backtest_mix\",test_size=test_size,save_fig=True,per=per)\n",
    "                 )\n",
    "\n",
    "b=\"RB\"\n",
    "c=\"VND\"\n",
    "tw=30\n",
    "wd_lastmonth=  Last_wd_lag_mark_lastmonth_variables # Last_wd_lag_mark_lastmonth_variables #  # # Last_wd_lag_mark_lastmonth_variables  Avg_wd_lag_mark_lastmonth_variables None\n",
    "ir_names=  [ 'MSB_G2_12M'] #[  'MSB_G2_12M'] #[ 'MSB_12M'] #None # [ ' 'MSB_12M'', 'MSB_G1_Long_Term'] #[  'MSB_G2_Medium_Term', 'MSB_Long_Term']\n",
    "contractual_booleans=True\n",
    "dummy_names= [ \"covid_dummy\",  'ss_dummy']\n",
    "\n",
    "wd_lag=None # avg_wd_lag7 avg_wd_lag15 avg_wd_lag30 None\n",
    "ir_delta_booleans=False\n",
    "macro_names=None\n",
    "rb_vnd=plot_backtest_mix(b,c,tw,\n",
    "run_OLS(b=b,c=c,tw=tw,wd_lag=wd_lag,wd_lastmonth=wd_lastmonth,ir_names=ir_names,ir_delta_booleans=ir_delta_booleans\n",
    "                ,macro_names=macro_names,contractual_booleans=contractual_booleans,dummy_names=dummy_names\n",
    "                    ,wd_reg=wd_reg,return_to=\"backtest_mix\",test_size=test_size,save_fig=True,per=per)\n",
    "                 )"
   ]
  },
  {
   "cell_type": "code",
   "execution_count": null,
   "id": "4e2c7026-84a2-49ec-b914-af625fdc6fc5",
   "metadata": {},
   "outputs": [],
   "source": [
    "bwex_vnd = eb_vnd+rb_vnd\n",
    "Backtest_Timeseries_mix(\"BWex\",c,tw,bwex_vnd).savefig(\"Regression/Backtest_Timeseries_mix_{}_{}_{}.png\".format(\"BWex\",c,tw),bbox_inches=\"tight\")\n",
    "list_fig,list_condition=plot_backtest_violation_reg(bwex_vnd,\"BWex\",c,tw)\n",
    "for fig,condition in zip(list_fig,list_condition):\n",
    "    fig#.savefig(\"Regression/plot_backtest_violation_reg_{}_{}_{}_{}.png\".format(\"BWex\",c,tw,condition),bbox_inches=\"tight\")"
   ]
  },
  {
   "cell_type": "code",
   "execution_count": null,
   "id": "e489ef2e-be45-4ad7-947c-1bb4ca56b122",
   "metadata": {},
   "outputs": [],
   "source": [
    "b=\"EB\"\n",
    "c=\"VND\"\n",
    "tw=30\n",
    "wd_lastmonth=  Last_wd_lag_mark_lastmonth_variables # Last_wd_lag_mark_lastmonth_variables #  # # Last_wd_lag_mark_lastmonth_variables  Avg_wd_lag_mark_lastmonth_variables None\n",
    "ir_names=  [ 'MSB_12M'] #[  'MSB_G2_12M'] #[ 'MSB_12M'] #None # [ ' 'MSB_12M'', 'MSB_G1_Long_Term'] #[  'MSB_G2_Medium_Term', 'MSB_Long_Term']\n",
    "contractual_booleans=True\n",
    "dummy_names= None #[   'ss_dummy']\n",
    "\n",
    "wd_lag=None # avg_wd_lag7 avg_wd_lag15 avg_wd_lag30 None\n",
    "ir_delta_booleans=False\n",
    "macro_names=None\n",
    "plot_backtest_mix(b,c,tw,\n",
    "eb=run_OLS(b=b,c=c,tw=tw,wd_lag=wd_lag,wd_lastmonth=wd_lastmonth,ir_names=ir_names,ir_delta_booleans=ir_delta_booleans\n",
    "                ,macro_names=macro_names,contractual_booleans=contractual_booleans,dummy_names=dummy_names\n",
    "                    ,wd_reg=wd_reg,return_to=\"backtest_mix\",test_size=test_size,save_fig=True,per=per)\n",
    "                 )\n",
    "# export_reg(b,c,tw,wd_lag ,wd_lastmonth ,ir_names,ir_delta_booleans,macro_names,contractual_booleans,dummy_names)\n",
    "# clear_output()\n",
    "# for return_to in [\"detail\",\"performance\"]:\n",
    "#     print(run_OLS(b=b,c=c,tw=tw,wd_lag=wd_lag,wd_lastmonth=wd_lastmonth,ir_names=ir_names,ir_delta_booleans=ir_delta_booleans\n",
    "#                 ,macro_names=macro_names,contractual_booleans=contractual_booleans,dummy_names=dummy_names\n",
    "#                     ,wd_reg=wd_reg,return_to=return_to,test_size=test_size,save_fig=True,per=per))"
   ]
  },
  {
   "cell_type": "code",
   "execution_count": null,
   "id": "20980adb-353f-4113-9332-55e0006fffd9",
   "metadata": {},
   "outputs": [],
   "source": []
  }
 ],
 "metadata": {
  "kernelspec": {
   "display_name": "Python 3",
   "language": "python",
   "name": "python3"
  },
  "language_info": {
   "codemirror_mode": {
    "name": "ipython",
    "version": 3
   },
   "file_extension": ".py",
   "mimetype": "text/x-python",
   "name": "python",
   "nbconvert_exporter": "python",
   "pygments_lexer": "ipython3",
   "version": "3.8.8"
  },
  "toc-autonumbering": true,
  "toc-showmarkdowntxt": false
 },
 "nbformat": 4,
 "nbformat_minor": 5
}
