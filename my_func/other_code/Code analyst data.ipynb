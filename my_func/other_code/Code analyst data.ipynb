{
 "cells": [
  {
   "cell_type": "code",
   "execution_count": 3,
   "id": "54d99b52-3711-4952-8e9f-9943c6f1db0e",
   "metadata": {},
   "outputs": [],
   "source": [
    "from sys import path\n",
    "path.append(r\"\\\\192.168.40.46\\0. Sharing Folder\\my-modules\")\n",
    "\n",
    "from Function_data_analyst import *\n",
    "import sqlite3\n",
    "import matplotlib.pyplot as plt\n"
   ]
  },
  {
   "cell_type": "code",
   "execution_count": 4,
   "id": "ab10e4cc-799a-49fa-ad9c-ef666a12a0dd",
   "metadata": {},
   "outputs": [],
   "source": [
    "pd.set_option(\"display.max_columns\",None)\n",
    "pd.set_option(\"display.max_rows\",40)"
   ]
  },
  {
   "cell_type": "code",
   "execution_count": 11,
   "id": "d485d6d0-ffdf-45b8-afed-0dcfefb3e72f",
   "metadata": {},
   "outputs": [],
   "source": [
    "db_local =cx_Oracle.connect(\"BIGDATA\",\"BIGDATA#2020\",cx_Oracle.makedsn(\"localhost\",1521,\"INFO\"))\n",
    "db_score =cx_Oracle.connect(user=\"score\",password=\"Vmg102021\",dsn=\"192.168.18.32:1521/score\")\n",
    "db_nice =cx_Oracle.connect(user=\"NICEDB\",password=\"NiceVmg368\",dsn=\"192.168.18.32:1521/NICEDB2\")\n",
    "db_bhxh_clean_crypt=sqlite3.connect(r\"db_bhxh_clean_crypt.db\")\n",
    "db_bhxh=sqlite3.connect(r\"BHXH.db\")\n",
    "db_1_to_many=sqlite3.connect(\"1_to_many.db\")"
   ]
  },
  {
   "cell_type": "markdown",
   "id": "12be9918-857b-4c94-a531-14f2b38b524b",
   "metadata": {},
   "source": [
    "# Create data sample"
   ]
  },
  {
   "cell_type": "markdown",
   "id": "a982ad2d-f2bf-4299-a3c7-29d5041ee860",
   "metadata": {},
   "source": [
    "# Read data "
   ]
  },
  {
   "cell_type": "code",
   "execution_count": 21,
   "id": "fc3a8779-157d-450d-95a8-6f5a558cd6e6",
   "metadata": {},
   "outputs": [
    {
     "data": {
      "text/html": [
       "<div>\n",
       "<style scoped>\n",
       "    .dataframe tbody tr th:only-of-type {\n",
       "        vertical-align: middle;\n",
       "    }\n",
       "\n",
       "    .dataframe tbody tr th {\n",
       "        vertical-align: top;\n",
       "    }\n",
       "\n",
       "    .dataframe thead th {\n",
       "        text-align: right;\n",
       "    }\n",
       "</style>\n",
       "<table border=\"1\" class=\"dataframe\">\n",
       "  <thead>\n",
       "    <tr style=\"text-align: right;\">\n",
       "      <th></th>\n",
       "      <th>type</th>\n",
       "      <th>name</th>\n",
       "      <th>tbl_name</th>\n",
       "      <th>rootpage</th>\n",
       "      <th>sql</th>\n",
       "    </tr>\n",
       "  </thead>\n",
       "  <tbody>\n",
       "    <tr>\n",
       "      <th>0</th>\n",
       "      <td>table</td>\n",
       "      <td>S_BHXH_NEW</td>\n",
       "      <td>S_BHXH_NEW</td>\n",
       "      <td>2</td>\n",
       "      <td>CREATE TABLE \"S_BHXH_NEW\" (\\n\"CMND_ENCRYPT\" TE...</td>\n",
       "    </tr>\n",
       "    <tr>\n",
       "      <th>1</th>\n",
       "      <td>table</td>\n",
       "      <td>S_BHXH_NEW_DISTINCT</td>\n",
       "      <td>S_BHXH_NEW_DISTINCT</td>\n",
       "      <td>383602</td>\n",
       "      <td>CREATE TABLE S_BHXH_NEW_DISTINCT(\\n  CMND_ENCR...</td>\n",
       "    </tr>\n",
       "    <tr>\n",
       "      <th>2</th>\n",
       "      <td>table</td>\n",
       "      <td>S_BHXH_ONLINE_NEW</td>\n",
       "      <td>S_BHXH_ONLINE_NEW</td>\n",
       "      <td>687505</td>\n",
       "      <td>CREATE TABLE \"S_BHXH_ONLINE_NEW\" (\\n\"CMND_ENCR...</td>\n",
       "    </tr>\n",
       "    <tr>\n",
       "      <th>3</th>\n",
       "      <td>table</td>\n",
       "      <td>S_BHXH_ONLINE_NEW_DISTINCT</td>\n",
       "      <td>S_BHXH_ONLINE_NEW_DISTINCT</td>\n",
       "      <td>742965</td>\n",
       "      <td>CREATE TABLE S_BHXH_ONLINE_NEW_DISTINCT(\\n  CM...</td>\n",
       "    </tr>\n",
       "    <tr>\n",
       "      <th>4</th>\n",
       "      <td>table</td>\n",
       "      <td>BRANDNAME_SI_INDIVIDUAL</td>\n",
       "      <td>BRANDNAME_SI_INDIVIDUAL</td>\n",
       "      <td>798423</td>\n",
       "      <td>CREATE TABLE \"BRANDNAME_SI_INDIVIDUAL\" (\\n\"USE...</td>\n",
       "    </tr>\n",
       "    <tr>\n",
       "      <th>5</th>\n",
       "      <td>table</td>\n",
       "      <td>BRANDNAME_SI_INDIVIDUAL_DISTINCT</td>\n",
       "      <td>BRANDNAME_SI_INDIVIDUAL_DISTINCT</td>\n",
       "      <td>1503329</td>\n",
       "      <td>CREATE TABLE BRANDNAME_SI_INDIVIDUAL_DISTINCT(...</td>\n",
       "    </tr>\n",
       "    <tr>\n",
       "      <th>6</th>\n",
       "      <td>table</td>\n",
       "      <td>RESPONSE_BHXH_LOG</td>\n",
       "      <td>RESPONSE_BHXH_LOG</td>\n",
       "      <td>1953758</td>\n",
       "      <td>CREATE TABLE \"RESPONSE_BHXH_LOG\" (\\n\"MA_SO_MXH...</td>\n",
       "    </tr>\n",
       "    <tr>\n",
       "      <th>7</th>\n",
       "      <td>table</td>\n",
       "      <td>test</td>\n",
       "      <td>test</td>\n",
       "      <td>2938237</td>\n",
       "      <td>CREATE TABLE \"test\" (\\n\"CMND_ENCRYPT\" TEXT,\\n ...</td>\n",
       "    </tr>\n",
       "    <tr>\n",
       "      <th>8</th>\n",
       "      <td>table</td>\n",
       "      <td>RESPONSE_BHXH_LOG_DISTINCT</td>\n",
       "      <td>RESPONSE_BHXH_LOG_DISTINCT</td>\n",
       "      <td>4170498</td>\n",
       "      <td>CREATE TABLE RESPONSE_BHXH_LOG_DISTINCT(\\n  MA...</td>\n",
       "    </tr>\n",
       "    <tr>\n",
       "      <th>9</th>\n",
       "      <td>table</td>\n",
       "      <td>BRANDNAME_EVN_BILL</td>\n",
       "      <td>BRANDNAME_EVN_BILL</td>\n",
       "      <td>6310420</td>\n",
       "      <td>CREATE TABLE \"BRANDNAME_EVN_BILL\" (\\n\"MAKH\" TE...</td>\n",
       "    </tr>\n",
       "  </tbody>\n",
       "</table>\n",
       "</div>"
      ],
      "text/plain": [
       "    type                              name                          tbl_name  \\\n",
       "0  table                        S_BHXH_NEW                        S_BHXH_NEW   \n",
       "1  table               S_BHXH_NEW_DISTINCT               S_BHXH_NEW_DISTINCT   \n",
       "2  table                 S_BHXH_ONLINE_NEW                 S_BHXH_ONLINE_NEW   \n",
       "3  table        S_BHXH_ONLINE_NEW_DISTINCT        S_BHXH_ONLINE_NEW_DISTINCT   \n",
       "4  table           BRANDNAME_SI_INDIVIDUAL           BRANDNAME_SI_INDIVIDUAL   \n",
       "5  table  BRANDNAME_SI_INDIVIDUAL_DISTINCT  BRANDNAME_SI_INDIVIDUAL_DISTINCT   \n",
       "6  table                 RESPONSE_BHXH_LOG                 RESPONSE_BHXH_LOG   \n",
       "7  table                              test                              test   \n",
       "8  table        RESPONSE_BHXH_LOG_DISTINCT        RESPONSE_BHXH_LOG_DISTINCT   \n",
       "9  table                BRANDNAME_EVN_BILL                BRANDNAME_EVN_BILL   \n",
       "\n",
       "   rootpage                                                sql  \n",
       "0         2  CREATE TABLE \"S_BHXH_NEW\" (\\n\"CMND_ENCRYPT\" TE...  \n",
       "1    383602  CREATE TABLE S_BHXH_NEW_DISTINCT(\\n  CMND_ENCR...  \n",
       "2    687505  CREATE TABLE \"S_BHXH_ONLINE_NEW\" (\\n\"CMND_ENCR...  \n",
       "3    742965  CREATE TABLE S_BHXH_ONLINE_NEW_DISTINCT(\\n  CM...  \n",
       "4    798423  CREATE TABLE \"BRANDNAME_SI_INDIVIDUAL\" (\\n\"USE...  \n",
       "5   1503329  CREATE TABLE BRANDNAME_SI_INDIVIDUAL_DISTINCT(...  \n",
       "6   1953758  CREATE TABLE \"RESPONSE_BHXH_LOG\" (\\n\"MA_SO_MXH...  \n",
       "7   2938237  CREATE TABLE \"test\" (\\n\"CMND_ENCRYPT\" TEXT,\\n ...  \n",
       "8   4170498  CREATE TABLE RESPONSE_BHXH_LOG_DISTINCT(\\n  MA...  \n",
       "9   6310420  CREATE TABLE \"BRANDNAME_EVN_BILL\" (\\n\"MAKH\" TE...  "
      ]
     },
     "execution_count": 21,
     "metadata": {},
     "output_type": "execute_result"
    }
   ],
   "source": [
    "pd.read_sql_query(\"select * from sqlite_master\",db_bhxh)"
   ]
  },
  {
   "cell_type": "markdown",
   "id": "c77ebdb8-4549-4010-9370-338b7292527d",
   "metadata": {},
   "source": [
    "# Analyst data function"
   ]
  },
  {
   "cell_type": "markdown",
   "id": "37074214-a430-4809-a2ed-1543ed76e3f1",
   "metadata": {},
   "source": [
    "## Clean encrypt"
   ]
  },
  {
   "cell_type": "code",
   "execution_count": 6,
   "id": "d984c48b-b1b9-4836-a779-15659ee6ffc5",
   "metadata": {},
   "outputs": [],
   "source": [
    "def export_encrypt_key_to_db(df,name,conn,chunksize=500000):\n",
    "    df=df.drop_duplicates()\n",
    "    df.to_sql(name,conn_bhxh,index=False,if_exists=\"append\",chunksize=chunksize)\n",
    "\n",
    "def execute_db(conn, sql):\n",
    "    try:\n",
    "        c = conn.cursor()\n",
    "        c.execute(sql)\n",
    "    except Exception as e:\n",
    "        print(e)\n",
    "        \n",
    "def create_distinct_table(conn,table_name):\n",
    "    create_table_sql = \"\"\" CREATE TABLE IF NOT EXISTS {}_DISTINCT as \n",
    "    select distinct * from {};\"\"\".format(table_name,table_name)\n",
    "    execute_db(conn, create_table_sql)\n",
    "\n",
    "def check_nonunique_pair(db, table, key_field, compare_field):\n",
    "    sql=\"\"\"\n",
    "    SELECT DISTINCT a.{key_field}, a.{compare_field} FROM {table} a\n",
    "    INNER JOIN (SELECT {key_field} FROM (SELECT DISTINCT {key_field}, {compare_field} FROM {table}) \n",
    "    GROUP BY {key_field} HAVING COUNT({key_field})>1) b\n",
    "    ON a.{key_field} = b.{key_field}\n",
    "    ORDER by a.{key_field}\n",
    "    \"\"\".format(key_field=key_field,compare_field=compare_field,table=table)\n",
    "    return pd.read_sql_query( sql , db)\n",
    "\n",
    "def pivot_analyst_field_data(ana,cols):\n",
    "    total_row=pd.DataFrame(data=[ana.loc[0,\"count(*)\"]]*len(cols),columns=[\"TOTAL_ROW\"],index=cols)\n",
    "    count_non_nan_df=ana[[\"count({})\".format(i) for i in cols]].set_axis([\"COUNT_NOT_NAN\"])\n",
    "    count_non_nan_df.columns=cols\n",
    "    count_distinct_df=ana[[\"count(distinct {})\".format(i) for i in cols]].set_axis([\"COUNT_DISTINCT\"])\n",
    "    count_distinct_df.columns=cols\n",
    "    res=pd.concat([total_row,count_non_nan_df.T,count_distinct_df.T],axis=1)\n",
    "    res[\"COUNT_NAN\"]=res[\"TOTAL_ROW\"]-res[\"COUNT_NOT_NAN\"]\n",
    "    res[\"COUNT_DUPLICATED\"]=res[\"COUNT_NOT_NAN\"]-res[\"COUNT_DISTINCT\"]\n",
    "    res[\"NOT_NAN_ON_TOTAL\"]=(res[\"COUNT_NOT_NAN\"]/res[\"TOTAL_ROW\"]).round(4)\n",
    "    res[\"NAN_ON_TOTAL\"]=(res[\"COUNT_NAN\"]/res[\"TOTAL_ROW\"]).round(4)\n",
    "    res[\"DISTINCT_ON_NOT_NAN\"]=(res[\"COUNT_DISTINCT\"]/res[\"COUNT_NOT_NAN\"]).round(4)\n",
    "    res[\"DUPLICATED_ON_NOT_NAN\"]=(res[\"COUNT_DUPLICATED\"]/res[\"COUNT_NOT_NAN\"]).round(4)\n",
    "    return res\n",
    "\n",
    "def analyst_field_data(db,table):\n",
    "    cols=read_data_from_db(db,table,n_records=0).columns.tolist()\n",
    "    count_non_nan = \", \".join([\"count({})\".format(i) for i in [\"*\"] + cols])\n",
    "    count_distinct = \", \".join([\"count(distinct {})\".format(i) for i in cols])\n",
    "    sql=\"\"\"select  {count_non_nan}, {count_distinct}  from {table}\"\"\".format(table=table,count_non_nan=count_non_nan,count_distinct=count_distinct)\n",
    "    ana = pd.read_sql_query( sql , db)\n",
    "    res = pivot_analyst_field_data(ana,cols)\n",
    "    res.to_excel(\"analyst_field_data_{}.xlsx\".format(table))\n",
    "    return res\n",
    "\n",
    "def clean_bhxh_func(chunk,db_map,clean_fields):\n",
    "    if (db_map is None)==False:\n",
    "        chunk=chunk.merge(db_map,how=\"left\")\n",
    "    chunk = DFCleaner(chunk,strip_cols = clean_fields)\n",
    "    return chunk\n",
    "\n",
    "def update_dict(row):\n",
    "    try:\n",
    "        if (row[0] is np.nan) or (row[0][\"data\"] is np.nan):\n",
    "            row[0]={\"data\":[{}]}\n",
    "        [x.update(row[1]) for x in row[0][\"data\"]]\n",
    "    except:\n",
    "        print(row)\n",
    "        raise \n",
    "\n",
    "def clean_BHXH_LOG(df_sample,db_map=None,clean_fields=['MA_SO_MXH','SO_CMND',\"IDCARD\"]):\n",
    "    df_sample=df_sample.drop_duplicates(\"RESPONSE_INFO\").copy()\n",
    "    df_sample= DFCleaner(df_sample)\n",
    "    array_sample=np.array(df_sample.dropna().applymap(lambda x: eval(x.replace(\"null\",\"np.nan\")) if \"{\" in x  else np.nan,na_action=\"ignore\").dropna())\n",
    "    np.apply_along_axis(update_dict,1,array_sample)\n",
    "    chunk=pd.DataFrame([item for sublist in array_sample for item in sublist[0][\"data\"]]).drop_duplicates()\n",
    "    chunk.columns=[i.upper() for i in chunk.columns]\n",
    "    for i in clean_fields:\n",
    "        chunk[i]=chunk[i].astype(str).str.strip()\n",
    "    return chunk \n",
    "\n",
    "def export_bhxh_todisk(db_con,table_name,col_name=\"*\",db_map=None,clean_fields=[\"SOBHXH\"],new_name_export=None,clean_func=clean_bhxh_func,\n",
    "                       offset_rows=0,n_records=-1,chunksize=20000,reindex_col_tosql=None,to_db=db_bhxh):\n",
    "    stt=1\n",
    "    new_name_export = table_name if new_name_export is None else new_name_export\n",
    "    for chunk in read_data_from_db(db_con=db_con,table_name=table_name,col_name=col_name,offset_rows=offset_rows,n_records=n_records,chunksize=chunksize):\n",
    "        chunk=clean_func(chunk,db_map,clean_fields) if clean_func is not None else chunk\n",
    "        chunk=chunk.reindex(reindex_col_tosql,axis=1) if (reindex_col_tosql is not None) else chunk\n",
    "        chunk.to_sql(new_name_export,to_db,if_exists=\"append\",index=False)\n",
    "        print(\"done to rows :\",offset_rows+stt*chunksize,end=\"\\r\")\n",
    "        stt+=1"
   ]
  },
  {
   "cell_type": "markdown",
   "id": "d91042c1-097b-461f-b085-7b9e41983271",
   "metadata": {},
   "source": [
    "## Address"
   ]
  },
  {
   "cell_type": "code",
   "execution_count": 130,
   "id": "fe657fd6-3fd7-444e-91a3-a543c8c281ac",
   "metadata": {},
   "outputs": [],
   "source": [
    "# read file map\n",
    "add_map=pd.read_excel(r\"\\\\192.168.40.116\\Sharing Folder\\final_address_map.xlsx\")\n",
    "add_map=add_map[['PROVINCE','PROVINCE_KEY']].drop_duplicates()\n",
    "province=add_map.PROVINCE.tolist()\n",
    "\n",
    "def get_province(x):\n",
    "    convert=unidecode.unidecode(x.upper())\n",
    "    res=\"NO_MAP\"\n",
    "    for i in province:\n",
    "        if i in convert:\n",
    "            res = i\n",
    "            break\n",
    "    return res"
   ]
  },
  {
   "cell_type": "code",
   "execution_count": 143,
   "id": "08369658-49f9-4022-a65a-560c37e6d024",
   "metadata": {},
   "outputs": [],
   "source": [
    "# dia chi\n",
    "def count_address(db, table, col_name, add_map,chunksize=10000,n_records=50000):\n",
    "    province=add_map.PROVINCE.tolist()\n",
    "    re=pd.Series(dtype=int)\n",
    "    address_chunk=read_data_from_db(db, table, col_name,n_records=n_records,chunksize=chunksize)\n",
    "    stt=1\n",
    "    for address in address_chunk:\n",
    "        address = DFCleaner(address)\n",
    "        re=re.add(address[col_name].dropna().map(get_province).value_counts(),fill_value=0)\n",
    "        print(\"done row: \",chunksize*stt,end=\"\\r\")\n",
    "        stt+=1\n",
    "    res_groupby_key=re.reset_index().merge(add_map,how=\"left\",left_on=\"index\",right_on=\"PROVINCE\").groupby(\"PROVINCE_KEY\")[0].sum()\n",
    "    return re,res_groupby_key"
   ]
  },
  {
   "cell_type": "code",
   "execution_count": null,
   "id": "8dfadc6b-ac14-4674-a8fc-7cf1723838d5",
   "metadata": {},
   "outputs": [],
   "source": []
  },
  {
   "cell_type": "markdown",
   "id": "09641fc4-9b07-4d49-88e7-74c8b1c03356",
   "metadata": {},
   "source": [
    "## Count digit"
   ]
  },
  {
   "cell_type": "code",
   "execution_count": 7,
   "id": "30b736e1-e464-4e21-a9b2-e90adcf49e86",
   "metadata": {},
   "outputs": [],
   "source": [
    "def count_digit(db,table,col,chunksize= 50000):\n",
    "    count=0\n",
    "    stt=1\n",
    "    for chunk in read_data_from_db(db_con=db,table_name=table,col_name=col,offset_rows = 0,n_records = -1,chunksize= chunksize):\n",
    "        count+=chunk[col].map(lambda x:str(x).isdigit()).sum()\n",
    "        print(stt*chunksize,end=\"\\r\")\n",
    "        stt+=1\n",
    "    return count"
   ]
  },
  {
   "cell_type": "code",
   "execution_count": 23,
   "id": "6febe2cb-4def-4bc1-a0d7-7681c447f239",
   "metadata": {},
   "outputs": [],
   "source": [
    "execute_db(db_bhxh, \"drop table if exists BRANDNAME_EVN_BILL\")\n",
    "execute_db(db_bhxh, \"drop table if exists test\")"
   ]
  },
  {
   "cell_type": "markdown",
   "id": "5ef59c0b-e89e-42ba-a1ee-0bb075b9b57f",
   "metadata": {},
   "source": [
    "# Analyst and report"
   ]
  },
  {
   "cell_type": "markdown",
   "id": "783b3b67-90b4-4fad-b151-5ee271188584",
   "metadata": {},
   "source": [
    "## s_bhxh_new - db_score"
   ]
  },
  {
   "cell_type": "markdown",
   "id": "7bcbc786-900c-461e-9e4f-692faec4ba60",
   "metadata": {},
   "source": [
    "### Clean data"
   ]
  },
  {
   "cell_type": "code",
   "execution_count": 8,
   "id": "c0535d50-603e-4752-8614-8bc531e1b75c",
   "metadata": {},
   "outputs": [
    {
     "name": "stdout",
     "output_type": "stream",
     "text": [
      "Bảng S_BHXH_NEW_CLEAN offset 0 dòng, all records\n"
     ]
    }
   ],
   "source": [
    "# read key clean crypt\n",
    "bhxh_new_clean_crypt=read_data_from_db(db_bhxh_clean_crypt,\"S_BHXH_NEW_CLEAN\",sql_query= \"select distinct * from S_BHXH_NEW_CLEAN\")"
   ]
  },
  {
   "cell_type": "code",
   "execution_count": null,
   "id": "73dfb3f7-21a3-4d64-854b-ddb139d2e75d",
   "metadata": {},
   "outputs": [],
   "source": [
    "export_bhxh_todisk(db_con=db_score,table_name=\"S_BHXH_NEW\",col_name=[\"CMND_ENCRYPT\",\"HOTEN_KD\",\"NGAYSINH\",\"GIOITINH\",\"DIACHI\",\"SOBHXH\",\"NGAYCAP\",\"NOICAP\"]\n",
    "                   ,db_map=bhxh_new_clean_crypt,clean_fields=[\"SOBHXH\"],new_name_export=None,clean_func=clean_bhxh_func,\n",
    "                       offset_rows=0,n_records=-1,chunksize=20000,reindex_col_tosql=None)"
   ]
  },
  {
   "cell_type": "code",
   "execution_count": 11,
   "id": "0bc2231b-97d9-4704-a71f-b457f3e1e988",
   "metadata": {},
   "outputs": [],
   "source": [
    "# tao bang distinct\n",
    "create_distinct_table(db_bhxh,\"S_BHXH_NEW\")"
   ]
  },
  {
   "cell_type": "code",
   "execution_count": 18,
   "id": "9bfefcf8-41cc-4e7d-874e-355d519912cb",
   "metadata": {},
   "outputs": [
    {
     "name": "stdout",
     "output_type": "stream",
     "text": [
      "Bảng S_BHXH_NEW_DISTINCT offset 0 dòng, 0 records\n"
     ]
    },
    {
     "data": {
      "text/html": [
       "<div>\n",
       "<style scoped>\n",
       "    .dataframe tbody tr th:only-of-type {\n",
       "        vertical-align: middle;\n",
       "    }\n",
       "\n",
       "    .dataframe tbody tr th {\n",
       "        vertical-align: top;\n",
       "    }\n",
       "\n",
       "    .dataframe thead th {\n",
       "        text-align: right;\n",
       "    }\n",
       "</style>\n",
       "<table border=\"1\" class=\"dataframe\">\n",
       "  <thead>\n",
       "    <tr style=\"text-align: right;\">\n",
       "      <th></th>\n",
       "      <th>CMND_ENCRYPT</th>\n",
       "      <th>HOTEN_KD</th>\n",
       "      <th>NGAYSINH</th>\n",
       "      <th>GIOITINH</th>\n",
       "      <th>DIACHI</th>\n",
       "      <th>SOBHXH</th>\n",
       "      <th>NGAYCAP</th>\n",
       "      <th>NOICAP</th>\n",
       "      <th>CMND_ENCRYPT_DECRYPT</th>\n",
       "      <th>CMND_ENCRYPT_CLEAN</th>\n",
       "    </tr>\n",
       "  </thead>\n",
       "  <tbody>\n",
       "  </tbody>\n",
       "</table>\n",
       "</div>"
      ],
      "text/plain": [
       "Empty DataFrame\n",
       "Columns: [CMND_ENCRYPT, HOTEN_KD, NGAYSINH, GIOITINH, DIACHI, SOBHXH, NGAYCAP, NOICAP, CMND_ENCRYPT_DECRYPT, CMND_ENCRYPT_CLEAN]\n",
       "Index: []"
      ]
     },
     "execution_count": 18,
     "metadata": {},
     "output_type": "execute_result"
    }
   ],
   "source": [
    "read_data_from_db(db_bhxh,\"S_BHXH_NEW_DISTINCT\",n_records=0)"
   ]
  },
  {
   "cell_type": "markdown",
   "id": "117760cf-b2fa-4d7c-b318-39444a5d488a",
   "metadata": {},
   "source": [
    "### Overview"
   ]
  },
  {
   "cell_type": "code",
   "execution_count": 12,
   "id": "40fda304-d345-4287-a153-d7c0563a6eb8",
   "metadata": {},
   "outputs": [
    {
     "name": "stdout",
     "output_type": "stream",
     "text": [
      "Bảng S_BHXH_NEW offset 0 dòng, all records\n",
      "9109378\n",
      "Bảng S_BHXH_NEW_DISTINCT offset 0 dòng, all records\n",
      "7247859\n"
     ]
    }
   ],
   "source": [
    "# print count total s_BHXH_new\n",
    "print(read_data_from_db(db_bhxh,\"S_BHXH_NEW\",sql_query=\"select count(*) from S_BHXH_NEW\").iloc[0,0])\n",
    "# print count total s_BHXH_new_distinct\n",
    "print(read_data_from_db(db_bhxh,\"S_BHXH_NEW_DISTINCT\",sql_query=\"select count(*) from S_BHXH_NEW_DISTINCT\").iloc[0,0])\n",
    "\n",
    "\"\"\"\n",
    "Bảng S_BHXH_NEW offset 0 dòng, all records\n",
    "9109378\n",
    "Bảng S_BHXH_NEW_DISTINCT offset 0 dòng, all records\n",
    "7247859\n",
    "\"\"\""
   ]
  },
  {
   "cell_type": "code",
   "execution_count": 8,
   "id": "c7850e41-b9f3-4854-b210-bef99e6dbbff",
   "metadata": {},
   "outputs": [
    {
     "name": "stdout",
     "output_type": "stream",
     "text": [
      "CMND_ENCRYPT_CLEAN    352280\n",
      "SOBHXH                758785\n",
      "dtype: int64\n",
      "SOBHXH                 72673\n",
      "CMND_ENCRYPT_CLEAN    141400\n",
      "dtype: int64\n",
      "CMND_ENCRYPT_CLEAN    39113\n",
      "CMND_ENCRYPT          83059\n",
      "dtype: int64\n"
     ]
    }
   ],
   "source": [
    "\n",
    "idclean_to_si_bhxhnew=check_nonunique_pair(db_bhxh,\"S_BHXH_NEW_DISTINCT\",\"CMND_ENCRYPT_CLEAN\",\"SOBHXH\")\n",
    "idclean_to_si_bhxhnew.to_sql(\"idclean_to_si_bhxhnew\",db_1_to_many,index=False, if_exists=\"replace\")\n",
    "si_to_idclean_bhxhnew=check_nonunique_pair(db_bhxh,\"S_BHXH_NEW_DISTINCT\",\"SOBHXH\",\"CMND_ENCRYPT_CLEAN\")\n",
    "si_to_idclean_bhxhnew.to_sql(\"si_to_idclean_bhxhnew\",db_1_to_many,index=False, if_exists=\"replace\")\n",
    "idclean_to_id_bhxhnew=check_nonunique_pair(db_bhxh,\"S_BHXH_NEW_DISTINCT\",\"CMND_ENCRYPT_CLEAN\",\"CMND_ENCRYPT\")\n",
    "idclean_to_id_bhxhnew.to_sql(\"id_to_idclean_bhxhnew\",db_1_to_many,index=False, if_exists=\"replace\")\n",
    "print(idclean_to_si_bhxhnew.apply(lambda x:x.nunique()))\n",
    "print(si_to_idclean_bhxhnew.apply(lambda x:x.nunique()))\n",
    "print(idclean_to_id_bhxhnew.apply(lambda x:x.nunique()))"
   ]
  },
  {
   "cell_type": "code",
   "execution_count": null,
   "id": "c5262527-5e0b-47ba-9ac6-74712d90e3f1",
   "metadata": {},
   "outputs": [],
   "source": []
  },
  {
   "cell_type": "code",
   "execution_count": 24,
   "id": "77db2aec-cc04-4e4c-94a4-6d144aec7f4f",
   "metadata": {},
   "outputs": [],
   "source": [
    "masi=pd.read_sql_query(\"select * from si_to_id_bhxhlog where MA_SO_MXH is not null and SO_CMND is not null order by random() limit 30\",db_1_to_many)[\"MA_SO_MXH\"].tolist()"
   ]
  },
  {
   "cell_type": "code",
   "execution_count": 29,
   "id": "cc26a57a-1c03-478a-bb63-f49cf1405714",
   "metadata": {},
   "outputs": [],
   "source": [
    "a=pd.read_sql_query(\"\"\"select * from RESPONSE_BHXH_LOG_DISTINCT where MA_SO_MXH in ({})\"\"\".format(\", \".join(['\\'{}\\''.format(i) for i in masi])),db_bhxh)"
   ]
  },
  {
   "cell_type": "code",
   "execution_count": 34,
   "id": "9781f661-eb37-4eaf-a0ca-656d64d033ca",
   "metadata": {},
   "outputs": [],
   "source": [
    "maid=pd.read_sql_query(\"select * from id_to_si_bhxhlog where MA_SO_MXH is not null and SO_CMND is not null order by random() limit 30\",db_1_to_many)[\"SO_CMND\"].tolist()\n",
    "b=pd.read_sql_query(\"\"\"select * from RESPONSE_BHXH_LOG_DISTINCT where SO_CMND in ({})\"\"\".format(\", \".join(['\\'{}\\''.format(i) for i in maid])),db_bhxh)"
   ]
  },
  {
   "cell_type": "code",
   "execution_count": 35,
   "id": "d43e6a96-7ef6-444c-b12d-10af9ba05309",
   "metadata": {},
   "outputs": [],
   "source": [
    "a[\"Type\"]=\"si_duplicated\"\n",
    "b[\"Type\"]=\"id_duplicated\""
   ]
  },
  {
   "cell_type": "code",
   "execution_count": 36,
   "id": "d63d86bf-85ce-44f3-a738-2cbebd62a553",
   "metadata": {},
   "outputs": [],
   "source": [
    "a.append(b).to_excel(\"1_to_N_bhxh_log.xlsx\")"
   ]
  },
  {
   "cell_type": "code",
   "execution_count": 12,
   "id": "98f9327c-d44f-40b2-a184-f5ccc52bd121",
   "metadata": {},
   "outputs": [
    {
     "data": {
      "text/html": [
       "<div>\n",
       "<style scoped>\n",
       "    .dataframe tbody tr th:only-of-type {\n",
       "        vertical-align: middle;\n",
       "    }\n",
       "\n",
       "    .dataframe tbody tr th {\n",
       "        vertical-align: top;\n",
       "    }\n",
       "\n",
       "    .dataframe thead th {\n",
       "        text-align: right;\n",
       "    }\n",
       "</style>\n",
       "<table border=\"1\" class=\"dataframe\">\n",
       "  <thead>\n",
       "    <tr style=\"text-align: right;\">\n",
       "      <th></th>\n",
       "      <th>type</th>\n",
       "      <th>name</th>\n",
       "      <th>tbl_name</th>\n",
       "      <th>rootpage</th>\n",
       "      <th>sql</th>\n",
       "    </tr>\n",
       "  </thead>\n",
       "  <tbody>\n",
       "    <tr>\n",
       "      <th>0</th>\n",
       "      <td>table</td>\n",
       "      <td>idclean_to_si_bhxhnew</td>\n",
       "      <td>idclean_to_si_bhxhnew</td>\n",
       "      <td>2</td>\n",
       "      <td>CREATE TABLE \"idclean_to_si_bhxhnew\" (\\n\"CMND_...</td>\n",
       "    </tr>\n",
       "    <tr>\n",
       "      <th>1</th>\n",
       "      <td>table</td>\n",
       "      <td>is_to_idclean_bhxhnew</td>\n",
       "      <td>is_to_idclean_bhxhnew</td>\n",
       "      <td>8030</td>\n",
       "      <td>CREATE TABLE \"is_to_idclean_bhxhnew\" (\\n\"SOBHX...</td>\n",
       "    </tr>\n",
       "    <tr>\n",
       "      <th>2</th>\n",
       "      <td>table</td>\n",
       "      <td>id_to_idclean_bhxhnew</td>\n",
       "      <td>id_to_idclean_bhxhnew</td>\n",
       "      <td>9574</td>\n",
       "      <td>CREATE TABLE \"id_to_idclean_bhxhnew\" (\\n\"CMND_...</td>\n",
       "    </tr>\n",
       "    <tr>\n",
       "      <th>3</th>\n",
       "      <td>table</td>\n",
       "      <td>is_to_idclean_bhxhonlinenew</td>\n",
       "      <td>is_to_idclean_bhxhonlinenew</td>\n",
       "      <td>18770</td>\n",
       "      <td>CREATE TABLE \"is_to_idclean_bhxhonlinenew\" (\\n...</td>\n",
       "    </tr>\n",
       "    <tr>\n",
       "      <th>4</th>\n",
       "      <td>table</td>\n",
       "      <td>si_to_phone_brandname</td>\n",
       "      <td>si_to_phone_brandname</td>\n",
       "      <td>21482</td>\n",
       "      <td>CREATE TABLE \"si_to_phone_brandname\" (\\n\"MABHX...</td>\n",
       "    </tr>\n",
       "    <tr>\n",
       "      <th>5</th>\n",
       "      <td>table</td>\n",
       "      <td>phone_to_si_brandname</td>\n",
       "      <td>phone_to_si_brandname</td>\n",
       "      <td>34914</td>\n",
       "      <td>CREATE TABLE \"phone_to_si_brandname\" (\\n\"USER_...</td>\n",
       "    </tr>\n",
       "    <tr>\n",
       "      <th>6</th>\n",
       "      <td>table</td>\n",
       "      <td>si_to_id_bhxhlog</td>\n",
       "      <td>si_to_id_bhxhlog</td>\n",
       "      <td>54879</td>\n",
       "      <td>CREATE TABLE \"si_to_id_bhxhlog\" (\\n\"MA_SO_MXH\"...</td>\n",
       "    </tr>\n",
       "    <tr>\n",
       "      <th>7</th>\n",
       "      <td>table</td>\n",
       "      <td>id_to_si_bhxhlog</td>\n",
       "      <td>id_to_si_bhxhlog</td>\n",
       "      <td>54944</td>\n",
       "      <td>CREATE TABLE \"id_to_si_bhxhlog\" (\\n\"SO_CMND\" T...</td>\n",
       "    </tr>\n",
       "    <tr>\n",
       "      <th>8</th>\n",
       "      <td>table</td>\n",
       "      <td>idclean_to_si_bhxhonlinenew</td>\n",
       "      <td>idclean_to_si_bhxhonlinenew</td>\n",
       "      <td>10742</td>\n",
       "      <td>CREATE TABLE \"idclean_to_si_bhxhonlinenew\" (\\n...</td>\n",
       "    </tr>\n",
       "    <tr>\n",
       "      <th>9</th>\n",
       "      <td>table</td>\n",
       "      <td>si_to_idclean_bhxhonlinenew</td>\n",
       "      <td>si_to_idclean_bhxhonlinenew</td>\n",
       "      <td>17865</td>\n",
       "      <td>CREATE TABLE \"si_to_idclean_bhxhonlinenew\" (\\n...</td>\n",
       "    </tr>\n",
       "    <tr>\n",
       "      <th>10</th>\n",
       "      <td>table</td>\n",
       "      <td>idclean_to_id_bhxhonlinenew</td>\n",
       "      <td>idclean_to_id_bhxhonlinenew</td>\n",
       "      <td>20314</td>\n",
       "      <td>CREATE TABLE \"idclean_to_id_bhxhonlinenew\" (\\n...</td>\n",
       "    </tr>\n",
       "  </tbody>\n",
       "</table>\n",
       "</div>"
      ],
      "text/plain": [
       "     type                         name                     tbl_name  rootpage  \\\n",
       "0   table        idclean_to_si_bhxhnew        idclean_to_si_bhxhnew         2   \n",
       "1   table        is_to_idclean_bhxhnew        is_to_idclean_bhxhnew      8030   \n",
       "2   table        id_to_idclean_bhxhnew        id_to_idclean_bhxhnew      9574   \n",
       "3   table  is_to_idclean_bhxhonlinenew  is_to_idclean_bhxhonlinenew     18770   \n",
       "4   table        si_to_phone_brandname        si_to_phone_brandname     21482   \n",
       "5   table        phone_to_si_brandname        phone_to_si_brandname     34914   \n",
       "6   table             si_to_id_bhxhlog             si_to_id_bhxhlog     54879   \n",
       "7   table             id_to_si_bhxhlog             id_to_si_bhxhlog     54944   \n",
       "8   table  idclean_to_si_bhxhonlinenew  idclean_to_si_bhxhonlinenew     10742   \n",
       "9   table  si_to_idclean_bhxhonlinenew  si_to_idclean_bhxhonlinenew     17865   \n",
       "10  table  idclean_to_id_bhxhonlinenew  idclean_to_id_bhxhonlinenew     20314   \n",
       "\n",
       "                                                  sql  \n",
       "0   CREATE TABLE \"idclean_to_si_bhxhnew\" (\\n\"CMND_...  \n",
       "1   CREATE TABLE \"is_to_idclean_bhxhnew\" (\\n\"SOBHX...  \n",
       "2   CREATE TABLE \"id_to_idclean_bhxhnew\" (\\n\"CMND_...  \n",
       "3   CREATE TABLE \"is_to_idclean_bhxhonlinenew\" (\\n...  \n",
       "4   CREATE TABLE \"si_to_phone_brandname\" (\\n\"MABHX...  \n",
       "5   CREATE TABLE \"phone_to_si_brandname\" (\\n\"USER_...  \n",
       "6   CREATE TABLE \"si_to_id_bhxhlog\" (\\n\"MA_SO_MXH\"...  \n",
       "7   CREATE TABLE \"id_to_si_bhxhlog\" (\\n\"SO_CMND\" T...  \n",
       "8   CREATE TABLE \"idclean_to_si_bhxhonlinenew\" (\\n...  \n",
       "9   CREATE TABLE \"si_to_idclean_bhxhonlinenew\" (\\n...  \n",
       "10  CREATE TABLE \"idclean_to_id_bhxhonlinenew\" (\\n...  "
      ]
     },
     "execution_count": 12,
     "metadata": {},
     "output_type": "execute_result"
    }
   ],
   "source": [
    "pd.read_sql_query(\"\"\"select * from sqlite_master where type = \\'table\\'\"\"\",db_1_to_many)"
   ]
  },
  {
   "cell_type": "code",
   "execution_count": 20,
   "id": "db7d8d01-45f2-4ba6-91ec-375eff285542",
   "metadata": {},
   "outputs": [
    {
     "name": "stdout",
     "output_type": "stream",
     "text": [
      "Bảng S_BHXH_NEW_DISTINCT offset 0 dòng, 0 records\n"
     ]
    },
    {
     "data": {
      "text/html": [
       "<div>\n",
       "<style scoped>\n",
       "    .dataframe tbody tr th:only-of-type {\n",
       "        vertical-align: middle;\n",
       "    }\n",
       "\n",
       "    .dataframe tbody tr th {\n",
       "        vertical-align: top;\n",
       "    }\n",
       "\n",
       "    .dataframe thead th {\n",
       "        text-align: right;\n",
       "    }\n",
       "</style>\n",
       "<table border=\"1\" class=\"dataframe\">\n",
       "  <thead>\n",
       "    <tr style=\"text-align: right;\">\n",
       "      <th></th>\n",
       "      <th>count(*)</th>\n",
       "      <th>count(CMND_ENCRYPT)</th>\n",
       "      <th>count(HOTEN_KD)</th>\n",
       "      <th>count(NGAYSINH)</th>\n",
       "      <th>count(GIOITINH)</th>\n",
       "      <th>count(DIACHI)</th>\n",
       "      <th>count(SOBHXH)</th>\n",
       "      <th>count(NGAYCAP)</th>\n",
       "      <th>count(NOICAP)</th>\n",
       "      <th>count(CMND_ENCRYPT_DECRYPT)</th>\n",
       "      <th>count(CMND_ENCRYPT_CLEAN)</th>\n",
       "      <th>count(distinct CMND_ENCRYPT)</th>\n",
       "      <th>count(distinct HOTEN_KD)</th>\n",
       "      <th>count(distinct NGAYSINH)</th>\n",
       "      <th>count(distinct GIOITINH)</th>\n",
       "      <th>count(distinct DIACHI)</th>\n",
       "      <th>count(distinct SOBHXH)</th>\n",
       "      <th>count(distinct NGAYCAP)</th>\n",
       "      <th>count(distinct NOICAP)</th>\n",
       "      <th>count(distinct CMND_ENCRYPT_DECRYPT)</th>\n",
       "      <th>count(distinct CMND_ENCRYPT_CLEAN)</th>\n",
       "    </tr>\n",
       "  </thead>\n",
       "  <tbody>\n",
       "    <tr>\n",
       "      <th>0</th>\n",
       "      <td>7247859</td>\n",
       "      <td>7247858</td>\n",
       "      <td>7247859</td>\n",
       "      <td>7232835</td>\n",
       "      <td>7234794</td>\n",
       "      <td>6979656</td>\n",
       "      <td>7247859</td>\n",
       "      <td>2726567</td>\n",
       "      <td>2832044</td>\n",
       "      <td>7247859</td>\n",
       "      <td>7247859</td>\n",
       "      <td>6052578</td>\n",
       "      <td>1055259</td>\n",
       "      <td>32160</td>\n",
       "      <td>3</td>\n",
       "      <td>3764317</td>\n",
       "      <td>6343810</td>\n",
       "      <td>15297</td>\n",
       "      <td>15752</td>\n",
       "      <td>6008632</td>\n",
       "      <td>6008632</td>\n",
       "    </tr>\n",
       "  </tbody>\n",
       "</table>\n",
       "</div>"
      ],
      "text/plain": [
       "   count(*)  count(CMND_ENCRYPT)  count(HOTEN_KD)  count(NGAYSINH)  \\\n",
       "0   7247859              7247858          7247859          7232835   \n",
       "\n",
       "   count(GIOITINH)  count(DIACHI)  count(SOBHXH)  count(NGAYCAP)  \\\n",
       "0          7234794        6979656        7247859         2726567   \n",
       "\n",
       "   count(NOICAP)  count(CMND_ENCRYPT_DECRYPT)  count(CMND_ENCRYPT_CLEAN)  \\\n",
       "0        2832044                      7247859                    7247859   \n",
       "\n",
       "   count(distinct CMND_ENCRYPT)  count(distinct HOTEN_KD)  \\\n",
       "0                       6052578                   1055259   \n",
       "\n",
       "   count(distinct NGAYSINH)  count(distinct GIOITINH)  count(distinct DIACHI)  \\\n",
       "0                     32160                         3                 3764317   \n",
       "\n",
       "   count(distinct SOBHXH)  count(distinct NGAYCAP)  count(distinct NOICAP)  \\\n",
       "0                 6343810                    15297                   15752   \n",
       "\n",
       "   count(distinct CMND_ENCRYPT_DECRYPT)  count(distinct CMND_ENCRYPT_CLEAN)  \n",
       "0                               6008632                             6008632  "
      ]
     },
     "execution_count": 20,
     "metadata": {},
     "output_type": "execute_result"
    }
   ],
   "source": [
    "ana=analyst_field_data(db_bhxh,\"S_BHXH_NEW_DISTINCT\")\n",
    "ana"
   ]
  },
  {
   "cell_type": "code",
   "execution_count": 50,
   "id": "bf321d09-faac-49e2-b26e-1747e5d19a1d",
   "metadata": {},
   "outputs": [
    {
     "data": {
      "text/html": [
       "<div>\n",
       "<style scoped>\n",
       "    .dataframe tbody tr th:only-of-type {\n",
       "        vertical-align: middle;\n",
       "    }\n",
       "\n",
       "    .dataframe tbody tr th {\n",
       "        vertical-align: top;\n",
       "    }\n",
       "\n",
       "    .dataframe thead th {\n",
       "        text-align: right;\n",
       "    }\n",
       "</style>\n",
       "<table border=\"1\" class=\"dataframe\">\n",
       "  <thead>\n",
       "    <tr style=\"text-align: right;\">\n",
       "      <th></th>\n",
       "      <th>TOTAL_ROW</th>\n",
       "      <th>COUNT_NOT_NAN</th>\n",
       "      <th>COUNT_DISTINCT</th>\n",
       "      <th>COUNT_NAN</th>\n",
       "      <th>COUNT_DUPLICATED</th>\n",
       "      <th>NOT_NAN_ON_TOTAL</th>\n",
       "      <th>NAN_ON_TOTAL</th>\n",
       "      <th>DISTINCT_ON_NOT_NAN</th>\n",
       "      <th>DUPLICATED_ON_NOT_NAN</th>\n",
       "    </tr>\n",
       "  </thead>\n",
       "  <tbody>\n",
       "    <tr>\n",
       "      <th>CMND_ENCRYPT</th>\n",
       "      <td>7247859</td>\n",
       "      <td>7247858</td>\n",
       "      <td>6052578</td>\n",
       "      <td>1</td>\n",
       "      <td>1195280</td>\n",
       "      <td>1.0000</td>\n",
       "      <td>0.0000</td>\n",
       "      <td>0.8351</td>\n",
       "      <td>0.1649</td>\n",
       "    </tr>\n",
       "    <tr>\n",
       "      <th>HOTEN_KD</th>\n",
       "      <td>7247859</td>\n",
       "      <td>7247859</td>\n",
       "      <td>1055259</td>\n",
       "      <td>0</td>\n",
       "      <td>6192600</td>\n",
       "      <td>1.0000</td>\n",
       "      <td>0.0000</td>\n",
       "      <td>0.1456</td>\n",
       "      <td>0.8544</td>\n",
       "    </tr>\n",
       "    <tr>\n",
       "      <th>NGAYSINH</th>\n",
       "      <td>7247859</td>\n",
       "      <td>7232835</td>\n",
       "      <td>32160</td>\n",
       "      <td>15024</td>\n",
       "      <td>7200675</td>\n",
       "      <td>0.9979</td>\n",
       "      <td>0.0021</td>\n",
       "      <td>0.0044</td>\n",
       "      <td>0.9956</td>\n",
       "    </tr>\n",
       "    <tr>\n",
       "      <th>GIOITINH</th>\n",
       "      <td>7247859</td>\n",
       "      <td>7234794</td>\n",
       "      <td>3</td>\n",
       "      <td>13065</td>\n",
       "      <td>7234791</td>\n",
       "      <td>0.9982</td>\n",
       "      <td>0.0018</td>\n",
       "      <td>0.0000</td>\n",
       "      <td>1.0000</td>\n",
       "    </tr>\n",
       "    <tr>\n",
       "      <th>DIACHI</th>\n",
       "      <td>7247859</td>\n",
       "      <td>6979656</td>\n",
       "      <td>3764317</td>\n",
       "      <td>268203</td>\n",
       "      <td>3215339</td>\n",
       "      <td>0.9630</td>\n",
       "      <td>0.0370</td>\n",
       "      <td>0.5393</td>\n",
       "      <td>0.4607</td>\n",
       "    </tr>\n",
       "    <tr>\n",
       "      <th>SOBHXH</th>\n",
       "      <td>7247859</td>\n",
       "      <td>7247859</td>\n",
       "      <td>6343810</td>\n",
       "      <td>0</td>\n",
       "      <td>904049</td>\n",
       "      <td>1.0000</td>\n",
       "      <td>0.0000</td>\n",
       "      <td>0.8753</td>\n",
       "      <td>0.1247</td>\n",
       "    </tr>\n",
       "    <tr>\n",
       "      <th>NGAYCAP</th>\n",
       "      <td>7247859</td>\n",
       "      <td>2726567</td>\n",
       "      <td>15297</td>\n",
       "      <td>4521292</td>\n",
       "      <td>2711270</td>\n",
       "      <td>0.3762</td>\n",
       "      <td>0.6238</td>\n",
       "      <td>0.0056</td>\n",
       "      <td>0.9944</td>\n",
       "    </tr>\n",
       "    <tr>\n",
       "      <th>NOICAP</th>\n",
       "      <td>7247859</td>\n",
       "      <td>2832044</td>\n",
       "      <td>15752</td>\n",
       "      <td>4415815</td>\n",
       "      <td>2816292</td>\n",
       "      <td>0.3907</td>\n",
       "      <td>0.6093</td>\n",
       "      <td>0.0056</td>\n",
       "      <td>0.9944</td>\n",
       "    </tr>\n",
       "    <tr>\n",
       "      <th>CMND_ENCRYPT_DECRYPT</th>\n",
       "      <td>7247859</td>\n",
       "      <td>7247859</td>\n",
       "      <td>6008632</td>\n",
       "      <td>0</td>\n",
       "      <td>1239227</td>\n",
       "      <td>1.0000</td>\n",
       "      <td>0.0000</td>\n",
       "      <td>0.8290</td>\n",
       "      <td>0.1710</td>\n",
       "    </tr>\n",
       "    <tr>\n",
       "      <th>CMND_ENCRYPT_CLEAN</th>\n",
       "      <td>7247859</td>\n",
       "      <td>7247859</td>\n",
       "      <td>6008632</td>\n",
       "      <td>0</td>\n",
       "      <td>1239227</td>\n",
       "      <td>1.0000</td>\n",
       "      <td>0.0000</td>\n",
       "      <td>0.8290</td>\n",
       "      <td>0.1710</td>\n",
       "    </tr>\n",
       "  </tbody>\n",
       "</table>\n",
       "</div>"
      ],
      "text/plain": [
       "                      TOTAL_ROW  COUNT_NOT_NAN  COUNT_DISTINCT  COUNT_NAN  \\\n",
       "CMND_ENCRYPT            7247859        7247858         6052578          1   \n",
       "HOTEN_KD                7247859        7247859         1055259          0   \n",
       "NGAYSINH                7247859        7232835           32160      15024   \n",
       "GIOITINH                7247859        7234794               3      13065   \n",
       "DIACHI                  7247859        6979656         3764317     268203   \n",
       "SOBHXH                  7247859        7247859         6343810          0   \n",
       "NGAYCAP                 7247859        2726567           15297    4521292   \n",
       "NOICAP                  7247859        2832044           15752    4415815   \n",
       "CMND_ENCRYPT_DECRYPT    7247859        7247859         6008632          0   \n",
       "CMND_ENCRYPT_CLEAN      7247859        7247859         6008632          0   \n",
       "\n",
       "                      COUNT_DUPLICATED  NOT_NAN_ON_TOTAL  NAN_ON_TOTAL  \\\n",
       "CMND_ENCRYPT                   1195280            1.0000        0.0000   \n",
       "HOTEN_KD                       6192600            1.0000        0.0000   \n",
       "NGAYSINH                       7200675            0.9979        0.0021   \n",
       "GIOITINH                       7234791            0.9982        0.0018   \n",
       "DIACHI                         3215339            0.9630        0.0370   \n",
       "SOBHXH                          904049            1.0000        0.0000   \n",
       "NGAYCAP                        2711270            0.3762        0.6238   \n",
       "NOICAP                         2816292            0.3907        0.6093   \n",
       "CMND_ENCRYPT_DECRYPT           1239227            1.0000        0.0000   \n",
       "CMND_ENCRYPT_CLEAN             1239227            1.0000        0.0000   \n",
       "\n",
       "                      DISTINCT_ON_NOT_NAN  DUPLICATED_ON_NOT_NAN  \n",
       "CMND_ENCRYPT                       0.8351                 0.1649  \n",
       "HOTEN_KD                           0.1456                 0.8544  \n",
       "NGAYSINH                           0.0044                 0.9956  \n",
       "GIOITINH                           0.0000                 1.0000  \n",
       "DIACHI                             0.5393                 0.4607  \n",
       "SOBHXH                             0.8753                 0.1247  \n",
       "NGAYCAP                            0.0056                 0.9944  \n",
       "NOICAP                             0.0056                 0.9944  \n",
       "CMND_ENCRYPT_DECRYPT               0.8290                 0.1710  \n",
       "CMND_ENCRYPT_CLEAN                 0.8290                 0.1710  "
      ]
     },
     "execution_count": 50,
     "metadata": {},
     "output_type": "execute_result"
    }
   ],
   "source": [
    "res"
   ]
  },
  {
   "cell_type": "markdown",
   "id": "5f5c3c68-2377-4837-9b0c-33a39ae976f0",
   "metadata": {},
   "source": [
    "### invalid value rate\n"
   ]
  },
  {
   "cell_type": "code",
   "execution_count": 55,
   "id": "82377624-f478-455f-8347-51775f9a831e",
   "metadata": {},
   "outputs": [
    {
     "data": {
      "text/html": [
       "<div>\n",
       "<style scoped>\n",
       "    .dataframe tbody tr th:only-of-type {\n",
       "        vertical-align: middle;\n",
       "    }\n",
       "\n",
       "    .dataframe tbody tr th {\n",
       "        vertical-align: top;\n",
       "    }\n",
       "\n",
       "    .dataframe thead th {\n",
       "        text-align: right;\n",
       "    }\n",
       "</style>\n",
       "<table border=\"1\" class=\"dataframe\">\n",
       "  <thead>\n",
       "    <tr style=\"text-align: right;\">\n",
       "      <th></th>\n",
       "      <th>GIOITINH</th>\n",
       "      <th>count(GIOITINH)</th>\n",
       "    </tr>\n",
       "  </thead>\n",
       "  <tbody>\n",
       "    <tr>\n",
       "      <th>0</th>\n",
       "      <td>None</td>\n",
       "      <td>0</td>\n",
       "    </tr>\n",
       "    <tr>\n",
       "      <th>1</th>\n",
       "      <td>0</td>\n",
       "      <td>3872495</td>\n",
       "    </tr>\n",
       "    <tr>\n",
       "      <th>2</th>\n",
       "      <td>1</td>\n",
       "      <td>3256144</td>\n",
       "    </tr>\n",
       "    <tr>\n",
       "      <th>3</th>\n",
       "      <td>2</td>\n",
       "      <td>106155</td>\n",
       "    </tr>\n",
       "  </tbody>\n",
       "</table>\n",
       "</div>"
      ],
      "text/plain": [
       "  GIOITINH  count(GIOITINH)\n",
       "0     None                0\n",
       "1        0          3872495\n",
       "2        1          3256144\n",
       "3        2           106155"
      ]
     },
     "execution_count": 55,
     "metadata": {},
     "output_type": "execute_result"
    }
   ],
   "source": [
    "# gioi tinh\n",
    "pd.read_sql_query(\"select GIOITINH, count(GIOITINH) from S_BHXH_NEW_DISTINCT group by GIOITINH\",db_bhxh)"
   ]
  },
  {
   "cell_type": "code",
   "execution_count": 75,
   "id": "4d2e56e7-8ad4-4996-82bc-4f014d583d4d",
   "metadata": {},
   "outputs": [
    {
     "data": {
      "text/html": [
       "<div>\n",
       "<style scoped>\n",
       "    .dataframe tbody tr th:only-of-type {\n",
       "        vertical-align: middle;\n",
       "    }\n",
       "\n",
       "    .dataframe tbody tr th {\n",
       "        vertical-align: top;\n",
       "    }\n",
       "\n",
       "    .dataframe thead th {\n",
       "        text-align: right;\n",
       "    }\n",
       "</style>\n",
       "<table border=\"1\" class=\"dataframe\">\n",
       "  <thead>\n",
       "    <tr style=\"text-align: right;\">\n",
       "      <th></th>\n",
       "      <th>length(NGAYSINH)</th>\n",
       "      <th>count(length(NGAYSINH))</th>\n",
       "    </tr>\n",
       "  </thead>\n",
       "  <tbody>\n",
       "    <tr>\n",
       "      <th>0</th>\n",
       "      <td>NaN</td>\n",
       "      <td>0</td>\n",
       "    </tr>\n",
       "    <tr>\n",
       "      <th>1</th>\n",
       "      <td>4.0</td>\n",
       "      <td>12239</td>\n",
       "    </tr>\n",
       "    <tr>\n",
       "      <th>2</th>\n",
       "      <td>7.0</td>\n",
       "      <td>124</td>\n",
       "    </tr>\n",
       "    <tr>\n",
       "      <th>3</th>\n",
       "      <td>8.0</td>\n",
       "      <td>1</td>\n",
       "    </tr>\n",
       "    <tr>\n",
       "      <th>4</th>\n",
       "      <td>10.0</td>\n",
       "      <td>7220471</td>\n",
       "    </tr>\n",
       "  </tbody>\n",
       "</table>\n",
       "</div>"
      ],
      "text/plain": [
       "   length(NGAYSINH)  count(length(NGAYSINH))\n",
       "0               NaN                        0\n",
       "1               4.0                    12239\n",
       "2               7.0                      124\n",
       "3               8.0                        1\n",
       "4              10.0                  7220471"
      ]
     },
     "execution_count": 75,
     "metadata": {},
     "output_type": "execute_result"
    }
   ],
   "source": [
    "# ngay sinh\n",
    "pd.read_sql_query(\"select length(NGAYSINH),count(length(NGAYSINH)) from S_BHXH_NEW_DISTINCT group by length(NGAYSINH)\",db_bhxh)"
   ]
  },
  {
   "cell_type": "code",
   "execution_count": 76,
   "id": "f5b8fd26-366d-4f29-a220-2910b8243571",
   "metadata": {},
   "outputs": [
    {
     "data": {
      "text/html": [
       "<div>\n",
       "<style scoped>\n",
       "    .dataframe tbody tr th:only-of-type {\n",
       "        vertical-align: middle;\n",
       "    }\n",
       "\n",
       "    .dataframe tbody tr th {\n",
       "        vertical-align: top;\n",
       "    }\n",
       "\n",
       "    .dataframe thead th {\n",
       "        text-align: right;\n",
       "    }\n",
       "</style>\n",
       "<table border=\"1\" class=\"dataframe\">\n",
       "  <thead>\n",
       "    <tr style=\"text-align: right;\">\n",
       "      <th></th>\n",
       "      <th>length(CMND_ENCRYPT_DECRYPT)</th>\n",
       "      <th>count(length(CMND_ENCRYPT_DECRYPT))</th>\n",
       "    </tr>\n",
       "  </thead>\n",
       "  <tbody>\n",
       "    <tr>\n",
       "      <th>0</th>\n",
       "      <td>0</td>\n",
       "      <td>10367</td>\n",
       "    </tr>\n",
       "    <tr>\n",
       "      <th>1</th>\n",
       "      <td>1</td>\n",
       "      <td>558</td>\n",
       "    </tr>\n",
       "    <tr>\n",
       "      <th>2</th>\n",
       "      <td>2</td>\n",
       "      <td>123</td>\n",
       "    </tr>\n",
       "    <tr>\n",
       "      <th>3</th>\n",
       "      <td>3</td>\n",
       "      <td>114</td>\n",
       "    </tr>\n",
       "    <tr>\n",
       "      <th>4</th>\n",
       "      <td>4</td>\n",
       "      <td>733</td>\n",
       "    </tr>\n",
       "    <tr>\n",
       "      <th>5</th>\n",
       "      <td>5</td>\n",
       "      <td>922</td>\n",
       "    </tr>\n",
       "    <tr>\n",
       "      <th>6</th>\n",
       "      <td>6</td>\n",
       "      <td>6068</td>\n",
       "    </tr>\n",
       "    <tr>\n",
       "      <th>7</th>\n",
       "      <td>7</td>\n",
       "      <td>2505</td>\n",
       "    </tr>\n",
       "    <tr>\n",
       "      <th>8</th>\n",
       "      <td>8</td>\n",
       "      <td>57202</td>\n",
       "    </tr>\n",
       "    <tr>\n",
       "      <th>9</th>\n",
       "      <td>9</td>\n",
       "      <td>7071983</td>\n",
       "    </tr>\n",
       "    <tr>\n",
       "      <th>10</th>\n",
       "      <td>10</td>\n",
       "      <td>20380</td>\n",
       "    </tr>\n",
       "    <tr>\n",
       "      <th>11</th>\n",
       "      <td>11</td>\n",
       "      <td>1195</td>\n",
       "    </tr>\n",
       "    <tr>\n",
       "      <th>12</th>\n",
       "      <td>12</td>\n",
       "      <td>75691</td>\n",
       "    </tr>\n",
       "    <tr>\n",
       "      <th>13</th>\n",
       "      <td>13</td>\n",
       "      <td>10</td>\n",
       "    </tr>\n",
       "    <tr>\n",
       "      <th>14</th>\n",
       "      <td>14</td>\n",
       "      <td>1</td>\n",
       "    </tr>\n",
       "    <tr>\n",
       "      <th>15</th>\n",
       "      <td>15</td>\n",
       "      <td>7</td>\n",
       "    </tr>\n",
       "  </tbody>\n",
       "</table>\n",
       "</div>"
      ],
      "text/plain": [
       "    length(CMND_ENCRYPT_DECRYPT)  count(length(CMND_ENCRYPT_DECRYPT))\n",
       "0                              0                                10367\n",
       "1                              1                                  558\n",
       "2                              2                                  123\n",
       "3                              3                                  114\n",
       "4                              4                                  733\n",
       "5                              5                                  922\n",
       "6                              6                                 6068\n",
       "7                              7                                 2505\n",
       "8                              8                                57202\n",
       "9                              9                              7071983\n",
       "10                            10                                20380\n",
       "11                            11                                 1195\n",
       "12                            12                                75691\n",
       "13                            13                                   10\n",
       "14                            14                                    1\n",
       "15                            15                                    7"
      ]
     },
     "execution_count": 76,
     "metadata": {},
     "output_type": "execute_result"
    }
   ],
   "source": [
    "# len cmnd\n",
    "pd.read_sql_query(\"select length(CMND_ENCRYPT_DECRYPT),count(length(CMND_ENCRYPT_DECRYPT)) from S_BHXH_NEW_DISTINCT group by length(CMND_ENCRYPT_DECRYPT)\",db_bhxh)"
   ]
  },
  {
   "cell_type": "code",
   "execution_count": 77,
   "id": "e2f2b18f-abd4-4489-9963-f03596ae8861",
   "metadata": {},
   "outputs": [
    {
     "data": {
      "text/html": [
       "<div>\n",
       "<style scoped>\n",
       "    .dataframe tbody tr th:only-of-type {\n",
       "        vertical-align: middle;\n",
       "    }\n",
       "\n",
       "    .dataframe tbody tr th {\n",
       "        vertical-align: top;\n",
       "    }\n",
       "\n",
       "    .dataframe thead th {\n",
       "        text-align: right;\n",
       "    }\n",
       "</style>\n",
       "<table border=\"1\" class=\"dataframe\">\n",
       "  <thead>\n",
       "    <tr style=\"text-align: right;\">\n",
       "      <th></th>\n",
       "      <th>length(SOBHXH)</th>\n",
       "      <th>count(length(SOBHXH))</th>\n",
       "    </tr>\n",
       "  </thead>\n",
       "  <tbody>\n",
       "    <tr>\n",
       "      <th>0</th>\n",
       "      <td>1</td>\n",
       "      <td>3</td>\n",
       "    </tr>\n",
       "    <tr>\n",
       "      <th>1</th>\n",
       "      <td>2</td>\n",
       "      <td>7</td>\n",
       "    </tr>\n",
       "    <tr>\n",
       "      <th>2</th>\n",
       "      <td>3</td>\n",
       "      <td>98</td>\n",
       "    </tr>\n",
       "    <tr>\n",
       "      <th>3</th>\n",
       "      <td>4</td>\n",
       "      <td>744</td>\n",
       "    </tr>\n",
       "    <tr>\n",
       "      <th>4</th>\n",
       "      <td>5</td>\n",
       "      <td>1804</td>\n",
       "    </tr>\n",
       "    <tr>\n",
       "      <th>5</th>\n",
       "      <td>6</td>\n",
       "      <td>13021</td>\n",
       "    </tr>\n",
       "    <tr>\n",
       "      <th>6</th>\n",
       "      <td>7</td>\n",
       "      <td>1854</td>\n",
       "    </tr>\n",
       "    <tr>\n",
       "      <th>7</th>\n",
       "      <td>8</td>\n",
       "      <td>160</td>\n",
       "    </tr>\n",
       "    <tr>\n",
       "      <th>8</th>\n",
       "      <td>9</td>\n",
       "      <td>3220</td>\n",
       "    </tr>\n",
       "    <tr>\n",
       "      <th>9</th>\n",
       "      <td>10</td>\n",
       "      <td>7226921</td>\n",
       "    </tr>\n",
       "    <tr>\n",
       "      <th>10</th>\n",
       "      <td>11</td>\n",
       "      <td>16</td>\n",
       "    </tr>\n",
       "    <tr>\n",
       "      <th>11</th>\n",
       "      <td>12</td>\n",
       "      <td>11</td>\n",
       "    </tr>\n",
       "  </tbody>\n",
       "</table>\n",
       "</div>"
      ],
      "text/plain": [
       "    length(SOBHXH)  count(length(SOBHXH))\n",
       "0                1                      3\n",
       "1                2                      7\n",
       "2                3                     98\n",
       "3                4                    744\n",
       "4                5                   1804\n",
       "5                6                  13021\n",
       "6                7                   1854\n",
       "7                8                    160\n",
       "8                9                   3220\n",
       "9               10                7226921\n",
       "10              11                     16\n",
       "11              12                     11"
      ]
     },
     "execution_count": 77,
     "metadata": {},
     "output_type": "execute_result"
    }
   ],
   "source": [
    "# len bhxh\n",
    "pd.read_sql_query(\"select length(SOBHXH),count(length(SOBHXH)) from S_BHXH_NEW_DISTINCT group by length(SOBHXH)\",db_bhxh)"
   ]
  },
  {
   "cell_type": "code",
   "execution_count": 239,
   "id": "a010b294-840d-4cc5-905a-d8a43b4148e8",
   "metadata": {},
   "outputs": [
    {
     "name": "stdout",
     "output_type": "stream",
     "text": [
      "Bảng S_BHXH_NEW_DISTINCT offset 0 dòng, all records, chunksize 50000\n",
      "count digit bhxh 5575371\n",
      "Bảng S_BHXH_NEW_DISTINCT offset 0 dòng, all records, chunksize 50000\n",
      "count digit cmnd 7203543\n"
     ]
    }
   ],
   "source": [
    "# count digit BHXH\n",
    "a=count_digit(db_bhxh,\"S_BHXH_NEW_DISTINCT\",\"SOBHXH\")\n",
    "print(\"count digit bhxh\",a)\n",
    "# count digit CMND\n",
    "a=count_digit(db_bhxh,\"S_BHXH_NEW_DISTINCT\",\"CMND_ENCRYPT_DECRYPT\")\n",
    "print(\"count digit cmnd\",a)"
   ]
  },
  {
   "cell_type": "markdown",
   "id": "2381fc94-bd73-4116-9f23-f9ed08fca06a",
   "metadata": {},
   "source": [
    "### outlier "
   ]
  },
  {
   "cell_type": "markdown",
   "id": "cee801dd-b354-44ca-ad5e-cae519eab614",
   "metadata": {},
   "source": [
    "### quantile"
   ]
  },
  {
   "cell_type": "code",
   "execution_count": null,
   "id": "c6a31ab9-fafd-4131-af57-815811df6819",
   "metadata": {},
   "outputs": [],
   "source": [
    "# quantile before remove outlier\n",
    "\n",
    "# quantile after remove outlier"
   ]
  },
  {
   "cell_type": "markdown",
   "id": "86454bad-8984-40df-b059-58e052f3a742",
   "metadata": {},
   "source": [
    "### distribution"
   ]
  },
  {
   "cell_type": "code",
   "execution_count": 144,
   "id": "8c9f5675-1dc1-4577-a42f-5efa50202d1b",
   "metadata": {},
   "outputs": [],
   "source": [
    "%%time\n",
    "count_by_province,count_by_levelprovince=count_address(db_bhxh, \"S_BHXH_NEW_DISTINCT\", \"DIACHI\", add_map,chunksize=10000,    n_records=-1)\n",
    "\n",
    "count_by_levelprovince\n",
    "\n",
    "count_by_province.to_excel(\"count_by_province.xlsx\")"
   ]
  },
  {
   "cell_type": "markdown",
   "id": "6b5c8edd-8db0-46a6-9a9f-04b574a99edd",
   "metadata": {},
   "source": [
    "## S_BHXH_ONLINE_NEW"
   ]
  },
  {
   "cell_type": "markdown",
   "id": "0ad58666-2e79-49a0-8efc-ec431a560b3c",
   "metadata": {},
   "source": [
    "### Download and clean"
   ]
  },
  {
   "cell_type": "code",
   "execution_count": null,
   "id": "05a9035e-45af-4dee-b5e1-1d0687fa0b4f",
   "metadata": {},
   "outputs": [],
   "source": [
    "bhxh_online_new_clean_crypt=read_data_from_db(db_bhxh_clean_crypt,\"S_BHXH_ONLINE_NEW_CLEAN\",sql_query= \"select distinct * from S_BHXH_ONLINE_NEW_CLEAN\")\n",
    "export_bhxh_todisk(db_con=db_score,table_name=\"S_BHXH_ONLINE_NEW\",col_name=[\"CMND_ENCRYPT\",\"HOTEN_KD\",\"HOTEN\",\"NGAYSINH\",\"GIOITINH\",\"DIACHI\",\"SOBHXH\"],db_map=bhxh_online_new_clean_crypt)\n",
    "# tao bang distinct\n",
    "create_distinct_table(db_bhxh,\"S_BHXH_ONLINE_NEW\")"
   ]
  },
  {
   "cell_type": "markdown",
   "id": "a4c50656-46d0-4b27-86f8-9aa18d02ebec",
   "metadata": {},
   "source": [
    "### Overview"
   ]
  },
  {
   "cell_type": "code",
   "execution_count": 164,
   "id": "94682542-b0ca-40ee-9777-ab943da98107",
   "metadata": {},
   "outputs": [
    {
     "name": "stdout",
     "output_type": "stream",
     "text": [
      "Bảng S_BHXH_ONLINE_NEW offset 0 dòng, all records\n",
      "1159758\n",
      "Bảng S_BHXH_ONLINE_NEW_DISTINCT offset 0 dòng, all records\n",
      "1159724\n"
     ]
    },
    {
     "data": {
      "text/plain": [
       "'\\nBảng S_BHXH_ONLINE_NEW offset 0 dòng, all records\\n9109378\\nBảng S_BHXH_ONLINE_NEW_DISTINCT offset 0 dòng, all records\\n7247859\\n'"
      ]
     },
     "execution_count": 164,
     "metadata": {},
     "output_type": "execute_result"
    }
   ],
   "source": [
    "# print count total s_BHXH_online_new\n",
    "print(read_data_from_db(db_bhxh,\"S_BHXH_ONLINE_NEW\",sql_query=\"select count(*) from S_BHXH_ONLINE_NEW\").iloc[0,0])\n",
    "# print count total s_BHXH_online_new_distinct\n",
    "print(read_data_from_db(db_bhxh,\"S_BHXH_ONLINE_NEW_DISTINCT\",sql_query=\"select count(*) from S_BHXH_ONLINE_NEW_DISTINCT\").iloc[0,0])\n",
    "\n",
    "\"\"\"\n",
    "Bảng S_BHXH_ONLINE_NEW offset 0 dòng, all records\n",
    "1159758\n",
    "Bảng S_BHXH_ONLINE_NEW_DISTINCT offset 0 dòng, all records\n",
    "1159724\n",
    "\"\"\""
   ]
  },
  {
   "cell_type": "code",
   "execution_count": 62,
   "id": "d9039bf5-d9dc-423c-8639-59325e742a3f",
   "metadata": {},
   "outputs": [
    {
     "name": "stdout",
     "output_type": "stream",
     "text": [
      "Bảng S_BHXH_ONLINE_NEW_DISTINCT offset 0 dòng, 0 records\n"
     ]
    },
    {
     "data": {
      "text/html": [
       "<div>\n",
       "<style scoped>\n",
       "    .dataframe tbody tr th:only-of-type {\n",
       "        vertical-align: middle;\n",
       "    }\n",
       "\n",
       "    .dataframe tbody tr th {\n",
       "        vertical-align: top;\n",
       "    }\n",
       "\n",
       "    .dataframe thead th {\n",
       "        text-align: right;\n",
       "    }\n",
       "</style>\n",
       "<table border=\"1\" class=\"dataframe\">\n",
       "  <thead>\n",
       "    <tr style=\"text-align: right;\">\n",
       "      <th></th>\n",
       "      <th>TOTAL_ROW</th>\n",
       "      <th>COUNT_NOT_NAN</th>\n",
       "      <th>COUNT_DISTINCT</th>\n",
       "      <th>COUNT_NAN</th>\n",
       "      <th>COUNT_DUPLICATED</th>\n",
       "      <th>NOT_NAN_ON_TOTAL</th>\n",
       "      <th>NAN_ON_TOTAL</th>\n",
       "      <th>DISTINCT_ON_NOT_NAN</th>\n",
       "      <th>DUPLICATED_ON_NOT_NAN</th>\n",
       "    </tr>\n",
       "  </thead>\n",
       "  <tbody>\n",
       "    <tr>\n",
       "      <th>CMND_ENCRYPT</th>\n",
       "      <td>1159724</td>\n",
       "      <td>1159723</td>\n",
       "      <td>1159723</td>\n",
       "      <td>1</td>\n",
       "      <td>0</td>\n",
       "      <td>1.0</td>\n",
       "      <td>0.0</td>\n",
       "      <td>1.0000</td>\n",
       "      <td>0.0000</td>\n",
       "    </tr>\n",
       "    <tr>\n",
       "      <th>HOTEN_KD</th>\n",
       "      <td>1159724</td>\n",
       "      <td>1159724</td>\n",
       "      <td>227392</td>\n",
       "      <td>0</td>\n",
       "      <td>932332</td>\n",
       "      <td>1.0</td>\n",
       "      <td>0.0</td>\n",
       "      <td>0.1961</td>\n",
       "      <td>0.8039</td>\n",
       "    </tr>\n",
       "    <tr>\n",
       "      <th>HOTEN</th>\n",
       "      <td>1159724</td>\n",
       "      <td>1159724</td>\n",
       "      <td>285026</td>\n",
       "      <td>0</td>\n",
       "      <td>874698</td>\n",
       "      <td>1.0</td>\n",
       "      <td>0.0</td>\n",
       "      <td>0.2458</td>\n",
       "      <td>0.7542</td>\n",
       "    </tr>\n",
       "    <tr>\n",
       "      <th>NGAYSINH</th>\n",
       "      <td>1159724</td>\n",
       "      <td>1159724</td>\n",
       "      <td>27087</td>\n",
       "      <td>0</td>\n",
       "      <td>1132637</td>\n",
       "      <td>1.0</td>\n",
       "      <td>0.0</td>\n",
       "      <td>0.0234</td>\n",
       "      <td>0.9766</td>\n",
       "    </tr>\n",
       "    <tr>\n",
       "      <th>GIOITINH</th>\n",
       "      <td>1159724</td>\n",
       "      <td>1159724</td>\n",
       "      <td>2</td>\n",
       "      <td>0</td>\n",
       "      <td>1159722</td>\n",
       "      <td>1.0</td>\n",
       "      <td>0.0</td>\n",
       "      <td>0.0000</td>\n",
       "      <td>1.0000</td>\n",
       "    </tr>\n",
       "    <tr>\n",
       "      <th>DIACHI</th>\n",
       "      <td>1159724</td>\n",
       "      <td>1159724</td>\n",
       "      <td>3984</td>\n",
       "      <td>0</td>\n",
       "      <td>1155740</td>\n",
       "      <td>1.0</td>\n",
       "      <td>0.0</td>\n",
       "      <td>0.0034</td>\n",
       "      <td>0.9966</td>\n",
       "    </tr>\n",
       "    <tr>\n",
       "      <th>SOBHXH</th>\n",
       "      <td>1159724</td>\n",
       "      <td>1159724</td>\n",
       "      <td>1159724</td>\n",
       "      <td>0</td>\n",
       "      <td>0</td>\n",
       "      <td>1.0</td>\n",
       "      <td>0.0</td>\n",
       "      <td>1.0000</td>\n",
       "      <td>0.0000</td>\n",
       "    </tr>\n",
       "    <tr>\n",
       "      <th>CMND_ENCRYPT_DECRYPT</th>\n",
       "      <td>1159724</td>\n",
       "      <td>1159724</td>\n",
       "      <td>1157144</td>\n",
       "      <td>0</td>\n",
       "      <td>2580</td>\n",
       "      <td>1.0</td>\n",
       "      <td>0.0</td>\n",
       "      <td>0.9978</td>\n",
       "      <td>0.0022</td>\n",
       "    </tr>\n",
       "    <tr>\n",
       "      <th>CMND_ENCRYPT_CLEAN</th>\n",
       "      <td>1159724</td>\n",
       "      <td>1159724</td>\n",
       "      <td>1157144</td>\n",
       "      <td>0</td>\n",
       "      <td>2580</td>\n",
       "      <td>1.0</td>\n",
       "      <td>0.0</td>\n",
       "      <td>0.9978</td>\n",
       "      <td>0.0022</td>\n",
       "    </tr>\n",
       "  </tbody>\n",
       "</table>\n",
       "</div>"
      ],
      "text/plain": [
       "                      TOTAL_ROW  COUNT_NOT_NAN  COUNT_DISTINCT  COUNT_NAN  \\\n",
       "CMND_ENCRYPT            1159724        1159723         1159723          1   \n",
       "HOTEN_KD                1159724        1159724          227392          0   \n",
       "HOTEN                   1159724        1159724          285026          0   \n",
       "NGAYSINH                1159724        1159724           27087          0   \n",
       "GIOITINH                1159724        1159724               2          0   \n",
       "DIACHI                  1159724        1159724            3984          0   \n",
       "SOBHXH                  1159724        1159724         1159724          0   \n",
       "CMND_ENCRYPT_DECRYPT    1159724        1159724         1157144          0   \n",
       "CMND_ENCRYPT_CLEAN      1159724        1159724         1157144          0   \n",
       "\n",
       "                      COUNT_DUPLICATED  NOT_NAN_ON_TOTAL  NAN_ON_TOTAL  \\\n",
       "CMND_ENCRYPT                         0               1.0           0.0   \n",
       "HOTEN_KD                        932332               1.0           0.0   \n",
       "HOTEN                           874698               1.0           0.0   \n",
       "NGAYSINH                       1132637               1.0           0.0   \n",
       "GIOITINH                       1159722               1.0           0.0   \n",
       "DIACHI                         1155740               1.0           0.0   \n",
       "SOBHXH                               0               1.0           0.0   \n",
       "CMND_ENCRYPT_DECRYPT              2580               1.0           0.0   \n",
       "CMND_ENCRYPT_CLEAN                2580               1.0           0.0   \n",
       "\n",
       "                      DISTINCT_ON_NOT_NAN  DUPLICATED_ON_NOT_NAN  \n",
       "CMND_ENCRYPT                       1.0000                 0.0000  \n",
       "HOTEN_KD                           0.1961                 0.8039  \n",
       "HOTEN                              0.2458                 0.7542  \n",
       "NGAYSINH                           0.0234                 0.9766  \n",
       "GIOITINH                           0.0000                 1.0000  \n",
       "DIACHI                             0.0034                 0.9966  \n",
       "SOBHXH                             1.0000                 0.0000  \n",
       "CMND_ENCRYPT_DECRYPT               0.9978                 0.0022  \n",
       "CMND_ENCRYPT_CLEAN                 0.9978                 0.0022  "
      ]
     },
     "execution_count": 62,
     "metadata": {},
     "output_type": "execute_result"
    }
   ],
   "source": [
    "ana2=analyst_field_data(db_bhxh,\"S_BHXH_ONLINE_NEW_DISTINCT\")\n",
    "ana2"
   ]
  },
  {
   "cell_type": "code",
   "execution_count": 12,
   "id": "94a07eb1-396d-4519-8a25-81d3eb7b75b3",
   "metadata": {},
   "outputs": [
    {
     "name": "stdout",
     "output_type": "stream",
     "text": [
      "CMND_ENCRYPT_CLEAN       1\n",
      "SOBHXH                2581\n",
      "dtype: int64\n",
      "SOBHXH                0\n",
      "CMND_ENCRYPT_CLEAN    0\n",
      "dtype: int64\n",
      "CMND_ENCRYPT_CLEAN       1\n",
      "CMND_ENCRYPT          2580\n",
      "dtype: int64\n"
     ]
    }
   ],
   "source": [
    "db_1_to_many=sqlite3.connect(\"1_to_many.db\")\n",
    "idclean_to_si_bhxhonlinenew=check_nonunique_pair(db_bhxh,\"S_BHXH_ONLINE_NEW_DISTINCT\",\"CMND_ENCRYPT_CLEAN\",\"SOBHXH\")\n",
    "idclean_to_si_bhxhonlinenew.to_sql(\"idclean_to_si_bhxhonlinenew\",db_1_to_many,index=False, if_exists=\"replace\")\n",
    "si_to_idclean_bhxhonlinenew=check_nonunique_pair(db_bhxh,\"S_BHXH_ONLINE_NEW_DISTINCT\",\"SOBHXH\",\"CMND_ENCRYPT_CLEAN\")\n",
    "si_to_idclean_bhxhonlinenew.to_sql(\"si_to_idclean_bhxhonlinenew\",db_1_to_many,index=False, if_exists=\"replace\")\n",
    "idclean_to_id_bhxhonlinenew=check_nonunique_pair(db_bhxh,\"S_BHXH_ONLINE_NEW_DISTINCT\",\"CMND_ENCRYPT_CLEAN\",\"CMND_ENCRYPT\")\n",
    "idclean_to_id_bhxhonlinenew.to_sql(\"idclean_to_id_bhxhonlinenew\",db_1_to_many,index=False, if_exists=\"replace\")\n",
    "print(idclean_to_si_bhxhonlinenew.apply(lambda x:x.nunique()))\n",
    "print(si_to_idclean_bhxhonlinenew.apply(lambda x:x.nunique()))\n",
    "print(idclean_to_id_bhxhonlinenew.apply(lambda x:x.nunique()))"
   ]
  },
  {
   "cell_type": "markdown",
   "id": "d175f174-1371-47c2-a769-d92e292ada12",
   "metadata": {},
   "source": [
    "### Invalid Value"
   ]
  },
  {
   "cell_type": "code",
   "execution_count": 168,
   "id": "3712f204-ae1c-4f8f-af2a-c8b660b4b667",
   "metadata": {},
   "outputs": [
    {
     "data": {
      "text/html": [
       "<div>\n",
       "<style scoped>\n",
       "    .dataframe tbody tr th:only-of-type {\n",
       "        vertical-align: middle;\n",
       "    }\n",
       "\n",
       "    .dataframe tbody tr th {\n",
       "        vertical-align: top;\n",
       "    }\n",
       "\n",
       "    .dataframe thead th {\n",
       "        text-align: right;\n",
       "    }\n",
       "</style>\n",
       "<table border=\"1\" class=\"dataframe\">\n",
       "  <thead>\n",
       "    <tr style=\"text-align: right;\">\n",
       "      <th></th>\n",
       "      <th>GIOITINH</th>\n",
       "      <th>count(GIOITINH)</th>\n",
       "    </tr>\n",
       "  </thead>\n",
       "  <tbody>\n",
       "    <tr>\n",
       "      <th>0</th>\n",
       "      <td>0</td>\n",
       "      <td>544668</td>\n",
       "    </tr>\n",
       "    <tr>\n",
       "      <th>1</th>\n",
       "      <td>1</td>\n",
       "      <td>615056</td>\n",
       "    </tr>\n",
       "  </tbody>\n",
       "</table>\n",
       "</div>"
      ],
      "text/plain": [
       "  GIOITINH  count(GIOITINH)\n",
       "0        0           544668\n",
       "1        1           615056"
      ]
     },
     "execution_count": 168,
     "metadata": {},
     "output_type": "execute_result"
    }
   ],
   "source": [
    "# gioi tinh\n",
    "pd.read_sql_query(\"select GIOITINH, count(GIOITINH) from S_BHXH_ONLINE_NEW_DISTINCT group by GIOITINH\",db_bhxh)"
   ]
  },
  {
   "cell_type": "code",
   "execution_count": 169,
   "id": "18659ecf-e381-40e4-91ac-c537bb27e816",
   "metadata": {},
   "outputs": [
    {
     "data": {
      "text/html": [
       "<div>\n",
       "<style scoped>\n",
       "    .dataframe tbody tr th:only-of-type {\n",
       "        vertical-align: middle;\n",
       "    }\n",
       "\n",
       "    .dataframe tbody tr th {\n",
       "        vertical-align: top;\n",
       "    }\n",
       "\n",
       "    .dataframe thead th {\n",
       "        text-align: right;\n",
       "    }\n",
       "</style>\n",
       "<table border=\"1\" class=\"dataframe\">\n",
       "  <thead>\n",
       "    <tr style=\"text-align: right;\">\n",
       "      <th></th>\n",
       "      <th>length(NGAYSINH)</th>\n",
       "      <th>count(length(NGAYSINH))</th>\n",
       "    </tr>\n",
       "  </thead>\n",
       "  <tbody>\n",
       "    <tr>\n",
       "      <th>0</th>\n",
       "      <td>4</td>\n",
       "      <td>12239</td>\n",
       "    </tr>\n",
       "    <tr>\n",
       "      <th>1</th>\n",
       "      <td>7</td>\n",
       "      <td>124</td>\n",
       "    </tr>\n",
       "    <tr>\n",
       "      <th>2</th>\n",
       "      <td>8</td>\n",
       "      <td>1</td>\n",
       "    </tr>\n",
       "    <tr>\n",
       "      <th>3</th>\n",
       "      <td>10</td>\n",
       "      <td>1147360</td>\n",
       "    </tr>\n",
       "  </tbody>\n",
       "</table>\n",
       "</div>"
      ],
      "text/plain": [
       "   length(NGAYSINH)  count(length(NGAYSINH))\n",
       "0                 4                    12239\n",
       "1                 7                      124\n",
       "2                 8                        1\n",
       "3                10                  1147360"
      ]
     },
     "execution_count": 169,
     "metadata": {},
     "output_type": "execute_result"
    }
   ],
   "source": [
    "# ngay sinh\n",
    "pd.read_sql_query(\"select length(NGAYSINH),count(length(NGAYSINH)) from S_BHXH_ONLINE_NEW_DISTINCT group by length(NGAYSINH)\",db_bhxh)"
   ]
  },
  {
   "cell_type": "code",
   "execution_count": 170,
   "id": "3e034fe8-064f-4de2-8d0d-75a91cc8aa5a",
   "metadata": {},
   "outputs": [
    {
     "data": {
      "text/html": [
       "<div>\n",
       "<style scoped>\n",
       "    .dataframe tbody tr th:only-of-type {\n",
       "        vertical-align: middle;\n",
       "    }\n",
       "\n",
       "    .dataframe tbody tr th {\n",
       "        vertical-align: top;\n",
       "    }\n",
       "\n",
       "    .dataframe thead th {\n",
       "        text-align: right;\n",
       "    }\n",
       "</style>\n",
       "<table border=\"1\" class=\"dataframe\">\n",
       "  <thead>\n",
       "    <tr style=\"text-align: right;\">\n",
       "      <th></th>\n",
       "      <th>length(CMND_ENCRYPT_DECRYPT)</th>\n",
       "      <th>count(length(CMND_ENCRYPT_DECRYPT))</th>\n",
       "    </tr>\n",
       "  </thead>\n",
       "  <tbody>\n",
       "    <tr>\n",
       "      <th>0</th>\n",
       "      <td>0</td>\n",
       "      <td>2584</td>\n",
       "    </tr>\n",
       "    <tr>\n",
       "      <th>1</th>\n",
       "      <td>1</td>\n",
       "      <td>2</td>\n",
       "    </tr>\n",
       "    <tr>\n",
       "      <th>2</th>\n",
       "      <td>2</td>\n",
       "      <td>5</td>\n",
       "    </tr>\n",
       "    <tr>\n",
       "      <th>3</th>\n",
       "      <td>3</td>\n",
       "      <td>5</td>\n",
       "    </tr>\n",
       "    <tr>\n",
       "      <th>4</th>\n",
       "      <td>4</td>\n",
       "      <td>2</td>\n",
       "    </tr>\n",
       "    <tr>\n",
       "      <th>5</th>\n",
       "      <td>6</td>\n",
       "      <td>2</td>\n",
       "    </tr>\n",
       "    <tr>\n",
       "      <th>6</th>\n",
       "      <td>7</td>\n",
       "      <td>24</td>\n",
       "    </tr>\n",
       "    <tr>\n",
       "      <th>7</th>\n",
       "      <td>8</td>\n",
       "      <td>218</td>\n",
       "    </tr>\n",
       "    <tr>\n",
       "      <th>8</th>\n",
       "      <td>9</td>\n",
       "      <td>1101567</td>\n",
       "    </tr>\n",
       "    <tr>\n",
       "      <th>9</th>\n",
       "      <td>10</td>\n",
       "      <td>5</td>\n",
       "    </tr>\n",
       "    <tr>\n",
       "      <th>10</th>\n",
       "      <td>11</td>\n",
       "      <td>9</td>\n",
       "    </tr>\n",
       "    <tr>\n",
       "      <th>11</th>\n",
       "      <td>12</td>\n",
       "      <td>55288</td>\n",
       "    </tr>\n",
       "    <tr>\n",
       "      <th>12</th>\n",
       "      <td>13</td>\n",
       "      <td>2</td>\n",
       "    </tr>\n",
       "    <tr>\n",
       "      <th>13</th>\n",
       "      <td>14</td>\n",
       "      <td>3</td>\n",
       "    </tr>\n",
       "    <tr>\n",
       "      <th>14</th>\n",
       "      <td>15</td>\n",
       "      <td>8</td>\n",
       "    </tr>\n",
       "  </tbody>\n",
       "</table>\n",
       "</div>"
      ],
      "text/plain": [
       "    length(CMND_ENCRYPT_DECRYPT)  count(length(CMND_ENCRYPT_DECRYPT))\n",
       "0                              0                                 2584\n",
       "1                              1                                    2\n",
       "2                              2                                    5\n",
       "3                              3                                    5\n",
       "4                              4                                    2\n",
       "5                              6                                    2\n",
       "6                              7                                   24\n",
       "7                              8                                  218\n",
       "8                              9                              1101567\n",
       "9                             10                                    5\n",
       "10                            11                                    9\n",
       "11                            12                                55288\n",
       "12                            13                                    2\n",
       "13                            14                                    3\n",
       "14                            15                                    8"
      ]
     },
     "execution_count": 170,
     "metadata": {},
     "output_type": "execute_result"
    }
   ],
   "source": [
    "# len cmnd\n",
    "pd.read_sql_query(\"select length(CMND_ENCRYPT_DECRYPT),count(length(CMND_ENCRYPT_DECRYPT)) from S_BHXH_ONLINE_NEW_DISTINCT group by length(CMND_ENCRYPT_DECRYPT)\",db_bhxh)"
   ]
  },
  {
   "cell_type": "code",
   "execution_count": 171,
   "id": "e06943f6-d2a9-4e4b-a901-a7b1662d97c1",
   "metadata": {},
   "outputs": [
    {
     "data": {
      "text/html": [
       "<div>\n",
       "<style scoped>\n",
       "    .dataframe tbody tr th:only-of-type {\n",
       "        vertical-align: middle;\n",
       "    }\n",
       "\n",
       "    .dataframe tbody tr th {\n",
       "        vertical-align: top;\n",
       "    }\n",
       "\n",
       "    .dataframe thead th {\n",
       "        text-align: right;\n",
       "    }\n",
       "</style>\n",
       "<table border=\"1\" class=\"dataframe\">\n",
       "  <thead>\n",
       "    <tr style=\"text-align: right;\">\n",
       "      <th></th>\n",
       "      <th>length(SOBHXH)</th>\n",
       "      <th>count(length(SOBHXH))</th>\n",
       "    </tr>\n",
       "  </thead>\n",
       "  <tbody>\n",
       "    <tr>\n",
       "      <th>0</th>\n",
       "      <td>10</td>\n",
       "      <td>1159724</td>\n",
       "    </tr>\n",
       "  </tbody>\n",
       "</table>\n",
       "</div>"
      ],
      "text/plain": [
       "   length(SOBHXH)  count(length(SOBHXH))\n",
       "0              10                1159724"
      ]
     },
     "execution_count": 171,
     "metadata": {},
     "output_type": "execute_result"
    }
   ],
   "source": [
    "# len bhxh\n",
    "pd.read_sql_query(\"select length(SOBHXH),count(length(SOBHXH)) from S_BHXH_ONLINE_NEW_DISTINCT group by length(SOBHXH)\",db_bhxh)"
   ]
  },
  {
   "cell_type": "code",
   "execution_count": 240,
   "id": "1e932d39-75f9-4762-8078-1e77e59e23c0",
   "metadata": {},
   "outputs": [
    {
     "name": "stdout",
     "output_type": "stream",
     "text": [
      "Bảng S_BHXH_ONLINE_NEW_DISTINCT offset 0 dòng, all records, chunksize 50000\n",
      "count digit bhxh 1159724\n",
      "Bảng S_BHXH_ONLINE_NEW_DISTINCT offset 0 dòng, all records, chunksize 50000\n",
      "count digit cmnd 1155990\n"
     ]
    }
   ],
   "source": [
    "# count digit BHXH\n",
    "a=count_digit(db_bhxh,\"S_BHXH_ONLINE_NEW_DISTINCT\",\"SOBHXH\")\n",
    "print(\"count digit bhxh\",a)\n",
    "# count digit CMND\n",
    "a=count_digit(db_bhxh,\"S_BHXH_ONLINE_NEW_DISTINCT\",\"CMND_ENCRYPT_DECRYPT\")\n",
    "print(\"count digit cmnd\",a)"
   ]
  },
  {
   "cell_type": "markdown",
   "id": "539b8e9a-7450-4dab-9e49-2f3b4d3bf6ae",
   "metadata": {},
   "source": [
    "### Distribution "
   ]
  },
  {
   "cell_type": "code",
   "execution_count": 172,
   "id": "bdb13088-ebc5-4a27-ad59-441e09960610",
   "metadata": {},
   "outputs": [
    {
     "name": "stdout",
     "output_type": "stream",
     "text": [
      "Bảng S_BHXH_ONLINE_NEW_DISTINCT offset 0 dòng, all records, chunksize 50000\n",
      "Wall time: 1min 31s\n"
     ]
    },
    {
     "data": {
      "text/plain": [
       "PROVINCE_KEY\n",
       "THANH PHO    1158955.0\n",
       "TINH             587.0\n",
       "Name: 0, dtype: float64"
      ]
     },
     "execution_count": 172,
     "metadata": {},
     "output_type": "execute_result"
    }
   ],
   "source": [
    "%%time\n",
    "count_by_province,count_by_levelprovince=count_address(db_bhxh, \"S_BHXH_ONLINE_NEW_DISTINCT\", \"DIACHI\", add_map,chunksize=50000,    n_records=-1)\n",
    "count_by_province.to_excel(\"count_by_province.xlsx\")\n",
    "count_by_levelprovince"
   ]
  },
  {
   "cell_type": "markdown",
   "id": "c0d1a56e-0dcf-45af-96c9-c7f7e7641136",
   "metadata": {},
   "source": [
    "## BRANDNAME_SI_INDIVIDUAL"
   ]
  },
  {
   "cell_type": "markdown",
   "id": "970f6d40-ad12-4985-acc0-c2997db7962e",
   "metadata": {},
   "source": [
    "### Download and clean"
   ]
  },
  {
   "cell_type": "code",
   "execution_count": null,
   "id": "2ea93c72-4c46-49f0-b243-9771a1f0a1ed",
   "metadata": {},
   "outputs": [],
   "source": [
    "export_bhxh_todisk(db_con=db_nice,table_name=\"BRANDNAME_SI_INDIVIDUAL\",clean_fields=[\"MABHXH\",\"USER_ID\"])\n",
    "export_bhxh_todisk(db_con=db_nice,table_name=\"BRANDNAME_SI_INDIVIDUAL_B1\",clean_fields=[\"MABHXH\",\"USER_ID\"],new_name_export=\"BRANDNAME_SI_INDIVIDUAL\" )\n",
    "# tao bang distinct\n",
    "create_distinct_table(db_bhxh,\"BRANDNAME_SI_INDIVIDUAL\")"
   ]
  },
  {
   "cell_type": "markdown",
   "id": "be1aa130-7075-40da-9c75-225b983f02a5",
   "metadata": {},
   "source": [
    "### Overview"
   ]
  },
  {
   "cell_type": "code",
   "execution_count": 173,
   "id": "fcc13c85-307e-4579-827d-e5bfeff4b813",
   "metadata": {},
   "outputs": [
    {
     "name": "stdout",
     "output_type": "stream",
     "text": [
      "Bảng BRANDNAME_SI_INDIVIDUAL offset 0 dòng, all records\n",
      "50350860\n",
      "Bảng BRANDNAME_SI_INDIVIDUAL_DISTINCT offset 0 dòng, all records\n",
      "32811496\n"
     ]
    },
    {
     "data": {
      "text/plain": [
       "'\\nBảng BRANDNAME_SI_INDIVIDUAL offset 0 dòng, all records\\n9109378\\nBảng BRANDNAME_SI_INDIVIDUAL_DISTINCT offset 0 dòng, all records\\n7247859\\n'"
      ]
     },
     "execution_count": 173,
     "metadata": {},
     "output_type": "execute_result"
    }
   ],
   "source": [
    "# print count total BRANDNAME_SI_INDIVIDUAL\n",
    "print(read_data_from_db(db_bhxh,\"BRANDNAME_SI_INDIVIDUAL\",sql_query=\"select count(*) from BRANDNAME_SI_INDIVIDUAL\").iloc[0,0])\n",
    "# print count total BRANDNAME_SI_INDIVIDUAL_distinct\n",
    "print(read_data_from_db(db_bhxh,\"BRANDNAME_SI_INDIVIDUAL_DISTINCT\",sql_query=\"select count(*) from BRANDNAME_SI_INDIVIDUAL_DISTINCT\").iloc[0,0])\n",
    "\n",
    "\"\"\"\n",
    "Bảng BRANDNAME_SI_INDIVIDUAL offset 0 dòng, all records\n",
    "50350860\n",
    "Bảng BRANDNAME_SI_INDIVIDUAL_DISTINCT offset 0 dòng, all records\n",
    "32811496\n",
    "\"\"\""
   ]
  },
  {
   "cell_type": "code",
   "execution_count": 63,
   "id": "b9c7824b-c416-42ba-bd0d-3e8739437358",
   "metadata": {},
   "outputs": [
    {
     "name": "stdout",
     "output_type": "stream",
     "text": [
      "Bảng BRANDNAME_SI_INDIVIDUAL_DISTINCT offset 0 dòng, 0 records\n"
     ]
    },
    {
     "data": {
      "text/html": [
       "<div>\n",
       "<style scoped>\n",
       "    .dataframe tbody tr th:only-of-type {\n",
       "        vertical-align: middle;\n",
       "    }\n",
       "\n",
       "    .dataframe tbody tr th {\n",
       "        vertical-align: top;\n",
       "    }\n",
       "\n",
       "    .dataframe thead th {\n",
       "        text-align: right;\n",
       "    }\n",
       "</style>\n",
       "<table border=\"1\" class=\"dataframe\">\n",
       "  <thead>\n",
       "    <tr style=\"text-align: right;\">\n",
       "      <th></th>\n",
       "      <th>TOTAL_ROW</th>\n",
       "      <th>COUNT_NOT_NAN</th>\n",
       "      <th>COUNT_DISTINCT</th>\n",
       "      <th>COUNT_NAN</th>\n",
       "      <th>COUNT_DUPLICATED</th>\n",
       "      <th>NOT_NAN_ON_TOTAL</th>\n",
       "      <th>NAN_ON_TOTAL</th>\n",
       "      <th>DISTINCT_ON_NOT_NAN</th>\n",
       "      <th>DUPLICATED_ON_NOT_NAN</th>\n",
       "    </tr>\n",
       "  </thead>\n",
       "  <tbody>\n",
       "    <tr>\n",
       "      <th>USER_ID</th>\n",
       "      <td>32811496</td>\n",
       "      <td>32811496</td>\n",
       "      <td>14420650</td>\n",
       "      <td>0</td>\n",
       "      <td>18390846</td>\n",
       "      <td>1.0000</td>\n",
       "      <td>0.0000</td>\n",
       "      <td>0.4395</td>\n",
       "      <td>0.5605</td>\n",
       "    </tr>\n",
       "    <tr>\n",
       "      <th>REPORT_DATE</th>\n",
       "      <td>32811496</td>\n",
       "      <td>32811495</td>\n",
       "      <td>517</td>\n",
       "      <td>1</td>\n",
       "      <td>32810978</td>\n",
       "      <td>1.0000</td>\n",
       "      <td>0.0000</td>\n",
       "      <td>0.0000</td>\n",
       "      <td>1.0000</td>\n",
       "    </tr>\n",
       "    <tr>\n",
       "      <th>BRANDNAME</th>\n",
       "      <td>32811496</td>\n",
       "      <td>32811495</td>\n",
       "      <td>1</td>\n",
       "      <td>1</td>\n",
       "      <td>32811494</td>\n",
       "      <td>1.0000</td>\n",
       "      <td>0.0000</td>\n",
       "      <td>0.0000</td>\n",
       "      <td>1.0000</td>\n",
       "    </tr>\n",
       "    <tr>\n",
       "      <th>MONTH</th>\n",
       "      <td>32811496</td>\n",
       "      <td>32811495</td>\n",
       "      <td>24</td>\n",
       "      <td>1</td>\n",
       "      <td>32811471</td>\n",
       "      <td>1.0000</td>\n",
       "      <td>0.0000</td>\n",
       "      <td>0.0000</td>\n",
       "      <td>1.0000</td>\n",
       "    </tr>\n",
       "    <tr>\n",
       "      <th>TEMPLATE_ID</th>\n",
       "      <td>32811496</td>\n",
       "      <td>32811495</td>\n",
       "      <td>37</td>\n",
       "      <td>1</td>\n",
       "      <td>32811458</td>\n",
       "      <td>1.0000</td>\n",
       "      <td>0.0000</td>\n",
       "      <td>0.0000</td>\n",
       "      <td>1.0000</td>\n",
       "    </tr>\n",
       "    <tr>\n",
       "      <th>TEN</th>\n",
       "      <td>32811496</td>\n",
       "      <td>7995181</td>\n",
       "      <td>754909</td>\n",
       "      <td>24816315</td>\n",
       "      <td>7240272</td>\n",
       "      <td>0.2437</td>\n",
       "      <td>0.7563</td>\n",
       "      <td>0.0944</td>\n",
       "      <td>0.9056</td>\n",
       "    </tr>\n",
       "    <tr>\n",
       "      <th>MABHXH</th>\n",
       "      <td>32811496</td>\n",
       "      <td>32811496</td>\n",
       "      <td>15061510</td>\n",
       "      <td>0</td>\n",
       "      <td>17749986</td>\n",
       "      <td>1.0000</td>\n",
       "      <td>0.0000</td>\n",
       "      <td>0.4590</td>\n",
       "      <td>0.5410</td>\n",
       "    </tr>\n",
       "    <tr>\n",
       "      <th>SOTIEN</th>\n",
       "      <td>32811496</td>\n",
       "      <td>6</td>\n",
       "      <td>6</td>\n",
       "      <td>32811490</td>\n",
       "      <td>0</td>\n",
       "      <td>0.0000</td>\n",
       "      <td>1.0000</td>\n",
       "      <td>1.0000</td>\n",
       "      <td>0.0000</td>\n",
       "    </tr>\n",
       "  </tbody>\n",
       "</table>\n",
       "</div>"
      ],
      "text/plain": [
       "             TOTAL_ROW  COUNT_NOT_NAN  COUNT_DISTINCT  COUNT_NAN  \\\n",
       "USER_ID       32811496       32811496        14420650          0   \n",
       "REPORT_DATE   32811496       32811495             517          1   \n",
       "BRANDNAME     32811496       32811495               1          1   \n",
       "MONTH         32811496       32811495              24          1   \n",
       "TEMPLATE_ID   32811496       32811495              37          1   \n",
       "TEN           32811496        7995181          754909   24816315   \n",
       "MABHXH        32811496       32811496        15061510          0   \n",
       "SOTIEN        32811496              6               6   32811490   \n",
       "\n",
       "             COUNT_DUPLICATED  NOT_NAN_ON_TOTAL  NAN_ON_TOTAL  \\\n",
       "USER_ID              18390846            1.0000        0.0000   \n",
       "REPORT_DATE          32810978            1.0000        0.0000   \n",
       "BRANDNAME            32811494            1.0000        0.0000   \n",
       "MONTH                32811471            1.0000        0.0000   \n",
       "TEMPLATE_ID          32811458            1.0000        0.0000   \n",
       "TEN                   7240272            0.2437        0.7563   \n",
       "MABHXH               17749986            1.0000        0.0000   \n",
       "SOTIEN                      0            0.0000        1.0000   \n",
       "\n",
       "             DISTINCT_ON_NOT_NAN  DUPLICATED_ON_NOT_NAN  \n",
       "USER_ID                   0.4395                 0.5605  \n",
       "REPORT_DATE               0.0000                 1.0000  \n",
       "BRANDNAME                 0.0000                 1.0000  \n",
       "MONTH                     0.0000                 1.0000  \n",
       "TEMPLATE_ID               0.0000                 1.0000  \n",
       "TEN                       0.0944                 0.9056  \n",
       "MABHXH                    0.4590                 0.5410  \n",
       "SOTIEN                    1.0000                 0.0000  "
      ]
     },
     "execution_count": 63,
     "metadata": {},
     "output_type": "execute_result"
    }
   ],
   "source": [
    "ana3=analyst_field_data(db_bhxh,\"BRANDNAME_SI_INDIVIDUAL_DISTINCT\")\n",
    "ana3"
   ]
  },
  {
   "cell_type": "code",
   "execution_count": 10,
   "id": "04940f63-8c02-454f-a66b-62b231f46368",
   "metadata": {},
   "outputs": [
    {
     "name": "stdout",
     "output_type": "stream",
     "text": [
      "MABHXH      886798\n",
      "USER_ID    1704070\n",
      "dtype: int64\n",
      "USER_ID    1114760\n",
      "MABHXH     2599083\n",
      "dtype: int64\n"
     ]
    }
   ],
   "source": [
    "db_1_to_many=sqlite3.connect(\"1_to_many.db\")\n",
    "si_to_phone_brandname=check_nonunique_pair(db_bhxh,\"BRANDNAME_SI_INDIVIDUAL_DISTINCT\",\"MABHXH\",\"USER_ID\")\n",
    "si_to_phone_brandname.to_sql(\"si_to_phone_brandname\",db_1_to_many,index=False, if_exists=\"replace\")\n",
    "phone_to_si_brandname=check_nonunique_pair(db_bhxh,\"BRANDNAME_SI_INDIVIDUAL_DISTINCT\",\"USER_ID\",\"MABHXH\")\n",
    "phone_to_si_brandname.to_sql(\"phone_to_si_brandname\",db_1_to_many,index=False, if_exists=\"replace\")\n",
    "print(si_to_phone_brandname.apply(lambda x:x.nunique()))\n",
    "print(phone_to_si_brandname.apply(lambda x:x.nunique()))"
   ]
  },
  {
   "cell_type": "code",
   "execution_count": 176,
   "id": "62902db0-395b-4833-992d-9ba3539c8dfb",
   "metadata": {},
   "outputs": [
    {
     "data": {
      "text/plain": [
       "MABHXH      886798\n",
       "USER_ID    1704070\n",
       "dtype: int64"
      ]
     },
     "execution_count": 176,
     "metadata": {},
     "output_type": "execute_result"
    }
   ],
   "source": [
    "check_nonunique_pair(db_bhxh,\"BRANDNAME_SI_INDIVIDUAL_DISTINCT\",\"MABHXH\",\"USER_ID\").apply(lambda x:x.nunique())"
   ]
  },
  {
   "cell_type": "code",
   "execution_count": 177,
   "id": "038e2ecc-859f-4c72-aea8-c96ca0754815",
   "metadata": {},
   "outputs": [
    {
     "data": {
      "text/plain": [
       "USER_ID    1114760\n",
       "MABHXH     2599083\n",
       "dtype: int64"
      ]
     },
     "execution_count": 177,
     "metadata": {},
     "output_type": "execute_result"
    }
   ],
   "source": [
    "check_nonunique_pair(db_bhxh,\"BRANDNAME_SI_INDIVIDUAL_DISTINCT\",\"USER_ID\",\"MABHXH\").apply(lambda x:x.nunique())"
   ]
  },
  {
   "cell_type": "markdown",
   "id": "a756d3d4-7aa9-41a7-8b11-12816b234cf8",
   "metadata": {},
   "source": [
    "### Invalid Value"
   ]
  },
  {
   "cell_type": "code",
   "execution_count": 178,
   "id": "f598db27-e787-4892-9a7e-b34c9938cce2",
   "metadata": {},
   "outputs": [
    {
     "data": {
      "text/html": [
       "<div>\n",
       "<style scoped>\n",
       "    .dataframe tbody tr th:only-of-type {\n",
       "        vertical-align: middle;\n",
       "    }\n",
       "\n",
       "    .dataframe tbody tr th {\n",
       "        vertical-align: top;\n",
       "    }\n",
       "\n",
       "    .dataframe thead th {\n",
       "        text-align: right;\n",
       "    }\n",
       "</style>\n",
       "<table border=\"1\" class=\"dataframe\">\n",
       "  <thead>\n",
       "    <tr style=\"text-align: right;\">\n",
       "      <th></th>\n",
       "      <th>length(USER_ID)</th>\n",
       "      <th>count(length(USER_ID))</th>\n",
       "    </tr>\n",
       "  </thead>\n",
       "  <tbody>\n",
       "    <tr>\n",
       "      <th>0</th>\n",
       "      <td>3</td>\n",
       "      <td>1</td>\n",
       "    </tr>\n",
       "    <tr>\n",
       "      <th>1</th>\n",
       "      <td>9</td>\n",
       "      <td>248479</td>\n",
       "    </tr>\n",
       "    <tr>\n",
       "      <th>2</th>\n",
       "      <td>11</td>\n",
       "      <td>32363017</td>\n",
       "    </tr>\n",
       "    <tr>\n",
       "      <th>3</th>\n",
       "      <td>13</td>\n",
       "      <td>199999</td>\n",
       "    </tr>\n",
       "  </tbody>\n",
       "</table>\n",
       "</div>"
      ],
      "text/plain": [
       "   length(USER_ID)  count(length(USER_ID))\n",
       "0                3                       1\n",
       "1                9                  248479\n",
       "2               11                32363017\n",
       "3               13                  199999"
      ]
     },
     "execution_count": 178,
     "metadata": {},
     "output_type": "execute_result"
    }
   ],
   "source": [
    "# len cmnd\n",
    "pd.read_sql_query(\"select length(USER_ID),count(length(USER_ID)) from BRANDNAME_SI_INDIVIDUAL_DISTINCT group by length(USER_ID)\",db_bhxh)"
   ]
  },
  {
   "cell_type": "code",
   "execution_count": 179,
   "id": "f4a8629f-8ce8-43d6-8728-86f0b6961e10",
   "metadata": {},
   "outputs": [
    {
     "data": {
      "text/html": [
       "<div>\n",
       "<style scoped>\n",
       "    .dataframe tbody tr th:only-of-type {\n",
       "        vertical-align: middle;\n",
       "    }\n",
       "\n",
       "    .dataframe tbody tr th {\n",
       "        vertical-align: top;\n",
       "    }\n",
       "\n",
       "    .dataframe thead th {\n",
       "        text-align: right;\n",
       "    }\n",
       "</style>\n",
       "<table border=\"1\" class=\"dataframe\">\n",
       "  <thead>\n",
       "    <tr style=\"text-align: right;\">\n",
       "      <th></th>\n",
       "      <th>length(MABHXH)</th>\n",
       "      <th>count(length(MABHXH))</th>\n",
       "    </tr>\n",
       "  </thead>\n",
       "  <tbody>\n",
       "    <tr>\n",
       "      <th>0</th>\n",
       "      <td>1</td>\n",
       "      <td>7</td>\n",
       "    </tr>\n",
       "    <tr>\n",
       "      <th>1</th>\n",
       "      <td>3</td>\n",
       "      <td>1004</td>\n",
       "    </tr>\n",
       "    <tr>\n",
       "      <th>2</th>\n",
       "      <td>5</td>\n",
       "      <td>1</td>\n",
       "    </tr>\n",
       "    <tr>\n",
       "      <th>3</th>\n",
       "      <td>9</td>\n",
       "      <td>1</td>\n",
       "    </tr>\n",
       "    <tr>\n",
       "      <th>4</th>\n",
       "      <td>10</td>\n",
       "      <td>32810483</td>\n",
       "    </tr>\n",
       "  </tbody>\n",
       "</table>\n",
       "</div>"
      ],
      "text/plain": [
       "   length(MABHXH)  count(length(MABHXH))\n",
       "0               1                      7\n",
       "1               3                   1004\n",
       "2               5                      1\n",
       "3               9                      1\n",
       "4              10               32810483"
      ]
     },
     "execution_count": 179,
     "metadata": {},
     "output_type": "execute_result"
    }
   ],
   "source": [
    "# len bhxh\n",
    "pd.read_sql_query(\"select length(MABHXH),count(length(MABHXH)) from BRANDNAME_SI_INDIVIDUAL_DISTINCT group by length(MABHXH)\",db_bhxh)"
   ]
  },
  {
   "cell_type": "code",
   "execution_count": 237,
   "id": "e2c2bd75-7627-4c76-8ff7-ff6edb11a71c",
   "metadata": {},
   "outputs": [
    {
     "name": "stdout",
     "output_type": "stream",
     "text": [
      "Bảng BRANDNAME_SI_INDIVIDUAL_DISTINCT offset 0 dòng, all records, chunksize 50000\n",
      "657\r"
     ]
    },
    {
     "data": {
      "text/plain": [
       "32810354"
      ]
     },
     "execution_count": 237,
     "metadata": {},
     "output_type": "execute_result"
    }
   ],
   "source": [
    "# count digit BHXH\n",
    "a=count_digit(db_bhxh,\"BRANDNAME_SI_INDIVIDUAL_DISTINCT\",\"MABHXH\")\n",
    "print(\"count digit bhxh\",a)\n",
    "# count digit CMND\n",
    "a=count_digit(db_bhxh,\"BRANDNAME_SI_INDIVIDUAL_DISTINCT\",\"USER_ID\")\n",
    "print(\"count digit cmnd\",a)"
   ]
  },
  {
   "cell_type": "code",
   "execution_count": 241,
   "id": "16fffbd0-a1a2-4565-a2af-2d5bbd95aefd",
   "metadata": {},
   "outputs": [
    {
     "name": "stdout",
     "output_type": "stream",
     "text": [
      "Bảng BRANDNAME_SI_INDIVIDUAL_DISTINCT offset 0 dòng, all records, chunksize 50000\n",
      "count digit cmnd 32611496\n"
     ]
    }
   ],
   "source": [
    "# count digit CMND\n",
    "a=count_digit(db_bhxh,\"BRANDNAME_SI_INDIVIDUAL_DISTINCT\",\"USER_ID\")\n",
    "print(\"count digit cmnd\",a)"
   ]
  },
  {
   "cell_type": "markdown",
   "id": "72bce836-0bbd-4a5f-9433-1e78016290b0",
   "metadata": {},
   "source": [
    "### Distribution "
   ]
  },
  {
   "cell_type": "code",
   "execution_count": null,
   "id": "9c7d1a73-28cf-44ea-8f34-2ab4cf172e11",
   "metadata": {},
   "outputs": [],
   "source": []
  },
  {
   "cell_type": "markdown",
   "id": "a1b79606-ee5f-407c-9bff-37df8401595c",
   "metadata": {},
   "source": [
    "## RESPONSE_BHXH_LOG - db_score"
   ]
  },
  {
   "cell_type": "markdown",
   "id": "9e5329f6-0632-4388-8b0b-305a52f48af6",
   "metadata": {},
   "source": [
    "### Download and clean"
   ]
  },
  {
   "cell_type": "code",
   "execution_count": null,
   "id": "4e3aced1-0f39-4e73-9830-b5874e863102",
   "metadata": {},
   "outputs": [],
   "source": [
    "export_bhxh_todisk(db_con=db_score,table_name=\"RESPONSE_BHXH_LOG\",col_name=['RESPONSE_INFO','REQUEST_INFO'],\n",
    "                   db_map=None,clean_fields=['MA_SO_MXH','SO_CMND',\"IDCARD\"],clean_func=clean_BHXH_LOG,reindex_col_tosql=x,\n",
    "                  n_records=-1,chunksize=20000,offset_rows=2400000)\n",
    "# tao bang distinct\n",
    "create_distinct_table(db_bhxh,\"RESPONSE_BHXH_LOG\")"
   ]
  },
  {
   "cell_type": "markdown",
   "id": "3c09273e-3495-4ff7-828e-93d1cf2fc4bb",
   "metadata": {},
   "source": [
    "### Overview"
   ]
  },
  {
   "cell_type": "code",
   "execution_count": 174,
   "id": "574f9ae3-8772-43c1-b8f5-2cd2bdbcf14c",
   "metadata": {},
   "outputs": [
    {
     "name": "stdout",
     "output_type": "stream",
     "text": [
      "Bảng RESPONSE_BHXH_LOG offset 0 dòng, all records\n",
      "23583738\n",
      "Bảng RESPONSE_BHXH_LOG_DISTINCT offset 0 dòng, all records\n",
      "22733562\n"
     ]
    },
    {
     "data": {
      "text/plain": [
       "'\\nBảng RESPONSE_BHXH_LOG offset 0 dòng, all records\\n9109378\\nBảng RESPONSE_BHXH_LOG_DISTINCT offset 0 dòng, all records\\n7247859\\n'"
      ]
     },
     "execution_count": 174,
     "metadata": {},
     "output_type": "execute_result"
    }
   ],
   "source": [
    "# print count total RESPONSE_BHXH_LOG\n",
    "print(read_data_from_db(db_bhxh,\"RESPONSE_BHXH_LOG\",sql_query=\"select count(*) from RESPONSE_BHXH_LOG\").iloc[0,0])\n",
    "# print count total RESPONSE_BHXH_LOG_distinct\n",
    "print(read_data_from_db(db_bhxh,\"RESPONSE_BHXH_LOG_DISTINCT\",sql_query=\"select count(*) from RESPONSE_BHXH_LOG_DISTINCT\").iloc[0,0])\n",
    "\n",
    "\"\"\"\n",
    "Bảng RESPONSE_BHXH_LOG offset 0 dòng, all records\n",
    "9109378\n",
    "Bảng RESPONSE_BHXH_LOG_DISTINCT offset 0 dòng, all records\n",
    "7247859\n",
    "\"\"\""
   ]
  },
  {
   "cell_type": "code",
   "execution_count": 175,
   "id": "3b0b8779-4f0b-4c4e-b6ed-126e30648343",
   "metadata": {},
   "outputs": [
    {
     "name": "stdout",
     "output_type": "stream",
     "text": [
      "Bảng RESPONSE_BHXH_LOG_DISTINCT offset 0 dòng, 0 records\n"
     ]
    },
    {
     "data": {
      "text/html": [
       "<div>\n",
       "<style scoped>\n",
       "    .dataframe tbody tr th:only-of-type {\n",
       "        vertical-align: middle;\n",
       "    }\n",
       "\n",
       "    .dataframe tbody tr th {\n",
       "        vertical-align: top;\n",
       "    }\n",
       "\n",
       "    .dataframe thead th {\n",
       "        text-align: right;\n",
       "    }\n",
       "</style>\n",
       "<table border=\"1\" class=\"dataframe\">\n",
       "  <thead>\n",
       "    <tr style=\"text-align: right;\">\n",
       "      <th></th>\n",
       "      <th>TOTAL_ROW</th>\n",
       "      <th>COUNT_NOT_NAN</th>\n",
       "      <th>COUNT_DISTINCT</th>\n",
       "      <th>COUNT_NAN</th>\n",
       "      <th>COUNT_DUPLICATED</th>\n",
       "      <th>NOT_NAN_ON_TOTAL</th>\n",
       "      <th>NAN_ON_TOTAL</th>\n",
       "      <th>DISTINCT_ON_NOT_NAN</th>\n",
       "      <th>DUPLICATED_ON_NOT_NAN</th>\n",
       "    </tr>\n",
       "  </thead>\n",
       "  <tbody>\n",
       "    <tr>\n",
       "      <th>MA_SO_MXH</th>\n",
       "      <td>22733562</td>\n",
       "      <td>22733562</td>\n",
       "      <td>1660151</td>\n",
       "      <td>0</td>\n",
       "      <td>21073411</td>\n",
       "      <td>1.0000</td>\n",
       "      <td>0.0000</td>\n",
       "      <td>0.0730</td>\n",
       "      <td>0.9270</td>\n",
       "    </tr>\n",
       "    <tr>\n",
       "      <th>NOI_CAP_CMND</th>\n",
       "      <td>22733562</td>\n",
       "      <td>11574429</td>\n",
       "      <td>8148</td>\n",
       "      <td>11159133</td>\n",
       "      <td>11566281</td>\n",
       "      <td>0.5091</td>\n",
       "      <td>0.4909</td>\n",
       "      <td>0.0007</td>\n",
       "      <td>0.9993</td>\n",
       "    </tr>\n",
       "    <tr>\n",
       "      <th>HO_TEN</th>\n",
       "      <td>22733562</td>\n",
       "      <td>22733515</td>\n",
       "      <td>502575</td>\n",
       "      <td>47</td>\n",
       "      <td>22230940</td>\n",
       "      <td>1.0000</td>\n",
       "      <td>0.0000</td>\n",
       "      <td>0.0221</td>\n",
       "      <td>0.9779</td>\n",
       "    </tr>\n",
       "    <tr>\n",
       "      <th>MUC_LU</th>\n",
       "      <td>22733562</td>\n",
       "      <td>22733521</td>\n",
       "      <td>415462</td>\n",
       "      <td>41</td>\n",
       "      <td>22318059</td>\n",
       "      <td>1.0000</td>\n",
       "      <td>0.0000</td>\n",
       "      <td>0.0183</td>\n",
       "      <td>0.9817</td>\n",
       "    </tr>\n",
       "    <tr>\n",
       "      <th>DIA_CHI_HK</th>\n",
       "      <td>22733562</td>\n",
       "      <td>16133440</td>\n",
       "      <td>375640</td>\n",
       "      <td>6600122</td>\n",
       "      <td>15757800</td>\n",
       "      <td>0.7097</td>\n",
       "      <td>0.2903</td>\n",
       "      <td>0.0233</td>\n",
       "      <td>0.9767</td>\n",
       "    </tr>\n",
       "    <tr>\n",
       "      <th>TU_THANG</th>\n",
       "      <td>22733562</td>\n",
       "      <td>22733521</td>\n",
       "      <td>528</td>\n",
       "      <td>41</td>\n",
       "      <td>22732993</td>\n",
       "      <td>1.0000</td>\n",
       "      <td>0.0000</td>\n",
       "      <td>0.0000</td>\n",
       "      <td>1.0000</td>\n",
       "    </tr>\n",
       "    <tr>\n",
       "      <th>DEN_THANG</th>\n",
       "      <td>22733562</td>\n",
       "      <td>22733521</td>\n",
       "      <td>456</td>\n",
       "      <td>41</td>\n",
       "      <td>22733065</td>\n",
       "      <td>1.0000</td>\n",
       "      <td>0.0000</td>\n",
       "      <td>0.0000</td>\n",
       "      <td>1.0000</td>\n",
       "    </tr>\n",
       "    <tr>\n",
       "      <th>NGAY_CAP_CMND</th>\n",
       "      <td>22733562</td>\n",
       "      <td>9034034</td>\n",
       "      <td>12182</td>\n",
       "      <td>13699528</td>\n",
       "      <td>9021852</td>\n",
       "      <td>0.3974</td>\n",
       "      <td>0.6026</td>\n",
       "      <td>0.0013</td>\n",
       "      <td>0.9987</td>\n",
       "    </tr>\n",
       "    <tr>\n",
       "      <th>SO_CMND</th>\n",
       "      <td>22733562</td>\n",
       "      <td>22733562</td>\n",
       "      <td>1507760</td>\n",
       "      <td>0</td>\n",
       "      <td>21225802</td>\n",
       "      <td>1.0000</td>\n",
       "      <td>0.0000</td>\n",
       "      <td>0.0663</td>\n",
       "      <td>0.9337</td>\n",
       "    </tr>\n",
       "    <tr>\n",
       "      <th>VT_CTAC</th>\n",
       "      <td>22733562</td>\n",
       "      <td>14540515</td>\n",
       "      <td>702397</td>\n",
       "      <td>8193047</td>\n",
       "      <td>13838118</td>\n",
       "      <td>0.6396</td>\n",
       "      <td>0.3604</td>\n",
       "      <td>0.0483</td>\n",
       "      <td>0.9517</td>\n",
       "    </tr>\n",
       "    <tr>\n",
       "      <th>NGAY_SINH</th>\n",
       "      <td>22733562</td>\n",
       "      <td>22733510</td>\n",
       "      <td>25949</td>\n",
       "      <td>52</td>\n",
       "      <td>22707561</td>\n",
       "      <td>1.0000</td>\n",
       "      <td>0.0000</td>\n",
       "      <td>0.0011</td>\n",
       "      <td>0.9989</td>\n",
       "    </tr>\n",
       "    <tr>\n",
       "      <th>TEN_CONGTY</th>\n",
       "      <td>22733562</td>\n",
       "      <td>22733501</td>\n",
       "      <td>349048</td>\n",
       "      <td>61</td>\n",
       "      <td>22384453</td>\n",
       "      <td>1.0000</td>\n",
       "      <td>0.0000</td>\n",
       "      <td>0.0154</td>\n",
       "      <td>0.9846</td>\n",
       "    </tr>\n",
       "    <tr>\n",
       "      <th>DIA_CHI_CTAC</th>\n",
       "      <td>22733562</td>\n",
       "      <td>22009106</td>\n",
       "      <td>293557</td>\n",
       "      <td>724456</td>\n",
       "      <td>21715549</td>\n",
       "      <td>0.9681</td>\n",
       "      <td>0.0319</td>\n",
       "      <td>0.0133</td>\n",
       "      <td>0.9867</td>\n",
       "    </tr>\n",
       "    <tr>\n",
       "      <th>GIOI_TINH</th>\n",
       "      <td>22733562</td>\n",
       "      <td>22366372</td>\n",
       "      <td>2</td>\n",
       "      <td>367190</td>\n",
       "      <td>22366370</td>\n",
       "      <td>0.9838</td>\n",
       "      <td>0.0162</td>\n",
       "      <td>0.0000</td>\n",
       "      <td>1.0000</td>\n",
       "    </tr>\n",
       "    <tr>\n",
       "      <th>USER</th>\n",
       "      <td>22733562</td>\n",
       "      <td>22695063</td>\n",
       "      <td>1</td>\n",
       "      <td>38499</td>\n",
       "      <td>22695062</td>\n",
       "      <td>0.9983</td>\n",
       "      <td>0.0017</td>\n",
       "      <td>0.0000</td>\n",
       "      <td>1.0000</td>\n",
       "    </tr>\n",
       "    <tr>\n",
       "      <th>IDCARD</th>\n",
       "      <td>22733562</td>\n",
       "      <td>22733562</td>\n",
       "      <td>1502795</td>\n",
       "      <td>0</td>\n",
       "      <td>21230767</td>\n",
       "      <td>1.0000</td>\n",
       "      <td>0.0000</td>\n",
       "      <td>0.0661</td>\n",
       "      <td>0.9339</td>\n",
       "    </tr>\n",
       "    <tr>\n",
       "      <th>IDFACEBOOK</th>\n",
       "      <td>22733562</td>\n",
       "      <td>22733562</td>\n",
       "      <td>35</td>\n",
       "      <td>0</td>\n",
       "      <td>22733527</td>\n",
       "      <td>1.0000</td>\n",
       "      <td>0.0000</td>\n",
       "      <td>0.0000</td>\n",
       "      <td>1.0000</td>\n",
       "    </tr>\n",
       "    <tr>\n",
       "      <th>NAME</th>\n",
       "      <td>22733562</td>\n",
       "      <td>22733562</td>\n",
       "      <td>405253</td>\n",
       "      <td>0</td>\n",
       "      <td>22328309</td>\n",
       "      <td>1.0000</td>\n",
       "      <td>0.0000</td>\n",
       "      <td>0.0178</td>\n",
       "      <td>0.9822</td>\n",
       "    </tr>\n",
       "    <tr>\n",
       "      <th>DIABAN_CTAC</th>\n",
       "      <td>22733562</td>\n",
       "      <td>22513547</td>\n",
       "      <td>759</td>\n",
       "      <td>220015</td>\n",
       "      <td>22512788</td>\n",
       "      <td>0.9903</td>\n",
       "      <td>0.0097</td>\n",
       "      <td>0.0000</td>\n",
       "      <td>1.0000</td>\n",
       "    </tr>\n",
       "    <tr>\n",
       "      <th>TEN_NGHIEPVU</th>\n",
       "      <td>22733562</td>\n",
       "      <td>22731697</td>\n",
       "      <td>35</td>\n",
       "      <td>1865</td>\n",
       "      <td>22731662</td>\n",
       "      <td>0.9999</td>\n",
       "      <td>0.0001</td>\n",
       "      <td>0.0000</td>\n",
       "      <td>1.0000</td>\n",
       "    </tr>\n",
       "    <tr>\n",
       "      <th>ID</th>\n",
       "      <td>22733562</td>\n",
       "      <td>13533049</td>\n",
       "      <td>67753</td>\n",
       "      <td>9200513</td>\n",
       "      <td>13465296</td>\n",
       "      <td>0.5953</td>\n",
       "      <td>0.4047</td>\n",
       "      <td>0.0050</td>\n",
       "      <td>0.9950</td>\n",
       "    </tr>\n",
       "    <tr>\n",
       "      <th>MUC_LUTT</th>\n",
       "      <td>22733562</td>\n",
       "      <td>22579267</td>\n",
       "      <td>93</td>\n",
       "      <td>154295</td>\n",
       "      <td>22579174</td>\n",
       "      <td>0.9932</td>\n",
       "      <td>0.0068</td>\n",
       "      <td>0.0000</td>\n",
       "      <td>1.0000</td>\n",
       "    </tr>\n",
       "    <tr>\n",
       "      <th>HE_SO</th>\n",
       "      <td>22733562</td>\n",
       "      <td>22408260</td>\n",
       "      <td>945</td>\n",
       "      <td>325302</td>\n",
       "      <td>22407315</td>\n",
       "      <td>0.9857</td>\n",
       "      <td>0.0143</td>\n",
       "      <td>0.0000</td>\n",
       "      <td>1.0000</td>\n",
       "    </tr>\n",
       "    <tr>\n",
       "      <th>MSKD</th>\n",
       "      <td>22733562</td>\n",
       "      <td>18808137</td>\n",
       "      <td>233422</td>\n",
       "      <td>3925425</td>\n",
       "      <td>18574715</td>\n",
       "      <td>0.8273</td>\n",
       "      <td>0.1727</td>\n",
       "      <td>0.0124</td>\n",
       "      <td>0.9876</td>\n",
       "    </tr>\n",
       "    <tr>\n",
       "      <th>MANV</th>\n",
       "      <td>22733562</td>\n",
       "      <td>22593024</td>\n",
       "      <td>28</td>\n",
       "      <td>140538</td>\n",
       "      <td>22592996</td>\n",
       "      <td>0.9938</td>\n",
       "      <td>0.0062</td>\n",
       "      <td>0.0000</td>\n",
       "      <td>1.0000</td>\n",
       "    </tr>\n",
       "    <tr>\n",
       "      <th>MSO</th>\n",
       "      <td>22733562</td>\n",
       "      <td>20263610</td>\n",
       "      <td>8349</td>\n",
       "      <td>2469952</td>\n",
       "      <td>20255261</td>\n",
       "      <td>0.8914</td>\n",
       "      <td>0.1086</td>\n",
       "      <td>0.0004</td>\n",
       "      <td>0.9996</td>\n",
       "    </tr>\n",
       "  </tbody>\n",
       "</table>\n",
       "</div>"
      ],
      "text/plain": [
       "               TOTAL_ROW  COUNT_NOT_NAN  COUNT_DISTINCT  COUNT_NAN  \\\n",
       "MA_SO_MXH       22733562       22733562         1660151          0   \n",
       "NOI_CAP_CMND    22733562       11574429            8148   11159133   \n",
       "HO_TEN          22733562       22733515          502575         47   \n",
       "MUC_LU          22733562       22733521          415462         41   \n",
       "DIA_CHI_HK      22733562       16133440          375640    6600122   \n",
       "TU_THANG        22733562       22733521             528         41   \n",
       "DEN_THANG       22733562       22733521             456         41   \n",
       "NGAY_CAP_CMND   22733562        9034034           12182   13699528   \n",
       "SO_CMND         22733562       22733562         1507760          0   \n",
       "VT_CTAC         22733562       14540515          702397    8193047   \n",
       "NGAY_SINH       22733562       22733510           25949         52   \n",
       "TEN_CONGTY      22733562       22733501          349048         61   \n",
       "DIA_CHI_CTAC    22733562       22009106          293557     724456   \n",
       "GIOI_TINH       22733562       22366372               2     367190   \n",
       "USER            22733562       22695063               1      38499   \n",
       "IDCARD          22733562       22733562         1502795          0   \n",
       "IDFACEBOOK      22733562       22733562              35          0   \n",
       "NAME            22733562       22733562          405253          0   \n",
       "DIABAN_CTAC     22733562       22513547             759     220015   \n",
       "TEN_NGHIEPVU    22733562       22731697              35       1865   \n",
       "ID              22733562       13533049           67753    9200513   \n",
       "MUC_LUTT        22733562       22579267              93     154295   \n",
       "HE_SO           22733562       22408260             945     325302   \n",
       "MSKD            22733562       18808137          233422    3925425   \n",
       "MANV            22733562       22593024              28     140538   \n",
       "MSO             22733562       20263610            8349    2469952   \n",
       "\n",
       "               COUNT_DUPLICATED  NOT_NAN_ON_TOTAL  NAN_ON_TOTAL  \\\n",
       "MA_SO_MXH              21073411            1.0000        0.0000   \n",
       "NOI_CAP_CMND           11566281            0.5091        0.4909   \n",
       "HO_TEN                 22230940            1.0000        0.0000   \n",
       "MUC_LU                 22318059            1.0000        0.0000   \n",
       "DIA_CHI_HK             15757800            0.7097        0.2903   \n",
       "TU_THANG               22732993            1.0000        0.0000   \n",
       "DEN_THANG              22733065            1.0000        0.0000   \n",
       "NGAY_CAP_CMND           9021852            0.3974        0.6026   \n",
       "SO_CMND                21225802            1.0000        0.0000   \n",
       "VT_CTAC                13838118            0.6396        0.3604   \n",
       "NGAY_SINH              22707561            1.0000        0.0000   \n",
       "TEN_CONGTY             22384453            1.0000        0.0000   \n",
       "DIA_CHI_CTAC           21715549            0.9681        0.0319   \n",
       "GIOI_TINH              22366370            0.9838        0.0162   \n",
       "USER                   22695062            0.9983        0.0017   \n",
       "IDCARD                 21230767            1.0000        0.0000   \n",
       "IDFACEBOOK             22733527            1.0000        0.0000   \n",
       "NAME                   22328309            1.0000        0.0000   \n",
       "DIABAN_CTAC            22512788            0.9903        0.0097   \n",
       "TEN_NGHIEPVU           22731662            0.9999        0.0001   \n",
       "ID                     13465296            0.5953        0.4047   \n",
       "MUC_LUTT               22579174            0.9932        0.0068   \n",
       "HE_SO                  22407315            0.9857        0.0143   \n",
       "MSKD                   18574715            0.8273        0.1727   \n",
       "MANV                   22592996            0.9938        0.0062   \n",
       "MSO                    20255261            0.8914        0.1086   \n",
       "\n",
       "               DISTINCT_ON_NOT_NAN  DUPLICATED_ON_NOT_NAN  \n",
       "MA_SO_MXH                   0.0730                 0.9270  \n",
       "NOI_CAP_CMND                0.0007                 0.9993  \n",
       "HO_TEN                      0.0221                 0.9779  \n",
       "MUC_LU                      0.0183                 0.9817  \n",
       "DIA_CHI_HK                  0.0233                 0.9767  \n",
       "TU_THANG                    0.0000                 1.0000  \n",
       "DEN_THANG                   0.0000                 1.0000  \n",
       "NGAY_CAP_CMND               0.0013                 0.9987  \n",
       "SO_CMND                     0.0663                 0.9337  \n",
       "VT_CTAC                     0.0483                 0.9517  \n",
       "NGAY_SINH                   0.0011                 0.9989  \n",
       "TEN_CONGTY                  0.0154                 0.9846  \n",
       "DIA_CHI_CTAC                0.0133                 0.9867  \n",
       "GIOI_TINH                   0.0000                 1.0000  \n",
       "USER                        0.0000                 1.0000  \n",
       "IDCARD                      0.0661                 0.9339  \n",
       "IDFACEBOOK                  0.0000                 1.0000  \n",
       "NAME                        0.0178                 0.9822  \n",
       "DIABAN_CTAC                 0.0000                 1.0000  \n",
       "TEN_NGHIEPVU                0.0000                 1.0000  \n",
       "ID                          0.0050                 0.9950  \n",
       "MUC_LUTT                    0.0000                 1.0000  \n",
       "HE_SO                       0.0000                 1.0000  \n",
       "MSKD                        0.0124                 0.9876  \n",
       "MANV                        0.0000                 1.0000  \n",
       "MSO                         0.0004                 0.9996  "
      ]
     },
     "execution_count": 175,
     "metadata": {},
     "output_type": "execute_result"
    }
   ],
   "source": [
    "ana4=analyst_field_data(db_bhxh,\"RESPONSE_BHXH_LOG_DISTINCT\")\n",
    "ana4"
   ]
  },
  {
   "cell_type": "code",
   "execution_count": 242,
   "id": "e5071148-106a-4832-bee8-961640aeb535",
   "metadata": {},
   "outputs": [
    {
     "data": {
      "text/plain": [
       "MA_SO_MXH    4632\n",
       "SO_CMND      9055\n",
       "dtype: int64"
      ]
     },
     "execution_count": 242,
     "metadata": {},
     "output_type": "execute_result"
    }
   ],
   "source": [
    "check_nonunique_pair(db_bhxh,\"RESPONSE_BHXH_LOG_DISTINCT\",\"MA_SO_MXH\",\"SO_CMND\").apply(lambda x:x.nunique())"
   ]
  },
  {
   "cell_type": "code",
   "execution_count": 243,
   "id": "7b3829f8-300d-4d12-88e9-d1b416d35b95",
   "metadata": {},
   "outputs": [
    {
     "data": {
      "text/plain": [
       "SO_CMND      102807\n",
       "MA_SO_MXH    259802\n",
       "dtype: int64"
      ]
     },
     "execution_count": 243,
     "metadata": {},
     "output_type": "execute_result"
    }
   ],
   "source": [
    "check_nonunique_pair(db_bhxh,\"RESPONSE_BHXH_LOG_DISTINCT\",\"SO_CMND\",\"MA_SO_MXH\").apply(lambda x:x.nunique())"
   ]
  },
  {
   "cell_type": "code",
   "execution_count": 11,
   "id": "968e90a6-cb9f-4418-8b2c-43430add1784",
   "metadata": {},
   "outputs": [
    {
     "name": "stdout",
     "output_type": "stream",
     "text": [
      "MA_SO_MXH    4632\n",
      "SO_CMND      9055\n",
      "dtype: int64\n",
      "SO_CMND      102807\n",
      "MA_SO_MXH    259802\n",
      "dtype: int64\n"
     ]
    }
   ],
   "source": [
    "db_1_to_many=sqlite3.connect(\"1_to_many.db\")\n",
    "si_to_id_bhxhlog=check_nonunique_pair(db_bhxh,\"RESPONSE_BHXH_LOG_DISTINCT\",\"MA_SO_MXH\",\"SO_CMND\")\n",
    "si_to_id_bhxhlog.to_sql(\"si_to_id_bhxhlog\",db_1_to_many,index=False, if_exists=\"replace\")\n",
    "id_to_si_bhxhlog=check_nonunique_pair(db_bhxh,\"RESPONSE_BHXH_LOG_DISTINCT\",\"SO_CMND\",\"MA_SO_MXH\")\n",
    "id_to_si_bhxhlog.to_sql(\"id_to_si_bhxhlog\",db_1_to_many,index=False, if_exists=\"replace\")\n",
    "print(si_to_id_bhxhlog.apply(lambda x:x.nunique()))\n",
    "print(id_to_si_bhxhlog.apply(lambda x:x.nunique()))"
   ]
  },
  {
   "cell_type": "markdown",
   "id": "da080669-d99b-4bc6-9aa5-a94d94700da6",
   "metadata": {},
   "source": [
    "### Invalid Value"
   ]
  },
  {
   "cell_type": "code",
   "execution_count": 244,
   "id": "b526b25d-7b6b-4546-99c8-88f1b61b6379",
   "metadata": {},
   "outputs": [
    {
     "data": {
      "text/html": [
       "<div>\n",
       "<style scoped>\n",
       "    .dataframe tbody tr th:only-of-type {\n",
       "        vertical-align: middle;\n",
       "    }\n",
       "\n",
       "    .dataframe tbody tr th {\n",
       "        vertical-align: top;\n",
       "    }\n",
       "\n",
       "    .dataframe thead th {\n",
       "        text-align: right;\n",
       "    }\n",
       "</style>\n",
       "<table border=\"1\" class=\"dataframe\">\n",
       "  <thead>\n",
       "    <tr style=\"text-align: right;\">\n",
       "      <th></th>\n",
       "      <th>GIOI_TINH</th>\n",
       "      <th>count(GIOI_TINH)</th>\n",
       "    </tr>\n",
       "  </thead>\n",
       "  <tbody>\n",
       "    <tr>\n",
       "      <th>0</th>\n",
       "      <td>NaN</td>\n",
       "      <td>0</td>\n",
       "    </tr>\n",
       "    <tr>\n",
       "      <th>1</th>\n",
       "      <td>0.0</td>\n",
       "      <td>11037328</td>\n",
       "    </tr>\n",
       "    <tr>\n",
       "      <th>2</th>\n",
       "      <td>1.0</td>\n",
       "      <td>11329044</td>\n",
       "    </tr>\n",
       "  </tbody>\n",
       "</table>\n",
       "</div>"
      ],
      "text/plain": [
       "   GIOI_TINH  count(GIOI_TINH)\n",
       "0        NaN                 0\n",
       "1        0.0          11037328\n",
       "2        1.0          11329044"
      ]
     },
     "execution_count": 244,
     "metadata": {},
     "output_type": "execute_result"
    }
   ],
   "source": [
    "# gioi tinh\n",
    "pd.read_sql_query(\"select GIOI_TINH, count(GIOI_TINH) from RESPONSE_BHXH_LOG_DISTINCT group by GIOI_TINH\",db_bhxh)"
   ]
  },
  {
   "cell_type": "code",
   "execution_count": 245,
   "id": "4a683caf-d538-4dba-9cae-91cf35335e1e",
   "metadata": {},
   "outputs": [
    {
     "data": {
      "text/html": [
       "<div>\n",
       "<style scoped>\n",
       "    .dataframe tbody tr th:only-of-type {\n",
       "        vertical-align: middle;\n",
       "    }\n",
       "\n",
       "    .dataframe tbody tr th {\n",
       "        vertical-align: top;\n",
       "    }\n",
       "\n",
       "    .dataframe thead th {\n",
       "        text-align: right;\n",
       "    }\n",
       "</style>\n",
       "<table border=\"1\" class=\"dataframe\">\n",
       "  <thead>\n",
       "    <tr style=\"text-align: right;\">\n",
       "      <th></th>\n",
       "      <th>length(NGAY_SINH)</th>\n",
       "      <th>count(length(NGAY_SINH))</th>\n",
       "    </tr>\n",
       "  </thead>\n",
       "  <tbody>\n",
       "    <tr>\n",
       "      <th>0</th>\n",
       "      <td>NaN</td>\n",
       "      <td>0</td>\n",
       "    </tr>\n",
       "    <tr>\n",
       "      <th>1</th>\n",
       "      <td>20.0</td>\n",
       "      <td>2</td>\n",
       "    </tr>\n",
       "    <tr>\n",
       "      <th>2</th>\n",
       "      <td>22.0</td>\n",
       "      <td>131</td>\n",
       "    </tr>\n",
       "    <tr>\n",
       "      <th>3</th>\n",
       "      <td>28.0</td>\n",
       "      <td>22733377</td>\n",
       "    </tr>\n",
       "  </tbody>\n",
       "</table>\n",
       "</div>"
      ],
      "text/plain": [
       "   length(NGAY_SINH)  count(length(NGAY_SINH))\n",
       "0                NaN                         0\n",
       "1               20.0                         2\n",
       "2               22.0                       131\n",
       "3               28.0                  22733377"
      ]
     },
     "execution_count": 245,
     "metadata": {},
     "output_type": "execute_result"
    }
   ],
   "source": [
    "# ngay sinh\n",
    "pd.read_sql_query(\"select length(NGAY_SINH),count(length(NGAY_SINH)) from RESPONSE_BHXH_LOG_DISTINCT group by length(NGAY_SINH)\",db_bhxh)"
   ]
  },
  {
   "cell_type": "code",
   "execution_count": 246,
   "id": "6fbd2a59-f292-4ab0-a653-91aaa36d5583",
   "metadata": {},
   "outputs": [
    {
     "data": {
      "text/html": [
       "<div>\n",
       "<style scoped>\n",
       "    .dataframe tbody tr th:only-of-type {\n",
       "        vertical-align: middle;\n",
       "    }\n",
       "\n",
       "    .dataframe tbody tr th {\n",
       "        vertical-align: top;\n",
       "    }\n",
       "\n",
       "    .dataframe thead th {\n",
       "        text-align: right;\n",
       "    }\n",
       "</style>\n",
       "<table border=\"1\" class=\"dataframe\">\n",
       "  <thead>\n",
       "    <tr style=\"text-align: right;\">\n",
       "      <th></th>\n",
       "      <th>length(SO_CMND)</th>\n",
       "      <th>count(length(SO_CMND))</th>\n",
       "    </tr>\n",
       "  </thead>\n",
       "  <tbody>\n",
       "    <tr>\n",
       "      <th>0</th>\n",
       "      <td>0</td>\n",
       "      <td>138</td>\n",
       "    </tr>\n",
       "    <tr>\n",
       "      <th>1</th>\n",
       "      <td>1</td>\n",
       "      <td>22166</td>\n",
       "    </tr>\n",
       "    <tr>\n",
       "      <th>2</th>\n",
       "      <td>2</td>\n",
       "      <td>93103</td>\n",
       "    </tr>\n",
       "    <tr>\n",
       "      <th>3</th>\n",
       "      <td>3</td>\n",
       "      <td>54676</td>\n",
       "    </tr>\n",
       "    <tr>\n",
       "      <th>4</th>\n",
       "      <td>4</td>\n",
       "      <td>1775</td>\n",
       "    </tr>\n",
       "    <tr>\n",
       "      <th>5</th>\n",
       "      <td>5</td>\n",
       "      <td>7</td>\n",
       "    </tr>\n",
       "    <tr>\n",
       "      <th>6</th>\n",
       "      <td>6</td>\n",
       "      <td>131</td>\n",
       "    </tr>\n",
       "    <tr>\n",
       "      <th>7</th>\n",
       "      <td>7</td>\n",
       "      <td>26</td>\n",
       "    </tr>\n",
       "    <tr>\n",
       "      <th>8</th>\n",
       "      <td>8</td>\n",
       "      <td>7518</td>\n",
       "    </tr>\n",
       "    <tr>\n",
       "      <th>9</th>\n",
       "      <td>9</td>\n",
       "      <td>19991493</td>\n",
       "    </tr>\n",
       "    <tr>\n",
       "      <th>10</th>\n",
       "      <td>10</td>\n",
       "      <td>966</td>\n",
       "    </tr>\n",
       "    <tr>\n",
       "      <th>11</th>\n",
       "      <td>11</td>\n",
       "      <td>1304</td>\n",
       "    </tr>\n",
       "    <tr>\n",
       "      <th>12</th>\n",
       "      <td>12</td>\n",
       "      <td>2560196</td>\n",
       "    </tr>\n",
       "    <tr>\n",
       "      <th>13</th>\n",
       "      <td>13</td>\n",
       "      <td>52</td>\n",
       "    </tr>\n",
       "    <tr>\n",
       "      <th>14</th>\n",
       "      <td>14</td>\n",
       "      <td>4</td>\n",
       "    </tr>\n",
       "    <tr>\n",
       "      <th>15</th>\n",
       "      <td>15</td>\n",
       "      <td>2</td>\n",
       "    </tr>\n",
       "    <tr>\n",
       "      <th>16</th>\n",
       "      <td>16</td>\n",
       "      <td>5</td>\n",
       "    </tr>\n",
       "  </tbody>\n",
       "</table>\n",
       "</div>"
      ],
      "text/plain": [
       "    length(SO_CMND)  count(length(SO_CMND))\n",
       "0                 0                     138\n",
       "1                 1                   22166\n",
       "2                 2                   93103\n",
       "3                 3                   54676\n",
       "4                 4                    1775\n",
       "5                 5                       7\n",
       "6                 6                     131\n",
       "7                 7                      26\n",
       "8                 8                    7518\n",
       "9                 9                19991493\n",
       "10               10                     966\n",
       "11               11                    1304\n",
       "12               12                 2560196\n",
       "13               13                      52\n",
       "14               14                       4\n",
       "15               15                       2\n",
       "16               16                       5"
      ]
     },
     "execution_count": 246,
     "metadata": {},
     "output_type": "execute_result"
    }
   ],
   "source": [
    "# len cmnd\n",
    "pd.read_sql_query(\"select length(SO_CMND),count(length(SO_CMND)) from RESPONSE_BHXH_LOG_DISTINCT group by length(SO_CMND)\",db_bhxh)"
   ]
  },
  {
   "cell_type": "code",
   "execution_count": 247,
   "id": "73a072d0-b4fe-4206-a10f-5d7596b52724",
   "metadata": {},
   "outputs": [
    {
     "data": {
      "text/html": [
       "<div>\n",
       "<style scoped>\n",
       "    .dataframe tbody tr th:only-of-type {\n",
       "        vertical-align: middle;\n",
       "    }\n",
       "\n",
       "    .dataframe tbody tr th {\n",
       "        vertical-align: top;\n",
       "    }\n",
       "\n",
       "    .dataframe thead th {\n",
       "        text-align: right;\n",
       "    }\n",
       "</style>\n",
       "<table border=\"1\" class=\"dataframe\">\n",
       "  <thead>\n",
       "    <tr style=\"text-align: right;\">\n",
       "      <th></th>\n",
       "      <th>length(MA_SO_MXH)</th>\n",
       "      <th>count(length(MA_SO_MXH))</th>\n",
       "    </tr>\n",
       "  </thead>\n",
       "  <tbody>\n",
       "    <tr>\n",
       "      <th>0</th>\n",
       "      <td>0</td>\n",
       "      <td>594</td>\n",
       "    </tr>\n",
       "    <tr>\n",
       "      <th>1</th>\n",
       "      <td>3</td>\n",
       "      <td>49</td>\n",
       "    </tr>\n",
       "    <tr>\n",
       "      <th>2</th>\n",
       "      <td>6</td>\n",
       "      <td>26</td>\n",
       "    </tr>\n",
       "    <tr>\n",
       "      <th>3</th>\n",
       "      <td>8</td>\n",
       "      <td>4</td>\n",
       "    </tr>\n",
       "    <tr>\n",
       "      <th>4</th>\n",
       "      <td>9</td>\n",
       "      <td>56</td>\n",
       "    </tr>\n",
       "    <tr>\n",
       "      <th>5</th>\n",
       "      <td>10</td>\n",
       "      <td>22732833</td>\n",
       "    </tr>\n",
       "  </tbody>\n",
       "</table>\n",
       "</div>"
      ],
      "text/plain": [
       "   length(MA_SO_MXH)  count(length(MA_SO_MXH))\n",
       "0                  0                       594\n",
       "1                  3                        49\n",
       "2                  6                        26\n",
       "3                  8                         4\n",
       "4                  9                        56\n",
       "5                 10                  22732833"
      ]
     },
     "execution_count": 247,
     "metadata": {},
     "output_type": "execute_result"
    }
   ],
   "source": [
    "# len bhxh\n",
    "pd.read_sql_query(\"select length(MA_SO_MXH),count(length(MA_SO_MXH)) from RESPONSE_BHXH_LOG_DISTINCT group by length(MA_SO_MXH)\",db_bhxh)"
   ]
  },
  {
   "cell_type": "code",
   "execution_count": 249,
   "id": "ba04c44f-79ae-424c-98bb-ef8b2e14d3ab",
   "metadata": {},
   "outputs": [
    {
     "name": "stdout",
     "output_type": "stream",
     "text": [
      "Bảng RESPONSE_BHXH_LOG_DISTINCT offset 0 dòng, all records, chunksize 50000\n",
      "count digit bhxh 22652554\n",
      "Bảng RESPONSE_BHXH_LOG_DISTINCT offset 0 dòng, all records, chunksize 50000\n",
      "count digit cmnd 22697964\n"
     ]
    }
   ],
   "source": [
    "# count digit BHXH\n",
    "a=count_digit(db_bhxh,\"RESPONSE_BHXH_LOG_DISTINCT\",\"MA_SO_MXH\")\n",
    "print(\"count digit bhxh\",a)\n",
    "# count digit CMND\n",
    "a=count_digit(db_bhxh,\"RESPONSE_BHXH_LOG_DISTINCT\",\"SO_CMND\")\n",
    "print(\"count digit cmnd\",a)"
   ]
  },
  {
   "cell_type": "markdown",
   "id": "8834349f-4f1a-4814-ba5b-b77a8af75bea",
   "metadata": {},
   "source": [
    "### Distribution "
   ]
  },
  {
   "cell_type": "markdown",
   "id": "5b8c38c3-6c3a-435a-a949-310c1d3a7914",
   "metadata": {},
   "source": [
    "# Coverage Map "
   ]
  },
  {
   "cell_type": "code",
   "execution_count": 6,
   "id": "859cf515-e710-43ba-9108-7261f7020473",
   "metadata": {},
   "outputs": [
    {
     "data": {
      "text/html": [
       "<div>\n",
       "<style scoped>\n",
       "    .dataframe tbody tr th:only-of-type {\n",
       "        vertical-align: middle;\n",
       "    }\n",
       "\n",
       "    .dataframe tbody tr th {\n",
       "        vertical-align: top;\n",
       "    }\n",
       "\n",
       "    .dataframe thead th {\n",
       "        text-align: right;\n",
       "    }\n",
       "</style>\n",
       "<table border=\"1\" class=\"dataframe\">\n",
       "  <thead>\n",
       "    <tr style=\"text-align: right;\">\n",
       "      <th></th>\n",
       "      <th>type</th>\n",
       "      <th>name</th>\n",
       "      <th>tbl_name</th>\n",
       "      <th>rootpage</th>\n",
       "      <th>sql</th>\n",
       "    </tr>\n",
       "  </thead>\n",
       "  <tbody>\n",
       "    <tr>\n",
       "      <th>0</th>\n",
       "      <td>table</td>\n",
       "      <td>S_BHXH_NEW</td>\n",
       "      <td>S_BHXH_NEW</td>\n",
       "      <td>2</td>\n",
       "      <td>CREATE TABLE \"S_BHXH_NEW\" (\\n\"CMND_ENCRYPT\" TE...</td>\n",
       "    </tr>\n",
       "    <tr>\n",
       "      <th>1</th>\n",
       "      <td>table</td>\n",
       "      <td>S_BHXH_NEW_DISTINCT</td>\n",
       "      <td>S_BHXH_NEW_DISTINCT</td>\n",
       "      <td>383602</td>\n",
       "      <td>CREATE TABLE S_BHXH_NEW_DISTINCT(\\n  CMND_ENCR...</td>\n",
       "    </tr>\n",
       "    <tr>\n",
       "      <th>2</th>\n",
       "      <td>table</td>\n",
       "      <td>S_BHXH_ONLINE_NEW</td>\n",
       "      <td>S_BHXH_ONLINE_NEW</td>\n",
       "      <td>687505</td>\n",
       "      <td>CREATE TABLE \"S_BHXH_ONLINE_NEW\" (\\n\"CMND_ENCR...</td>\n",
       "    </tr>\n",
       "    <tr>\n",
       "      <th>3</th>\n",
       "      <td>table</td>\n",
       "      <td>S_BHXH_ONLINE_NEW_DISTINCT</td>\n",
       "      <td>S_BHXH_ONLINE_NEW_DISTINCT</td>\n",
       "      <td>742965</td>\n",
       "      <td>CREATE TABLE S_BHXH_ONLINE_NEW_DISTINCT(\\n  CM...</td>\n",
       "    </tr>\n",
       "    <tr>\n",
       "      <th>4</th>\n",
       "      <td>table</td>\n",
       "      <td>BRANDNAME_SI_INDIVIDUAL</td>\n",
       "      <td>BRANDNAME_SI_INDIVIDUAL</td>\n",
       "      <td>798423</td>\n",
       "      <td>CREATE TABLE \"BRANDNAME_SI_INDIVIDUAL\" (\\n\"USE...</td>\n",
       "    </tr>\n",
       "    <tr>\n",
       "      <th>5</th>\n",
       "      <td>table</td>\n",
       "      <td>BRANDNAME_SI_INDIVIDUAL_DISTINCT</td>\n",
       "      <td>BRANDNAME_SI_INDIVIDUAL_DISTINCT</td>\n",
       "      <td>1503329</td>\n",
       "      <td>CREATE TABLE BRANDNAME_SI_INDIVIDUAL_DISTINCT(...</td>\n",
       "    </tr>\n",
       "    <tr>\n",
       "      <th>6</th>\n",
       "      <td>table</td>\n",
       "      <td>RESPONSE_BHXH_LOG</td>\n",
       "      <td>RESPONSE_BHXH_LOG</td>\n",
       "      <td>1953758</td>\n",
       "      <td>CREATE TABLE \"RESPONSE_BHXH_LOG\" (\\n\"MA_SO_MXH...</td>\n",
       "    </tr>\n",
       "    <tr>\n",
       "      <th>7</th>\n",
       "      <td>table</td>\n",
       "      <td>test</td>\n",
       "      <td>test</td>\n",
       "      <td>2938237</td>\n",
       "      <td>CREATE TABLE \"test\" (\\n\"CMND_ENCRYPT\" TEXT,\\n ...</td>\n",
       "    </tr>\n",
       "    <tr>\n",
       "      <th>8</th>\n",
       "      <td>table</td>\n",
       "      <td>RESPONSE_BHXH_LOG_DISTINCT</td>\n",
       "      <td>RESPONSE_BHXH_LOG_DISTINCT</td>\n",
       "      <td>4170498</td>\n",
       "      <td>CREATE TABLE RESPONSE_BHXH_LOG_DISTINCT(\\n  MA...</td>\n",
       "    </tr>\n",
       "  </tbody>\n",
       "</table>\n",
       "</div>"
      ],
      "text/plain": [
       "    type                              name                          tbl_name  \\\n",
       "0  table                        S_BHXH_NEW                        S_BHXH_NEW   \n",
       "1  table               S_BHXH_NEW_DISTINCT               S_BHXH_NEW_DISTINCT   \n",
       "2  table                 S_BHXH_ONLINE_NEW                 S_BHXH_ONLINE_NEW   \n",
       "3  table        S_BHXH_ONLINE_NEW_DISTINCT        S_BHXH_ONLINE_NEW_DISTINCT   \n",
       "4  table           BRANDNAME_SI_INDIVIDUAL           BRANDNAME_SI_INDIVIDUAL   \n",
       "5  table  BRANDNAME_SI_INDIVIDUAL_DISTINCT  BRANDNAME_SI_INDIVIDUAL_DISTINCT   \n",
       "6  table                 RESPONSE_BHXH_LOG                 RESPONSE_BHXH_LOG   \n",
       "7  table                              test                              test   \n",
       "8  table        RESPONSE_BHXH_LOG_DISTINCT        RESPONSE_BHXH_LOG_DISTINCT   \n",
       "\n",
       "   rootpage                                                sql  \n",
       "0         2  CREATE TABLE \"S_BHXH_NEW\" (\\n\"CMND_ENCRYPT\" TE...  \n",
       "1    383602  CREATE TABLE S_BHXH_NEW_DISTINCT(\\n  CMND_ENCR...  \n",
       "2    687505  CREATE TABLE \"S_BHXH_ONLINE_NEW\" (\\n\"CMND_ENCR...  \n",
       "3    742965  CREATE TABLE S_BHXH_ONLINE_NEW_DISTINCT(\\n  CM...  \n",
       "4    798423  CREATE TABLE \"BRANDNAME_SI_INDIVIDUAL\" (\\n\"USE...  \n",
       "5   1503329  CREATE TABLE BRANDNAME_SI_INDIVIDUAL_DISTINCT(...  \n",
       "6   1953758  CREATE TABLE \"RESPONSE_BHXH_LOG\" (\\n\"MA_SO_MXH...  \n",
       "7   2938237  CREATE TABLE \"test\" (\\n\"CMND_ENCRYPT\" TEXT,\\n ...  \n",
       "8   4170498  CREATE TABLE RESPONSE_BHXH_LOG_DISTINCT(\\n  MA...  "
      ]
     },
     "execution_count": 6,
     "metadata": {},
     "output_type": "execute_result"
    }
   ],
   "source": [
    "pd.read_sql_query(\"select * from sqlite_master\",db_bhxh)"
   ]
  },
  {
   "cell_type": "code",
   "execution_count": 14,
   "id": "19b390d2-419c-4e81-b3c3-468b98c70de2",
   "metadata": {},
   "outputs": [
    {
     "name": "stdout",
     "output_type": "stream",
     "text": [
      "Bảng S_BHXH_NEW_DISTINCT offset 0 dòng, 0 records\n"
     ]
    },
    {
     "data": {
      "text/html": [
       "<div>\n",
       "<style scoped>\n",
       "    .dataframe tbody tr th:only-of-type {\n",
       "        vertical-align: middle;\n",
       "    }\n",
       "\n",
       "    .dataframe tbody tr th {\n",
       "        vertical-align: top;\n",
       "    }\n",
       "\n",
       "    .dataframe thead th {\n",
       "        text-align: right;\n",
       "    }\n",
       "</style>\n",
       "<table border=\"1\" class=\"dataframe\">\n",
       "  <thead>\n",
       "    <tr style=\"text-align: right;\">\n",
       "      <th></th>\n",
       "      <th>CMND_ENCRYPT</th>\n",
       "      <th>HOTEN_KD</th>\n",
       "      <th>NGAYSINH</th>\n",
       "      <th>GIOITINH</th>\n",
       "      <th>DIACHI</th>\n",
       "      <th>SOBHXH</th>\n",
       "      <th>NGAYCAP</th>\n",
       "      <th>NOICAP</th>\n",
       "      <th>CMND_ENCRYPT_DECRYPT</th>\n",
       "      <th>CMND_ENCRYPT_CLEAN</th>\n",
       "    </tr>\n",
       "  </thead>\n",
       "  <tbody>\n",
       "  </tbody>\n",
       "</table>\n",
       "</div>"
      ],
      "text/plain": [
       "Empty DataFrame\n",
       "Columns: [CMND_ENCRYPT, HOTEN_KD, NGAYSINH, GIOITINH, DIACHI, SOBHXH, NGAYCAP, NOICAP, CMND_ENCRYPT_DECRYPT, CMND_ENCRYPT_CLEAN]\n",
       "Index: []"
      ]
     },
     "execution_count": 14,
     "metadata": {},
     "output_type": "execute_result"
    }
   ],
   "source": [
    "read_data_from_db(db_bhxh,\"S_BHXH_NEW_DISTINCT\",n_records=0)"
   ]
  },
  {
   "cell_type": "code",
   "execution_count": 15,
   "id": "dd99b758-3122-4872-b661-16ce5751f095",
   "metadata": {},
   "outputs": [
    {
     "name": "stdout",
     "output_type": "stream",
     "text": [
      "Bảng S_BHXH_ONLINE_NEW_DISTINCT offset 0 dòng, 0 records\n"
     ]
    },
    {
     "data": {
      "text/html": [
       "<div>\n",
       "<style scoped>\n",
       "    .dataframe tbody tr th:only-of-type {\n",
       "        vertical-align: middle;\n",
       "    }\n",
       "\n",
       "    .dataframe tbody tr th {\n",
       "        vertical-align: top;\n",
       "    }\n",
       "\n",
       "    .dataframe thead th {\n",
       "        text-align: right;\n",
       "    }\n",
       "</style>\n",
       "<table border=\"1\" class=\"dataframe\">\n",
       "  <thead>\n",
       "    <tr style=\"text-align: right;\">\n",
       "      <th></th>\n",
       "      <th>CMND_ENCRYPT</th>\n",
       "      <th>HOTEN_KD</th>\n",
       "      <th>HOTEN</th>\n",
       "      <th>NGAYSINH</th>\n",
       "      <th>GIOITINH</th>\n",
       "      <th>DIACHI</th>\n",
       "      <th>SOBHXH</th>\n",
       "      <th>CMND_ENCRYPT_DECRYPT</th>\n",
       "      <th>CMND_ENCRYPT_CLEAN</th>\n",
       "    </tr>\n",
       "  </thead>\n",
       "  <tbody>\n",
       "  </tbody>\n",
       "</table>\n",
       "</div>"
      ],
      "text/plain": [
       "Empty DataFrame\n",
       "Columns: [CMND_ENCRYPT, HOTEN_KD, HOTEN, NGAYSINH, GIOITINH, DIACHI, SOBHXH, CMND_ENCRYPT_DECRYPT, CMND_ENCRYPT_CLEAN]\n",
       "Index: []"
      ]
     },
     "execution_count": 15,
     "metadata": {},
     "output_type": "execute_result"
    }
   ],
   "source": [
    "read_data_from_db(db_bhxh,\"S_BHXH_ONLINE_NEW_DISTINCT\",n_records=0)"
   ]
  },
  {
   "cell_type": "code",
   "execution_count": 13,
   "id": "50cd02c7-7cd3-48e2-a440-7164a777dc60",
   "metadata": {},
   "outputs": [
    {
     "name": "stdout",
     "output_type": "stream",
     "text": [
      "Bảng BRANDNAME_SI_INDIVIDUAL_DISTINCT offset 0 dòng, 0 records\n"
     ]
    },
    {
     "data": {
      "text/html": [
       "<div>\n",
       "<style scoped>\n",
       "    .dataframe tbody tr th:only-of-type {\n",
       "        vertical-align: middle;\n",
       "    }\n",
       "\n",
       "    .dataframe tbody tr th {\n",
       "        vertical-align: top;\n",
       "    }\n",
       "\n",
       "    .dataframe thead th {\n",
       "        text-align: right;\n",
       "    }\n",
       "</style>\n",
       "<table border=\"1\" class=\"dataframe\">\n",
       "  <thead>\n",
       "    <tr style=\"text-align: right;\">\n",
       "      <th></th>\n",
       "      <th>USER_ID</th>\n",
       "      <th>REPORT_DATE</th>\n",
       "      <th>BRANDNAME</th>\n",
       "      <th>MONTH</th>\n",
       "      <th>TEMPLATE_ID</th>\n",
       "      <th>TEN</th>\n",
       "      <th>MABHXH</th>\n",
       "      <th>SOTIEN</th>\n",
       "    </tr>\n",
       "  </thead>\n",
       "  <tbody>\n",
       "  </tbody>\n",
       "</table>\n",
       "</div>"
      ],
      "text/plain": [
       "Empty DataFrame\n",
       "Columns: [USER_ID, REPORT_DATE, BRANDNAME, MONTH, TEMPLATE_ID, TEN, MABHXH, SOTIEN]\n",
       "Index: []"
      ]
     },
     "execution_count": 13,
     "metadata": {},
     "output_type": "execute_result"
    }
   ],
   "source": [
    "read_data_from_db(db_bhxh,\"BRANDNAME_SI_INDIVIDUAL_DISTINCT\",n_records=0)"
   ]
  },
  {
   "cell_type": "code",
   "execution_count": 12,
   "id": "920dc1d5-a65c-406f-be84-cf2dfab3d6a9",
   "metadata": {},
   "outputs": [
    {
     "name": "stdout",
     "output_type": "stream",
     "text": [
      "Bảng RESPONSE_BHXH_LOG_DISTINCT offset 0 dòng, 0 records\n"
     ]
    },
    {
     "data": {
      "text/html": [
       "<div>\n",
       "<style scoped>\n",
       "    .dataframe tbody tr th:only-of-type {\n",
       "        vertical-align: middle;\n",
       "    }\n",
       "\n",
       "    .dataframe tbody tr th {\n",
       "        vertical-align: top;\n",
       "    }\n",
       "\n",
       "    .dataframe thead th {\n",
       "        text-align: right;\n",
       "    }\n",
       "</style>\n",
       "<table border=\"1\" class=\"dataframe\">\n",
       "  <thead>\n",
       "    <tr style=\"text-align: right;\">\n",
       "      <th></th>\n",
       "      <th>MA_SO_MXH</th>\n",
       "      <th>NOI_CAP_CMND</th>\n",
       "      <th>HO_TEN</th>\n",
       "      <th>MUC_LU</th>\n",
       "      <th>DIA_CHI_HK</th>\n",
       "      <th>TU_THANG</th>\n",
       "      <th>DEN_THANG</th>\n",
       "      <th>NGAY_CAP_CMND</th>\n",
       "      <th>SO_CMND</th>\n",
       "      <th>VT_CTAC</th>\n",
       "      <th>NGAY_SINH</th>\n",
       "      <th>TEN_CONGTY</th>\n",
       "      <th>DIA_CHI_CTAC</th>\n",
       "      <th>GIOI_TINH</th>\n",
       "      <th>USER</th>\n",
       "      <th>IDCARD</th>\n",
       "      <th>IDFACEBOOK</th>\n",
       "      <th>NAME</th>\n",
       "      <th>DIABAN_CTAC</th>\n",
       "      <th>TEN_NGHIEPVU</th>\n",
       "      <th>ID</th>\n",
       "      <th>MUC_LUTT</th>\n",
       "      <th>HE_SO</th>\n",
       "      <th>MSKD</th>\n",
       "      <th>MANV</th>\n",
       "      <th>MSO</th>\n",
       "    </tr>\n",
       "  </thead>\n",
       "  <tbody>\n",
       "  </tbody>\n",
       "</table>\n",
       "</div>"
      ],
      "text/plain": [
       "Empty DataFrame\n",
       "Columns: [MA_SO_MXH, NOI_CAP_CMND, HO_TEN, MUC_LU, DIA_CHI_HK, TU_THANG, DEN_THANG, NGAY_CAP_CMND, SO_CMND, VT_CTAC, NGAY_SINH, TEN_CONGTY, DIA_CHI_CTAC, GIOI_TINH, USER, IDCARD, IDFACEBOOK, NAME, DIABAN_CTAC, TEN_NGHIEPVU, ID, MUC_LUTT, HE_SO, MSKD, MANV, MSO]\n",
       "Index: []"
      ]
     },
     "execution_count": 12,
     "metadata": {},
     "output_type": "execute_result"
    }
   ],
   "source": [
    "read_data_from_db(db_bhxh,\"RESPONSE_BHXH_LOG_DISTINCT\",n_records=0)"
   ]
  },
  {
   "cell_type": "code",
   "execution_count": null,
   "id": "a664b391-2d60-4742-9c26-921029bae48c",
   "metadata": {},
   "outputs": [],
   "source": [
    " # new + online new"
   ]
  },
  {
   "cell_type": "code",
   "execution_count": 16,
   "id": "ff54c3b8-401e-4313-8126-5c621d504b8e",
   "metadata": {},
   "outputs": [
    {
     "data": {
      "text/html": [
       "<div>\n",
       "<style scoped>\n",
       "    .dataframe tbody tr th:only-of-type {\n",
       "        vertical-align: middle;\n",
       "    }\n",
       "\n",
       "    .dataframe tbody tr th {\n",
       "        vertical-align: top;\n",
       "    }\n",
       "\n",
       "    .dataframe thead th {\n",
       "        text-align: right;\n",
       "    }\n",
       "</style>\n",
       "<table border=\"1\" class=\"dataframe\">\n",
       "  <thead>\n",
       "    <tr style=\"text-align: right;\">\n",
       "      <th></th>\n",
       "      <th>count(*)</th>\n",
       "    </tr>\n",
       "  </thead>\n",
       "  <tbody>\n",
       "    <tr>\n",
       "      <th>0</th>\n",
       "      <td>1152270</td>\n",
       "    </tr>\n",
       "  </tbody>\n",
       "</table>\n",
       "</div>"
      ],
      "text/plain": [
       "   count(*)\n",
       "0   1152270"
      ]
     },
     "execution_count": 16,
     "metadata": {},
     "output_type": "execute_result"
    }
   ],
   "source": [
    "pd.read_sql_query(\"\"\"select count(*) from (select distinct CMND_ENCRYPT_DECRYPT from  S_BHXH_NEW_DISTINCT) a \n",
    "inner join (select distinct CMND_ENCRYPT_DECRYPT from  S_BHXH_ONLINE_NEW_DISTINCT) b \n",
    "where a.CMND_ENCRYPT_DECRYPT=b.CMND_ENCRYPT_DECRYPT\"\"\",db_bhxh)"
   ]
  },
  {
   "cell_type": "code",
   "execution_count": 17,
   "id": "6c62cb5d-1326-4a03-9c20-6ba0ed3c154b",
   "metadata": {},
   "outputs": [
    {
     "data": {
      "text/html": [
       "<div>\n",
       "<style scoped>\n",
       "    .dataframe tbody tr th:only-of-type {\n",
       "        vertical-align: middle;\n",
       "    }\n",
       "\n",
       "    .dataframe tbody tr th {\n",
       "        vertical-align: top;\n",
       "    }\n",
       "\n",
       "    .dataframe thead th {\n",
       "        text-align: right;\n",
       "    }\n",
       "</style>\n",
       "<table border=\"1\" class=\"dataframe\">\n",
       "  <thead>\n",
       "    <tr style=\"text-align: right;\">\n",
       "      <th></th>\n",
       "      <th>count(*)</th>\n",
       "    </tr>\n",
       "  </thead>\n",
       "  <tbody>\n",
       "    <tr>\n",
       "      <th>0</th>\n",
       "      <td>1159724</td>\n",
       "    </tr>\n",
       "  </tbody>\n",
       "</table>\n",
       "</div>"
      ],
      "text/plain": [
       "   count(*)\n",
       "0   1159724"
      ]
     },
     "execution_count": 17,
     "metadata": {},
     "output_type": "execute_result"
    }
   ],
   "source": [
    "pd.read_sql_query(\"\"\"select count(*) from (select distinct SOBHXH from  S_BHXH_NEW_DISTINCT) a \n",
    "inner join (select distinct SOBHXH from  S_BHXH_ONLINE_NEW_DISTINCT) b \n",
    "where a.SOBHXH=b.SOBHXH\"\"\",db_bhxh)"
   ]
  },
  {
   "cell_type": "code",
   "execution_count": 18,
   "id": "1967ab1a-f424-4d13-824b-66bc93f5bdf5",
   "metadata": {},
   "outputs": [
    {
     "data": {
      "text/html": [
       "<div>\n",
       "<style scoped>\n",
       "    .dataframe tbody tr th:only-of-type {\n",
       "        vertical-align: middle;\n",
       "    }\n",
       "\n",
       "    .dataframe tbody tr th {\n",
       "        vertical-align: top;\n",
       "    }\n",
       "\n",
       "    .dataframe thead th {\n",
       "        text-align: right;\n",
       "    }\n",
       "</style>\n",
       "<table border=\"1\" class=\"dataframe\">\n",
       "  <thead>\n",
       "    <tr style=\"text-align: right;\">\n",
       "      <th></th>\n",
       "      <th>count(*)</th>\n",
       "    </tr>\n",
       "  </thead>\n",
       "  <tbody>\n",
       "    <tr>\n",
       "      <th>0</th>\n",
       "      <td>1152253</td>\n",
       "    </tr>\n",
       "  </tbody>\n",
       "</table>\n",
       "</div>"
      ],
      "text/plain": [
       "   count(*)\n",
       "0   1152253"
      ]
     },
     "execution_count": 18,
     "metadata": {},
     "output_type": "execute_result"
    }
   ],
   "source": [
    "pd.read_sql_query(\"\"\"select count(*) from (select distinct SOBHXH,CMND_ENCRYPT_DECRYPT from  S_BHXH_NEW_DISTINCT) a \n",
    "inner join (select distinct SOBHXH,CMND_ENCRYPT_DECRYPT from  S_BHXH_ONLINE_NEW_DISTINCT) b \n",
    "where a.SOBHXH=b.SOBHXH and a.CMND_ENCRYPT_DECRYPT=b.CMND_ENCRYPT_DECRYPT\"\"\",db_bhxh)"
   ]
  },
  {
   "cell_type": "code",
   "execution_count": null,
   "id": "e5a2998b-c1fe-4052-bf87-7c7f62bc546c",
   "metadata": {},
   "outputs": [],
   "source": [
    "# new + brandname"
   ]
  },
  {
   "cell_type": "code",
   "execution_count": 19,
   "id": "423b0368-faa9-467f-9227-962b30073a90",
   "metadata": {},
   "outputs": [
    {
     "data": {
      "text/html": [
       "<div>\n",
       "<style scoped>\n",
       "    .dataframe tbody tr th:only-of-type {\n",
       "        vertical-align: middle;\n",
       "    }\n",
       "\n",
       "    .dataframe tbody tr th {\n",
       "        vertical-align: top;\n",
       "    }\n",
       "\n",
       "    .dataframe thead th {\n",
       "        text-align: right;\n",
       "    }\n",
       "</style>\n",
       "<table border=\"1\" class=\"dataframe\">\n",
       "  <thead>\n",
       "    <tr style=\"text-align: right;\">\n",
       "      <th></th>\n",
       "      <th>count(*)</th>\n",
       "    </tr>\n",
       "  </thead>\n",
       "  <tbody>\n",
       "    <tr>\n",
       "      <th>0</th>\n",
       "      <td>1564907</td>\n",
       "    </tr>\n",
       "  </tbody>\n",
       "</table>\n",
       "</div>"
      ],
      "text/plain": [
       "   count(*)\n",
       "0   1564907"
      ]
     },
     "execution_count": 19,
     "metadata": {},
     "output_type": "execute_result"
    }
   ],
   "source": [
    "pd.read_sql_query(\"\"\"select count(*) from (select distinct SOBHXH from  S_BHXH_NEW_DISTINCT) a \n",
    "inner join (select distinct MABHXH from  BRANDNAME_SI_INDIVIDUAL_DISTINCT) b \n",
    "where a.SOBHXH=b.MABHXH\"\"\",db_bhxh)"
   ]
  },
  {
   "cell_type": "code",
   "execution_count": null,
   "id": "f1a15fa1-95eb-4470-8f30-da385c4d2a65",
   "metadata": {},
   "outputs": [],
   "source": [
    "# new + log"
   ]
  },
  {
   "cell_type": "code",
   "execution_count": 20,
   "id": "9151531d-ee99-4a71-837d-3caaf3aa8676",
   "metadata": {},
   "outputs": [
    {
     "data": {
      "text/html": [
       "<div>\n",
       "<style scoped>\n",
       "    .dataframe tbody tr th:only-of-type {\n",
       "        vertical-align: middle;\n",
       "    }\n",
       "\n",
       "    .dataframe tbody tr th {\n",
       "        vertical-align: top;\n",
       "    }\n",
       "\n",
       "    .dataframe thead th {\n",
       "        text-align: right;\n",
       "    }\n",
       "</style>\n",
       "<table border=\"1\" class=\"dataframe\">\n",
       "  <thead>\n",
       "    <tr style=\"text-align: right;\">\n",
       "      <th></th>\n",
       "      <th>count(*)</th>\n",
       "    </tr>\n",
       "  </thead>\n",
       "  <tbody>\n",
       "    <tr>\n",
       "      <th>0</th>\n",
       "      <td>286561</td>\n",
       "    </tr>\n",
       "  </tbody>\n",
       "</table>\n",
       "</div>"
      ],
      "text/plain": [
       "   count(*)\n",
       "0    286561"
      ]
     },
     "execution_count": 20,
     "metadata": {},
     "output_type": "execute_result"
    }
   ],
   "source": [
    "pd.read_sql_query(\"\"\"select count(*) from (select distinct CMND_ENCRYPT_DECRYPT from  S_BHXH_NEW_DISTINCT) a \n",
    "inner join (select distinct SO_CMND from  RESPONSE_BHXH_LOG_DISTINCT) b \n",
    "where a.CMND_ENCRYPT_DECRYPT=b.SO_CMND\"\"\",db_bhxh)"
   ]
  },
  {
   "cell_type": "code",
   "execution_count": 21,
   "id": "8de68b92-c0b4-42b7-ba36-37d979b93687",
   "metadata": {},
   "outputs": [
    {
     "data": {
      "text/html": [
       "<div>\n",
       "<style scoped>\n",
       "    .dataframe tbody tr th:only-of-type {\n",
       "        vertical-align: middle;\n",
       "    }\n",
       "\n",
       "    .dataframe tbody tr th {\n",
       "        vertical-align: top;\n",
       "    }\n",
       "\n",
       "    .dataframe thead th {\n",
       "        text-align: right;\n",
       "    }\n",
       "</style>\n",
       "<table border=\"1\" class=\"dataframe\">\n",
       "  <thead>\n",
       "    <tr style=\"text-align: right;\">\n",
       "      <th></th>\n",
       "      <th>count(*)</th>\n",
       "    </tr>\n",
       "  </thead>\n",
       "  <tbody>\n",
       "    <tr>\n",
       "      <th>0</th>\n",
       "      <td>256344</td>\n",
       "    </tr>\n",
       "  </tbody>\n",
       "</table>\n",
       "</div>"
      ],
      "text/plain": [
       "   count(*)\n",
       "0    256344"
      ]
     },
     "execution_count": 21,
     "metadata": {},
     "output_type": "execute_result"
    }
   ],
   "source": [
    "pd.read_sql_query(\"\"\"select count(*) from (select distinct SOBHXH from  S_BHXH_NEW_DISTINCT) a \n",
    "inner join (select distinct MA_SO_MXH from  RESPONSE_BHXH_LOG_DISTINCT) b \n",
    "where a.SOBHXH=b.MA_SO_MXH\"\"\",db_bhxh)"
   ]
  },
  {
   "cell_type": "code",
   "execution_count": 22,
   "id": "6eefd1e6-79bf-484e-a8a0-b0a6d716eb3f",
   "metadata": {},
   "outputs": [
    {
     "data": {
      "text/html": [
       "<div>\n",
       "<style scoped>\n",
       "    .dataframe tbody tr th:only-of-type {\n",
       "        vertical-align: middle;\n",
       "    }\n",
       "\n",
       "    .dataframe tbody tr th {\n",
       "        vertical-align: top;\n",
       "    }\n",
       "\n",
       "    .dataframe thead th {\n",
       "        text-align: right;\n",
       "    }\n",
       "</style>\n",
       "<table border=\"1\" class=\"dataframe\">\n",
       "  <thead>\n",
       "    <tr style=\"text-align: right;\">\n",
       "      <th></th>\n",
       "      <th>count(*)</th>\n",
       "    </tr>\n",
       "  </thead>\n",
       "  <tbody>\n",
       "    <tr>\n",
       "      <th>0</th>\n",
       "      <td>219605</td>\n",
       "    </tr>\n",
       "  </tbody>\n",
       "</table>\n",
       "</div>"
      ],
      "text/plain": [
       "   count(*)\n",
       "0    219605"
      ]
     },
     "execution_count": 22,
     "metadata": {},
     "output_type": "execute_result"
    }
   ],
   "source": [
    "pd.read_sql_query(\"\"\"select count(*) from (select distinct SOBHXH,CMND_ENCRYPT_DECRYPT from  S_BHXH_NEW_DISTINCT) a \n",
    "inner join (select distinct MA_SO_MXH,SO_CMND from  RESPONSE_BHXH_LOG_DISTINCT) b \n",
    "where a.SOBHXH=b.MA_SO_MXH and a.CMND_ENCRYPT_DECRYPT=b.SO_CMND\"\"\",db_bhxh)"
   ]
  },
  {
   "cell_type": "code",
   "execution_count": null,
   "id": "db8430aa-2371-44d9-84d4-4c726355b767",
   "metadata": {},
   "outputs": [],
   "source": [
    "# online new + brandname"
   ]
  },
  {
   "cell_type": "code",
   "execution_count": 23,
   "id": "56159a58-7ea2-4a93-b764-379bff9bd6b3",
   "metadata": {},
   "outputs": [
    {
     "data": {
      "text/html": [
       "<div>\n",
       "<style scoped>\n",
       "    .dataframe tbody tr th:only-of-type {\n",
       "        vertical-align: middle;\n",
       "    }\n",
       "\n",
       "    .dataframe tbody tr th {\n",
       "        vertical-align: top;\n",
       "    }\n",
       "\n",
       "    .dataframe thead th {\n",
       "        text-align: right;\n",
       "    }\n",
       "</style>\n",
       "<table border=\"1\" class=\"dataframe\">\n",
       "  <thead>\n",
       "    <tr style=\"text-align: right;\">\n",
       "      <th></th>\n",
       "      <th>count(*)</th>\n",
       "    </tr>\n",
       "  </thead>\n",
       "  <tbody>\n",
       "    <tr>\n",
       "      <th>0</th>\n",
       "      <td>376499</td>\n",
       "    </tr>\n",
       "  </tbody>\n",
       "</table>\n",
       "</div>"
      ],
      "text/plain": [
       "   count(*)\n",
       "0    376499"
      ]
     },
     "execution_count": 23,
     "metadata": {},
     "output_type": "execute_result"
    }
   ],
   "source": [
    "pd.read_sql_query(\"\"\"select count(*) from (select distinct SOBHXH from  S_BHXH_ONLINE_NEW_DISTINCT) a \n",
    "inner join (select distinct MABHXH from  BRANDNAME_SI_INDIVIDUAL_DISTINCT) b \n",
    "where a.SOBHXH=b.MABHXH\"\"\",db_bhxh)"
   ]
  },
  {
   "cell_type": "code",
   "execution_count": null,
   "id": "0d70074d-56f8-4583-8e37-ed5d5ba7e858",
   "metadata": {},
   "outputs": [],
   "source": [
    "# online new + log"
   ]
  },
  {
   "cell_type": "code",
   "execution_count": 24,
   "id": "b2460f50-52ef-459c-882a-29090a1ff598",
   "metadata": {},
   "outputs": [
    {
     "data": {
      "text/html": [
       "<div>\n",
       "<style scoped>\n",
       "    .dataframe tbody tr th:only-of-type {\n",
       "        vertical-align: middle;\n",
       "    }\n",
       "\n",
       "    .dataframe tbody tr th {\n",
       "        vertical-align: top;\n",
       "    }\n",
       "\n",
       "    .dataframe thead th {\n",
       "        text-align: right;\n",
       "    }\n",
       "</style>\n",
       "<table border=\"1\" class=\"dataframe\">\n",
       "  <thead>\n",
       "    <tr style=\"text-align: right;\">\n",
       "      <th></th>\n",
       "      <th>count(*)</th>\n",
       "    </tr>\n",
       "  </thead>\n",
       "  <tbody>\n",
       "    <tr>\n",
       "      <th>0</th>\n",
       "      <td>37827</td>\n",
       "    </tr>\n",
       "  </tbody>\n",
       "</table>\n",
       "</div>"
      ],
      "text/plain": [
       "   count(*)\n",
       "0     37827"
      ]
     },
     "execution_count": 24,
     "metadata": {},
     "output_type": "execute_result"
    }
   ],
   "source": [
    "pd.read_sql_query(\"\"\"select count(*) from (select distinct CMND_ENCRYPT_DECRYPT from  S_BHXH_ONLINE_NEW_DISTINCT) a \n",
    "inner join (select distinct SO_CMND from  RESPONSE_BHXH_LOG_DISTINCT) b \n",
    "where a.CMND_ENCRYPT_DECRYPT=b.SO_CMND\"\"\",db_bhxh)"
   ]
  },
  {
   "cell_type": "code",
   "execution_count": 25,
   "id": "277444ae-5a8e-46b4-a591-98ab87789238",
   "metadata": {},
   "outputs": [
    {
     "data": {
      "text/html": [
       "<div>\n",
       "<style scoped>\n",
       "    .dataframe tbody tr th:only-of-type {\n",
       "        vertical-align: middle;\n",
       "    }\n",
       "\n",
       "    .dataframe tbody tr th {\n",
       "        vertical-align: top;\n",
       "    }\n",
       "\n",
       "    .dataframe thead th {\n",
       "        text-align: right;\n",
       "    }\n",
       "</style>\n",
       "<table border=\"1\" class=\"dataframe\">\n",
       "  <thead>\n",
       "    <tr style=\"text-align: right;\">\n",
       "      <th></th>\n",
       "      <th>count(*)</th>\n",
       "    </tr>\n",
       "  </thead>\n",
       "  <tbody>\n",
       "    <tr>\n",
       "      <th>0</th>\n",
       "      <td>43504</td>\n",
       "    </tr>\n",
       "  </tbody>\n",
       "</table>\n",
       "</div>"
      ],
      "text/plain": [
       "   count(*)\n",
       "0     43504"
      ]
     },
     "execution_count": 25,
     "metadata": {},
     "output_type": "execute_result"
    }
   ],
   "source": [
    "pd.read_sql_query(\"\"\"select count(*) from (select distinct SOBHXH from  S_BHXH_ONLINE_NEW_DISTINCT) a \n",
    "inner join (select distinct MA_SO_MXH from  RESPONSE_BHXH_LOG_DISTINCT) b \n",
    "where a.SOBHXH=b.MA_SO_MXH\"\"\",db_bhxh)"
   ]
  },
  {
   "cell_type": "code",
   "execution_count": 26,
   "id": "63b705e9-14c0-4e72-bc27-ee5e264dca5e",
   "metadata": {},
   "outputs": [
    {
     "data": {
      "text/html": [
       "<div>\n",
       "<style scoped>\n",
       "    .dataframe tbody tr th:only-of-type {\n",
       "        vertical-align: middle;\n",
       "    }\n",
       "\n",
       "    .dataframe tbody tr th {\n",
       "        vertical-align: top;\n",
       "    }\n",
       "\n",
       "    .dataframe thead th {\n",
       "        text-align: right;\n",
       "    }\n",
       "</style>\n",
       "<table border=\"1\" class=\"dataframe\">\n",
       "  <thead>\n",
       "    <tr style=\"text-align: right;\">\n",
       "      <th></th>\n",
       "      <th>count(*)</th>\n",
       "    </tr>\n",
       "  </thead>\n",
       "  <tbody>\n",
       "    <tr>\n",
       "      <th>0</th>\n",
       "      <td>35367</td>\n",
       "    </tr>\n",
       "  </tbody>\n",
       "</table>\n",
       "</div>"
      ],
      "text/plain": [
       "   count(*)\n",
       "0     35367"
      ]
     },
     "execution_count": 26,
     "metadata": {},
     "output_type": "execute_result"
    }
   ],
   "source": [
    "pd.read_sql_query(\"\"\"select count(*) from (select distinct SOBHXH,CMND_ENCRYPT_DECRYPT from  S_BHXH_ONLINE_NEW_DISTINCT) a \n",
    "inner join (select distinct MA_SO_MXH,SO_CMND from  RESPONSE_BHXH_LOG_DISTINCT) b \n",
    "where a.SOBHXH=b.MA_SO_MXH and a.CMND_ENCRYPT_DECRYPT=b.SO_CMND\"\"\",db_bhxh)"
   ]
  },
  {
   "cell_type": "code",
   "execution_count": null,
   "id": "9c922e36-fb6a-47ad-b433-23f4ae720745",
   "metadata": {},
   "outputs": [],
   "source": [
    " # brandname + log"
   ]
  },
  {
   "cell_type": "code",
   "execution_count": 27,
   "id": "94a90248-4c29-4140-a3a1-f36ed7053b72",
   "metadata": {},
   "outputs": [
    {
     "data": {
      "text/html": [
       "<div>\n",
       "<style scoped>\n",
       "    .dataframe tbody tr th:only-of-type {\n",
       "        vertical-align: middle;\n",
       "    }\n",
       "\n",
       "    .dataframe tbody tr th {\n",
       "        vertical-align: top;\n",
       "    }\n",
       "\n",
       "    .dataframe thead th {\n",
       "        text-align: right;\n",
       "    }\n",
       "</style>\n",
       "<table border=\"1\" class=\"dataframe\">\n",
       "  <thead>\n",
       "    <tr style=\"text-align: right;\">\n",
       "      <th></th>\n",
       "      <th>count(*)</th>\n",
       "    </tr>\n",
       "  </thead>\n",
       "  <tbody>\n",
       "    <tr>\n",
       "      <th>0</th>\n",
       "      <td>579509</td>\n",
       "    </tr>\n",
       "  </tbody>\n",
       "</table>\n",
       "</div>"
      ],
      "text/plain": [
       "   count(*)\n",
       "0    579509"
      ]
     },
     "execution_count": 27,
     "metadata": {},
     "output_type": "execute_result"
    }
   ],
   "source": [
    "pd.read_sql_query(\"\"\"select count(*) from (select distinct MA_SO_MXH from  RESPONSE_BHXH_LOG_DISTINCT) a \n",
    "inner join (select distinct MABHXH from  BRANDNAME_SI_INDIVIDUAL_DISTINCT) b \n",
    "where a.MA_SO_MXH=b.MABHXH\"\"\",db_bhxh)"
   ]
  },
  {
   "cell_type": "code",
   "execution_count": 30,
   "id": "0110cf8c-42da-4c3f-a3eb-acae6494ec15",
   "metadata": {},
   "outputs": [
    {
     "data": {
      "text/html": [
       "<div>\n",
       "<style scoped>\n",
       "    .dataframe tbody tr th:only-of-type {\n",
       "        vertical-align: middle;\n",
       "    }\n",
       "\n",
       "    .dataframe tbody tr th {\n",
       "        vertical-align: top;\n",
       "    }\n",
       "\n",
       "    .dataframe thead th {\n",
       "        text-align: right;\n",
       "    }\n",
       "</style>\n",
       "<table border=\"1\" class=\"dataframe\">\n",
       "  <thead>\n",
       "    <tr style=\"text-align: right;\">\n",
       "      <th></th>\n",
       "      <th>count(*)</th>\n",
       "    </tr>\n",
       "  </thead>\n",
       "  <tbody>\n",
       "    <tr>\n",
       "      <th>0</th>\n",
       "      <td>6417268</td>\n",
       "    </tr>\n",
       "  </tbody>\n",
       "</table>\n",
       "</div>"
      ],
      "text/plain": [
       "   count(*)\n",
       "0   6417268"
      ]
     },
     "execution_count": 30,
     "metadata": {},
     "output_type": "execute_result"
    }
   ],
   "source": [
    "pd.read_sql_query(\"\"\"select count(*) from (select distinct CMND_ENCRYPT_DECRYPT,SOBHXH from S_BHXH_NEW_DISTINCT)\"\"\",db_bhxh)"
   ]
  },
  {
   "cell_type": "code",
   "execution_count": 29,
   "id": "076f3c35-8edd-4658-b845-c64835bdbd0e",
   "metadata": {},
   "outputs": [
    {
     "data": {
      "text/html": [
       "<div>\n",
       "<style scoped>\n",
       "    .dataframe tbody tr th:only-of-type {\n",
       "        vertical-align: middle;\n",
       "    }\n",
       "\n",
       "    .dataframe tbody tr th {\n",
       "        vertical-align: top;\n",
       "    }\n",
       "\n",
       "    .dataframe thead th {\n",
       "        text-align: right;\n",
       "    }\n",
       "</style>\n",
       "<table border=\"1\" class=\"dataframe\">\n",
       "  <thead>\n",
       "    <tr style=\"text-align: right;\">\n",
       "      <th></th>\n",
       "      <th>count(*)</th>\n",
       "    </tr>\n",
       "  </thead>\n",
       "  <tbody>\n",
       "    <tr>\n",
       "      <th>0</th>\n",
       "      <td>1159724</td>\n",
       "    </tr>\n",
       "  </tbody>\n",
       "</table>\n",
       "</div>"
      ],
      "text/plain": [
       "   count(*)\n",
       "0   1159724"
      ]
     },
     "execution_count": 29,
     "metadata": {},
     "output_type": "execute_result"
    }
   ],
   "source": [
    "pd.read_sql_query(\"\"\"select count(*) from (select distinct CMND_ENCRYPT_DECRYPT,SOBHXH from S_BHXH_ONLINE_NEW_DISTINCT)\"\"\",db_bhxh)"
   ]
  },
  {
   "cell_type": "code",
   "execution_count": 32,
   "id": "4c9db18d-0630-440c-886b-79b4e7aab5ab",
   "metadata": {},
   "outputs": [
    {
     "data": {
      "text/html": [
       "<div>\n",
       "<style scoped>\n",
       "    .dataframe tbody tr th:only-of-type {\n",
       "        vertical-align: middle;\n",
       "    }\n",
       "\n",
       "    .dataframe tbody tr th {\n",
       "        vertical-align: top;\n",
       "    }\n",
       "\n",
       "    .dataframe thead th {\n",
       "        text-align: right;\n",
       "    }\n",
       "</style>\n",
       "<table border=\"1\" class=\"dataframe\">\n",
       "  <thead>\n",
       "    <tr style=\"text-align: right;\">\n",
       "      <th></th>\n",
       "      <th>count(*)</th>\n",
       "    </tr>\n",
       "  </thead>\n",
       "  <tbody>\n",
       "    <tr>\n",
       "      <th>0</th>\n",
       "      <td>1664843</td>\n",
       "    </tr>\n",
       "  </tbody>\n",
       "</table>\n",
       "</div>"
      ],
      "text/plain": [
       "   count(*)\n",
       "0   1664843"
      ]
     },
     "execution_count": 32,
     "metadata": {},
     "output_type": "execute_result"
    }
   ],
   "source": [
    "pd.read_sql_query(\"\"\"select count(*) from (select distinct SO_CMND,MA_SO_MXH from RESPONSE_BHXH_LOG_DISTINCT)\"\"\",db_bhxh)"
   ]
  }
 ],
 "metadata": {
  "kernelspec": {
   "display_name": "Python 3",
   "language": "python",
   "name": "python3"
  },
  "language_info": {
   "codemirror_mode": {
    "name": "ipython",
    "version": 3
   },
   "file_extension": ".py",
   "mimetype": "text/x-python",
   "name": "python",
   "nbconvert_exporter": "python",
   "pygments_lexer": "ipython3",
   "version": "3.8.8"
  },
  "toc-autonumbering": true,
  "toc-showcode": false,
  "toc-showmarkdowntxt": true,
  "toc-showtags": false
 },
 "nbformat": 4,
 "nbformat_minor": 5
}
