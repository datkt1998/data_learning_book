{
 "cells": [
  {
   "cell_type": "code",
   "execution_count": 2,
   "id": "6a5b0549-f2c6-4854-9e6b-596740d9f75a",
   "metadata": {},
   "outputs": [],
   "source": [
    "from myfunction import code_crypt"
   ]
  },
  {
   "cell_type": "code",
   "execution_count": 10,
   "id": "001e1b6b-78fd-437e-a865-0ecb5ea44617",
   "metadata": {},
   "outputs": [],
   "source": [
    "id = 123456789"
   ]
  },
  {
   "cell_type": "code",
   "execution_count": 15,
   "id": "77922c38-164c-4c75-bd72-6fd042f76d53",
   "metadata": {},
   "outputs": [
    {
     "ename": "AttributeError",
     "evalue": "'int' object has no attribute 'isnumeric'",
     "output_type": "error",
     "traceback": [
      "\u001b[1;31m---------------------------------------------------------------------------\u001b[0m",
      "\u001b[1;31mAttributeError\u001b[0m                            Traceback (most recent call last)",
      "\u001b[1;32m~\\AppData\\Local\\Temp/ipykernel_23376/2536336769.py\u001b[0m in \u001b[0;36m<module>\u001b[1;34m\u001b[0m\n\u001b[1;32m----> 1\u001b[1;33m \u001b[1;34m\"{:012}\"\u001b[0m\u001b[1;33m.\u001b[0m\u001b[0mformat\u001b[0m\u001b[1;33m(\u001b[0m\u001b[0mint\u001b[0m\u001b[1;33m(\u001b[0m\u001b[0mid\u001b[0m\u001b[1;33m)\u001b[0m \u001b[1;32mif\u001b[0m \u001b[0mid\u001b[0m\u001b[1;33m.\u001b[0m\u001b[0misnumeric\u001b[0m\u001b[1;33m(\u001b[0m\u001b[1;33m)\u001b[0m \u001b[1;32melse\u001b[0m \u001b[0mid\u001b[0m\u001b[1;33m.\u001b[0m\u001b[0mreplace\u001b[0m\u001b[1;33m(\u001b[0m\u001b[1;34m\".0\"\u001b[0m\u001b[1;33m,\u001b[0m\u001b[1;34m\"\"\u001b[0m\u001b[1;33m)\u001b[0m\u001b[1;33m)\u001b[0m\u001b[1;33m\u001b[0m\u001b[1;33m\u001b[0m\u001b[0m\n\u001b[0m",
      "\u001b[1;31mAttributeError\u001b[0m: 'int' object has no attribute 'isnumeric'"
     ]
    }
   ],
   "source": [
    "\"{:012}\".format(int(id) if str(id).isnumeric() else id.replace(\".0\", \"\"))"
   ]
  },
  {
   "cell_type": "code",
   "execution_count": 20,
   "id": "bf734225-90e0-4b10-8523-3680ff22c295",
   "metadata": {},
   "outputs": [
    {
     "data": {
      "text/plain": [
       "True"
      ]
     },
     "execution_count": 20,
     "metadata": {},
     "output_type": "execute_result"
    }
   ],
   "source": [
    "\"{:012.0f}\".format(123.1).isnumeric()"
   ]
  },
  {
   "cell_type": "code",
   "execution_count": 55,
   "id": "9b32bb02-d766-4e00-b065-ec1a0e4bd467",
   "metadata": {},
   "outputs": [
    {
     "ename": "KeyError",
     "evalue": "0",
     "output_type": "error",
     "traceback": [
      "\u001b[1;31m---------------------------------------------------------------------------\u001b[0m",
      "\u001b[1;31mKeyError\u001b[0m                                  Traceback (most recent call last)",
      "\u001b[1;32m~\\AppData\\Local\\Temp/ipykernel_23376/262344948.py\u001b[0m in \u001b[0;36m<module>\u001b[1;34m\u001b[0m\n\u001b[1;32m----> 1\u001b[1;33m \u001b[0mdauso\u001b[0m\u001b[1;33m[\u001b[0m\u001b[1;36m0\u001b[0m\u001b[1;33m]\u001b[0m\u001b[1;33m\u001b[0m\u001b[1;33m\u001b[0m\u001b[0m\n\u001b[0m",
      "\u001b[1;31mKeyError\u001b[0m: 0"
     ]
    }
   ],
   "source": [
    "1234208162"
   ]
  },
  {
   "cell_type": "code",
   "execution_count": 68,
   "id": "66b15c21-003f-4c4c-a23c-3c5e68bd5497",
   "metadata": {},
   "outputs": [],
   "source": [
    "import numpy as np"
   ]
  },
  {
   "cell_type": "code",
   "execution_count": 86,
   "id": "d84ad696-2dc7-4d9e-bf4c-a197dc4e0cca",
   "metadata": {},
   "outputs": [],
   "source": [
    "\n",
    "\n",
    "\n",
    "        \n",
    "            \n",
    "        \n",
    "        \n"
   ]
  },
  {
   "cell_type": "code",
   "execution_count": 130,
   "id": "8cecc09f-0f56-4f0f-b46c-03e78c98a7bf",
   "metadata": {},
   "outputs": [
    {
     "name": "stdout",
     "output_type": "stream",
     "text": [
      "Wall time: 2.41 s\n"
     ]
    }
   ],
   "source": [
    "%%time\n",
    "a=[]\n",
    "for i in range(1000000):\n",
    "    a.append(Phone_standardize(random.randint(84000000000,84900000000)))"
   ]
  },
  {
   "cell_type": "code",
   "execution_count": 131,
   "id": "2a95dbcf-09cf-4ec3-984f-fcb6b6c50c8e",
   "metadata": {},
   "outputs": [
    {
     "data": {
      "text/plain": [
       "['0727415364',\n",
       " '0262254749',\n",
       " '0288185670',\n",
       " '0895377259',\n",
       " '0139529915',\n",
       " '0060318651',\n",
       " '0851481212',\n",
       " '0066646651',\n",
       " '0259530170',\n",
       " '0767921769',\n",
       " '0422418956',\n",
       " '0360032908',\n",
       " '0424441214',\n",
       " '0837329619',\n",
       " '0291988477',\n",
       " '0270410054',\n",
       " '0299661914',\n",
       " '0085702207',\n",
       " '0537419349',\n",
       " '0693317611',\n",
       " '0840222880',\n",
       " '0494021482',\n",
       " '0110560404',\n",
       " '0818680291',\n",
       " '0480550609',\n",
       " '0576646016',\n",
       " '0062183521',\n",
       " '0129503209',\n",
       " '0132284780',\n",
       " '0456819049',\n",
       " '0300450188',\n",
       " '0577391291',\n",
       " '0814185612',\n",
       " '0136358757',\n",
       " '0020345246',\n",
       " '0806270614',\n",
       " '0536331824',\n",
       " '0127460963',\n",
       " '0897692939',\n",
       " '0572444074',\n",
       " '0278130618',\n",
       " '0071652803',\n",
       " '0030157096',\n",
       " '0376298905',\n",
       " '0895213458',\n",
       " '0407635498',\n",
       " '0545088665',\n",
       " '0175039700',\n",
       " '0181612693',\n",
       " '0126521691',\n",
       " '0799449248',\n",
       " '0196691437',\n",
       " '0795637046',\n",
       " '0788323635',\n",
       " '0572989000',\n",
       " '0868873731',\n",
       " '0076325451',\n",
       " '0834549112',\n",
       " '0438947410',\n",
       " '0725375068',\n",
       " '0819553807',\n",
       " '0686884486',\n",
       " '0870584384',\n",
       " '0104954678',\n",
       " '0503611613',\n",
       " '0041584813',\n",
       " '0099243170',\n",
       " '0618610152',\n",
       " '0359427480',\n",
       " '0422863259',\n",
       " '0874539962',\n",
       " '0312776276',\n",
       " '0610527011',\n",
       " '0018574104',\n",
       " '0893599222',\n",
       " '0764053536',\n",
       " '0315607054',\n",
       " '0403207170',\n",
       " '0310192375',\n",
       " '0496082131',\n",
       " '0763323509',\n",
       " '0887275442',\n",
       " '0835235152',\n",
       " '0510989885',\n",
       " '0487443908',\n",
       " '0362570685',\n",
       " '0519687050',\n",
       " '0101619319',\n",
       " '0702829057',\n",
       " '0745913855',\n",
       " '0600523488',\n",
       " '0816570968',\n",
       " '0542775898',\n",
       " '0560087744',\n",
       " '0632537028',\n",
       " '0085268567',\n",
       " '0828503465',\n",
       " '0026776636',\n",
       " '0671447821',\n",
       " '0880407490']"
      ]
     },
     "execution_count": 131,
     "metadata": {},
     "output_type": "execute_result"
    }
   ],
   "source": [
    "a[:100]"
   ]
  },
  {
   "cell_type": "code",
   "execution_count": 115,
   "id": "4128138b-c834-46d7-9b7c-859660876ae8",
   "metadata": {},
   "outputs": [
    {
     "data": {
      "text/plain": [
       "84374356623"
      ]
     },
     "execution_count": 115,
     "metadata": {},
     "output_type": "execute_result"
    }
   ],
   "source": [
    "random.randint(84000000000,84900000000)"
   ]
  }
 ],
 "metadata": {
  "kernelspec": {
   "display_name": "Python 3 (ipykernel)",
   "language": "python",
   "name": "python3"
  },
  "language_info": {
   "codemirror_mode": {
    "name": "ipython",
    "version": 3
   },
   "file_extension": ".py",
   "mimetype": "text/x-python",
   "name": "python",
   "nbconvert_exporter": "python",
   "pygments_lexer": "ipython3",
   "version": "3.9.7"
  }
 },
 "nbformat": 4,
 "nbformat_minor": 5
}
