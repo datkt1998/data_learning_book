{
 "cells": [
  {
   "attachments": {},
   "cell_type": "markdown",
   "id": "164d3575-e626-40be-8632-3ed553dff22e",
   "metadata": {},
   "source": [
    "# Discriminant Analysis"
   ]
  },
  {
   "attachments": {},
   "cell_type": "markdown",
   "id": "9f8f0272-39dd-439d-bc17-c2cfe396195a",
   "metadata": {},
   "source": [
    "## Linear Discriminant Analysis (LDA)\n",
    "- LDA là thuật toán đi tìm một phép chiếu sao cho tỉ lệ giữa `between-class variance` và `within-class variance` lớn nhất có thể:\n",
    "    - __Within-class variances (SSwithin)__: Phương sai s2 của từng class khi chiếu lên 1 chiều nhất định, thể hiện mức độ phân tán dữ liệu của class khi chiếu lên chiều đó. Kỳ vọng càng thấp càng tốt.\n",
    "    - __Between-class variance (SSbetween)__: Khoảng cách giữa 2 kỳ vọng của 2 class, thể hiện mức độ cách xa nhau của 2 class: (mean_class1 - mean_class2)^2\n",
    "- Hai classes được gọi là discriminative nếu hai class đó cách xa nhau (`between-class variance` lớn) và dữ liệu trong mỗi class có xu hướng giống nhau (`within-class variance` nhỏ). \n",
    "    - Số chiều không gian mới sau khi giảm chiều bằng LDA thì ko  vượt quá C-1, với C là số lượng class của label\n",
    "    - LDA có giả sử ngầm rằng dữ liệu của các classes đều tuân theo phân phối chuẩn và các ma trận hiệp phương sai của các classes là gần nhau\n",
    "    - LDA hoạt động rất tốt nếu các classes là linearly separable, tuy nhiên, chất lượng mô hình giảm đi rõ rệt nếu các classes là không linearly separable. Điều này dễ hiểu vì khi đó, chiếu dữ liệu lên phương nào thì cũng bị chồng lần, và việc tách biệt không thể thực hiện được như ở không gian ban đầu.\n",
    "- LDA Là phương pháp phân loại/hoặc giảm chiều dữ liệu cho bài toán classification, hoặc __bổ sung thông tin__ về label dữ liệu, áp dụng cho cả việc giảm chiều cũng như bài toán phân loại. \n",
    "- Khác với PCA là giảm chiều nhưng giữ lại mức độ variance của dữ liệu lớn nhất và ko cần thông tin về label của class (không phải việc giữ lại thông tin nhiều nhất sẽ luôn mang lại kết quả tốt nhất khi phân loại)"
   ]
  },
  {
   "cell_type": "code",
   "execution_count": 78,
   "id": "cdb0f2e2-3038-4a8d-affc-af9bfd8249fa",
   "metadata": {
    "tags": []
   },
   "outputs": [
    {
     "data": {
      "text/plain": [
       "(375, 20)"
      ]
     },
     "execution_count": 78,
     "metadata": {},
     "output_type": "execute_result"
    }
   ],
   "source": [
    "X_train.shape"
   ]
  },
  {
   "cell_type": "code",
   "execution_count": 79,
   "id": "4d825e78-961a-4e15-a988-f76bac804f48",
   "metadata": {
    "tags": []
   },
   "outputs": [
    {
     "name": "stdout",
     "output_type": "stream",
     "text": [
      "0.864\n",
      "(125, 1)\n"
     ]
    }
   ],
   "source": [
    "from sklearn.discriminant_analysis import LinearDiscriminantAnalysis\n",
    "from sklearn.metrics import accuracy_score\n",
    "\n",
    "X_cl, y_cl = make_classification(n_samples=500, n_features=20, n_informative=10, n_redundant=5, n_classes=2,)\n",
    "\n",
    "X_train, X_test, y_train, y_test = train_test_split(X_cl, y_cl)\n",
    "\n",
    "clf_lda = LinearDiscriminantAnalysis(n_components=1, solver='svd').fit(X_train, y_train)\n",
    "\n",
    "# score\n",
    "print(accuracy_score(y_test, clf_lda.predict(X_test)))\n",
    "\n",
    "# reduce the dimensionality\n",
    "X_lda = clf_lda.transform(X_test)\n",
    "print(X_lda.shape)"
   ]
  },
  {
   "cell_type": "code",
   "execution_count": 82,
   "id": "a0f7e681-c877-4bd0-8ce2-6966188b0260",
   "metadata": {
    "tags": []
   },
   "outputs": [
    {
     "data": {
      "text/plain": [
       "array([[-0.69525204],\n",
       "       [-0.22320779],\n",
       "       [-0.30563419]])"
      ]
     },
     "execution_count": 82,
     "metadata": {},
     "output_type": "execute_result"
    }
   ],
   "source": [
    "X_lda[:3]"
   ]
  },
  {
   "attachments": {},
   "cell_type": "markdown",
   "id": "46fd6892-b4dc-4906-99e7-8136a1cd3d14",
   "metadata": {},
   "source": [
    "## Quadratic Discriminant Analysis.\n",
    "- Tương tự LDA nhưng thay vì linear thì là bậc 2 (quadratic), fitting class bằng quy tắc Bayes. Mỗi class được fit theo phân phối chuẩn Normal. "
   ]
  },
  {
   "cell_type": "code",
   "execution_count": null,
   "id": "47ad2b60-a684-45ba-9b0f-424ba03f0fde",
   "metadata": {},
   "outputs": [],
   "source": [
    "from sklearn.discriminant_analysis import QuadraticDiscriminantAnalysi"
   ]
  }
 ],
 "metadata": {
  "kernelspec": {
   "display_name": "Python 3 (ipykernel)",
   "language": "python",
   "name": "python3"
  },
  "language_info": {
   "codemirror_mode": {
    "name": "ipython",
    "version": 3
   },
   "file_extension": ".py",
   "mimetype": "text/x-python",
   "name": "python",
   "nbconvert_exporter": "python",
   "pygments_lexer": "ipython3",
   "version": "3.10.6"
  },
  "toc-autonumbering": true
 },
 "nbformat": 4,
 "nbformat_minor": 5
}
